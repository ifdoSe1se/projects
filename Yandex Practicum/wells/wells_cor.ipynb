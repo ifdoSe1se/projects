{
 "cells": [
  {
   "cell_type": "markdown",
   "metadata": {},
   "source": [
    "# Выбор локации для скважины"
   ]
  },
  {
   "cell_type": "markdown",
   "metadata": {},
   "source": [
    "Допустим, вы работаете в добывающей компании «ГлавРосГосНефть». Нужно решить, где бурить новую скважину.\n",
    "\n",
    "Вам предоставлены пробы нефти в трёх регионах: в каждом 10 000 месторождений, где измерили качество нефти и объём её запасов. Постройте модель машинного обучения, которая поможет определить регион, где добыча принесёт наибольшую прибыль. Проанализируйте возможную прибыль и риски техникой *Bootstrap.*\n",
    "\n",
    "Шаги для выбора локации:\n",
    "\n",
    "- В избранном регионе ищут месторождения, для каждого определяют значения признаков;\n",
    "- Строят модель и оценивают объём запасов;\n",
    "- Выбирают месторождения с самым высокими оценками значений. Количество месторождений зависит от бюджета компании и стоимости разработки одной скважины;\n",
    "- Прибыль равна суммарной прибыли отобранных месторождений.\n",
    "\n",
    "План проекта:\n",
    "- 1 Загрузка и подготовка данных\n",
    "- - 1.1 Обработка дубликатов\n",
    "- 2 Обучение модели\n",
    "- - 2.1 Разделение данных на выборки\n",
    "- - 2.2 Обучение модели\n",
    "- 3 Подготовка к расчёту прибыли\n",
    "- - 3.1 Рассчет достаточного объёма сырья для безубыточной разработки новой скважины\n",
    "- - 3.2 Функция расчета по регионам\n",
    "- 4 Расчет прибыли и рисков\n",
    "- - 4.1 Функция расчета прибыли\n",
    "- - 4.2 Техника Bootstrap\n",
    "- 5 Общий вывод"
   ]
  },
  {
   "cell_type": "markdown",
   "metadata": {},
   "source": [
    "## Загрузка и подготовка данных"
   ]
  },
  {
   "cell_type": "code",
   "execution_count": 1,
   "metadata": {},
   "outputs": [
    {
     "name": "stdout",
     "output_type": "stream",
     "text": [
      "<class 'pandas.core.frame.DataFrame'>\n",
      "RangeIndex: 100000 entries, 0 to 99999\n",
      "Data columns (total 5 columns):\n",
      " #   Column   Non-Null Count   Dtype  \n",
      "---  ------   --------------   -----  \n",
      " 0   id       100000 non-null  object \n",
      " 1   f0       100000 non-null  float64\n",
      " 2   f1       100000 non-null  float64\n",
      " 3   f2       100000 non-null  float64\n",
      " 4   product  100000 non-null  float64\n",
      "dtypes: float64(4), object(1)\n",
      "memory usage: 3.8+ MB\n",
      "<class 'pandas.core.frame.DataFrame'>\n",
      "RangeIndex: 100000 entries, 0 to 99999\n",
      "Data columns (total 5 columns):\n",
      " #   Column   Non-Null Count   Dtype  \n",
      "---  ------   --------------   -----  \n",
      " 0   id       100000 non-null  object \n",
      " 1   f0       100000 non-null  float64\n",
      " 2   f1       100000 non-null  float64\n",
      " 3   f2       100000 non-null  float64\n",
      " 4   product  100000 non-null  float64\n",
      "dtypes: float64(4), object(1)\n",
      "memory usage: 3.8+ MB\n",
      "<class 'pandas.core.frame.DataFrame'>\n",
      "RangeIndex: 100000 entries, 0 to 99999\n",
      "Data columns (total 5 columns):\n",
      " #   Column   Non-Null Count   Dtype  \n",
      "---  ------   --------------   -----  \n",
      " 0   id       100000 non-null  object \n",
      " 1   f0       100000 non-null  float64\n",
      " 2   f1       100000 non-null  float64\n",
      " 3   f2       100000 non-null  float64\n",
      " 4   product  100000 non-null  float64\n",
      "dtypes: float64(4), object(1)\n",
      "memory usage: 3.8+ MB\n"
     ]
    },
    {
     "data": {
      "text/html": [
       "<div>\n",
       "<style scoped>\n",
       "    .dataframe tbody tr th:only-of-type {\n",
       "        vertical-align: middle;\n",
       "    }\n",
       "\n",
       "    .dataframe tbody tr th {\n",
       "        vertical-align: top;\n",
       "    }\n",
       "\n",
       "    .dataframe thead th {\n",
       "        text-align: right;\n",
       "    }\n",
       "</style>\n",
       "<table border=\"1\" class=\"dataframe\">\n",
       "  <thead>\n",
       "    <tr style=\"text-align: right;\">\n",
       "      <th></th>\n",
       "      <th>id</th>\n",
       "      <th>f0</th>\n",
       "      <th>f1</th>\n",
       "      <th>f2</th>\n",
       "      <th>product</th>\n",
       "    </tr>\n",
       "  </thead>\n",
       "  <tbody>\n",
       "    <tr>\n",
       "      <th>0</th>\n",
       "      <td>txEyH</td>\n",
       "      <td>0.705745</td>\n",
       "      <td>-0.497823</td>\n",
       "      <td>1.221170</td>\n",
       "      <td>105.280062</td>\n",
       "    </tr>\n",
       "    <tr>\n",
       "      <th>1</th>\n",
       "      <td>2acmU</td>\n",
       "      <td>1.334711</td>\n",
       "      <td>-0.340164</td>\n",
       "      <td>4.365080</td>\n",
       "      <td>73.037750</td>\n",
       "    </tr>\n",
       "    <tr>\n",
       "      <th>2</th>\n",
       "      <td>409Wp</td>\n",
       "      <td>1.022732</td>\n",
       "      <td>0.151990</td>\n",
       "      <td>1.419926</td>\n",
       "      <td>85.265647</td>\n",
       "    </tr>\n",
       "    <tr>\n",
       "      <th>3</th>\n",
       "      <td>iJLyR</td>\n",
       "      <td>-0.032172</td>\n",
       "      <td>0.139033</td>\n",
       "      <td>2.978566</td>\n",
       "      <td>168.620776</td>\n",
       "    </tr>\n",
       "    <tr>\n",
       "      <th>4</th>\n",
       "      <td>Xdl7t</td>\n",
       "      <td>1.988431</td>\n",
       "      <td>0.155413</td>\n",
       "      <td>4.751769</td>\n",
       "      <td>154.036647</td>\n",
       "    </tr>\n",
       "  </tbody>\n",
       "</table>\n",
       "</div>"
      ],
      "text/plain": [
       "      id        f0        f1        f2     product\n",
       "0  txEyH  0.705745 -0.497823  1.221170  105.280062\n",
       "1  2acmU  1.334711 -0.340164  4.365080   73.037750\n",
       "2  409Wp  1.022732  0.151990  1.419926   85.265647\n",
       "3  iJLyR -0.032172  0.139033  2.978566  168.620776\n",
       "4  Xdl7t  1.988431  0.155413  4.751769  154.036647"
      ]
     },
     "execution_count": 1,
     "metadata": {},
     "output_type": "execute_result"
    }
   ],
   "source": [
    "import pandas as pd\n",
    "import numpy as np\n",
    "\n",
    "from sklearn.model_selection import train_test_split\n",
    "\n",
    "###Модели###\n",
    "from sklearn.linear_model import LinearRegression\n",
    "\n",
    "###Метрики###\n",
    "from sklearn.metrics import mean_squared_error\n",
    "from scipy import stats as st\n",
    "\n",
    "df1 = pd.read_csv('/datasets/geo_data_0.csv')\n",
    "df2 = pd.read_csv('/datasets/geo_data_1.csv')\n",
    "df3 = pd.read_csv('/datasets/geo_data_2.csv')\n",
    "\n",
    "df1.info()\n",
    "df2.info()\n",
    "df3.info()\n",
    "df1.head()"
   ]
  },
  {
   "cell_type": "markdown",
   "metadata": {},
   "source": [
    "### Вывод \n",
    "Пропусков нет, значение столбцы f0,f1,f2 нам не дано,  столбец 'products' содержит в себе целевой признак Попробуем далее проверить 3 датасета на наличие явных и неявных дубликатов."
   ]
  },
  {
   "cell_type": "markdown",
   "metadata": {},
   "source": [
    "### Обработка дубликатов"
   ]
  },
  {
   "cell_type": "code",
   "execution_count": 2,
   "metadata": {},
   "outputs": [
    {
     "name": "stdout",
     "output_type": "stream",
     "text": [
      "Дубликаты по номеру скважины локации 1: 10\n",
      "Дубликаты по номеру скважины локации 2: 4\n",
      "Дубликаты по номеру скважины локации 3: 4\n",
      "          id        f0        f1         f2     product\n",
      "66136  74z30  1.084962 -0.312358   6.990771  127.643327\n",
      "64022  74z30  0.741456  0.459229   5.153109  140.771492\n",
      "51970  A5aEY -0.180335  0.935548  -2.094773   33.020205\n",
      "3389   A5aEY -0.039949  0.156872   0.209861   89.249364\n",
      "69163  AGS9W -0.933795  0.116194  -3.655896   19.230453\n",
      "42529  AGS9W  1.454747 -0.479651   0.683380  126.370504\n",
      "931    HZww2  0.755284  0.368511   1.863211   30.681774\n",
      "7530   HZww2  1.061194 -0.373969  10.430210  158.828695\n",
      "63593  QcMuo  0.635635 -0.473422   0.862670   64.578675\n",
      "1949   QcMuo  0.506563 -0.323775  -2.215583   75.496502\n",
      "75715  Tdehs  0.112079  0.430296   3.218993   60.964018\n",
      "21426  Tdehs  0.829407  0.298807  -0.049563   96.035308\n",
      "92341  TtcGQ  0.110711  1.022689   0.911381  101.318008\n",
      "60140  TtcGQ  0.569276 -0.104876   6.440215   85.350186\n",
      "89582  bsk9y  0.398908 -0.400253  10.122376  163.433078\n",
      "97785  bsk9y  0.378429  0.005837   0.160827  160.637302\n",
      "41724  bxg6G -0.823752  0.546319   3.630479   93.007798\n",
      "1364   bxg6G  0.411645  0.856830  -3.653440   73.604260\n",
      "16633  fiKDv  0.157341  1.028359   5.585586   95.817889\n",
      "90815  fiKDv  0.049883  0.841313   6.394613  137.346586\n"
     ]
    }
   ],
   "source": [
    "dfs = [df1, df2, df3]\n",
    "\n",
    "print('Дубликаты по номеру скважины локации 1:', len(df1['id'])- len(df1['id'].drop_duplicates()))\n",
    "\n",
    "print('Дубликаты по номеру скважины локации 2:', len(df2['id'])- len(df2['id'].drop_duplicates()))\n",
    "\n",
    "print('Дубликаты по номеру скважины локации 3:', len(df3['id'])- len(df3['id'].drop_duplicates()))\n",
    "\n",
    "ids = df1[\"id\"]\n",
    "print(df1[ids.isin(ids[ids.duplicated()])].sort_values(\"id\"))\n",
    "\n",
    "for df in dfs:\n",
    "    df.drop_duplicates(subset='id', keep = False, inplace = True, ignore_index=True)    "
   ]
  },
  {
   "cell_type": "markdown",
   "metadata": {},
   "source": [
    "#### Вывод\n",
    "Мы видим, что явных дубикатов нет. Однако есть одинаковые уникальные номера скважин со абсолютно ранзыми признаками. Мы могли бы вычслить среднее из наблюдений по одному номеру, но из ТЗ нам не даны пояснения, за что отвечают признаки f0, f1, f2 поэтому для чистоты данных мы удалим все наблюдения по данным уникальным номерам скважин (Мы не знаем, какие наблюдения корректны)"
   ]
  },
  {
   "cell_type": "markdown",
   "metadata": {},
   "source": [
    "## Обучение и проверка модели"
   ]
  },
  {
   "cell_type": "markdown",
   "metadata": {},
   "source": [
    "### Разделение данных на выборки"
   ]
  },
  {
   "cell_type": "code",
   "execution_count": 3,
   "metadata": {},
   "outputs": [],
   "source": [
    "features_1 = df1.drop(['id', 'product'], axis = 1)\n",
    "target_1 = df1['product']\n",
    "\n",
    "features_2 = df2.drop(['id', 'product'], axis = 1)\n",
    "target_2 = df2['product']\n",
    "\n",
    "features_3 = df3.drop(['id', 'product'], axis = 1)\n",
    "target_3 = df3['product']\n",
    "\n",
    "features_train_1, features_valid_1, target_train_1, target_valid_1 = train_test_split(features_1, target_1, \n",
    "                                                                              test_size=0.25, random_state=12345)\n",
    "features_train_2, features_valid_2, target_train_2, target_valid_2 = train_test_split(features_2, target_2,\n",
    "                                                                              test_size=0.25, random_state=12345)\n",
    "features_train_3, features_valid_3, target_train_3, target_valid_3 = train_test_split(features_3, target_3,\n",
    "                                                                              test_size=0.25, random_state=12345)\n",
    "features_train_list = [features_train_1, features_train_2, features_train_3]\n",
    "features_valid_list = [features_valid_1, features_valid_2, features_valid_3]\n",
    "target_train_list = [target_train_1, target_train_2, target_train_3]\n",
    "target_valid_list = [target_valid_1, target_valid_2, target_valid_3]\n"
   ]
  },
  {
   "cell_type": "markdown",
   "metadata": {},
   "source": [
    "### Обучение модели"
   ]
  },
  {
   "cell_type": "code",
   "execution_count": 4,
   "metadata": {},
   "outputs": [
    {
     "name": "stdout",
     "output_type": "stream",
     "text": [
      "----------------------------------------------------------------------------------------\n",
      "В регионе №1 средний запас предсказанного сырья составил:92.42384109947359, а RMSE модели:37.716904960382735\n",
      "----------------------------------------------------------------------------------------\n",
      "В регионе №2 средний запас предсказанного сырья составил:68.98311857983123, а RMSE модели:0.8914901390348537\n",
      "----------------------------------------------------------------------------------------\n",
      "В регионе №3 средний запас предсказанного сырья составил:95.11622302076478, а RMSE модели:39.975543264382345\n"
     ]
    }
   ],
   "source": [
    "model = LinearRegression()\n",
    "d = {}\n",
    "for i in range(len(dfs)):\n",
    "    model.fit(features_train_list[i], target_train_list[i])\n",
    "    d[\"predictions_valid_\" + str(i)] = model.predict(features_valid_list[i])\n",
    "    rmse = mean_squared_error(target_valid_list[i], d[\"predictions_valid_\" + str(i)])**0.5\n",
    "    mean = d[\"predictions_valid_\" + str(i)].mean()\n",
    "    print('----------------------------------------------------------------------------------------')\n",
    "    print(f'В регионе №{i+1} средний запас предсказанного сырья составил:{mean}, а RMSE модели:{rmse}')"
   ]
  },
  {
   "cell_type": "markdown",
   "metadata": {},
   "source": [
    "#### Вывод\n",
    "Мы видим, как по результатам предсказанной доли сырья на равне лидируют регионы №1 и 3, в то время как регион номер 2 отстает. В то же время мы видим, значительную разницу в точности предсказаний по регионам и по данному параметру регион № 2 является самым менее рисковым и предсказуемым."
   ]
  },
  {
   "cell_type": "markdown",
   "metadata": {},
   "source": [
    "## Подготовка к расчёту прибыли"
   ]
  },
  {
   "cell_type": "markdown",
   "metadata": {},
   "source": [
    "### Рассчет достаточного объёма сырья для безубыточной разработки новой скважины"
   ]
  },
  {
   "cell_type": "code",
   "execution_count": 5,
   "metadata": {},
   "outputs": [
    {
     "name": "stdout",
     "output_type": "stream",
     "text": [
      "Минимальный обьем добычи для окупания затрат для 1 скважины составляет:111.1\n",
      "Минимальный обьем добычи для окупания затрат для региона:22222.2\n"
     ]
    }
   ],
   "source": [
    "budget = 10_000_000_000 #бюджет на регион\n",
    "number_of_wells = 200 #кол-во скважин в регионе\n",
    "product_income = 450_000 #доход с 1 тысячи баррелей\n",
    "one_well_income = budget/number_of_wells #минимальный обьём прибыли по каждой скважине\n",
    "one_well_barrels = one_well_income/one_well_income #минимальный обьём пр-ва по каждой скважине\n",
    "\n",
    "\n",
    "one_well_income = budget/number_of_wells\n",
    "one_well_barrels = one_well_income/product_income\n",
    "\n",
    "\n",
    "region_one_mean = df1['product'].mean()\n",
    "region_two_mean = df2['product'].mean()\n",
    "region_three_mean = df3['product'].mean()\n",
    "\n",
    "minimum_profit = budget/product_income\n",
    "minimum_profit_1_well = minimum_profit/number_of_wells\n",
    "print(f'Минимальный обьем добычи для окупания затрат для 1 скважины составляет:{minimum_profit_1_well:.4}')\n",
    "print(f'Минимальный обьем добычи для окупания затрат для региона:{minimum_profit:.6}')\n"
   ]
  },
  {
   "cell_type": "markdown",
   "metadata": {},
   "source": [
    "#### Вывод\n",
    "Итого минимальный обьем для окупания затрат составляет 111 тысяч баррелей, а для окупания затрат всего региона - 22222 тысячи баррелей"
   ]
  },
  {
   "cell_type": "markdown",
   "metadata": {},
   "source": [
    "### Функция расчета по регионам"
   ]
  },
  {
   "cell_type": "code",
   "execution_count": 6,
   "metadata": {},
   "outputs": [
    {
     "name": "stdout",
     "output_type": "stream",
     "text": [
      "Данные по региону 1\n",
      "- Разница между минимальным обьемом добычи для прибыли и топ 200 предсказанных скважин по региону: 42.91061854068016\n",
      "- Разница между минимальным обьемом добычи для прибыли и среднем по региону: -18.611945132176672\n",
      "-----------------------------------------------\n",
      "Данные по региону 2\n",
      "- Разница между минимальным обьемом добычи для прибыли и топ 200 предсказанных скважин по региону: 27.612214537959943\n",
      "- Разница между минимальным обьемом добычи для прибыли и среднем по региону: -42.28696338445938\n",
      "-----------------------------------------------\n",
      "Данные по региону 3\n",
      "- Разница между минимальным обьемом добычи для прибыли и топ 200 предсказанных скважин по региону: 38.83378624154918\n",
      "- Разница между минимальным обьемом добычи для прибыли и среднем по региону: -16.11234424343033\n",
      "-----------------------------------------------\n"
     ]
    }
   ],
   "source": [
    "def profit_area(area):\n",
    "    area = pd.Series(area)\n",
    "    area = area.sort_values(ascending=False)\n",
    "    area = area[0:200]\n",
    "    area_top200_mean = area.mean()\n",
    "    print(f'- Разница между минимальным обьемом добычи для прибыли и топ 200 предсказанных скважин по региону: {area_top200_mean - minimum_profit_1_well}')\n",
    "    \n",
    "for i in range(len(dfs)):\n",
    "    print('Данные по региону',i+1)\n",
    "    profit_area(d[\"predictions_valid_\" + str(i)])\n",
    "    if i+1 == 1:\n",
    "        print(f'- Разница между минимальным обьемом добычи для прибыли и среднем по региону: {region_one_mean - minimum_profit_1_well}')\n",
    "    if i+1 == 2:\n",
    "        print(f'- Разница между минимальным обьемом добычи для прибыли и среднем по региону: {region_two_mean - minimum_profit_1_well}')\n",
    "    if i+1 == 3:\n",
    "        print(f'- Разница между минимальным обьемом добычи для прибыли и среднем по региону: {region_three_mean - minimum_profit_1_well}')\n",
    "    print('-----------------------------------------------')\n",
    "    \n",
    "\n",
    "\n",
    "                     \n",
    "\n",
    "    "
   ]
  },
  {
   "cell_type": "markdown",
   "metadata": {},
   "source": [
    "#### Вывод\n",
    "Мы видим, что если брать просто среднее по добычи по региону, то все регионы имеют отрицательную прибыль. Это неудивительно, т.к. мы брали среднее по всем скважинам в регионе, однако показатель с самой низкой отрицательной прибылью имеет регион №3. Попробуем взять топ 200 скважин по предсказаниям в каждом регоине и посчитать среднее у них. Здесь уже все регионы имеют положительную прибыль, а лидирует по этим показателям регион №1. Попробуем посчитать прибыль и найти доверительный интервал"
   ]
  },
  {
   "cell_type": "markdown",
   "metadata": {},
   "source": [
    "## Расчёт прибыли и рисков "
   ]
  },
  {
   "cell_type": "markdown",
   "metadata": {},
   "source": [
    "### Функция расчета прибыли"
   ]
  },
  {
   "cell_type": "code",
   "execution_count": 7,
   "metadata": {},
   "outputs": [],
   "source": [
    "predictions_one = pd.Series(d[\"predictions_valid_\" + str(0)])\n",
    "predictions_one = predictions_one.reset_index(drop=True)\n",
    "target_one = target_valid_list[0].reset_index(drop=True)\n",
    "\n",
    "predictions_two = pd.Series(d[\"predictions_valid_\" + str(1)])\n",
    "target_two = target_valid_list[1].reset_index(drop=True)\n",
    "\n",
    "predictions_three = pd.Series(d[\"predictions_valid_\" + str(2)])\n",
    "target_three = target_valid_list[2].reset_index(drop=True)\n",
    "#Для удобства сохраним все в отдельные переменные и обновим индексацию для дальнейших расчетов\n"
   ]
  },
  {
   "cell_type": "code",
   "execution_count": 8,
   "metadata": {},
   "outputs": [
    {
     "name": "stdout",
     "output_type": "stream",
     "text": [
      "Для 1 региона, прибыль по 200 лучшим скважинам из предсказанных, составляет 541.62 млн.\n",
      "Для 2 региона, прибыль по 200 лучшим скважинам из предсказанных, составляет 2366.41 млн.\n",
      "Для 3 региона, прибыль по 200 лучшим скважинам из предсказанных, составляет -306.31 млн.\n"
     ]
    }
   ],
   "source": [
    "def profit(target, predictions, count):\n",
    "    profit=0\n",
    "    probs_sorted = predictions.sort_values(ascending=False).head(200)\n",
    "    selected = target[probs_sorted.index][:count]    \n",
    "    for well in selected:\n",
    "        profit+=(well-one_well_barrels)*product_income\n",
    "    return profit\n",
    "\n",
    "profit_1 = profit(predictions_one, target_one,200)\n",
    "print(f'Для 1 региона, прибыль по 200 лучшим скважинам из предсказанных, составляет {profit_1/1000000:.6} млн.')\n",
    "\n",
    "profit_2 = profit(predictions_two, target_two,200)\n",
    "print(f'Для 2 региона, прибыль по 200 лучшим скважинам из предсказанных, составляет {profit_2/1000000:.6} млн.')\n",
    "\n",
    "profit_3 = profit(predictions_three, target_three,200)\n",
    "print(f'Для 3 региона, прибыль по 200 лучшим скважинам из предсказанных, составляет {profit_3/1000000:.6} млн.')\n"
   ]
  },
  {
   "cell_type": "markdown",
   "metadata": {},
   "source": [
    "#### Вывод\n",
    "- Немного изменили функцию, написанную выше, теперь уже для расчет прибыли по предсказаниям для 200 лучших скважин, которая предсказала модель\n",
    "- Получили прогнозируемые прибыли для каждого региона. Из них следует, что потенциально самым прибыльным является регион №2, далее посчитаем риски и найдем доверительный интервал для каждого региона"
   ]
  },
  {
   "cell_type": "markdown",
   "metadata": {},
   "source": [
    "### Техника Bootstrap"
   ]
  },
  {
   "cell_type": "code",
   "execution_count": 9,
   "metadata": {},
   "outputs": [
    {
     "name": "stdout",
     "output_type": "stream",
     "text": [
      "Данные по региону 1\n",
      "Вероятность получения отрицательной прибыли: 5.5 %\n",
      "Средняя прибыль: 439121098.4851674\n",
      "Нижняя граница 95%-го квантиля: -122935263.44364947\n",
      "Верхняя граница 95%-го квантиля: 962698056.251455\n",
      "-------------------------------------------\n",
      "Данные по региону 2\n",
      "Вероятность получения отрицательной прибыли: 2.2 %\n",
      "Средняя прибыль: 486100778.23722804\n",
      "Нижняя граница 95%-го квантиля: 54885418.264950104\n",
      "Верхняя граница 95%-го квантиля: 906983342.359008\n",
      "-------------------------------------------\n",
      "Данные по региону 3\n",
      "Вероятность получения отрицательной прибыли: 13.0 %\n",
      "Средняя прибыль: 330136466.74162376\n",
      "Нижняя граница 95%-го квантиля: -202802559.09418762\n",
      "Верхняя граница 95%-го квантиля: 868527323.4806209\n",
      "-------------------------------------------\n"
     ]
    }
   ],
   "source": [
    "def inteval (target, predictions):\n",
    "    state = np.random.RandomState(12345)\n",
    "    values = []\n",
    "    counter=0\n",
    "    for i in range(1000):\n",
    "        target_subsample = target.sample(n=500, replace=True, random_state=state)\n",
    "        preds_subsample = predictions[target_subsample.index]\n",
    "        \n",
    "        values.append(profit(target_subsample, preds_subsample, 500))\n",
    "        \n",
    "    values = pd.Series(values)\n",
    "    lower = values.quantile(0.025)\n",
    "    upper = values.quantile(0.975)\n",
    "    \n",
    "    print('Вероятность получения отрицательной прибыли:',st.percentileofscore(values, 0),'%')\n",
    "    print('Средняя прибыль:',values.mean())\n",
    "    print('Нижняя граница 95%-го квантиля:', lower)\n",
    "    print('Верхняя граница 95%-го квантиля:', upper)\n",
    "    print('-------------------------------------------')\n",
    "\n",
    "print('Данные по региону 1')\n",
    "inteval(target_one, predictions_one)\n",
    "print('Данные по региону 2')\n",
    "inteval(target_two, predictions_two)\n",
    "print('Данные по региону 3')\n",
    "inteval(target_three, predictions_three)        "
   ]
  },
  {
   "cell_type": "markdown",
   "metadata": {},
   "source": [
    "#### Вывод\n",
    "Как мы видим из данных выше - регион 2 является самым перспективным для последующих работ. Регион сочетает в себе:\n",
    "- Наилучшую прогнозируемость (RMSE модели составил всего ~0.89)\n",
    "- Наибольшую среднюю прыбыль по предсказанным скважинам ~ 439121098\n",
    "- Наименьший риск попадания значения прибыли в отрицательные значения: ~2.2%\n",
    "Именно её мы и рекомендуем для бурения скважин"
   ]
  },
  {
   "cell_type": "markdown",
   "metadata": {},
   "source": [
    "## Общий вывод\n",
    "Мы взяли данные по 3 регионам, выявили дубликаты по уникальному номеру скважины, разбили данные на 2 выборки: валидационную и обучающую. Посчитали минимальный обьем для добычи по регионам для получения положительной прибыли и сравнили эти значения с уже имеющимся данными. Далее посчитали фактическую добычу по лучшим пресказаниям модели по каждому региону и написали функцию для подсчета прибыли по регионам. Далее техникой bootstrap нашли доверительный интервал 95%-го квантиля, шанс того, что итоговое значение прибыли попадет в отрицательные значения и среднюю прибыль по региону. По всем этим параметрам оказался лучшим регион номер 2, его мы и рекомендуем для дальнеших работ."
   ]
  },
  {
   "cell_type": "code",
   "execution_count": null,
   "metadata": {},
   "outputs": [],
   "source": []
  }
 ],
 "metadata": {
  "ExecuteTimeLog": [
   {
    "duration": 952,
    "start_time": "2022-12-02T08:58:16.542Z"
   },
   {
    "duration": 1191,
    "start_time": "2022-12-02T09:01:47.956Z"
   },
   {
    "duration": 384,
    "start_time": "2022-12-02T09:10:22.793Z"
   },
   {
    "duration": 474,
    "start_time": "2022-12-02T09:16:18.293Z"
   },
   {
    "duration": 449,
    "start_time": "2022-12-02T09:16:29.669Z"
   },
   {
    "duration": 405,
    "start_time": "2022-12-02T09:19:16.392Z"
   },
   {
    "duration": 454,
    "start_time": "2022-12-02T09:20:53.002Z"
   },
   {
    "duration": 164,
    "start_time": "2022-12-02T09:23:42.648Z"
   },
   {
    "duration": 159,
    "start_time": "2022-12-02T09:24:12.468Z"
   },
   {
    "duration": 340,
    "start_time": "2022-12-02T09:24:18.236Z"
   },
   {
    "duration": 229,
    "start_time": "2022-12-02T09:25:15.700Z"
   },
   {
    "duration": 173,
    "start_time": "2022-12-02T09:25:35.612Z"
   },
   {
    "duration": 174,
    "start_time": "2022-12-02T09:27:19.804Z"
   },
   {
    "duration": 171,
    "start_time": "2022-12-02T09:27:31.213Z"
   },
   {
    "duration": 186,
    "start_time": "2022-12-02T09:36:33.307Z"
   },
   {
    "duration": 185,
    "start_time": "2022-12-02T09:36:37.764Z"
   },
   {
    "duration": 186,
    "start_time": "2022-12-02T09:36:43.012Z"
   },
   {
    "duration": 8,
    "start_time": "2022-12-02T09:51:55.214Z"
   },
   {
    "duration": 177,
    "start_time": "2022-12-02T09:52:11.695Z"
   },
   {
    "duration": 195,
    "start_time": "2022-12-02T10:02:17.352Z"
   },
   {
    "duration": 209,
    "start_time": "2022-12-02T10:02:30.887Z"
   },
   {
    "duration": 199,
    "start_time": "2022-12-02T10:02:40.983Z"
   },
   {
    "duration": 224,
    "start_time": "2022-12-02T10:02:49.519Z"
   },
   {
    "duration": 225,
    "start_time": "2022-12-02T10:03:04.991Z"
   },
   {
    "duration": 215,
    "start_time": "2022-12-02T10:03:17.062Z"
   },
   {
    "duration": 201,
    "start_time": "2022-12-02T10:03:36.449Z"
   },
   {
    "duration": 231,
    "start_time": "2022-12-02T10:03:41.544Z"
   },
   {
    "duration": 227,
    "start_time": "2022-12-02T10:03:52.767Z"
   },
   {
    "duration": 214,
    "start_time": "2022-12-02T10:04:23.243Z"
   },
   {
    "duration": 204,
    "start_time": "2022-12-02T10:04:32.968Z"
   },
   {
    "duration": 209,
    "start_time": "2022-12-02T10:04:40.730Z"
   },
   {
    "duration": 276,
    "start_time": "2022-12-02T10:05:25.049Z"
   },
   {
    "duration": 202,
    "start_time": "2022-12-02T10:05:55.042Z"
   },
   {
    "duration": 258,
    "start_time": "2022-12-02T10:09:54.292Z"
   },
   {
    "duration": 231,
    "start_time": "2022-12-02T10:10:07.556Z"
   },
   {
    "duration": 232,
    "start_time": "2022-12-02T10:10:15.219Z"
   },
   {
    "duration": 257,
    "start_time": "2022-12-02T10:10:20.260Z"
   },
   {
    "duration": 196,
    "start_time": "2022-12-02T10:10:38.124Z"
   },
   {
    "duration": 164,
    "start_time": "2022-12-02T10:11:24.093Z"
   },
   {
    "duration": 260,
    "start_time": "2022-12-02T10:11:30.759Z"
   },
   {
    "duration": 364,
    "start_time": "2022-12-02T10:12:06.570Z"
   },
   {
    "duration": 287,
    "start_time": "2022-12-02T10:12:06.937Z"
   },
   {
    "duration": 248,
    "start_time": "2022-12-02T10:12:35.613Z"
   },
   {
    "duration": 354,
    "start_time": "2022-12-02T10:12:40.767Z"
   },
   {
    "duration": 253,
    "start_time": "2022-12-02T10:12:41.123Z"
   },
   {
    "duration": 271,
    "start_time": "2022-12-02T10:13:24.814Z"
   },
   {
    "duration": 335,
    "start_time": "2022-12-02T10:13:28.794Z"
   },
   {
    "duration": 261,
    "start_time": "2022-12-02T10:13:29.131Z"
   },
   {
    "duration": 175,
    "start_time": "2022-12-02T10:14:55.042Z"
   },
   {
    "duration": 73,
    "start_time": "2022-12-02T10:15:16.121Z"
   },
   {
    "duration": 58,
    "start_time": "2022-12-02T10:16:04.585Z"
   },
   {
    "duration": 66,
    "start_time": "2022-12-02T10:16:11.056Z"
   },
   {
    "duration": 71,
    "start_time": "2022-12-02T10:16:56.216Z"
   },
   {
    "duration": 125,
    "start_time": "2022-12-02T10:17:02.032Z"
   },
   {
    "duration": 337,
    "start_time": "2022-12-02T10:17:08.068Z"
   },
   {
    "duration": 144,
    "start_time": "2022-12-02T10:17:08.407Z"
   },
   {
    "duration": 156,
    "start_time": "2022-12-02T10:17:21.505Z"
   },
   {
    "duration": 115,
    "start_time": "2022-12-02T10:17:24.698Z"
   },
   {
    "duration": 117,
    "start_time": "2022-12-02T10:17:34.808Z"
   },
   {
    "duration": 367,
    "start_time": "2022-12-02T10:17:36.686Z"
   },
   {
    "duration": 148,
    "start_time": "2022-12-02T10:17:37.055Z"
   },
   {
    "duration": 345,
    "start_time": "2022-12-02T10:19:09.530Z"
   },
   {
    "duration": 95,
    "start_time": "2022-12-02T10:19:09.877Z"
   },
   {
    "duration": 143,
    "start_time": "2022-12-02T10:19:25.834Z"
   },
   {
    "duration": 351,
    "start_time": "2022-12-02T10:19:32.552Z"
   },
   {
    "duration": 164,
    "start_time": "2022-12-02T10:19:32.905Z"
   },
   {
    "duration": 357,
    "start_time": "2022-12-02T10:20:05.738Z"
   },
   {
    "duration": 224,
    "start_time": "2022-12-02T10:20:06.098Z"
   },
   {
    "duration": 347,
    "start_time": "2022-12-02T10:20:14.125Z"
   },
   {
    "duration": 158,
    "start_time": "2022-12-02T10:20:14.474Z"
   },
   {
    "duration": 124,
    "start_time": "2022-12-02T10:20:35.270Z"
   },
   {
    "duration": 344,
    "start_time": "2022-12-02T10:20:38.628Z"
   },
   {
    "duration": 155,
    "start_time": "2022-12-02T10:20:38.974Z"
   },
   {
    "duration": 334,
    "start_time": "2022-12-02T10:21:03.049Z"
   },
   {
    "duration": 167,
    "start_time": "2022-12-02T10:21:03.385Z"
   },
   {
    "duration": 122,
    "start_time": "2022-12-02T10:30:45.601Z"
   },
   {
    "duration": 333,
    "start_time": "2022-12-02T10:30:48.245Z"
   },
   {
    "duration": 158,
    "start_time": "2022-12-02T10:30:48.579Z"
   },
   {
    "duration": 342,
    "start_time": "2022-12-02T10:32:15.643Z"
   },
   {
    "duration": 70,
    "start_time": "2022-12-02T11:51:23.599Z"
   },
   {
    "duration": 73,
    "start_time": "2022-12-02T11:51:26.870Z"
   },
   {
    "duration": 1101,
    "start_time": "2022-12-02T11:53:33.112Z"
   },
   {
    "duration": 11,
    "start_time": "2022-12-02T11:55:00.251Z"
   },
   {
    "duration": 13,
    "start_time": "2022-12-02T11:57:26.027Z"
   },
   {
    "duration": 1046,
    "start_time": "2022-12-02T11:57:30.741Z"
   },
   {
    "duration": 154,
    "start_time": "2022-12-02T11:57:31.789Z"
   },
   {
    "duration": 27,
    "start_time": "2022-12-02T11:57:31.945Z"
   },
   {
    "duration": 45,
    "start_time": "2022-12-02T12:14:29.096Z"
   },
   {
    "duration": 369,
    "start_time": "2022-12-02T12:14:33.581Z"
   },
   {
    "duration": 147,
    "start_time": "2022-12-02T12:14:33.952Z"
   },
   {
    "duration": 32,
    "start_time": "2022-12-02T12:14:34.101Z"
   },
   {
    "duration": 36,
    "start_time": "2022-12-02T12:14:34.134Z"
   },
   {
    "duration": 28,
    "start_time": "2022-12-02T12:14:45.724Z"
   },
   {
    "duration": 345,
    "start_time": "2022-12-02T12:14:49.385Z"
   },
   {
    "duration": 159,
    "start_time": "2022-12-02T12:14:49.732Z"
   },
   {
    "duration": 39,
    "start_time": "2022-12-02T12:14:49.892Z"
   },
   {
    "duration": 9,
    "start_time": "2022-12-02T12:14:49.933Z"
   },
   {
    "duration": 359,
    "start_time": "2022-12-02T12:15:01.293Z"
   },
   {
    "duration": 153,
    "start_time": "2022-12-02T12:15:01.654Z"
   },
   {
    "duration": 29,
    "start_time": "2022-12-02T12:15:01.812Z"
   },
   {
    "duration": 9,
    "start_time": "2022-12-02T12:15:01.843Z"
   },
   {
    "duration": 347,
    "start_time": "2022-12-02T12:15:17.399Z"
   },
   {
    "duration": 140,
    "start_time": "2022-12-02T12:15:17.748Z"
   },
   {
    "duration": 38,
    "start_time": "2022-12-02T12:15:17.890Z"
   },
   {
    "duration": 20,
    "start_time": "2022-12-02T12:15:17.929Z"
   },
   {
    "duration": 20,
    "start_time": "2022-12-02T12:18:51.316Z"
   },
   {
    "duration": 16,
    "start_time": "2022-12-02T12:19:22.451Z"
   },
   {
    "duration": 88,
    "start_time": "2022-12-02T12:21:12.988Z"
   },
   {
    "duration": 70,
    "start_time": "2022-12-02T12:21:19.655Z"
   },
   {
    "duration": 79,
    "start_time": "2022-12-02T12:21:26.676Z"
   },
   {
    "duration": 86,
    "start_time": "2022-12-02T12:23:12.631Z"
   },
   {
    "duration": 188,
    "start_time": "2022-12-02T12:23:43.527Z"
   },
   {
    "duration": 82,
    "start_time": "2022-12-02T12:23:47.535Z"
   },
   {
    "duration": 203,
    "start_time": "2022-12-02T12:23:57.024Z"
   },
   {
    "duration": 45,
    "start_time": "2022-12-02T12:26:14.975Z"
   },
   {
    "duration": 67,
    "start_time": "2022-12-02T12:29:06.466Z"
   },
   {
    "duration": 331,
    "start_time": "2022-12-02T12:31:20.385Z"
   },
   {
    "duration": 147,
    "start_time": "2022-12-02T12:31:20.717Z"
   },
   {
    "duration": 29,
    "start_time": "2022-12-02T12:31:20.865Z"
   },
   {
    "duration": 80,
    "start_time": "2022-12-02T12:31:20.896Z"
   },
   {
    "duration": 208,
    "start_time": "2022-12-02T12:31:29.810Z"
   },
   {
    "duration": 340,
    "start_time": "2022-12-02T12:31:32.478Z"
   },
   {
    "duration": 152,
    "start_time": "2022-12-02T12:31:32.820Z"
   },
   {
    "duration": 29,
    "start_time": "2022-12-02T12:31:32.974Z"
   },
   {
    "duration": 204,
    "start_time": "2022-12-02T12:31:33.012Z"
   },
   {
    "duration": 32,
    "start_time": "2022-12-02T12:31:51.187Z"
   },
   {
    "duration": 110,
    "start_time": "2022-12-02T12:32:25.811Z"
   },
   {
    "duration": 47,
    "start_time": "2022-12-02T12:32:30.275Z"
   },
   {
    "duration": 141,
    "start_time": "2022-12-02T12:38:39.774Z"
   },
   {
    "duration": 124,
    "start_time": "2022-12-02T12:38:47.296Z"
   },
   {
    "duration": 368,
    "start_time": "2022-12-02T12:38:54.599Z"
   },
   {
    "duration": 154,
    "start_time": "2022-12-02T12:38:54.969Z"
   },
   {
    "duration": 31,
    "start_time": "2022-12-02T12:38:55.125Z"
   },
   {
    "duration": 264,
    "start_time": "2022-12-02T12:38:55.158Z"
   },
   {
    "duration": 223,
    "start_time": "2022-12-02T12:39:04.894Z"
   },
   {
    "duration": 198,
    "start_time": "2022-12-02T12:39:26.216Z"
   },
   {
    "duration": 356,
    "start_time": "2022-12-02T12:39:32.020Z"
   },
   {
    "duration": 156,
    "start_time": "2022-12-02T12:39:32.378Z"
   },
   {
    "duration": 30,
    "start_time": "2022-12-02T12:39:32.536Z"
   },
   {
    "duration": 346,
    "start_time": "2022-12-02T12:39:32.568Z"
   },
   {
    "duration": 74,
    "start_time": "2022-12-02T12:39:54.441Z"
   },
   {
    "duration": 193,
    "start_time": "2022-12-02T12:40:06.625Z"
   },
   {
    "duration": 46,
    "start_time": "2022-12-02T12:40:17.376Z"
   },
   {
    "duration": 158,
    "start_time": "2022-12-02T12:40:26.657Z"
   },
   {
    "duration": 198,
    "start_time": "2022-12-02T12:40:38.024Z"
   },
   {
    "duration": 139,
    "start_time": "2022-12-02T12:40:44.976Z"
   },
   {
    "duration": 156,
    "start_time": "2022-12-02T12:40:57.457Z"
   },
   {
    "duration": 170,
    "start_time": "2022-12-02T12:41:01.352Z"
   },
   {
    "duration": 80,
    "start_time": "2022-12-02T12:41:05.041Z"
   },
   {
    "duration": 75,
    "start_time": "2022-12-02T12:41:13.745Z"
   },
   {
    "duration": 43,
    "start_time": "2022-12-02T12:41:24.776Z"
   },
   {
    "duration": 93,
    "start_time": "2022-12-02T12:41:27.928Z"
   },
   {
    "duration": 184,
    "start_time": "2022-12-02T12:41:35.433Z"
   },
   {
    "duration": 163,
    "start_time": "2022-12-02T12:41:38.153Z"
   },
   {
    "duration": 52,
    "start_time": "2022-12-02T12:41:40.969Z"
   },
   {
    "duration": 207,
    "start_time": "2022-12-02T12:44:56.908Z"
   },
   {
    "duration": 95,
    "start_time": "2022-12-02T12:45:04.530Z"
   },
   {
    "duration": 156,
    "start_time": "2022-12-02T12:45:37.891Z"
   },
   {
    "duration": 70,
    "start_time": "2022-12-02T12:45:40.051Z"
   },
   {
    "duration": 220,
    "start_time": "2022-12-02T12:45:47.796Z"
   },
   {
    "duration": 125,
    "start_time": "2022-12-02T12:45:51.988Z"
   },
   {
    "duration": 189,
    "start_time": "2022-12-02T12:46:01.524Z"
   },
   {
    "duration": 71,
    "start_time": "2022-12-02T12:46:08.995Z"
   },
   {
    "duration": 152,
    "start_time": "2022-12-02T12:46:14.867Z"
   },
   {
    "duration": 337,
    "start_time": "2022-12-02T12:47:22.468Z"
   },
   {
    "duration": 152,
    "start_time": "2022-12-02T12:47:22.807Z"
   },
   {
    "duration": 29,
    "start_time": "2022-12-02T12:47:22.961Z"
   },
   {
    "duration": 222,
    "start_time": "2022-12-02T12:47:22.992Z"
   },
   {
    "duration": 120,
    "start_time": "2022-12-02T12:47:34.597Z"
   },
   {
    "duration": 3,
    "start_time": "2022-12-02T13:40:48.042Z"
   },
   {
    "duration": 46,
    "start_time": "2022-12-03T12:25:37.278Z"
   },
   {
    "duration": 6,
    "start_time": "2022-12-03T12:25:40.166Z"
   },
   {
    "duration": 2758,
    "start_time": "2022-12-03T12:25:43.234Z"
   },
   {
    "duration": 137,
    "start_time": "2022-12-03T12:25:45.994Z"
   },
   {
    "duration": 45,
    "start_time": "2022-12-03T12:25:46.133Z"
   },
   {
    "duration": 201,
    "start_time": "2022-12-03T12:25:46.179Z"
   },
   {
    "duration": 5,
    "start_time": "2022-12-03T12:25:46.382Z"
   },
   {
    "duration": 93,
    "start_time": "2022-12-03T12:25:46.389Z"
   },
   {
    "duration": 57,
    "start_time": "2022-12-03T12:26:13.589Z"
   },
   {
    "duration": 3,
    "start_time": "2022-12-03T12:26:48.004Z"
   },
   {
    "duration": 68,
    "start_time": "2022-12-03T12:26:55.471Z"
   },
   {
    "duration": 5,
    "start_time": "2022-12-03T12:26:59.031Z"
   },
   {
    "duration": 6,
    "start_time": "2022-12-03T12:27:11.201Z"
   },
   {
    "duration": 4,
    "start_time": "2022-12-03T12:27:27.930Z"
   },
   {
    "duration": 8,
    "start_time": "2022-12-03T12:27:35.563Z"
   },
   {
    "duration": 1175,
    "start_time": "2022-12-03T12:28:13.238Z"
   },
   {
    "duration": 1165,
    "start_time": "2022-12-03T12:28:25.022Z"
   },
   {
    "duration": 7,
    "start_time": "2022-12-03T12:28:33.783Z"
   },
   {
    "duration": 6,
    "start_time": "2022-12-03T12:29:26.573Z"
   },
   {
    "duration": 8,
    "start_time": "2022-12-03T12:29:31.997Z"
   },
   {
    "duration": 1398,
    "start_time": "2022-12-03T12:30:01.853Z"
   },
   {
    "duration": 1129,
    "start_time": "2022-12-03T12:31:06.347Z"
   },
   {
    "duration": 364,
    "start_time": "2022-12-03T12:31:13.051Z"
   },
   {
    "duration": 126,
    "start_time": "2022-12-03T12:31:13.416Z"
   },
   {
    "duration": 38,
    "start_time": "2022-12-03T12:31:13.544Z"
   },
   {
    "duration": 394,
    "start_time": "2022-12-03T12:31:13.584Z"
   },
   {
    "duration": 5,
    "start_time": "2022-12-03T12:31:13.980Z"
   },
   {
    "duration": 1295,
    "start_time": "2022-12-03T12:31:13.987Z"
   },
   {
    "duration": 7,
    "start_time": "2022-12-03T12:31:20.285Z"
   },
   {
    "duration": 1148,
    "start_time": "2022-12-03T12:31:28.985Z"
   },
   {
    "duration": 1149,
    "start_time": "2022-12-03T12:31:35.694Z"
   },
   {
    "duration": 63,
    "start_time": "2022-12-03T12:31:47.192Z"
   },
   {
    "duration": 5,
    "start_time": "2022-12-03T12:31:50.137Z"
   },
   {
    "duration": 4,
    "start_time": "2022-12-03T12:32:29.075Z"
   },
   {
    "duration": 99,
    "start_time": "2022-12-03T12:33:15.230Z"
   },
   {
    "duration": 9,
    "start_time": "2022-12-03T12:33:20.184Z"
   },
   {
    "duration": 7,
    "start_time": "2022-12-03T12:33:33.468Z"
   },
   {
    "duration": 342,
    "start_time": "2022-12-03T12:33:44.224Z"
   },
   {
    "duration": 135,
    "start_time": "2022-12-03T12:33:44.568Z"
   },
   {
    "duration": 27,
    "start_time": "2022-12-03T12:33:44.705Z"
   },
   {
    "duration": 347,
    "start_time": "2022-12-03T12:33:44.734Z"
   },
   {
    "duration": 3,
    "start_time": "2022-12-03T12:33:45.083Z"
   },
   {
    "duration": 198,
    "start_time": "2022-12-03T12:33:45.088Z"
   },
   {
    "duration": 7,
    "start_time": "2022-12-03T12:33:56.614Z"
   },
   {
    "duration": 8,
    "start_time": "2022-12-03T12:34:24.387Z"
   },
   {
    "duration": 3,
    "start_time": "2022-12-03T12:39:08.669Z"
   },
   {
    "duration": 7,
    "start_time": "2022-12-03T12:39:59.613Z"
   },
   {
    "duration": 18,
    "start_time": "2022-12-03T12:54:24.096Z"
   },
   {
    "duration": 72,
    "start_time": "2022-12-03T12:54:57.036Z"
   },
   {
    "duration": 17,
    "start_time": "2022-12-03T12:55:00.388Z"
   },
   {
    "duration": 22,
    "start_time": "2022-12-03T12:55:13.739Z"
   },
   {
    "duration": 5,
    "start_time": "2022-12-03T12:59:29.320Z"
   },
   {
    "duration": 5,
    "start_time": "2022-12-03T12:59:35.741Z"
   },
   {
    "duration": 5,
    "start_time": "2022-12-03T12:59:43.872Z"
   },
   {
    "duration": 7,
    "start_time": "2022-12-03T12:59:50.528Z"
   },
   {
    "duration": 9,
    "start_time": "2022-12-03T12:59:54.691Z"
   },
   {
    "duration": 5,
    "start_time": "2022-12-03T12:59:58.690Z"
   },
   {
    "duration": 3,
    "start_time": "2022-12-03T13:00:07.349Z"
   },
   {
    "duration": 5,
    "start_time": "2022-12-03T13:00:12.867Z"
   },
   {
    "duration": 5,
    "start_time": "2022-12-03T13:00:16.041Z"
   },
   {
    "duration": 6,
    "start_time": "2022-12-03T13:00:24.704Z"
   },
   {
    "duration": 4,
    "start_time": "2022-12-03T13:00:29.500Z"
   },
   {
    "duration": 5,
    "start_time": "2022-12-03T13:00:32.051Z"
   },
   {
    "duration": 9,
    "start_time": "2022-12-03T13:00:44.175Z"
   },
   {
    "duration": 4,
    "start_time": "2022-12-03T13:00:53.138Z"
   },
   {
    "duration": 18,
    "start_time": "2022-12-03T13:01:15.836Z"
   },
   {
    "duration": 4,
    "start_time": "2022-12-03T13:22:37.759Z"
   },
   {
    "duration": 4,
    "start_time": "2022-12-03T13:22:53.710Z"
   },
   {
    "duration": 4,
    "start_time": "2022-12-03T13:22:58.635Z"
   },
   {
    "duration": 4,
    "start_time": "2022-12-03T13:23:02.705Z"
   },
   {
    "duration": 70,
    "start_time": "2022-12-03T13:29:03.604Z"
   },
   {
    "duration": 5,
    "start_time": "2022-12-03T13:30:12.437Z"
   },
   {
    "duration": 19,
    "start_time": "2022-12-03T13:31:03.723Z"
   },
   {
    "duration": 5,
    "start_time": "2022-12-03T13:31:10.773Z"
   },
   {
    "duration": 15,
    "start_time": "2022-12-03T13:31:11.900Z"
   },
   {
    "duration": 15,
    "start_time": "2022-12-03T13:35:59.416Z"
   },
   {
    "duration": 14,
    "start_time": "2022-12-03T13:36:09.627Z"
   },
   {
    "duration": 15,
    "start_time": "2022-12-03T13:36:12.911Z"
   },
   {
    "duration": 16,
    "start_time": "2022-12-03T13:36:17.039Z"
   },
   {
    "duration": 16,
    "start_time": "2022-12-03T13:36:24.535Z"
   },
   {
    "duration": 4,
    "start_time": "2022-12-03T13:40:40.362Z"
   },
   {
    "duration": 6,
    "start_time": "2022-12-03T13:41:53.324Z"
   },
   {
    "duration": 6,
    "start_time": "2022-12-03T13:42:20.040Z"
   },
   {
    "duration": 4,
    "start_time": "2022-12-03T13:42:21.790Z"
   },
   {
    "duration": 7,
    "start_time": "2022-12-03T13:42:22.056Z"
   },
   {
    "duration": 19,
    "start_time": "2022-12-03T13:52:33.494Z"
   },
   {
    "duration": 407,
    "start_time": "2022-12-03T13:54:07.560Z"
   },
   {
    "duration": 179,
    "start_time": "2022-12-03T13:54:07.970Z"
   },
   {
    "duration": 49,
    "start_time": "2022-12-03T13:54:08.151Z"
   },
   {
    "duration": 377,
    "start_time": "2022-12-03T13:54:08.202Z"
   },
   {
    "duration": 19,
    "start_time": "2022-12-03T13:54:08.582Z"
   },
   {
    "duration": 21,
    "start_time": "2022-12-03T13:54:08.603Z"
   },
   {
    "duration": 19,
    "start_time": "2022-12-03T13:54:08.626Z"
   },
   {
    "duration": 22,
    "start_time": "2022-12-03T13:54:32.882Z"
   },
   {
    "duration": 14,
    "start_time": "2022-12-03T13:55:00.100Z"
   },
   {
    "duration": 21,
    "start_time": "2022-12-03T13:55:05.925Z"
   },
   {
    "duration": 17,
    "start_time": "2022-12-03T13:55:42.958Z"
   },
   {
    "duration": 19,
    "start_time": "2022-12-03T13:55:53.994Z"
   },
   {
    "duration": 15,
    "start_time": "2022-12-03T13:55:57.209Z"
   },
   {
    "duration": 7,
    "start_time": "2022-12-03T13:57:08.549Z"
   },
   {
    "duration": 10,
    "start_time": "2022-12-03T13:58:26.157Z"
   },
   {
    "duration": 18,
    "start_time": "2022-12-03T13:58:36.523Z"
   },
   {
    "duration": 32,
    "start_time": "2022-12-03T13:59:43.756Z"
   },
   {
    "duration": 25,
    "start_time": "2022-12-03T14:00:15.951Z"
   },
   {
    "duration": 25,
    "start_time": "2022-12-03T14:00:23.677Z"
   },
   {
    "duration": 15,
    "start_time": "2022-12-03T14:01:35.650Z"
   },
   {
    "duration": 16,
    "start_time": "2022-12-03T14:32:25.206Z"
   },
   {
    "duration": 215,
    "start_time": "2022-12-03T14:32:39.168Z"
   },
   {
    "duration": 11,
    "start_time": "2022-12-03T14:39:38.730Z"
   },
   {
    "duration": 1160,
    "start_time": "2022-12-03T14:39:46.461Z"
   },
   {
    "duration": 1148,
    "start_time": "2022-12-03T14:40:20.805Z"
   },
   {
    "duration": 24,
    "start_time": "2022-12-03T14:41:59.770Z"
   },
   {
    "duration": 8851,
    "start_time": "2022-12-03T14:42:29.507Z"
   },
   {
    "duration": 9,
    "start_time": "2022-12-03T14:44:59.199Z"
   },
   {
    "duration": 395,
    "start_time": "2022-12-03T14:45:09.286Z"
   },
   {
    "duration": 143,
    "start_time": "2022-12-03T14:45:09.686Z"
   },
   {
    "duration": 28,
    "start_time": "2022-12-03T14:45:09.830Z"
   },
   {
    "duration": 148,
    "start_time": "2022-12-03T14:45:09.860Z"
   },
   {
    "duration": 71,
    "start_time": "2022-12-03T14:45:10.009Z"
   },
   {
    "duration": 142,
    "start_time": "2022-12-03T14:45:10.082Z"
   },
   {
    "duration": 13,
    "start_time": "2022-12-03T14:45:10.226Z"
   },
   {
    "duration": 7,
    "start_time": "2022-12-03T14:45:10.240Z"
   },
   {
    "duration": 13,
    "start_time": "2022-12-03T14:45:26.203Z"
   },
   {
    "duration": 2985,
    "start_time": "2022-12-03T14:45:37.854Z"
   },
   {
    "duration": 112,
    "start_time": "2022-12-03T14:57:27.060Z"
   },
   {
    "duration": 75,
    "start_time": "2022-12-03T14:57:39.403Z"
   },
   {
    "duration": 106,
    "start_time": "2022-12-03T14:58:08.831Z"
   },
   {
    "duration": 14,
    "start_time": "2022-12-03T14:58:29.275Z"
   },
   {
    "duration": 18,
    "start_time": "2022-12-03T14:59:35.310Z"
   },
   {
    "duration": 3037,
    "start_time": "2022-12-03T14:59:53.911Z"
   },
   {
    "duration": 413,
    "start_time": "2022-12-03T15:00:15.856Z"
   },
   {
    "duration": 158,
    "start_time": "2022-12-03T15:00:16.271Z"
   },
   {
    "duration": 30,
    "start_time": "2022-12-03T15:00:16.431Z"
   },
   {
    "duration": 262,
    "start_time": "2022-12-03T15:00:16.464Z"
   },
   {
    "duration": 25,
    "start_time": "2022-12-03T15:00:16.787Z"
   },
   {
    "duration": 94,
    "start_time": "2022-12-03T15:00:16.819Z"
   },
   {
    "duration": 32,
    "start_time": "2022-12-03T15:00:16.916Z"
   },
   {
    "duration": 3118,
    "start_time": "2022-12-03T15:00:16.950Z"
   },
   {
    "duration": 3077,
    "start_time": "2022-12-03T15:00:46.440Z"
   },
   {
    "duration": 425,
    "start_time": "2022-12-03T15:01:04.947Z"
   },
   {
    "duration": 164,
    "start_time": "2022-12-03T15:01:05.375Z"
   },
   {
    "duration": 45,
    "start_time": "2022-12-03T15:01:05.541Z"
   },
   {
    "duration": 298,
    "start_time": "2022-12-03T15:01:05.594Z"
   },
   {
    "duration": 85,
    "start_time": "2022-12-03T15:01:05.894Z"
   },
   {
    "duration": 91,
    "start_time": "2022-12-03T15:01:05.987Z"
   },
   {
    "duration": 57,
    "start_time": "2022-12-03T15:01:06.080Z"
   },
   {
    "duration": 3074,
    "start_time": "2022-12-03T15:01:06.139Z"
   },
   {
    "duration": 149,
    "start_time": "2022-12-03T15:06:00.076Z"
   },
   {
    "duration": 3576,
    "start_time": "2022-12-03T15:07:06.958Z"
   },
   {
    "duration": 174,
    "start_time": "2022-12-03T15:07:10.536Z"
   },
   {
    "duration": 53,
    "start_time": "2022-12-03T15:07:10.718Z"
   },
   {
    "duration": 232,
    "start_time": "2022-12-03T15:07:10.774Z"
   },
   {
    "duration": 51,
    "start_time": "2022-12-03T15:07:11.043Z"
   },
   {
    "duration": 65,
    "start_time": "2022-12-03T15:07:11.105Z"
   },
   {
    "duration": 30,
    "start_time": "2022-12-03T15:07:11.182Z"
   },
   {
    "duration": 3718,
    "start_time": "2022-12-03T15:13:50.046Z"
   },
   {
    "duration": 200,
    "start_time": "2022-12-03T15:13:53.766Z"
   },
   {
    "duration": 73,
    "start_time": "2022-12-03T15:13:53.970Z"
   },
   {
    "duration": 254,
    "start_time": "2022-12-03T15:13:54.046Z"
   },
   {
    "duration": 89,
    "start_time": "2022-12-03T15:13:54.312Z"
   },
   {
    "duration": 80,
    "start_time": "2022-12-03T15:13:54.417Z"
   },
   {
    "duration": 61,
    "start_time": "2022-12-03T15:13:54.499Z"
   },
   {
    "duration": 109,
    "start_time": "2022-12-03T15:13:54.562Z"
   },
   {
    "duration": 3322,
    "start_time": "2022-12-03T15:14:02.254Z"
   },
   {
    "duration": 173,
    "start_time": "2022-12-03T15:15:04.108Z"
   },
   {
    "duration": 576,
    "start_time": "2022-12-03T15:16:00.528Z"
   },
   {
    "duration": 197,
    "start_time": "2022-12-03T15:16:01.115Z"
   },
   {
    "duration": 39,
    "start_time": "2022-12-03T15:16:01.314Z"
   },
   {
    "duration": 181,
    "start_time": "2022-12-03T15:16:01.355Z"
   },
   {
    "duration": 39,
    "start_time": "2022-12-03T15:16:01.543Z"
   },
   {
    "duration": 169,
    "start_time": "2022-12-03T15:16:01.587Z"
   },
   {
    "duration": 31,
    "start_time": "2022-12-03T15:16:01.759Z"
   },
   {
    "duration": 82,
    "start_time": "2022-12-03T15:16:01.795Z"
   },
   {
    "duration": 431,
    "start_time": "2022-12-03T15:16:15.346Z"
   },
   {
    "duration": 164,
    "start_time": "2022-12-03T15:16:15.784Z"
   },
   {
    "duration": 46,
    "start_time": "2022-12-03T15:16:15.951Z"
   },
   {
    "duration": 108,
    "start_time": "2022-12-03T15:16:15.998Z"
   },
   {
    "duration": 88,
    "start_time": "2022-12-03T15:16:16.108Z"
   },
   {
    "duration": 62,
    "start_time": "2022-12-03T15:16:16.197Z"
   },
   {
    "duration": 38,
    "start_time": "2022-12-03T15:16:16.260Z"
   },
   {
    "duration": 3303,
    "start_time": "2022-12-03T15:16:16.306Z"
   },
   {
    "duration": 458,
    "start_time": "2022-12-03T15:19:19.114Z"
   },
   {
    "duration": 175,
    "start_time": "2022-12-03T15:19:19.574Z"
   },
   {
    "duration": 48,
    "start_time": "2022-12-03T15:19:19.752Z"
   },
   {
    "duration": 211,
    "start_time": "2022-12-03T15:19:19.810Z"
   },
   {
    "duration": 93,
    "start_time": "2022-12-03T15:19:20.030Z"
   },
   {
    "duration": 59,
    "start_time": "2022-12-03T15:19:20.182Z"
   },
   {
    "duration": 18,
    "start_time": "2022-12-03T15:19:20.244Z"
   },
   {
    "duration": 20,
    "start_time": "2022-12-03T15:19:20.265Z"
   },
   {
    "duration": 11,
    "start_time": "2022-12-03T15:19:47.745Z"
   },
   {
    "duration": 43,
    "start_time": "2022-12-03T15:20:06.769Z"
   },
   {
    "duration": 18,
    "start_time": "2022-12-03T15:20:32.722Z"
   },
   {
    "duration": 19,
    "start_time": "2022-12-03T15:20:57.420Z"
   },
   {
    "duration": 16,
    "start_time": "2022-12-03T15:21:05.924Z"
   },
   {
    "duration": 8,
    "start_time": "2022-12-03T15:22:45.049Z"
   },
   {
    "duration": 27,
    "start_time": "2022-12-03T15:22:52.943Z"
   },
   {
    "duration": 9,
    "start_time": "2022-12-03T15:25:37.602Z"
   },
   {
    "duration": 20,
    "start_time": "2022-12-03T15:26:19.135Z"
   },
   {
    "duration": 540,
    "start_time": "2022-12-03T15:29:06.855Z"
   },
   {
    "duration": 212,
    "start_time": "2022-12-03T15:29:07.397Z"
   },
   {
    "duration": 38,
    "start_time": "2022-12-03T15:29:07.612Z"
   },
   {
    "duration": 259,
    "start_time": "2022-12-03T15:29:07.652Z"
   },
   {
    "duration": 85,
    "start_time": "2022-12-03T15:29:07.916Z"
   },
   {
    "duration": 52,
    "start_time": "2022-12-03T15:29:08.023Z"
   },
   {
    "duration": 67,
    "start_time": "2022-12-03T15:29:08.077Z"
   },
   {
    "duration": 0,
    "start_time": "2022-12-03T15:29:08.146Z"
   },
   {
    "duration": 13,
    "start_time": "2022-12-03T15:29:33.326Z"
   },
   {
    "duration": 14,
    "start_time": "2022-12-03T15:29:35.252Z"
   },
   {
    "duration": 33,
    "start_time": "2022-12-03T15:32:51.365Z"
   },
   {
    "duration": 15,
    "start_time": "2022-12-03T15:33:04.662Z"
   },
   {
    "duration": 1454,
    "start_time": "2022-12-03T15:33:16.428Z"
   },
   {
    "duration": 39,
    "start_time": "2022-12-03T15:33:50.298Z"
   },
   {
    "duration": 1397,
    "start_time": "2022-12-03T15:34:06.372Z"
   },
   {
    "duration": 16,
    "start_time": "2022-12-03T15:39:22.954Z"
   },
   {
    "duration": 1448,
    "start_time": "2022-12-03T15:39:25.669Z"
   },
   {
    "duration": 1428,
    "start_time": "2022-12-03T15:39:48.572Z"
   },
   {
    "duration": 449,
    "start_time": "2022-12-03T15:39:51.742Z"
   },
   {
    "duration": 173,
    "start_time": "2022-12-03T15:39:52.196Z"
   },
   {
    "duration": 57,
    "start_time": "2022-12-03T15:39:52.371Z"
   },
   {
    "duration": 192,
    "start_time": "2022-12-03T15:39:52.433Z"
   },
   {
    "duration": 80,
    "start_time": "2022-12-03T15:39:52.631Z"
   },
   {
    "duration": 118,
    "start_time": "2022-12-03T15:39:52.721Z"
   },
   {
    "duration": 27,
    "start_time": "2022-12-03T15:39:52.841Z"
   },
   {
    "duration": 1450,
    "start_time": "2022-12-03T15:39:52.869Z"
   },
   {
    "duration": 11,
    "start_time": "2022-12-03T15:44:04.927Z"
   },
   {
    "duration": 32,
    "start_time": "2022-12-03T15:44:27.307Z"
   },
   {
    "duration": 9,
    "start_time": "2022-12-03T15:45:21.152Z"
   },
   {
    "duration": 7,
    "start_time": "2022-12-03T15:46:42.124Z"
   },
   {
    "duration": 17,
    "start_time": "2022-12-03T15:46:55.525Z"
   },
   {
    "duration": 4,
    "start_time": "2022-12-03T15:52:10.818Z"
   },
   {
    "duration": 16,
    "start_time": "2022-12-03T15:52:11.126Z"
   },
   {
    "duration": 13,
    "start_time": "2022-12-03T15:55:28.429Z"
   },
   {
    "duration": 14,
    "start_time": "2022-12-03T15:56:34.848Z"
   },
   {
    "duration": 22,
    "start_time": "2022-12-03T15:56:58.621Z"
   },
   {
    "duration": 12,
    "start_time": "2022-12-03T15:58:09.421Z"
   },
   {
    "duration": 18,
    "start_time": "2022-12-03T15:58:24.841Z"
   },
   {
    "duration": 25,
    "start_time": "2022-12-03T16:00:08.313Z"
   },
   {
    "duration": 12,
    "start_time": "2022-12-03T16:01:24.055Z"
   },
   {
    "duration": 28,
    "start_time": "2022-12-03T16:01:43.870Z"
   },
   {
    "duration": 26,
    "start_time": "2022-12-03T16:02:12.521Z"
   },
   {
    "duration": 34,
    "start_time": "2022-12-03T16:02:49.137Z"
   },
   {
    "duration": 18,
    "start_time": "2022-12-03T16:03:18.334Z"
   },
   {
    "duration": 40,
    "start_time": "2022-12-03T16:04:03.649Z"
   },
   {
    "duration": 11,
    "start_time": "2022-12-03T16:05:33.150Z"
   },
   {
    "duration": 20,
    "start_time": "2022-12-03T16:06:48.554Z"
   },
   {
    "duration": 20,
    "start_time": "2022-12-03T16:07:10.750Z"
   },
   {
    "duration": 21,
    "start_time": "2022-12-03T16:07:25.324Z"
   },
   {
    "duration": 2905,
    "start_time": "2022-12-03T16:08:16.970Z"
   },
   {
    "duration": 35,
    "start_time": "2022-12-03T16:09:24.120Z"
   },
   {
    "duration": 422,
    "start_time": "2022-12-03T16:11:26.632Z"
   },
   {
    "duration": 157,
    "start_time": "2022-12-03T16:11:27.056Z"
   },
   {
    "duration": 35,
    "start_time": "2022-12-03T16:11:27.219Z"
   },
   {
    "duration": 150,
    "start_time": "2022-12-03T16:11:27.255Z"
   },
   {
    "duration": 9,
    "start_time": "2022-12-03T16:11:27.479Z"
   },
   {
    "duration": 42,
    "start_time": "2022-12-03T16:11:27.489Z"
   },
   {
    "duration": 21,
    "start_time": "2022-12-03T16:11:27.533Z"
   },
   {
    "duration": 3,
    "start_time": "2022-12-03T16:11:27.555Z"
   },
   {
    "duration": 4171,
    "start_time": "2022-12-03T16:11:27.560Z"
   },
   {
    "duration": 4527,
    "start_time": "2022-12-03T16:12:32.149Z"
   },
   {
    "duration": 31,
    "start_time": "2022-12-03T16:13:14.232Z"
   },
   {
    "duration": 4312,
    "start_time": "2022-12-03T16:13:21.419Z"
   },
   {
    "duration": 4189,
    "start_time": "2022-12-03T16:13:58.042Z"
   },
   {
    "duration": 14,
    "start_time": "2022-12-03T16:17:11.314Z"
   },
   {
    "duration": 105,
    "start_time": "2022-12-03T16:17:18.976Z"
   },
   {
    "duration": 25,
    "start_time": "2022-12-03T16:17:37.063Z"
   },
   {
    "duration": 402,
    "start_time": "2022-12-03T16:17:56.813Z"
   },
   {
    "duration": 137,
    "start_time": "2022-12-03T16:17:57.217Z"
   },
   {
    "duration": 40,
    "start_time": "2022-12-03T16:17:57.355Z"
   },
   {
    "duration": 177,
    "start_time": "2022-12-03T16:17:57.404Z"
   },
   {
    "duration": 14,
    "start_time": "2022-12-03T16:17:57.589Z"
   },
   {
    "duration": 127,
    "start_time": "2022-12-03T16:17:57.605Z"
   },
   {
    "duration": 20,
    "start_time": "2022-12-03T16:17:57.734Z"
   },
   {
    "duration": 5,
    "start_time": "2022-12-03T16:17:57.755Z"
   },
   {
    "duration": 4174,
    "start_time": "2022-12-03T16:17:57.762Z"
   },
   {
    "duration": 3,
    "start_time": "2022-12-03T16:19:12.959Z"
   },
   {
    "duration": 5,
    "start_time": "2022-12-03T16:19:20.837Z"
   },
   {
    "duration": 6,
    "start_time": "2022-12-03T16:19:58.849Z"
   },
   {
    "duration": 17,
    "start_time": "2022-12-03T16:20:28.773Z"
   },
   {
    "duration": 6,
    "start_time": "2022-12-03T16:20:32.016Z"
   },
   {
    "duration": 5,
    "start_time": "2022-12-03T16:21:04.820Z"
   },
   {
    "duration": 25,
    "start_time": "2022-12-03T16:22:32.769Z"
   },
   {
    "duration": 31,
    "start_time": "2022-12-03T16:22:50.140Z"
   },
   {
    "duration": 178,
    "start_time": "2022-12-03T16:23:01.714Z"
   },
   {
    "duration": 443,
    "start_time": "2022-12-03T16:23:03.941Z"
   },
   {
    "duration": 152,
    "start_time": "2022-12-03T16:23:04.389Z"
   },
   {
    "duration": 28,
    "start_time": "2022-12-03T16:23:04.542Z"
   },
   {
    "duration": 328,
    "start_time": "2022-12-03T16:23:04.577Z"
   },
   {
    "duration": 76,
    "start_time": "2022-12-03T16:23:04.913Z"
   },
   {
    "duration": 50,
    "start_time": "2022-12-03T16:23:04.991Z"
   },
   {
    "duration": 22,
    "start_time": "2022-12-03T16:23:05.043Z"
   },
   {
    "duration": 9,
    "start_time": "2022-12-03T16:23:05.077Z"
   },
   {
    "duration": 4127,
    "start_time": "2022-12-03T16:23:05.087Z"
   },
   {
    "duration": 7,
    "start_time": "2022-12-03T16:25:47.939Z"
   },
   {
    "duration": 409,
    "start_time": "2022-12-03T16:26:00.824Z"
   },
   {
    "duration": 152,
    "start_time": "2022-12-03T16:26:01.235Z"
   },
   {
    "duration": 32,
    "start_time": "2022-12-03T16:26:01.389Z"
   },
   {
    "duration": 168,
    "start_time": "2022-12-03T16:26:01.423Z"
   },
   {
    "duration": 121,
    "start_time": "2022-12-03T16:26:01.594Z"
   },
   {
    "duration": 42,
    "start_time": "2022-12-03T16:26:01.717Z"
   },
   {
    "duration": 29,
    "start_time": "2022-12-03T16:26:01.761Z"
   },
   {
    "duration": 22,
    "start_time": "2022-12-03T16:26:01.798Z"
   },
   {
    "duration": 4155,
    "start_time": "2022-12-03T16:26:01.822Z"
   },
   {
    "duration": 395,
    "start_time": "2022-12-03T16:26:16.851Z"
   },
   {
    "duration": 148,
    "start_time": "2022-12-03T16:26:17.248Z"
   },
   {
    "duration": 30,
    "start_time": "2022-12-03T16:26:17.404Z"
   },
   {
    "duration": 347,
    "start_time": "2022-12-03T16:26:17.436Z"
   },
   {
    "duration": 23,
    "start_time": "2022-12-03T16:26:17.791Z"
   },
   {
    "duration": 83,
    "start_time": "2022-12-03T16:26:17.818Z"
   },
   {
    "duration": 38,
    "start_time": "2022-12-03T16:26:17.903Z"
   },
   {
    "duration": 8,
    "start_time": "2022-12-03T16:26:17.943Z"
   },
   {
    "duration": 4402,
    "start_time": "2022-12-03T16:26:17.953Z"
   },
   {
    "duration": 1560,
    "start_time": "2022-12-03T16:26:38.864Z"
   },
   {
    "duration": 142,
    "start_time": "2022-12-03T16:26:40.426Z"
   },
   {
    "duration": 47,
    "start_time": "2022-12-03T16:26:40.570Z"
   },
   {
    "duration": 300,
    "start_time": "2022-12-03T16:26:40.619Z"
   },
   {
    "duration": 66,
    "start_time": "2022-12-03T16:26:40.922Z"
   },
   {
    "duration": 98,
    "start_time": "2022-12-03T16:26:41.001Z"
   },
   {
    "duration": 40,
    "start_time": "2022-12-03T16:26:41.104Z"
   },
   {
    "duration": 9,
    "start_time": "2022-12-03T16:26:41.146Z"
   },
   {
    "duration": 129,
    "start_time": "2022-12-03T16:26:41.157Z"
   },
   {
    "duration": 256,
    "start_time": "2022-12-03T16:28:10.947Z"
   },
   {
    "duration": 267,
    "start_time": "2022-12-03T16:28:42.224Z"
   },
   {
    "duration": 305,
    "start_time": "2022-12-03T16:29:52.074Z"
   },
   {
    "duration": 287,
    "start_time": "2022-12-03T16:30:13.529Z"
   },
   {
    "duration": 9,
    "start_time": "2022-12-03T16:30:24.605Z"
   },
   {
    "duration": 494,
    "start_time": "2022-12-03T16:30:33.748Z"
   },
   {
    "duration": 178,
    "start_time": "2022-12-03T16:30:34.244Z"
   },
   {
    "duration": 36,
    "start_time": "2022-12-03T16:30:34.424Z"
   },
   {
    "duration": 149,
    "start_time": "2022-12-03T16:30:34.462Z"
   },
   {
    "duration": 25,
    "start_time": "2022-12-03T16:30:34.682Z"
   },
   {
    "duration": 116,
    "start_time": "2022-12-03T16:30:34.714Z"
   },
   {
    "duration": 9,
    "start_time": "2022-12-03T16:30:34.831Z"
   },
   {
    "duration": 21,
    "start_time": "2022-12-03T16:30:34.842Z"
   },
   {
    "duration": 7,
    "start_time": "2022-12-03T16:30:34.864Z"
   },
   {
    "duration": 54,
    "start_time": "2022-12-03T16:30:34.873Z"
   },
   {
    "duration": 15,
    "start_time": "2022-12-03T16:32:18.275Z"
   },
   {
    "duration": 17,
    "start_time": "2022-12-03T16:32:28.374Z"
   },
   {
    "duration": 17,
    "start_time": "2022-12-03T16:34:43.342Z"
   },
   {
    "duration": 22,
    "start_time": "2022-12-03T16:34:48.065Z"
   },
   {
    "duration": 437,
    "start_time": "2022-12-03T16:34:59.903Z"
   },
   {
    "duration": 172,
    "start_time": "2022-12-03T16:35:00.342Z"
   },
   {
    "duration": 32,
    "start_time": "2022-12-03T16:35:00.516Z"
   },
   {
    "duration": 57,
    "start_time": "2022-12-03T16:35:00.550Z"
   },
   {
    "duration": 187,
    "start_time": "2022-12-03T16:35:00.611Z"
   },
   {
    "duration": 49,
    "start_time": "2022-12-03T16:35:00.810Z"
   },
   {
    "duration": 72,
    "start_time": "2022-12-03T16:35:00.861Z"
   },
   {
    "duration": 62,
    "start_time": "2022-12-03T16:35:00.935Z"
   },
   {
    "duration": 43,
    "start_time": "2022-12-03T16:35:00.998Z"
   },
   {
    "duration": 90,
    "start_time": "2022-12-03T16:35:01.045Z"
   },
   {
    "duration": 26,
    "start_time": "2022-12-03T16:35:21.938Z"
   },
   {
    "duration": 17,
    "start_time": "2022-12-03T16:36:30.552Z"
   },
   {
    "duration": 10,
    "start_time": "2022-12-03T16:37:01.520Z"
   },
   {
    "duration": 19,
    "start_time": "2022-12-03T16:37:50.952Z"
   },
   {
    "duration": 15,
    "start_time": "2022-12-03T16:38:58.303Z"
   },
   {
    "duration": 393,
    "start_time": "2022-12-03T16:39:01.473Z"
   },
   {
    "duration": 141,
    "start_time": "2022-12-03T16:39:01.868Z"
   },
   {
    "duration": 27,
    "start_time": "2022-12-03T16:39:02.010Z"
   },
   {
    "duration": 171,
    "start_time": "2022-12-03T16:39:02.038Z"
   },
   {
    "duration": 79,
    "start_time": "2022-12-03T16:39:02.215Z"
   },
   {
    "duration": 94,
    "start_time": "2022-12-03T16:39:02.301Z"
   },
   {
    "duration": 24,
    "start_time": "2022-12-03T16:39:02.396Z"
   },
   {
    "duration": 22,
    "start_time": "2022-12-03T16:39:02.422Z"
   },
   {
    "duration": 12,
    "start_time": "2022-12-03T16:39:02.446Z"
   },
   {
    "duration": 14,
    "start_time": "2022-12-03T16:39:15.820Z"
   },
   {
    "duration": 14,
    "start_time": "2022-12-03T16:39:41.422Z"
   },
   {
    "duration": 395,
    "start_time": "2022-12-03T16:39:44.501Z"
   },
   {
    "duration": 150,
    "start_time": "2022-12-03T16:39:44.899Z"
   },
   {
    "duration": 37,
    "start_time": "2022-12-03T16:39:45.051Z"
   },
   {
    "duration": 208,
    "start_time": "2022-12-03T16:39:45.090Z"
   },
   {
    "duration": 88,
    "start_time": "2022-12-03T16:39:45.306Z"
   },
   {
    "duration": 33,
    "start_time": "2022-12-03T16:39:45.401Z"
   },
   {
    "duration": 54,
    "start_time": "2022-12-03T16:39:45.435Z"
   },
   {
    "duration": 28,
    "start_time": "2022-12-03T16:39:45.498Z"
   },
   {
    "duration": 3987,
    "start_time": "2022-12-03T16:39:45.527Z"
   },
   {
    "duration": 19,
    "start_time": "2022-12-03T16:40:36.522Z"
   },
   {
    "duration": 383,
    "start_time": "2022-12-03T16:41:51.958Z"
   },
   {
    "duration": 139,
    "start_time": "2022-12-03T16:41:52.343Z"
   },
   {
    "duration": 33,
    "start_time": "2022-12-03T16:41:52.490Z"
   },
   {
    "duration": 83,
    "start_time": "2022-12-03T16:41:52.524Z"
   },
   {
    "duration": 12,
    "start_time": "2022-12-03T16:41:52.679Z"
   },
   {
    "duration": 136,
    "start_time": "2022-12-03T16:41:52.692Z"
   },
   {
    "duration": 4,
    "start_time": "2022-12-03T16:41:52.830Z"
   },
   {
    "duration": 27,
    "start_time": "2022-12-03T16:41:52.835Z"
   },
   {
    "duration": 1411,
    "start_time": "2022-12-03T16:41:52.864Z"
   },
   {
    "duration": 1313,
    "start_time": "2022-12-03T16:42:21.195Z"
   },
   {
    "duration": 1322,
    "start_time": "2022-12-03T16:42:36.614Z"
   },
   {
    "duration": 14,
    "start_time": "2022-12-03T16:43:29.239Z"
   },
   {
    "duration": 406,
    "start_time": "2022-12-03T16:43:36.999Z"
   },
   {
    "duration": 134,
    "start_time": "2022-12-03T16:43:37.407Z"
   },
   {
    "duration": 42,
    "start_time": "2022-12-03T16:43:37.542Z"
   },
   {
    "duration": 195,
    "start_time": "2022-12-03T16:43:37.586Z"
   },
   {
    "duration": 117,
    "start_time": "2022-12-03T16:43:37.787Z"
   },
   {
    "duration": 17,
    "start_time": "2022-12-03T16:43:37.905Z"
   },
   {
    "duration": 4,
    "start_time": "2022-12-03T16:43:37.924Z"
   },
   {
    "duration": 16,
    "start_time": "2022-12-03T16:43:37.929Z"
   },
   {
    "duration": 0,
    "start_time": "2022-12-03T16:43:37.947Z"
   },
   {
    "duration": 20,
    "start_time": "2022-12-03T16:44:11.047Z"
   },
   {
    "duration": 1284,
    "start_time": "2022-12-03T16:45:57.121Z"
   },
   {
    "duration": 4034,
    "start_time": "2022-12-03T16:46:44.173Z"
   },
   {
    "duration": 32,
    "start_time": "2022-12-03T16:53:20.074Z"
   },
   {
    "duration": 439,
    "start_time": "2022-12-03T16:53:22.819Z"
   },
   {
    "duration": 157,
    "start_time": "2022-12-03T16:53:23.260Z"
   },
   {
    "duration": 29,
    "start_time": "2022-12-03T16:53:23.421Z"
   },
   {
    "duration": 130,
    "start_time": "2022-12-03T16:53:23.452Z"
   },
   {
    "duration": 11,
    "start_time": "2022-12-03T16:53:23.588Z"
   },
   {
    "duration": 126,
    "start_time": "2022-12-03T16:53:23.601Z"
   },
   {
    "duration": 4,
    "start_time": "2022-12-03T16:53:23.729Z"
   },
   {
    "duration": 18,
    "start_time": "2022-12-03T16:53:23.735Z"
   },
   {
    "duration": 3520,
    "start_time": "2022-12-03T16:53:23.755Z"
   },
   {
    "duration": 406,
    "start_time": "2022-12-03T16:59:15.320Z"
   },
   {
    "duration": 167,
    "start_time": "2022-12-03T16:59:15.728Z"
   },
   {
    "duration": 32,
    "start_time": "2022-12-03T16:59:15.901Z"
   },
   {
    "duration": 267,
    "start_time": "2022-12-03T16:59:15.935Z"
   },
   {
    "duration": 77,
    "start_time": "2022-12-03T16:59:16.210Z"
   },
   {
    "duration": 95,
    "start_time": "2022-12-03T16:59:16.295Z"
   },
   {
    "duration": 6,
    "start_time": "2022-12-03T16:59:16.394Z"
   },
   {
    "duration": 35,
    "start_time": "2022-12-03T16:59:16.403Z"
   },
   {
    "duration": 3829,
    "start_time": "2022-12-03T16:59:16.440Z"
   },
   {
    "duration": 402,
    "start_time": "2022-12-03T17:01:01.125Z"
   },
   {
    "duration": 142,
    "start_time": "2022-12-03T17:01:01.528Z"
   },
   {
    "duration": 38,
    "start_time": "2022-12-03T17:01:01.671Z"
   },
   {
    "duration": 179,
    "start_time": "2022-12-03T17:01:01.711Z"
   },
   {
    "duration": 92,
    "start_time": "2022-12-03T17:01:01.897Z"
   },
   {
    "duration": 58,
    "start_time": "2022-12-03T17:01:02.000Z"
   },
   {
    "duration": 76,
    "start_time": "2022-12-03T17:01:02.060Z"
   },
   {
    "duration": 92,
    "start_time": "2022-12-03T17:01:02.138Z"
   },
   {
    "duration": 4401,
    "start_time": "2022-12-03T17:01:02.232Z"
   },
   {
    "duration": 17,
    "start_time": "2022-12-03T17:02:50.416Z"
   },
   {
    "duration": 398,
    "start_time": "2022-12-03T17:03:01.507Z"
   },
   {
    "duration": 147,
    "start_time": "2022-12-03T17:03:01.912Z"
   },
   {
    "duration": 48,
    "start_time": "2022-12-03T17:03:02.062Z"
   },
   {
    "duration": 176,
    "start_time": "2022-12-03T17:03:02.114Z"
   },
   {
    "duration": 93,
    "start_time": "2022-12-03T17:03:02.299Z"
   },
   {
    "duration": 40,
    "start_time": "2022-12-03T17:03:02.397Z"
   },
   {
    "duration": 4,
    "start_time": "2022-12-03T17:03:02.439Z"
   },
   {
    "duration": 18,
    "start_time": "2022-12-03T17:03:02.444Z"
   },
   {
    "duration": 4360,
    "start_time": "2022-12-03T17:03:02.463Z"
   },
   {
    "duration": 430,
    "start_time": "2022-12-03T17:06:48.525Z"
   },
   {
    "duration": 172,
    "start_time": "2022-12-03T17:06:48.957Z"
   },
   {
    "duration": 29,
    "start_time": "2022-12-03T17:06:49.131Z"
   },
   {
    "duration": 138,
    "start_time": "2022-12-03T17:06:49.162Z"
   },
   {
    "duration": 102,
    "start_time": "2022-12-03T17:06:49.302Z"
   },
   {
    "duration": 108,
    "start_time": "2022-12-03T17:06:49.417Z"
   },
   {
    "duration": 4,
    "start_time": "2022-12-03T17:06:49.527Z"
   },
   {
    "duration": 19,
    "start_time": "2022-12-03T17:06:49.533Z"
   },
   {
    "duration": 0,
    "start_time": "2022-12-03T17:06:49.553Z"
   },
   {
    "duration": 18,
    "start_time": "2022-12-03T17:07:08.243Z"
   },
   {
    "duration": 387,
    "start_time": "2022-12-03T17:07:12.008Z"
   },
   {
    "duration": 148,
    "start_time": "2022-12-03T17:07:12.400Z"
   },
   {
    "duration": 44,
    "start_time": "2022-12-03T17:07:12.550Z"
   },
   {
    "duration": 208,
    "start_time": "2022-12-03T17:07:12.605Z"
   },
   {
    "duration": 70,
    "start_time": "2022-12-03T17:07:12.826Z"
   },
   {
    "duration": 44,
    "start_time": "2022-12-03T17:07:12.898Z"
   },
   {
    "duration": 7,
    "start_time": "2022-12-03T17:07:12.944Z"
   },
   {
    "duration": 44,
    "start_time": "2022-12-03T17:07:12.953Z"
   },
   {
    "duration": 4295,
    "start_time": "2022-12-03T17:07:13.000Z"
   },
   {
    "duration": 408,
    "start_time": "2022-12-03T17:08:40.015Z"
   },
   {
    "duration": 154,
    "start_time": "2022-12-03T17:08:40.425Z"
   },
   {
    "duration": 38,
    "start_time": "2022-12-03T17:08:40.586Z"
   },
   {
    "duration": 160,
    "start_time": "2022-12-03T17:08:40.626Z"
   },
   {
    "duration": 145,
    "start_time": "2022-12-03T17:08:40.788Z"
   },
   {
    "duration": 34,
    "start_time": "2022-12-03T17:08:40.934Z"
   },
   {
    "duration": 52,
    "start_time": "2022-12-03T17:08:40.970Z"
   },
   {
    "duration": 40,
    "start_time": "2022-12-03T17:08:41.024Z"
   },
   {
    "duration": 3600,
    "start_time": "2022-12-03T17:08:41.065Z"
   },
   {
    "duration": 441,
    "start_time": "2022-12-03T17:09:56.064Z"
   },
   {
    "duration": 142,
    "start_time": "2022-12-03T17:09:56.507Z"
   },
   {
    "duration": 40,
    "start_time": "2022-12-03T17:09:56.652Z"
   },
   {
    "duration": 185,
    "start_time": "2022-12-03T17:09:56.703Z"
   },
   {
    "duration": 98,
    "start_time": "2022-12-03T17:09:56.890Z"
   },
   {
    "duration": 45,
    "start_time": "2022-12-03T17:09:56.990Z"
   },
   {
    "duration": 5,
    "start_time": "2022-12-03T17:09:57.037Z"
   },
   {
    "duration": 22,
    "start_time": "2022-12-03T17:09:57.044Z"
   },
   {
    "duration": 4086,
    "start_time": "2022-12-03T17:09:57.068Z"
   },
   {
    "duration": 418,
    "start_time": "2022-12-03T17:11:39.034Z"
   },
   {
    "duration": 139,
    "start_time": "2022-12-03T17:11:39.454Z"
   },
   {
    "duration": 35,
    "start_time": "2022-12-03T17:11:39.594Z"
   },
   {
    "duration": 177,
    "start_time": "2022-12-03T17:11:39.632Z"
   },
   {
    "duration": 21,
    "start_time": "2022-12-03T17:11:39.879Z"
   },
   {
    "duration": 98,
    "start_time": "2022-12-03T17:11:39.908Z"
   },
   {
    "duration": 20,
    "start_time": "2022-12-03T17:11:40.011Z"
   },
   {
    "duration": 20,
    "start_time": "2022-12-03T17:11:40.033Z"
   },
   {
    "duration": 3417,
    "start_time": "2022-12-03T17:11:40.054Z"
   },
   {
    "duration": 27,
    "start_time": "2022-12-03T17:16:14.562Z"
   },
   {
    "duration": 416,
    "start_time": "2022-12-03T17:16:19.314Z"
   },
   {
    "duration": 170,
    "start_time": "2022-12-03T17:16:19.732Z"
   },
   {
    "duration": 37,
    "start_time": "2022-12-03T17:16:19.904Z"
   },
   {
    "duration": 176,
    "start_time": "2022-12-03T17:16:19.942Z"
   },
   {
    "duration": 13,
    "start_time": "2022-12-03T17:16:20.280Z"
   },
   {
    "duration": 38,
    "start_time": "2022-12-03T17:16:20.294Z"
   },
   {
    "duration": 5,
    "start_time": "2022-12-03T17:16:20.334Z"
   },
   {
    "duration": 30,
    "start_time": "2022-12-03T17:16:20.341Z"
   },
   {
    "duration": 4216,
    "start_time": "2022-12-03T17:16:20.373Z"
   },
   {
    "duration": 25,
    "start_time": "2022-12-03T17:18:40.162Z"
   },
   {
    "duration": 396,
    "start_time": "2022-12-03T17:18:46.242Z"
   },
   {
    "duration": 147,
    "start_time": "2022-12-03T17:18:46.640Z"
   },
   {
    "duration": 32,
    "start_time": "2022-12-03T17:18:46.798Z"
   },
   {
    "duration": 160,
    "start_time": "2022-12-03T17:18:46.832Z"
   },
   {
    "duration": 83,
    "start_time": "2022-12-03T17:18:47.000Z"
   },
   {
    "duration": 44,
    "start_time": "2022-12-03T17:18:47.085Z"
   },
   {
    "duration": 5,
    "start_time": "2022-12-03T17:18:47.130Z"
   },
   {
    "duration": 19,
    "start_time": "2022-12-03T17:18:47.136Z"
   },
   {
    "duration": 4290,
    "start_time": "2022-12-03T17:18:47.157Z"
   },
   {
    "duration": 20,
    "start_time": "2022-12-03T17:19:25.645Z"
   },
   {
    "duration": 138,
    "start_time": "2022-12-03T17:19:45.072Z"
   },
   {
    "duration": 67,
    "start_time": "2022-12-03T17:19:50.646Z"
   },
   {
    "duration": 75,
    "start_time": "2022-12-03T17:20:30.470Z"
   },
   {
    "duration": 28,
    "start_time": "2022-12-03T17:20:34.565Z"
   },
   {
    "duration": 445,
    "start_time": "2022-12-03T17:20:38.209Z"
   },
   {
    "duration": 158,
    "start_time": "2022-12-03T17:20:38.656Z"
   },
   {
    "duration": 34,
    "start_time": "2022-12-03T17:20:38.815Z"
   },
   {
    "duration": 67,
    "start_time": "2022-12-03T17:20:38.851Z"
   },
   {
    "duration": 56,
    "start_time": "2022-12-03T17:20:38.993Z"
   },
   {
    "duration": 59,
    "start_time": "2022-12-03T17:20:39.051Z"
   },
   {
    "duration": 19,
    "start_time": "2022-12-03T17:20:39.121Z"
   },
   {
    "duration": 21,
    "start_time": "2022-12-03T17:20:39.142Z"
   },
   {
    "duration": 4469,
    "start_time": "2022-12-03T17:20:39.164Z"
   },
   {
    "duration": 17,
    "start_time": "2022-12-03T17:21:51.337Z"
   },
   {
    "duration": 468,
    "start_time": "2022-12-03T17:21:53.735Z"
   },
   {
    "duration": 179,
    "start_time": "2022-12-03T17:21:54.205Z"
   },
   {
    "duration": 36,
    "start_time": "2022-12-03T17:21:54.385Z"
   },
   {
    "duration": 162,
    "start_time": "2022-12-03T17:21:54.425Z"
   },
   {
    "duration": 47,
    "start_time": "2022-12-03T17:21:54.591Z"
   },
   {
    "duration": 52,
    "start_time": "2022-12-03T17:21:54.640Z"
   },
   {
    "duration": 40,
    "start_time": "2022-12-03T17:21:54.693Z"
   },
   {
    "duration": 29,
    "start_time": "2022-12-03T17:21:54.735Z"
   },
   {
    "duration": 4141,
    "start_time": "2022-12-03T17:21:54.766Z"
   },
   {
    "duration": 17,
    "start_time": "2022-12-03T17:23:26.553Z"
   },
   {
    "duration": 17,
    "start_time": "2022-12-03T17:23:52.243Z"
   },
   {
    "duration": 4249,
    "start_time": "2022-12-03T17:24:32.705Z"
   },
   {
    "duration": 1572,
    "start_time": "2022-12-03T17:26:36.664Z"
   },
   {
    "duration": 149,
    "start_time": "2022-12-03T17:26:38.238Z"
   },
   {
    "duration": 52,
    "start_time": "2022-12-03T17:26:38.389Z"
   },
   {
    "duration": 141,
    "start_time": "2022-12-03T17:26:38.443Z"
   },
   {
    "duration": 13,
    "start_time": "2022-12-03T17:26:38.585Z"
   },
   {
    "duration": 131,
    "start_time": "2022-12-03T17:26:38.600Z"
   },
   {
    "duration": 4,
    "start_time": "2022-12-03T17:26:38.733Z"
   },
   {
    "duration": 118,
    "start_time": "2022-12-03T17:26:38.738Z"
   },
   {
    "duration": 0,
    "start_time": "2022-12-03T17:26:38.858Z"
   },
   {
    "duration": 1577,
    "start_time": "2022-12-03T17:27:00.903Z"
   },
   {
    "duration": 154,
    "start_time": "2022-12-03T17:27:02.495Z"
   },
   {
    "duration": 49,
    "start_time": "2022-12-03T17:27:02.650Z"
   },
   {
    "duration": 182,
    "start_time": "2022-12-03T17:27:02.701Z"
   },
   {
    "duration": 11,
    "start_time": "2022-12-03T17:27:02.889Z"
   },
   {
    "duration": 118,
    "start_time": "2022-12-03T17:27:02.909Z"
   },
   {
    "duration": 11,
    "start_time": "2022-12-03T17:27:03.029Z"
   },
   {
    "duration": 21,
    "start_time": "2022-12-03T17:27:03.042Z"
   },
   {
    "duration": 124,
    "start_time": "2022-12-03T17:27:03.065Z"
   },
   {
    "duration": 1472,
    "start_time": "2022-12-03T17:27:20.602Z"
   },
   {
    "duration": 1646,
    "start_time": "2022-12-03T17:27:43.908Z"
   },
   {
    "duration": 4246,
    "start_time": "2022-12-03T17:28:05.716Z"
   },
   {
    "duration": 1703,
    "start_time": "2022-12-03T17:30:27.672Z"
   },
   {
    "duration": 169,
    "start_time": "2022-12-03T17:30:29.377Z"
   },
   {
    "duration": 46,
    "start_time": "2022-12-03T17:30:29.547Z"
   },
   {
    "duration": 384,
    "start_time": "2022-12-03T17:30:29.600Z"
   },
   {
    "duration": 34,
    "start_time": "2022-12-03T17:30:29.987Z"
   },
   {
    "duration": 74,
    "start_time": "2022-12-03T17:30:30.078Z"
   },
   {
    "duration": 80,
    "start_time": "2022-12-03T17:30:30.154Z"
   },
   {
    "duration": 57,
    "start_time": "2022-12-03T17:30:30.236Z"
   },
   {
    "duration": 4797,
    "start_time": "2022-12-03T17:30:30.294Z"
   },
   {
    "duration": 29,
    "start_time": "2022-12-03T17:37:26.065Z"
   },
   {
    "duration": 111,
    "start_time": "2022-12-03T17:37:38.035Z"
   },
   {
    "duration": 25,
    "start_time": "2022-12-03T17:37:58.672Z"
   },
   {
    "duration": 456,
    "start_time": "2022-12-03T17:38:22.820Z"
   },
   {
    "duration": 166,
    "start_time": "2022-12-03T17:38:23.278Z"
   },
   {
    "duration": 45,
    "start_time": "2022-12-03T17:38:23.446Z"
   },
   {
    "duration": 186,
    "start_time": "2022-12-03T17:38:23.496Z"
   },
   {
    "duration": 13,
    "start_time": "2022-12-03T17:38:23.689Z"
   },
   {
    "duration": 87,
    "start_time": "2022-12-03T17:38:23.706Z"
   },
   {
    "duration": 26,
    "start_time": "2022-12-03T17:38:23.799Z"
   },
   {
    "duration": 14,
    "start_time": "2022-12-03T17:38:23.827Z"
   },
   {
    "duration": 4135,
    "start_time": "2022-12-03T17:38:23.842Z"
   },
   {
    "duration": 1545,
    "start_time": "2022-12-03T17:38:45.106Z"
   },
   {
    "duration": 179,
    "start_time": "2022-12-03T17:38:46.654Z"
   },
   {
    "duration": 48,
    "start_time": "2022-12-03T17:38:46.834Z"
   },
   {
    "duration": 223,
    "start_time": "2022-12-03T17:38:46.888Z"
   },
   {
    "duration": 33,
    "start_time": "2022-12-03T17:38:47.183Z"
   },
   {
    "duration": 36,
    "start_time": "2022-12-03T17:38:47.220Z"
   },
   {
    "duration": 30,
    "start_time": "2022-12-03T17:38:47.258Z"
   },
   {
    "duration": 150,
    "start_time": "2022-12-03T17:38:47.290Z"
   },
   {
    "duration": 0,
    "start_time": "2022-12-03T17:38:47.441Z"
   },
   {
    "duration": 1557,
    "start_time": "2022-12-03T17:39:06.574Z"
   },
   {
    "duration": 142,
    "start_time": "2022-12-03T17:39:08.133Z"
   },
   {
    "duration": 58,
    "start_time": "2022-12-03T17:39:08.277Z"
   },
   {
    "duration": 157,
    "start_time": "2022-12-03T17:39:08.337Z"
   },
   {
    "duration": 23,
    "start_time": "2022-12-03T17:39:08.509Z"
   },
   {
    "duration": 47,
    "start_time": "2022-12-03T17:39:08.590Z"
   },
   {
    "duration": 5,
    "start_time": "2022-12-03T17:39:08.638Z"
   },
   {
    "duration": 20,
    "start_time": "2022-12-03T17:39:08.644Z"
   },
   {
    "duration": 110,
    "start_time": "2022-12-03T17:39:08.665Z"
   },
   {
    "duration": 1498,
    "start_time": "2022-12-03T17:39:46.339Z"
   },
   {
    "duration": 150,
    "start_time": "2022-12-03T17:39:47.839Z"
   },
   {
    "duration": 47,
    "start_time": "2022-12-03T17:39:47.990Z"
   },
   {
    "duration": 149,
    "start_time": "2022-12-03T17:39:48.039Z"
   },
   {
    "duration": 26,
    "start_time": "2022-12-03T17:39:48.190Z"
   },
   {
    "duration": 109,
    "start_time": "2022-12-03T17:39:48.220Z"
   },
   {
    "duration": 4,
    "start_time": "2022-12-03T17:39:48.330Z"
   },
   {
    "duration": 26,
    "start_time": "2022-12-03T17:39:48.336Z"
   },
   {
    "duration": 3651,
    "start_time": "2022-12-03T17:39:48.363Z"
   },
   {
    "duration": 408,
    "start_time": "2022-12-03T17:42:48.387Z"
   },
   {
    "duration": 198,
    "start_time": "2022-12-03T17:42:48.799Z"
   },
   {
    "duration": 43,
    "start_time": "2022-12-03T17:42:49.004Z"
   },
   {
    "duration": 134,
    "start_time": "2022-12-03T17:42:49.049Z"
   },
   {
    "duration": 105,
    "start_time": "2022-12-03T17:42:49.191Z"
   },
   {
    "duration": 53,
    "start_time": "2022-12-03T17:42:49.300Z"
   },
   {
    "duration": 64,
    "start_time": "2022-12-03T17:42:49.355Z"
   },
   {
    "duration": 35,
    "start_time": "2022-12-03T17:42:49.421Z"
   },
   {
    "duration": 3541,
    "start_time": "2022-12-03T17:42:49.458Z"
   },
   {
    "duration": 1499,
    "start_time": "2022-12-03T17:45:26.371Z"
   },
   {
    "duration": 157,
    "start_time": "2022-12-03T17:45:27.872Z"
   },
   {
    "duration": 60,
    "start_time": "2022-12-03T17:45:28.031Z"
   },
   {
    "duration": 292,
    "start_time": "2022-12-03T17:45:28.093Z"
   },
   {
    "duration": 21,
    "start_time": "2022-12-03T17:45:28.387Z"
   },
   {
    "duration": 35,
    "start_time": "2022-12-03T17:45:28.482Z"
   },
   {
    "duration": 4,
    "start_time": "2022-12-03T17:45:28.519Z"
   },
   {
    "duration": 19,
    "start_time": "2022-12-03T17:45:28.525Z"
   },
   {
    "duration": 3515,
    "start_time": "2022-12-03T17:45:28.546Z"
   },
   {
    "duration": 1700,
    "start_time": "2022-12-03T17:47:13.575Z"
   },
   {
    "duration": 173,
    "start_time": "2022-12-03T17:47:15.277Z"
   },
   {
    "duration": 51,
    "start_time": "2022-12-03T17:47:15.451Z"
   },
   {
    "duration": 100,
    "start_time": "2022-12-03T17:47:15.504Z"
   },
   {
    "duration": 193,
    "start_time": "2022-12-03T17:47:15.606Z"
   },
   {
    "duration": 53,
    "start_time": "2022-12-03T17:47:15.800Z"
   },
   {
    "duration": 7,
    "start_time": "2022-12-03T17:47:15.854Z"
   },
   {
    "duration": 29,
    "start_time": "2022-12-03T17:47:15.863Z"
   },
   {
    "duration": 4056,
    "start_time": "2022-12-03T17:47:15.893Z"
   },
   {
    "duration": 420,
    "start_time": "2022-12-03T17:48:06.134Z"
   },
   {
    "duration": 160,
    "start_time": "2022-12-03T17:48:06.556Z"
   },
   {
    "duration": 28,
    "start_time": "2022-12-03T17:48:06.723Z"
   },
   {
    "duration": 47,
    "start_time": "2022-12-03T17:48:06.754Z"
   },
   {
    "duration": 82,
    "start_time": "2022-12-03T17:48:06.803Z"
   },
   {
    "duration": 144,
    "start_time": "2022-12-03T17:48:06.888Z"
   },
   {
    "duration": 6,
    "start_time": "2022-12-03T17:48:07.034Z"
   },
   {
    "duration": 18,
    "start_time": "2022-12-03T17:48:07.044Z"
   },
   {
    "duration": 3593,
    "start_time": "2022-12-03T17:48:07.063Z"
   },
   {
    "duration": 1561,
    "start_time": "2022-12-03T17:48:30.505Z"
   },
   {
    "duration": 161,
    "start_time": "2022-12-03T17:48:32.068Z"
   },
   {
    "duration": 38,
    "start_time": "2022-12-03T17:48:32.230Z"
   },
   {
    "duration": 213,
    "start_time": "2022-12-03T17:48:32.269Z"
   },
   {
    "duration": 110,
    "start_time": "2022-12-03T17:48:32.484Z"
   },
   {
    "duration": 31,
    "start_time": "2022-12-03T17:48:32.612Z"
   },
   {
    "duration": 5,
    "start_time": "2022-12-03T17:48:32.644Z"
   },
   {
    "duration": 16,
    "start_time": "2022-12-03T17:48:32.650Z"
   },
   {
    "duration": 3932,
    "start_time": "2022-12-03T17:48:32.668Z"
   },
   {
    "duration": 1589,
    "start_time": "2022-12-03T17:51:27.370Z"
   },
   {
    "duration": 166,
    "start_time": "2022-12-03T17:51:28.961Z"
   },
   {
    "duration": 36,
    "start_time": "2022-12-03T17:51:29.129Z"
   },
   {
    "duration": 242,
    "start_time": "2022-12-03T17:51:29.167Z"
   },
   {
    "duration": 76,
    "start_time": "2022-12-03T17:51:29.411Z"
   },
   {
    "duration": 139,
    "start_time": "2022-12-03T17:51:29.493Z"
   },
   {
    "duration": 5,
    "start_time": "2022-12-03T17:51:29.634Z"
   },
   {
    "duration": 18,
    "start_time": "2022-12-03T17:51:29.640Z"
   },
   {
    "duration": 128,
    "start_time": "2022-12-03T17:51:29.660Z"
   },
   {
    "duration": 1337,
    "start_time": "2022-12-03T17:52:04.007Z"
   },
   {
    "duration": 3992,
    "start_time": "2022-12-03T17:52:11.046Z"
   },
   {
    "duration": 1465,
    "start_time": "2022-12-03T17:57:09.926Z"
   },
   {
    "duration": 138,
    "start_time": "2022-12-03T17:57:11.401Z"
   },
   {
    "duration": 47,
    "start_time": "2022-12-03T17:57:11.540Z"
   },
   {
    "duration": 208,
    "start_time": "2022-12-03T17:57:11.591Z"
   },
   {
    "duration": 80,
    "start_time": "2022-12-03T17:57:11.801Z"
   },
   {
    "duration": 136,
    "start_time": "2022-12-03T17:57:11.882Z"
   },
   {
    "duration": 5,
    "start_time": "2022-12-03T17:57:12.020Z"
   },
   {
    "duration": 19,
    "start_time": "2022-12-03T17:57:12.026Z"
   },
   {
    "duration": 3361,
    "start_time": "2022-12-03T17:57:12.047Z"
   },
   {
    "duration": 5,
    "start_time": "2022-12-03T17:59:53.301Z"
   },
   {
    "duration": 1498,
    "start_time": "2022-12-03T18:02:56.877Z"
   },
   {
    "duration": 144,
    "start_time": "2022-12-03T18:02:58.377Z"
   },
   {
    "duration": 38,
    "start_time": "2022-12-03T18:02:58.522Z"
   },
   {
    "duration": 128,
    "start_time": "2022-12-03T18:02:58.562Z"
   },
   {
    "duration": 6,
    "start_time": "2022-12-03T18:02:58.694Z"
   },
   {
    "duration": 229,
    "start_time": "2022-12-03T18:02:58.702Z"
   },
   {
    "duration": 0,
    "start_time": "2022-12-03T18:02:58.933Z"
   },
   {
    "duration": 0,
    "start_time": "2022-12-03T18:02:58.934Z"
   },
   {
    "duration": 0,
    "start_time": "2022-12-03T18:02:58.935Z"
   },
   {
    "duration": 1482,
    "start_time": "2022-12-03T18:03:48.049Z"
   },
   {
    "duration": 150,
    "start_time": "2022-12-03T18:03:49.532Z"
   },
   {
    "duration": 45,
    "start_time": "2022-12-03T18:03:49.686Z"
   },
   {
    "duration": 171,
    "start_time": "2022-12-03T18:03:49.734Z"
   },
   {
    "duration": 12,
    "start_time": "2022-12-03T18:03:49.985Z"
   },
   {
    "duration": 124,
    "start_time": "2022-12-03T18:03:49.999Z"
   },
   {
    "duration": 5,
    "start_time": "2022-12-03T18:03:50.124Z"
   },
   {
    "duration": 17,
    "start_time": "2022-12-03T18:03:50.131Z"
   },
   {
    "duration": 3452,
    "start_time": "2022-12-03T18:03:50.150Z"
   },
   {
    "duration": 1454,
    "start_time": "2022-12-03T18:04:11.361Z"
   },
   {
    "duration": 172,
    "start_time": "2022-12-03T18:04:12.817Z"
   },
   {
    "duration": 53,
    "start_time": "2022-12-03T18:04:12.993Z"
   },
   {
    "duration": 340,
    "start_time": "2022-12-03T18:04:13.049Z"
   },
   {
    "duration": 86,
    "start_time": "2022-12-03T18:04:13.397Z"
   },
   {
    "duration": 37,
    "start_time": "2022-12-03T18:04:13.486Z"
   },
   {
    "duration": 5,
    "start_time": "2022-12-03T18:04:13.524Z"
   },
   {
    "duration": 16,
    "start_time": "2022-12-03T18:04:13.530Z"
   },
   {
    "duration": 3344,
    "start_time": "2022-12-03T18:04:13.548Z"
   },
   {
    "duration": 1473,
    "start_time": "2022-12-03T18:05:57.904Z"
   },
   {
    "duration": 142,
    "start_time": "2022-12-03T18:05:59.379Z"
   },
   {
    "duration": 39,
    "start_time": "2022-12-03T18:05:59.523Z"
   },
   {
    "duration": 140,
    "start_time": "2022-12-03T18:05:59.564Z"
   },
   {
    "duration": 104,
    "start_time": "2022-12-03T18:05:59.779Z"
   },
   {
    "duration": 42,
    "start_time": "2022-12-03T18:05:59.885Z"
   },
   {
    "duration": 5,
    "start_time": "2022-12-03T18:05:59.929Z"
   },
   {
    "duration": 15,
    "start_time": "2022-12-03T18:05:59.935Z"
   },
   {
    "duration": 3398,
    "start_time": "2022-12-03T18:05:59.952Z"
   },
   {
    "duration": 1431,
    "start_time": "2022-12-03T18:06:26.138Z"
   },
   {
    "duration": 147,
    "start_time": "2022-12-03T18:06:27.571Z"
   },
   {
    "duration": 39,
    "start_time": "2022-12-03T18:06:27.720Z"
   },
   {
    "duration": 52,
    "start_time": "2022-12-03T18:06:27.761Z"
   },
   {
    "duration": 13,
    "start_time": "2022-12-03T18:06:27.877Z"
   },
   {
    "duration": 104,
    "start_time": "2022-12-03T18:06:27.891Z"
   },
   {
    "duration": 20,
    "start_time": "2022-12-03T18:06:27.996Z"
   },
   {
    "duration": 13,
    "start_time": "2022-12-03T18:06:28.017Z"
   },
   {
    "duration": 3280,
    "start_time": "2022-12-03T18:06:28.031Z"
   },
   {
    "duration": 1530,
    "start_time": "2022-12-03T18:06:47.688Z"
   },
   {
    "duration": 140,
    "start_time": "2022-12-03T18:06:49.221Z"
   },
   {
    "duration": 58,
    "start_time": "2022-12-03T18:06:49.363Z"
   },
   {
    "duration": 267,
    "start_time": "2022-12-03T18:06:49.423Z"
   },
   {
    "duration": 183,
    "start_time": "2022-12-03T18:06:49.696Z"
   },
   {
    "duration": 0,
    "start_time": "2022-12-03T18:06:49.889Z"
   },
   {
    "duration": 0,
    "start_time": "2022-12-03T18:06:49.889Z"
   },
   {
    "duration": 0,
    "start_time": "2022-12-03T18:06:49.890Z"
   },
   {
    "duration": 0,
    "start_time": "2022-12-03T18:06:49.891Z"
   },
   {
    "duration": 1533,
    "start_time": "2022-12-03T18:07:23.273Z"
   },
   {
    "duration": 144,
    "start_time": "2022-12-03T18:07:24.808Z"
   },
   {
    "duration": 55,
    "start_time": "2022-12-03T18:07:24.954Z"
   },
   {
    "duration": 88,
    "start_time": "2022-12-03T18:07:25.011Z"
   },
   {
    "duration": 30,
    "start_time": "2022-12-03T18:07:25.177Z"
   },
   {
    "duration": 109,
    "start_time": "2022-12-03T18:07:25.209Z"
   },
   {
    "duration": 5,
    "start_time": "2022-12-03T18:07:25.319Z"
   },
   {
    "duration": 16,
    "start_time": "2022-12-03T18:07:25.325Z"
   },
   {
    "duration": 3252,
    "start_time": "2022-12-03T18:07:25.342Z"
   },
   {
    "duration": 1620,
    "start_time": "2022-12-03T18:10:48.809Z"
   },
   {
    "duration": 158,
    "start_time": "2022-12-03T18:10:50.432Z"
   },
   {
    "duration": 46,
    "start_time": "2022-12-03T18:10:50.597Z"
   },
   {
    "duration": 152,
    "start_time": "2022-12-03T18:10:50.645Z"
   },
   {
    "duration": 78,
    "start_time": "2022-12-03T18:10:50.801Z"
   },
   {
    "duration": 102,
    "start_time": "2022-12-03T18:10:50.884Z"
   },
   {
    "duration": 8,
    "start_time": "2022-12-03T18:10:50.995Z"
   },
   {
    "duration": 23,
    "start_time": "2022-12-03T18:10:51.005Z"
   },
   {
    "duration": 3504,
    "start_time": "2022-12-03T18:10:51.030Z"
   },
   {
    "duration": 3368,
    "start_time": "2022-12-03T18:11:12.840Z"
   },
   {
    "duration": 1449,
    "start_time": "2022-12-03T18:12:09.037Z"
   },
   {
    "duration": 139,
    "start_time": "2022-12-03T18:12:10.488Z"
   },
   {
    "duration": 38,
    "start_time": "2022-12-03T18:12:10.629Z"
   },
   {
    "duration": 134,
    "start_time": "2022-12-03T18:12:10.669Z"
   },
   {
    "duration": 86,
    "start_time": "2022-12-03T18:12:10.805Z"
   },
   {
    "duration": 136,
    "start_time": "2022-12-03T18:12:10.895Z"
   },
   {
    "duration": 6,
    "start_time": "2022-12-03T18:12:11.033Z"
   },
   {
    "duration": 17,
    "start_time": "2022-12-03T18:12:11.041Z"
   },
   {
    "duration": 3450,
    "start_time": "2022-12-03T18:12:11.060Z"
   },
   {
    "duration": 429,
    "start_time": "2022-12-03T18:25:58.027Z"
   },
   {
    "duration": 1605,
    "start_time": "2022-12-03T18:34:25.718Z"
   },
   {
    "duration": 183,
    "start_time": "2022-12-03T18:34:27.326Z"
   },
   {
    "duration": 49,
    "start_time": "2022-12-03T18:34:27.511Z"
   },
   {
    "duration": 131,
    "start_time": "2022-12-03T18:34:27.563Z"
   },
   {
    "duration": 94,
    "start_time": "2022-12-03T18:34:27.701Z"
   },
   {
    "duration": 104,
    "start_time": "2022-12-03T18:34:27.802Z"
   },
   {
    "duration": 5,
    "start_time": "2022-12-03T18:34:27.908Z"
   },
   {
    "duration": 19,
    "start_time": "2022-12-03T18:34:27.915Z"
   },
   {
    "duration": 3358,
    "start_time": "2022-12-03T18:34:27.936Z"
   },
   {
    "duration": 1547,
    "start_time": "2022-12-03T18:44:50.548Z"
   },
   {
    "duration": 173,
    "start_time": "2022-12-03T18:44:52.100Z"
   },
   {
    "duration": 53,
    "start_time": "2022-12-03T18:44:52.275Z"
   },
   {
    "duration": 270,
    "start_time": "2022-12-03T18:44:52.330Z"
   },
   {
    "duration": 12,
    "start_time": "2022-12-03T18:44:52.680Z"
   },
   {
    "duration": 38,
    "start_time": "2022-12-03T18:44:52.697Z"
   },
   {
    "duration": 6,
    "start_time": "2022-12-03T18:44:52.736Z"
   },
   {
    "duration": 16,
    "start_time": "2022-12-03T18:44:52.744Z"
   },
   {
    "duration": 3487,
    "start_time": "2022-12-03T18:44:52.762Z"
   },
   {
    "duration": 50,
    "start_time": "2022-12-04T06:37:50.046Z"
   },
   {
    "duration": 8,
    "start_time": "2022-12-04T06:37:56.660Z"
   },
   {
    "duration": 3,
    "start_time": "2022-12-04T06:37:59.770Z"
   },
   {
    "duration": 2078,
    "start_time": "2022-12-04T06:40:27.661Z"
   },
   {
    "duration": 157,
    "start_time": "2022-12-04T06:40:29.741Z"
   },
   {
    "duration": 47,
    "start_time": "2022-12-04T06:40:29.899Z"
   },
   {
    "duration": 365,
    "start_time": "2022-12-04T06:40:29.948Z"
   },
   {
    "duration": 98,
    "start_time": "2022-12-04T06:40:30.316Z"
   },
   {
    "duration": 29,
    "start_time": "2022-12-04T06:40:30.416Z"
   },
   {
    "duration": 23,
    "start_time": "2022-12-04T06:40:30.447Z"
   },
   {
    "duration": 29,
    "start_time": "2022-12-04T06:40:30.472Z"
   },
   {
    "duration": 3428,
    "start_time": "2022-12-04T06:40:30.503Z"
   },
   {
    "duration": 5,
    "start_time": "2022-12-04T06:40:50.670Z"
   },
   {
    "duration": 5,
    "start_time": "2022-12-04T06:42:02.927Z"
   },
   {
    "duration": 4,
    "start_time": "2022-12-04T06:42:50.555Z"
   },
   {
    "duration": 4,
    "start_time": "2022-12-04T06:43:03.436Z"
   },
   {
    "duration": 8,
    "start_time": "2022-12-04T06:47:22.676Z"
   },
   {
    "duration": 6,
    "start_time": "2022-12-04T06:48:14.978Z"
   },
   {
    "duration": 4,
    "start_time": "2022-12-04T06:49:47.855Z"
   },
   {
    "duration": 4,
    "start_time": "2022-12-04T06:53:08.520Z"
   },
   {
    "duration": 13,
    "start_time": "2022-12-04T06:53:42.974Z"
   },
   {
    "duration": 22,
    "start_time": "2022-12-04T06:54:12.773Z"
   },
   {
    "duration": 7,
    "start_time": "2022-12-04T06:54:46.333Z"
   },
   {
    "duration": 8,
    "start_time": "2022-12-04T06:55:07.259Z"
   },
   {
    "duration": 18,
    "start_time": "2022-12-04T06:57:14.374Z"
   },
   {
    "duration": 2183,
    "start_time": "2022-12-04T06:57:34.077Z"
   },
   {
    "duration": 222,
    "start_time": "2022-12-04T06:57:36.262Z"
   },
   {
    "duration": 67,
    "start_time": "2022-12-04T06:57:36.486Z"
   },
   {
    "duration": 158,
    "start_time": "2022-12-04T06:57:36.556Z"
   },
   {
    "duration": 9,
    "start_time": "2022-12-04T06:57:36.717Z"
   },
   {
    "duration": 101,
    "start_time": "2022-12-04T06:57:36.818Z"
   },
   {
    "duration": 5,
    "start_time": "2022-12-04T06:57:36.921Z"
   },
   {
    "duration": 18,
    "start_time": "2022-12-04T06:57:36.928Z"
   },
   {
    "duration": 3636,
    "start_time": "2022-12-04T06:57:36.948Z"
   },
   {
    "duration": 4,
    "start_time": "2022-12-04T07:01:11.174Z"
   },
   {
    "duration": 2241,
    "start_time": "2022-12-04T07:06:25.043Z"
   },
   {
    "duration": 67,
    "start_time": "2022-12-04T07:06:27.286Z"
   },
   {
    "duration": 122,
    "start_time": "2022-12-04T07:06:27.354Z"
   },
   {
    "duration": 0,
    "start_time": "2022-12-04T07:06:27.479Z"
   },
   {
    "duration": 0,
    "start_time": "2022-12-04T07:06:27.480Z"
   },
   {
    "duration": 0,
    "start_time": "2022-12-04T07:06:27.482Z"
   },
   {
    "duration": 0,
    "start_time": "2022-12-04T07:06:27.484Z"
   },
   {
    "duration": 0,
    "start_time": "2022-12-04T07:06:27.485Z"
   },
   {
    "duration": 2068,
    "start_time": "2022-12-04T07:07:12.294Z"
   },
   {
    "duration": 4,
    "start_time": "2022-12-04T07:07:14.364Z"
   },
   {
    "duration": 63,
    "start_time": "2022-12-04T07:07:14.370Z"
   },
   {
    "duration": 182,
    "start_time": "2022-12-04T07:07:14.435Z"
   },
   {
    "duration": 11,
    "start_time": "2022-12-04T07:07:14.619Z"
   },
   {
    "duration": 116,
    "start_time": "2022-12-04T07:07:14.632Z"
   },
   {
    "duration": 7,
    "start_time": "2022-12-04T07:07:14.750Z"
   },
   {
    "duration": 23,
    "start_time": "2022-12-04T07:07:14.759Z"
   },
   {
    "duration": 3883,
    "start_time": "2022-12-04T07:07:14.784Z"
   },
   {
    "duration": 2231,
    "start_time": "2022-12-04T07:08:03.750Z"
   },
   {
    "duration": 184,
    "start_time": "2022-12-04T07:08:05.983Z"
   },
   {
    "duration": 70,
    "start_time": "2022-12-04T07:08:06.169Z"
   },
   {
    "duration": 189,
    "start_time": "2022-12-04T07:08:06.242Z"
   },
   {
    "duration": 84,
    "start_time": "2022-12-04T07:08:06.433Z"
   },
   {
    "duration": 39,
    "start_time": "2022-12-04T07:08:06.527Z"
   },
   {
    "duration": 52,
    "start_time": "2022-12-04T07:08:06.568Z"
   },
   {
    "duration": 44,
    "start_time": "2022-12-04T07:08:06.622Z"
   },
   {
    "duration": 3891,
    "start_time": "2022-12-04T07:08:06.669Z"
   }
  ],
  "kernelspec": {
   "display_name": "Python 3 (ipykernel)",
   "language": "python",
   "name": "python3"
  },
  "language_info": {
   "codemirror_mode": {
    "name": "ipython",
    "version": 3
   },
   "file_extension": ".py",
   "mimetype": "text/x-python",
   "name": "python",
   "nbconvert_exporter": "python",
   "pygments_lexer": "ipython3",
   "version": "3.9.13"
  },
  "toc": {
   "base_numbering": 1,
   "nav_menu": {},
   "number_sections": true,
   "sideBar": true,
   "skip_h1_title": true,
   "title_cell": "Table of Contents",
   "title_sidebar": "Contents",
   "toc_cell": false,
   "toc_position": {},
   "toc_section_display": true,
   "toc_window_display": true
  }
 },
 "nbformat": 4,
 "nbformat_minor": 2
}
