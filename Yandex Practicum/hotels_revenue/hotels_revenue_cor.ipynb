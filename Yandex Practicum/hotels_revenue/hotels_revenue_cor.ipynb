{
 "cells": [
  {
   "cell_type": "markdown",
   "metadata": {},
   "source": [
    "# Прогнозирование оттока клиентов в сети отелей «Как в гостях»"
   ]
  },
  {
   "cell_type": "markdown",
   "metadata": {},
   "source": [
    "Задача:Нужно разработать систему, которая предсказывает отказ от брони. Если модель покажет, что бронь будет отменена, то клиенту предлагается внести депозит. Размер депозита — 80% от стоимости номера за одни сутки и затрат на разовую уборку. Деньги будут списаны со счёта клиента, если он всё же отменит бронь."
   ]
  },
  {
   "cell_type": "markdown",
   "metadata": {},
   "source": [
    "План проекта:\n",
    "- Шаг 1. Откройте файлы с данными\n",
    "- - 1.1 Импорты\n",
    "- - 1.2  Открываем файлы с данными\n",
    "- Шаг 2. Предобработка и исследовательский анализ данных \n",
    "- - 2.1  Поиск дубликатов\n",
    "- - 2.2  Посмотрим распределение значений\n",
    "- - 2.3  Пропущенные значения\n",
    "- - 2.4  Работа с датой\n",
    "- Шаг 3. Формулировка ML-задачи на основе бизнес-задачи\n",
    "- - 3.1  Функция расчета прибыли\n",
    "- - 3.2  Прибыль и убытки без внедрения депозитов\n",
    "- Шаг 4. Разработка модели ML\n",
    "- - 4.1  Подготовка данных\n",
    "- - 4.2  Обучаем модели и выбираем лучшую\n",
    "- - 4.3  Предсказания на тестовой выборке\n",
    "- - 4.4 Проверка модели на адекватность\n",
    "- - 4.5  ROC - кривая\n",
    "- - 4.6  Оценка прибыльности модели\n",
    "- - 4.7  Расчет итоговой прибыли\n",
    "- Шаг 5. Опишите портрет «ненадёжного» клиента\n",
    "- - 5.1  Вес признаков при обучении модели\n",
    "- - 5.2  Исследовательский анализ для булевых признаков\n",
    "- - 5.3  Исследовательский анализ для числовых признаков\n",
    "- Шаг 6. Напишите общий вывод"
   ]
  },
  {
   "cell_type": "markdown",
   "metadata": {},
   "source": [
    "### Шаг 1. Откройте файлы с данными"
   ]
  },
  {
   "cell_type": "markdown",
   "metadata": {},
   "source": [
    "#### Импорты"
   ]
  },
  {
   "cell_type": "code",
   "execution_count": 1,
   "metadata": {},
   "outputs": [],
   "source": [
    "import pandas as pd\n",
    "import matplotlib.pyplot as plt\n",
    "import math\n",
    "#####Модели\n",
    "from sklearn.model_selection import cross_val_score\n",
    "from sklearn.preprocessing import LabelEncoder\n",
    "from sklearn.tree import DecisionTreeClassifier\n",
    "from sklearn.ensemble import RandomForestClassifier\n",
    "from sklearn.linear_model import LogisticRegression \n",
    "#####Метрики\n",
    "from sklearn.metrics import f1_score\n",
    "from sklearn.metrics import accuracy_score\n",
    "from sklearn.metrics import classification_report\n",
    "from sklearn.metrics import roc_curve\n",
    "from sklearn.metrics import roc_auc_score\n",
    "from sklearn.metrics import recall_score"
   ]
  },
  {
   "cell_type": "markdown",
   "metadata": {},
   "source": [
    "#### Открываем файлы с данными"
   ]
  },
  {
   "cell_type": "code",
   "execution_count": 2,
   "metadata": {
    "scrolled": false
   },
   "outputs": [
    {
     "data": {
      "text/html": [
       "<div>\n",
       "<style scoped>\n",
       "    .dataframe tbody tr th:only-of-type {\n",
       "        vertical-align: middle;\n",
       "    }\n",
       "\n",
       "    .dataframe tbody tr th {\n",
       "        vertical-align: top;\n",
       "    }\n",
       "\n",
       "    .dataframe thead th {\n",
       "        text-align: right;\n",
       "    }\n",
       "</style>\n",
       "<table border=\"1\" class=\"dataframe\">\n",
       "  <thead>\n",
       "    <tr style=\"text-align: right;\">\n",
       "      <th></th>\n",
       "      <th>id</th>\n",
       "      <th>is_canceled</th>\n",
       "      <th>lead_time</th>\n",
       "      <th>arrival_date_year</th>\n",
       "      <th>arrival_date_month</th>\n",
       "      <th>arrival_date_week_number</th>\n",
       "      <th>arrival_date_day_of_month</th>\n",
       "      <th>stays_in_weekend_nights</th>\n",
       "      <th>stays_in_week_nights</th>\n",
       "      <th>adults</th>\n",
       "      <th>...</th>\n",
       "      <th>is_repeated_guest</th>\n",
       "      <th>previous_cancellations</th>\n",
       "      <th>previous_bookings_not_canceled</th>\n",
       "      <th>reserved_room_type</th>\n",
       "      <th>booking_changes</th>\n",
       "      <th>days_in_waiting_list</th>\n",
       "      <th>customer_type</th>\n",
       "      <th>required_car_parking_spaces</th>\n",
       "      <th>total_of_special_requests</th>\n",
       "      <th>total_nights</th>\n",
       "    </tr>\n",
       "  </thead>\n",
       "  <tbody>\n",
       "    <tr>\n",
       "      <th>0</th>\n",
       "      <td>0</td>\n",
       "      <td>0</td>\n",
       "      <td>7.0</td>\n",
       "      <td>2015</td>\n",
       "      <td>July</td>\n",
       "      <td>27</td>\n",
       "      <td>1</td>\n",
       "      <td>0</td>\n",
       "      <td>1</td>\n",
       "      <td>1.0</td>\n",
       "      <td>...</td>\n",
       "      <td>0</td>\n",
       "      <td>0</td>\n",
       "      <td>0</td>\n",
       "      <td>A</td>\n",
       "      <td>0</td>\n",
       "      <td>0</td>\n",
       "      <td>Transient</td>\n",
       "      <td>0</td>\n",
       "      <td>0</td>\n",
       "      <td>1</td>\n",
       "    </tr>\n",
       "    <tr>\n",
       "      <th>1</th>\n",
       "      <td>1</td>\n",
       "      <td>0</td>\n",
       "      <td>14.0</td>\n",
       "      <td>2015</td>\n",
       "      <td>July</td>\n",
       "      <td>27</td>\n",
       "      <td>1</td>\n",
       "      <td>0</td>\n",
       "      <td>2</td>\n",
       "      <td>2.0</td>\n",
       "      <td>...</td>\n",
       "      <td>0</td>\n",
       "      <td>0</td>\n",
       "      <td>0</td>\n",
       "      <td>A</td>\n",
       "      <td>0</td>\n",
       "      <td>0</td>\n",
       "      <td>Transient</td>\n",
       "      <td>0</td>\n",
       "      <td>1</td>\n",
       "      <td>2</td>\n",
       "    </tr>\n",
       "    <tr>\n",
       "      <th>2</th>\n",
       "      <td>2</td>\n",
       "      <td>0</td>\n",
       "      <td>0.0</td>\n",
       "      <td>2015</td>\n",
       "      <td>July</td>\n",
       "      <td>27</td>\n",
       "      <td>1</td>\n",
       "      <td>0</td>\n",
       "      <td>2</td>\n",
       "      <td>2.0</td>\n",
       "      <td>...</td>\n",
       "      <td>0</td>\n",
       "      <td>0</td>\n",
       "      <td>0</td>\n",
       "      <td>C</td>\n",
       "      <td>0</td>\n",
       "      <td>0</td>\n",
       "      <td>Transient</td>\n",
       "      <td>0</td>\n",
       "      <td>0</td>\n",
       "      <td>2</td>\n",
       "    </tr>\n",
       "    <tr>\n",
       "      <th>3</th>\n",
       "      <td>3</td>\n",
       "      <td>0</td>\n",
       "      <td>9.0</td>\n",
       "      <td>2015</td>\n",
       "      <td>July</td>\n",
       "      <td>27</td>\n",
       "      <td>1</td>\n",
       "      <td>0</td>\n",
       "      <td>2</td>\n",
       "      <td>2.0</td>\n",
       "      <td>...</td>\n",
       "      <td>0</td>\n",
       "      <td>0</td>\n",
       "      <td>0</td>\n",
       "      <td>C</td>\n",
       "      <td>0</td>\n",
       "      <td>0</td>\n",
       "      <td>Transient</td>\n",
       "      <td>0</td>\n",
       "      <td>1</td>\n",
       "      <td>2</td>\n",
       "    </tr>\n",
       "    <tr>\n",
       "      <th>4</th>\n",
       "      <td>4</td>\n",
       "      <td>1</td>\n",
       "      <td>85.0</td>\n",
       "      <td>2015</td>\n",
       "      <td>July</td>\n",
       "      <td>27</td>\n",
       "      <td>1</td>\n",
       "      <td>0</td>\n",
       "      <td>3</td>\n",
       "      <td>2.0</td>\n",
       "      <td>...</td>\n",
       "      <td>0</td>\n",
       "      <td>0</td>\n",
       "      <td>0</td>\n",
       "      <td>A</td>\n",
       "      <td>0</td>\n",
       "      <td>0</td>\n",
       "      <td>Transient</td>\n",
       "      <td>0</td>\n",
       "      <td>1</td>\n",
       "      <td>3</td>\n",
       "    </tr>\n",
       "  </tbody>\n",
       "</table>\n",
       "<p>5 rows × 25 columns</p>\n",
       "</div>"
      ],
      "text/plain": [
       "   id  is_canceled  lead_time  arrival_date_year arrival_date_month  \\\n",
       "0   0            0        7.0               2015               July   \n",
       "1   1            0       14.0               2015               July   \n",
       "2   2            0        0.0               2015               July   \n",
       "3   3            0        9.0               2015               July   \n",
       "4   4            1       85.0               2015               July   \n",
       "\n",
       "   arrival_date_week_number  arrival_date_day_of_month  \\\n",
       "0                        27                          1   \n",
       "1                        27                          1   \n",
       "2                        27                          1   \n",
       "3                        27                          1   \n",
       "4                        27                          1   \n",
       "\n",
       "   stays_in_weekend_nights  stays_in_week_nights  adults  ...  \\\n",
       "0                        0                     1     1.0  ...   \n",
       "1                        0                     2     2.0  ...   \n",
       "2                        0                     2     2.0  ...   \n",
       "3                        0                     2     2.0  ...   \n",
       "4                        0                     3     2.0  ...   \n",
       "\n",
       "   is_repeated_guest  previous_cancellations previous_bookings_not_canceled  \\\n",
       "0                  0                       0                              0   \n",
       "1                  0                       0                              0   \n",
       "2                  0                       0                              0   \n",
       "3                  0                       0                              0   \n",
       "4                  0                       0                              0   \n",
       "\n",
       "  reserved_room_type booking_changes  days_in_waiting_list  customer_type  \\\n",
       "0   A                              0                     0      Transient   \n",
       "1   A                              0                     0      Transient   \n",
       "2   C                              0                     0      Transient   \n",
       "3   C                              0                     0      Transient   \n",
       "4   A                              0                     0      Transient   \n",
       "\n",
       "   required_car_parking_spaces total_of_special_requests  total_nights  \n",
       "0                            0                         0             1  \n",
       "1                            0                         1             2  \n",
       "2                            0                         0             2  \n",
       "3                            0                         1             2  \n",
       "4                            0                         1             3  \n",
       "\n",
       "[5 rows x 25 columns]"
      ]
     },
     "metadata": {},
     "output_type": "display_data"
    },
    {
     "name": "stdout",
     "output_type": "stream",
     "text": [
      "<class 'pandas.core.frame.DataFrame'>\n",
      "RangeIndex: 65229 entries, 0 to 65228\n",
      "Data columns (total 25 columns):\n",
      " #   Column                          Non-Null Count  Dtype  \n",
      "---  ------                          --------------  -----  \n",
      " 0   id                              65229 non-null  int64  \n",
      " 1   is_canceled                     65229 non-null  int64  \n",
      " 2   lead_time                       65229 non-null  float64\n",
      " 3   arrival_date_year               65229 non-null  int64  \n",
      " 4   arrival_date_month              65229 non-null  object \n",
      " 5   arrival_date_week_number        65229 non-null  int64  \n",
      " 6   arrival_date_day_of_month       65229 non-null  int64  \n",
      " 7   stays_in_weekend_nights         65229 non-null  int64  \n",
      " 8   stays_in_week_nights            65229 non-null  int64  \n",
      " 9   adults                          65229 non-null  float64\n",
      " 10  children                        65229 non-null  float64\n",
      " 11  babies                          65229 non-null  float64\n",
      " 12  meal                            65229 non-null  object \n",
      " 13  country                         65229 non-null  object \n",
      " 14  distribution_channel            65229 non-null  object \n",
      " 15  is_repeated_guest               65229 non-null  int64  \n",
      " 16  previous_cancellations          65229 non-null  int64  \n",
      " 17  previous_bookings_not_canceled  65229 non-null  int64  \n",
      " 18  reserved_room_type              65229 non-null  object \n",
      " 19  booking_changes                 65229 non-null  int64  \n",
      " 20  days_in_waiting_list            65229 non-null  int64  \n",
      " 21  customer_type                   65229 non-null  object \n",
      " 22  required_car_parking_spaces     65229 non-null  int64  \n",
      " 23  total_of_special_requests       65229 non-null  int64  \n",
      " 24  total_nights                    65229 non-null  int64  \n",
      "dtypes: float64(4), int64(15), object(6)\n",
      "memory usage: 12.4+ MB\n"
     ]
    },
    {
     "data": {
      "text/plain": [
       "None"
      ]
     },
     "metadata": {},
     "output_type": "display_data"
    },
    {
     "data": {
      "text/html": [
       "<div>\n",
       "<style scoped>\n",
       "    .dataframe tbody tr th:only-of-type {\n",
       "        vertical-align: middle;\n",
       "    }\n",
       "\n",
       "    .dataframe tbody tr th {\n",
       "        vertical-align: top;\n",
       "    }\n",
       "\n",
       "    .dataframe thead th {\n",
       "        text-align: right;\n",
       "    }\n",
       "</style>\n",
       "<table border=\"1\" class=\"dataframe\">\n",
       "  <thead>\n",
       "    <tr style=\"text-align: right;\">\n",
       "      <th></th>\n",
       "      <th>id</th>\n",
       "      <th>is_canceled</th>\n",
       "      <th>lead_time</th>\n",
       "      <th>arrival_date_year</th>\n",
       "      <th>arrival_date_month</th>\n",
       "      <th>arrival_date_week_number</th>\n",
       "      <th>arrival_date_day_of_month</th>\n",
       "      <th>stays_in_weekend_nights</th>\n",
       "      <th>stays_in_week_nights</th>\n",
       "      <th>adults</th>\n",
       "      <th>...</th>\n",
       "      <th>is_repeated_guest</th>\n",
       "      <th>previous_cancellations</th>\n",
       "      <th>previous_bookings_not_canceled</th>\n",
       "      <th>reserved_room_type</th>\n",
       "      <th>booking_changes</th>\n",
       "      <th>days_in_waiting_list</th>\n",
       "      <th>customer_type</th>\n",
       "      <th>required_car_parking_spaces</th>\n",
       "      <th>total_of_special_requests</th>\n",
       "      <th>total_nights</th>\n",
       "    </tr>\n",
       "  </thead>\n",
       "  <tbody>\n",
       "    <tr>\n",
       "      <th>0</th>\n",
       "      <td>6086</td>\n",
       "      <td>1</td>\n",
       "      <td>74.0</td>\n",
       "      <td>2017</td>\n",
       "      <td>January</td>\n",
       "      <td>1</td>\n",
       "      <td>1</td>\n",
       "      <td>1</td>\n",
       "      <td>0</td>\n",
       "      <td>2.0</td>\n",
       "      <td>...</td>\n",
       "      <td>0</td>\n",
       "      <td>0</td>\n",
       "      <td>0</td>\n",
       "      <td>A</td>\n",
       "      <td>0</td>\n",
       "      <td>0</td>\n",
       "      <td>Transient</td>\n",
       "      <td>0</td>\n",
       "      <td>0</td>\n",
       "      <td>1</td>\n",
       "    </tr>\n",
       "    <tr>\n",
       "      <th>1</th>\n",
       "      <td>6087</td>\n",
       "      <td>1</td>\n",
       "      <td>62.0</td>\n",
       "      <td>2017</td>\n",
       "      <td>January</td>\n",
       "      <td>1</td>\n",
       "      <td>1</td>\n",
       "      <td>2</td>\n",
       "      <td>2</td>\n",
       "      <td>2.0</td>\n",
       "      <td>...</td>\n",
       "      <td>0</td>\n",
       "      <td>0</td>\n",
       "      <td>0</td>\n",
       "      <td>A</td>\n",
       "      <td>0</td>\n",
       "      <td>0</td>\n",
       "      <td>Transient</td>\n",
       "      <td>0</td>\n",
       "      <td>1</td>\n",
       "      <td>4</td>\n",
       "    </tr>\n",
       "    <tr>\n",
       "      <th>2</th>\n",
       "      <td>6088</td>\n",
       "      <td>1</td>\n",
       "      <td>62.0</td>\n",
       "      <td>2017</td>\n",
       "      <td>January</td>\n",
       "      <td>1</td>\n",
       "      <td>1</td>\n",
       "      <td>2</td>\n",
       "      <td>2</td>\n",
       "      <td>2.0</td>\n",
       "      <td>...</td>\n",
       "      <td>0</td>\n",
       "      <td>0</td>\n",
       "      <td>0</td>\n",
       "      <td>A</td>\n",
       "      <td>0</td>\n",
       "      <td>0</td>\n",
       "      <td>Transient</td>\n",
       "      <td>0</td>\n",
       "      <td>1</td>\n",
       "      <td>4</td>\n",
       "    </tr>\n",
       "    <tr>\n",
       "      <th>3</th>\n",
       "      <td>6089</td>\n",
       "      <td>1</td>\n",
       "      <td>71.0</td>\n",
       "      <td>2017</td>\n",
       "      <td>January</td>\n",
       "      <td>1</td>\n",
       "      <td>1</td>\n",
       "      <td>2</td>\n",
       "      <td>2</td>\n",
       "      <td>1.0</td>\n",
       "      <td>...</td>\n",
       "      <td>0</td>\n",
       "      <td>0</td>\n",
       "      <td>0</td>\n",
       "      <td>A</td>\n",
       "      <td>0</td>\n",
       "      <td>0</td>\n",
       "      <td>Transient</td>\n",
       "      <td>0</td>\n",
       "      <td>1</td>\n",
       "      <td>4</td>\n",
       "    </tr>\n",
       "    <tr>\n",
       "      <th>4</th>\n",
       "      <td>6090</td>\n",
       "      <td>1</td>\n",
       "      <td>172.0</td>\n",
       "      <td>2017</td>\n",
       "      <td>January</td>\n",
       "      <td>1</td>\n",
       "      <td>1</td>\n",
       "      <td>2</td>\n",
       "      <td>5</td>\n",
       "      <td>2.0</td>\n",
       "      <td>...</td>\n",
       "      <td>0</td>\n",
       "      <td>0</td>\n",
       "      <td>0</td>\n",
       "      <td>A</td>\n",
       "      <td>0</td>\n",
       "      <td>0</td>\n",
       "      <td>Transient</td>\n",
       "      <td>0</td>\n",
       "      <td>0</td>\n",
       "      <td>7</td>\n",
       "    </tr>\n",
       "  </tbody>\n",
       "</table>\n",
       "<p>5 rows × 25 columns</p>\n",
       "</div>"
      ],
      "text/plain": [
       "     id  is_canceled  lead_time  arrival_date_year arrival_date_month  \\\n",
       "0  6086            1       74.0               2017            January   \n",
       "1  6087            1       62.0               2017            January   \n",
       "2  6088            1       62.0               2017            January   \n",
       "3  6089            1       71.0               2017            January   \n",
       "4  6090            1      172.0               2017            January   \n",
       "\n",
       "   arrival_date_week_number  arrival_date_day_of_month  \\\n",
       "0                         1                          1   \n",
       "1                         1                          1   \n",
       "2                         1                          1   \n",
       "3                         1                          1   \n",
       "4                         1                          1   \n",
       "\n",
       "   stays_in_weekend_nights  stays_in_week_nights  adults  ...  \\\n",
       "0                        1                     0     2.0  ...   \n",
       "1                        2                     2     2.0  ...   \n",
       "2                        2                     2     2.0  ...   \n",
       "3                        2                     2     1.0  ...   \n",
       "4                        2                     5     2.0  ...   \n",
       "\n",
       "   is_repeated_guest  previous_cancellations previous_bookings_not_canceled  \\\n",
       "0                  0                       0                              0   \n",
       "1                  0                       0                              0   \n",
       "2                  0                       0                              0   \n",
       "3                  0                       0                              0   \n",
       "4                  0                       0                              0   \n",
       "\n",
       "  reserved_room_type booking_changes  days_in_waiting_list  customer_type  \\\n",
       "0   A                              0                     0      Transient   \n",
       "1   A                              0                     0      Transient   \n",
       "2   A                              0                     0      Transient   \n",
       "3   A                              0                     0      Transient   \n",
       "4   A                              0                     0      Transient   \n",
       "\n",
       "   required_car_parking_spaces total_of_special_requests  total_nights  \n",
       "0                            0                         0             1  \n",
       "1                            0                         1             4  \n",
       "2                            0                         1             4  \n",
       "3                            0                         1             4  \n",
       "4                            0                         0             7  \n",
       "\n",
       "[5 rows x 25 columns]"
      ]
     },
     "metadata": {},
     "output_type": "display_data"
    },
    {
     "name": "stdout",
     "output_type": "stream",
     "text": [
      "<class 'pandas.core.frame.DataFrame'>\n",
      "RangeIndex: 32412 entries, 0 to 32411\n",
      "Data columns (total 25 columns):\n",
      " #   Column                          Non-Null Count  Dtype  \n",
      "---  ------                          --------------  -----  \n",
      " 0   id                              32412 non-null  int64  \n",
      " 1   is_canceled                     32412 non-null  int64  \n",
      " 2   lead_time                       32412 non-null  float64\n",
      " 3   arrival_date_year               32412 non-null  int64  \n",
      " 4   arrival_date_month              32412 non-null  object \n",
      " 5   arrival_date_week_number        32412 non-null  int64  \n",
      " 6   arrival_date_day_of_month       32412 non-null  int64  \n",
      " 7   stays_in_weekend_nights         32412 non-null  int64  \n",
      " 8   stays_in_week_nights            32412 non-null  int64  \n",
      " 9   adults                          32412 non-null  float64\n",
      " 10  children                        32412 non-null  float64\n",
      " 11  babies                          32412 non-null  float64\n",
      " 12  meal                            32412 non-null  object \n",
      " 13  country                         32412 non-null  object \n",
      " 14  distribution_channel            32412 non-null  object \n",
      " 15  is_repeated_guest               32412 non-null  int64  \n",
      " 16  previous_cancellations          32412 non-null  int64  \n",
      " 17  previous_bookings_not_canceled  32412 non-null  int64  \n",
      " 18  reserved_room_type              32412 non-null  object \n",
      " 19  booking_changes                 32412 non-null  int64  \n",
      " 20  days_in_waiting_list            32412 non-null  int64  \n",
      " 21  customer_type                   32412 non-null  object \n",
      " 22  required_car_parking_spaces     32412 non-null  int64  \n",
      " 23  total_of_special_requests       32412 non-null  int64  \n",
      " 24  total_nights                    32412 non-null  int64  \n",
      "dtypes: float64(4), int64(15), object(6)\n",
      "memory usage: 6.2+ MB\n"
     ]
    },
    {
     "data": {
      "text/plain": [
       "None"
      ]
     },
     "metadata": {},
     "output_type": "display_data"
    }
   ],
   "source": [
    "df_train = pd.read_csv('/datasets/hotel_train.csv')\n",
    "df_test = pd.read_csv('/datasets/hotel_test.csv')\n",
    "\n",
    "dfs = [df_train, df_test]\n",
    "\n",
    "for df in dfs:\n",
    "    display(df.head(5))\n",
    "    display(df.info())"
   ]
  },
  {
   "cell_type": "markdown",
   "metadata": {},
   "source": [
    "##### Вывод \n",
    "Мы видим 2 датасета, один обучающий (для обучения моделей и поиска наиболее подходящей модели под данную задачу), второй тестовый (для предсказаний наилучшей модели). Их мы записали в 2 переменные - df_train и df_test соответственно. В обучающем датасете у нас есть данные по броням за 2015, 2016 год, а в тестовом - за 2017. Так как нам придется в дальнейшем проводить много одинаковых операций по отношению к 2-м датасетам сразу, мы их сразу запиcали в переменную dfs."
   ]
  },
  {
   "cell_type": "markdown",
   "metadata": {},
   "source": [
    "### Шаг 2. Предобработка и исследовательский анализ данных"
   ]
  },
  {
   "cell_type": "markdown",
   "metadata": {},
   "source": [
    "#### Поиск дубликатов"
   ]
  },
  {
   "cell_type": "code",
   "execution_count": 3,
   "metadata": {
    "scrolled": true
   },
   "outputs": [
    {
     "name": "stdout",
     "output_type": "stream",
     "text": [
      "0\n",
      "0\n",
      "0\n",
      "0\n",
      "['A               ' 'C               ' 'D               '\n",
      " 'E               ' 'G               ' 'F               '\n",
      " 'B               ']\n",
      "['A' 'C' 'D' 'E' 'G' 'F' 'B']\n"
     ]
    }
   ],
   "source": [
    "#Поиск явных дубликатов и дубликатов по столбцу 'id'\n",
    "for df in dfs:\n",
    "    print(len(df)-len(df.drop_duplicates()))\n",
    "    print(len(df['id'])-len(df['id'].drop_duplicates()))\n",
    "print(df_train['reserved_room_type'].unique())\n",
    "\n",
    "for df in dfs:\n",
    "    df['reserved_room_type'] = df['reserved_room_type'].str.strip()\n",
    "\n",
    "print(df_train['reserved_room_type'].unique())"
   ]
  },
  {
   "cell_type": "markdown",
   "metadata": {},
   "source": [
    "##### Вывод\n",
    "Явных дубликатов не выявлено. Дубликатов столбце 'id'(уникальный номер записи) и 'country'(гражданство посетителя) так же нет. Нашли непонятные пробелы в категориях номеров. Удалим их"
   ]
  },
  {
   "cell_type": "code",
   "execution_count": 4,
   "metadata": {},
   "outputs": [
    {
     "name": "stdout",
     "output_type": "stream",
     "text": [
      "['BB       ' 'FB       ' 'HB       ' 'SC       ' 'SC']\n",
      "['Direct' 'TA/TO' 'Corporate' 'GDS']\n",
      "['Transient' 'Contract' 'Transient-Party' 'Group']\n",
      "['BB' 'FB' 'HB' 'SC']\n",
      "0\n",
      "0\n"
     ]
    }
   ],
   "source": [
    "print(df_train['meal'].unique())\n",
    "print(df_train['distribution_channel'].unique())\n",
    "print(df_train['customer_type'].unique())\n",
    "for df in dfs:\n",
    "    df['meal'] = df['meal'].str.strip()\n",
    "print(df_train['meal'].unique())\n",
    "\n",
    "for df in dfs:\n",
    "    print(len(df)-len(df.drop_duplicates()))"
   ]
  },
  {
   "cell_type": "markdown",
   "metadata": {},
   "source": [
    "#### Посмотрим распределение значений"
   ]
  },
  {
   "cell_type": "code",
   "execution_count": 5,
   "metadata": {
    "scrolled": false
   },
   "outputs": [
    {
     "name": "stdout",
     "output_type": "stream",
     "text": [
      "Столбец: id, минимальное значение: 0, максимальное: 84121\n",
      "Столбец: is_canceled, минимальное значение: 0, максимальное: 1\n",
      "Столбец: lead_time, минимальное значение: 0.0, максимальное: 374.0\n",
      "Столбец: arrival_date_year, минимальное значение: 2015, максимальное: 2016\n",
      "Столбец: arrival_date_month, минимальное значение: April, максимальное: September\n",
      "Столбец: arrival_date_week_number, минимальное значение: 1, максимальное: 53\n",
      "Столбец: arrival_date_day_of_month, минимальное значение: 1, максимальное: 31\n",
      "Столбец: stays_in_weekend_nights, минимальное значение: 0, максимальное: 4\n",
      "Столбец: stays_in_week_nights, минимальное значение: 0, максимальное: 6\n",
      "Столбец: adults, минимальное значение: 0.0, максимальное: 4.0\n",
      "Столбец: children, минимальное значение: 0.0, максимальное: 3.0\n",
      "Столбец: babies, минимальное значение: 0.0, максимальное: 10.0\n",
      "Столбец: meal, минимальное значение: BB, максимальное: SC\n",
      "Столбец: country, минимальное значение: ABW, максимальное: ZWE\n",
      "Столбец: distribution_channel, минимальное значение: Corporate, максимальное: TA/TO\n",
      "Столбец: is_repeated_guest, минимальное значение: 0, максимальное: 1\n",
      "Столбец: previous_cancellations, минимальное значение: 0, максимальное: 26\n",
      "Столбец: previous_bookings_not_canceled, минимальное значение: 0, максимальное: 58\n",
      "Столбец: reserved_room_type, минимальное значение: A, максимальное: G\n",
      "Столбец: booking_changes, минимальное значение: 0, максимальное: 17\n",
      "Столбец: days_in_waiting_list, минимальное значение: 0, максимальное: 259\n",
      "Столбец: customer_type, минимальное значение: Contract, максимальное: Transient-Party\n",
      "Столбец: required_car_parking_spaces, минимальное значение: 0, максимальное: 3\n",
      "Столбец: total_of_special_requests, минимальное значение: 0, максимальное: 5\n",
      "Столбец: total_nights, минимальное значение: 1, максимальное: 10\n"
     ]
    }
   ],
   "source": [
    "for column in df_train:\n",
    "    df_min = df_train[column].min()\n",
    "    df_max = df_train[column].max()\n",
    "    print(f'Столбец: {column}, минимальное значение: {df_min}, максимальное: {df_max}')"
   ]
  },
  {
   "cell_type": "code",
   "execution_count": 6,
   "metadata": {
    "scrolled": false
   },
   "outputs": [
    {
     "data": {
      "image/png": "[encoded data removed]",
      "text/plain": [
       "<Figure size 432x288 with 1 Axes>"
      ]
     },
     "metadata": {
      "needs_background": "light"
     },
     "output_type": "display_data"
    },
    {
     "data": {
      "image/png": "[encoded data removed]",
      "text/plain": [
       "<Figure size 432x288 with 1 Axes>"
      ]
     },
     "metadata": {
      "needs_background": "light"
     },
     "output_type": "display_data"
    },
    {
     "data": {
      "image/png": "[encoded data removed]",
      "text/plain": [
       "<Figure size 432x288 with 1 Axes>"
      ]
     },
     "metadata": {
      "needs_background": "light"
     },
     "output_type": "display_data"
    },
    {
     "data": {
      "image/png": "[encoded data removed]",
      "text/plain": [
       "<Figure size 432x288 with 1 Axes>"
      ]
     },
     "metadata": {
      "needs_background": "light"
     },
     "output_type": "display_data"
    },
    {
     "data": {
      "image/png": "[encoded data removed]",
      "text/plain": [
       "<Figure size 432x288 with 1 Axes>"
      ]
     },
     "metadata": {
      "needs_background": "light"
     },
     "output_type": "display_data"
    },
    {
     "data": {
      "image/png": "[encoded data removed]",
      "text/plain": [
       "<Figure size 432x288 with 1 Axes>"
      ]
     },
     "metadata": {
      "needs_background": "light"
     },
     "output_type": "display_data"
    },
    {
     "data": {
      "image/png": "[encoded data removed]",
      "text/plain": [
       "<Figure size 432x288 with 1 Axes>"
      ]
     },
     "metadata": {
      "needs_background": "light"
     },
     "output_type": "display_data"
    },
    {
     "data": {
      "image/png": "[encoded data removed]",
      "text/plain": [
       "<Figure size 432x288 with 1 Axes>"
      ]
     },
     "metadata": {
      "needs_background": "light"
     },
     "output_type": "display_data"
    },
    {
     "data": {
      "image/png": "[encoded data removed]",
      "text/plain": [
       "<Figure size 432x288 with 1 Axes>"
      ]
     },
     "metadata": {
      "needs_background": "light"
     },
     "output_type": "display_data"
    },
    {
     "data": {
      "image/png": "[encoded data removed]",
      "text/plain": [
       "<Figure size 432x288 with 1 Axes>"
      ]
     },
     "metadata": {
      "needs_background": "light"
     },
     "output_type": "display_data"
    }
   ],
   "source": [
    "for df in dfs:\n",
    "    df.hist(column='lead_time')\n",
    "columns_to_hist = ['stays_in_weekend_nights', 'stays_in_week_nights', 'babies', 'children', 'adults',\n",
    "                  'previous_cancellations', 'previous_bookings_not_canceled', 'booking_changes']\n",
    "for col in columns_to_hist:\n",
    "    df_train.hist(column=col)"
   ]
  },
  {
   "cell_type": "code",
   "execution_count": 7,
   "metadata": {},
   "outputs": [
    {
     "data": {
      "text/html": [
       "<div>\n",
       "<style scoped>\n",
       "    .dataframe tbody tr th:only-of-type {\n",
       "        vertical-align: middle;\n",
       "    }\n",
       "\n",
       "    .dataframe tbody tr th {\n",
       "        vertical-align: top;\n",
       "    }\n",
       "\n",
       "    .dataframe thead th {\n",
       "        text-align: right;\n",
       "    }\n",
       "</style>\n",
       "<table border=\"1\" class=\"dataframe\">\n",
       "  <thead>\n",
       "    <tr style=\"text-align: right;\">\n",
       "      <th></th>\n",
       "      <th>id</th>\n",
       "      <th>is_canceled</th>\n",
       "      <th>lead_time</th>\n",
       "      <th>arrival_date_year</th>\n",
       "      <th>arrival_date_month</th>\n",
       "      <th>arrival_date_week_number</th>\n",
       "      <th>arrival_date_day_of_month</th>\n",
       "      <th>stays_in_weekend_nights</th>\n",
       "      <th>stays_in_week_nights</th>\n",
       "      <th>adults</th>\n",
       "      <th>...</th>\n",
       "      <th>is_repeated_guest</th>\n",
       "      <th>previous_cancellations</th>\n",
       "      <th>previous_bookings_not_canceled</th>\n",
       "      <th>reserved_room_type</th>\n",
       "      <th>booking_changes</th>\n",
       "      <th>days_in_waiting_list</th>\n",
       "      <th>customer_type</th>\n",
       "      <th>required_car_parking_spaces</th>\n",
       "      <th>total_of_special_requests</th>\n",
       "      <th>total_nights</th>\n",
       "    </tr>\n",
       "  </thead>\n",
       "  <tbody>\n",
       "    <tr>\n",
       "      <th>22995</th>\n",
       "      <td>30935</td>\n",
       "      <td>0</td>\n",
       "      <td>37.0</td>\n",
       "      <td>2016</td>\n",
       "      <td>January</td>\n",
       "      <td>3</td>\n",
       "      <td>12</td>\n",
       "      <td>0</td>\n",
       "      <td>2</td>\n",
       "      <td>2.0</td>\n",
       "      <td>...</td>\n",
       "      <td>0</td>\n",
       "      <td>0</td>\n",
       "      <td>0</td>\n",
       "      <td>D</td>\n",
       "      <td>1</td>\n",
       "      <td>0</td>\n",
       "      <td>Transient</td>\n",
       "      <td>0</td>\n",
       "      <td>1</td>\n",
       "      <td>2</td>\n",
       "    </tr>\n",
       "    <tr>\n",
       "      <th>41528</th>\n",
       "      <td>59925</td>\n",
       "      <td>0</td>\n",
       "      <td>11.0</td>\n",
       "      <td>2015</td>\n",
       "      <td>October</td>\n",
       "      <td>42</td>\n",
       "      <td>11</td>\n",
       "      <td>2</td>\n",
       "      <td>1</td>\n",
       "      <td>1.0</td>\n",
       "      <td>...</td>\n",
       "      <td>0</td>\n",
       "      <td>0</td>\n",
       "      <td>0</td>\n",
       "      <td>A</td>\n",
       "      <td>1</td>\n",
       "      <td>0</td>\n",
       "      <td>Transient-Party</td>\n",
       "      <td>0</td>\n",
       "      <td>0</td>\n",
       "      <td>3</td>\n",
       "    </tr>\n",
       "  </tbody>\n",
       "</table>\n",
       "<p>2 rows × 25 columns</p>\n",
       "</div>"
      ],
      "text/plain": [
       "          id  is_canceled  lead_time  arrival_date_year arrival_date_month  \\\n",
       "22995  30935            0       37.0               2016            January   \n",
       "41528  59925            0       11.0               2015            October   \n",
       "\n",
       "       arrival_date_week_number  arrival_date_day_of_month  \\\n",
       "22995                         3                         12   \n",
       "41528                        42                         11   \n",
       "\n",
       "       stays_in_weekend_nights  stays_in_week_nights  adults  ...  \\\n",
       "22995                        0                     2     2.0  ...   \n",
       "41528                        2                     1     1.0  ...   \n",
       "\n",
       "       is_repeated_guest  previous_cancellations  \\\n",
       "22995                  0                       0   \n",
       "41528                  0                       0   \n",
       "\n",
       "      previous_bookings_not_canceled reserved_room_type booking_changes  \\\n",
       "22995                              0                  D               1   \n",
       "41528                              0                  A               1   \n",
       "\n",
       "       days_in_waiting_list    customer_type  required_car_parking_spaces  \\\n",
       "22995                     0        Transient                            0   \n",
       "41528                     0  Transient-Party                            0   \n",
       "\n",
       "      total_of_special_requests  total_nights  \n",
       "22995                         1             2  \n",
       "41528                         0             3  \n",
       "\n",
       "[2 rows x 25 columns]"
      ]
     },
     "metadata": {},
     "output_type": "display_data"
    },
    {
     "data": {
      "text/html": [
       "<div>\n",
       "<style scoped>\n",
       "    .dataframe tbody tr th:only-of-type {\n",
       "        vertical-align: middle;\n",
       "    }\n",
       "\n",
       "    .dataframe tbody tr th {\n",
       "        vertical-align: top;\n",
       "    }\n",
       "\n",
       "    .dataframe thead th {\n",
       "        text-align: right;\n",
       "    }\n",
       "</style>\n",
       "<table border=\"1\" class=\"dataframe\">\n",
       "  <thead>\n",
       "    <tr style=\"text-align: right;\">\n",
       "      <th></th>\n",
       "      <th>id</th>\n",
       "      <th>is_canceled</th>\n",
       "      <th>lead_time</th>\n",
       "      <th>arrival_date_year</th>\n",
       "      <th>arrival_date_month</th>\n",
       "      <th>arrival_date_week_number</th>\n",
       "      <th>arrival_date_day_of_month</th>\n",
       "      <th>stays_in_weekend_nights</th>\n",
       "      <th>stays_in_week_nights</th>\n",
       "      <th>adults</th>\n",
       "      <th>...</th>\n",
       "      <th>is_repeated_guest</th>\n",
       "      <th>previous_cancellations</th>\n",
       "      <th>previous_bookings_not_canceled</th>\n",
       "      <th>reserved_room_type</th>\n",
       "      <th>booking_changes</th>\n",
       "      <th>days_in_waiting_list</th>\n",
       "      <th>customer_type</th>\n",
       "      <th>required_car_parking_spaces</th>\n",
       "      <th>total_of_special_requests</th>\n",
       "      <th>total_nights</th>\n",
       "    </tr>\n",
       "  </thead>\n",
       "  <tbody>\n",
       "    <tr>\n",
       "      <th>71</th>\n",
       "      <td>72</td>\n",
       "      <td>0</td>\n",
       "      <td>92.0</td>\n",
       "      <td>2015</td>\n",
       "      <td>July</td>\n",
       "      <td>27</td>\n",
       "      <td>4</td>\n",
       "      <td>4</td>\n",
       "      <td>6</td>\n",
       "      <td>2.0</td>\n",
       "      <td>...</td>\n",
       "      <td>0</td>\n",
       "      <td>0</td>\n",
       "      <td>0</td>\n",
       "      <td>D</td>\n",
       "      <td>0</td>\n",
       "      <td>0</td>\n",
       "      <td>Contract</td>\n",
       "      <td>0</td>\n",
       "      <td>1</td>\n",
       "      <td>10</td>\n",
       "    </tr>\n",
       "    <tr>\n",
       "      <th>72</th>\n",
       "      <td>73</td>\n",
       "      <td>0</td>\n",
       "      <td>92.0</td>\n",
       "      <td>2015</td>\n",
       "      <td>July</td>\n",
       "      <td>27</td>\n",
       "      <td>4</td>\n",
       "      <td>4</td>\n",
       "      <td>6</td>\n",
       "      <td>2.0</td>\n",
       "      <td>...</td>\n",
       "      <td>0</td>\n",
       "      <td>0</td>\n",
       "      <td>0</td>\n",
       "      <td>D</td>\n",
       "      <td>0</td>\n",
       "      <td>0</td>\n",
       "      <td>Contract</td>\n",
       "      <td>0</td>\n",
       "      <td>1</td>\n",
       "      <td>10</td>\n",
       "    </tr>\n",
       "    <tr>\n",
       "      <th>97</th>\n",
       "      <td>100</td>\n",
       "      <td>0</td>\n",
       "      <td>82.0</td>\n",
       "      <td>2015</td>\n",
       "      <td>July</td>\n",
       "      <td>28</td>\n",
       "      <td>5</td>\n",
       "      <td>4</td>\n",
       "      <td>6</td>\n",
       "      <td>2.0</td>\n",
       "      <td>...</td>\n",
       "      <td>0</td>\n",
       "      <td>0</td>\n",
       "      <td>0</td>\n",
       "      <td>D</td>\n",
       "      <td>0</td>\n",
       "      <td>0</td>\n",
       "      <td>Transient</td>\n",
       "      <td>1</td>\n",
       "      <td>2</td>\n",
       "      <td>10</td>\n",
       "    </tr>\n",
       "    <tr>\n",
       "      <th>98</th>\n",
       "      <td>101</td>\n",
       "      <td>0</td>\n",
       "      <td>94.0</td>\n",
       "      <td>2015</td>\n",
       "      <td>July</td>\n",
       "      <td>28</td>\n",
       "      <td>5</td>\n",
       "      <td>4</td>\n",
       "      <td>6</td>\n",
       "      <td>3.0</td>\n",
       "      <td>...</td>\n",
       "      <td>0</td>\n",
       "      <td>0</td>\n",
       "      <td>0</td>\n",
       "      <td>D</td>\n",
       "      <td>3</td>\n",
       "      <td>0</td>\n",
       "      <td>Transient</td>\n",
       "      <td>1</td>\n",
       "      <td>1</td>\n",
       "      <td>10</td>\n",
       "    </tr>\n",
       "    <tr>\n",
       "      <th>190</th>\n",
       "      <td>194</td>\n",
       "      <td>1</td>\n",
       "      <td>97.0</td>\n",
       "      <td>2015</td>\n",
       "      <td>July</td>\n",
       "      <td>29</td>\n",
       "      <td>12</td>\n",
       "      <td>3</td>\n",
       "      <td>5</td>\n",
       "      <td>2.0</td>\n",
       "      <td>...</td>\n",
       "      <td>0</td>\n",
       "      <td>0</td>\n",
       "      <td>0</td>\n",
       "      <td>E</td>\n",
       "      <td>0</td>\n",
       "      <td>0</td>\n",
       "      <td>Transient</td>\n",
       "      <td>0</td>\n",
       "      <td>1</td>\n",
       "      <td>8</td>\n",
       "    </tr>\n",
       "    <tr>\n",
       "      <th>...</th>\n",
       "      <td>...</td>\n",
       "      <td>...</td>\n",
       "      <td>...</td>\n",
       "      <td>...</td>\n",
       "      <td>...</td>\n",
       "      <td>...</td>\n",
       "      <td>...</td>\n",
       "      <td>...</td>\n",
       "      <td>...</td>\n",
       "      <td>...</td>\n",
       "      <td>...</td>\n",
       "      <td>...</td>\n",
       "      <td>...</td>\n",
       "      <td>...</td>\n",
       "      <td>...</td>\n",
       "      <td>...</td>\n",
       "      <td>...</td>\n",
       "      <td>...</td>\n",
       "      <td>...</td>\n",
       "      <td>...</td>\n",
       "      <td>...</td>\n",
       "    </tr>\n",
       "    <tr>\n",
       "      <th>59001</th>\n",
       "      <td>77668</td>\n",
       "      <td>0</td>\n",
       "      <td>125.0</td>\n",
       "      <td>2016</td>\n",
       "      <td>September</td>\n",
       "      <td>37</td>\n",
       "      <td>4</td>\n",
       "      <td>4</td>\n",
       "      <td>6</td>\n",
       "      <td>2.0</td>\n",
       "      <td>...</td>\n",
       "      <td>0</td>\n",
       "      <td>0</td>\n",
       "      <td>0</td>\n",
       "      <td>A</td>\n",
       "      <td>0</td>\n",
       "      <td>0</td>\n",
       "      <td>Transient</td>\n",
       "      <td>0</td>\n",
       "      <td>5</td>\n",
       "      <td>10</td>\n",
       "    </tr>\n",
       "    <tr>\n",
       "      <th>60788</th>\n",
       "      <td>79468</td>\n",
       "      <td>0</td>\n",
       "      <td>185.0</td>\n",
       "      <td>2016</td>\n",
       "      <td>October</td>\n",
       "      <td>41</td>\n",
       "      <td>2</td>\n",
       "      <td>3</td>\n",
       "      <td>5</td>\n",
       "      <td>3.0</td>\n",
       "      <td>...</td>\n",
       "      <td>0</td>\n",
       "      <td>0</td>\n",
       "      <td>0</td>\n",
       "      <td>A</td>\n",
       "      <td>0</td>\n",
       "      <td>0</td>\n",
       "      <td>Transient</td>\n",
       "      <td>0</td>\n",
       "      <td>0</td>\n",
       "      <td>8</td>\n",
       "    </tr>\n",
       "    <tr>\n",
       "      <th>62169</th>\n",
       "      <td>80868</td>\n",
       "      <td>0</td>\n",
       "      <td>2.0</td>\n",
       "      <td>2016</td>\n",
       "      <td>October</td>\n",
       "      <td>44</td>\n",
       "      <td>24</td>\n",
       "      <td>3</td>\n",
       "      <td>5</td>\n",
       "      <td>2.0</td>\n",
       "      <td>...</td>\n",
       "      <td>0</td>\n",
       "      <td>0</td>\n",
       "      <td>0</td>\n",
       "      <td>A</td>\n",
       "      <td>2</td>\n",
       "      <td>0</td>\n",
       "      <td>Transient</td>\n",
       "      <td>0</td>\n",
       "      <td>0</td>\n",
       "      <td>8</td>\n",
       "    </tr>\n",
       "    <tr>\n",
       "      <th>62901</th>\n",
       "      <td>81603</td>\n",
       "      <td>0</td>\n",
       "      <td>44.0</td>\n",
       "      <td>2016</td>\n",
       "      <td>November</td>\n",
       "      <td>45</td>\n",
       "      <td>5</td>\n",
       "      <td>3</td>\n",
       "      <td>6</td>\n",
       "      <td>2.0</td>\n",
       "      <td>...</td>\n",
       "      <td>0</td>\n",
       "      <td>0</td>\n",
       "      <td>0</td>\n",
       "      <td>D</td>\n",
       "      <td>0</td>\n",
       "      <td>0</td>\n",
       "      <td>Transient</td>\n",
       "      <td>0</td>\n",
       "      <td>0</td>\n",
       "      <td>9</td>\n",
       "    </tr>\n",
       "    <tr>\n",
       "      <th>64863</th>\n",
       "      <td>83591</td>\n",
       "      <td>0</td>\n",
       "      <td>46.0</td>\n",
       "      <td>2016</td>\n",
       "      <td>December</td>\n",
       "      <td>52</td>\n",
       "      <td>18</td>\n",
       "      <td>4</td>\n",
       "      <td>6</td>\n",
       "      <td>2.0</td>\n",
       "      <td>...</td>\n",
       "      <td>0</td>\n",
       "      <td>0</td>\n",
       "      <td>0</td>\n",
       "      <td>A</td>\n",
       "      <td>0</td>\n",
       "      <td>0</td>\n",
       "      <td>Transient</td>\n",
       "      <td>0</td>\n",
       "      <td>1</td>\n",
       "      <td>10</td>\n",
       "    </tr>\n",
       "  </tbody>\n",
       "</table>\n",
       "<p>413 rows × 25 columns</p>\n",
       "</div>"
      ],
      "text/plain": [
       "          id  is_canceled  lead_time  arrival_date_year arrival_date_month  \\\n",
       "71        72            0       92.0               2015               July   \n",
       "72        73            0       92.0               2015               July   \n",
       "97       100            0       82.0               2015               July   \n",
       "98       101            0       94.0               2015               July   \n",
       "190      194            1       97.0               2015               July   \n",
       "...      ...          ...        ...                ...                ...   \n",
       "59001  77668            0      125.0               2016          September   \n",
       "60788  79468            0      185.0               2016            October   \n",
       "62169  80868            0        2.0               2016            October   \n",
       "62901  81603            0       44.0               2016           November   \n",
       "64863  83591            0       46.0               2016           December   \n",
       "\n",
       "       arrival_date_week_number  arrival_date_day_of_month  \\\n",
       "71                           27                          4   \n",
       "72                           27                          4   \n",
       "97                           28                          5   \n",
       "98                           28                          5   \n",
       "190                          29                         12   \n",
       "...                         ...                        ...   \n",
       "59001                        37                          4   \n",
       "60788                        41                          2   \n",
       "62169                        44                         24   \n",
       "62901                        45                          5   \n",
       "64863                        52                         18   \n",
       "\n",
       "       stays_in_weekend_nights  stays_in_week_nights  adults  ...  \\\n",
       "71                           4                     6     2.0  ...   \n",
       "72                           4                     6     2.0  ...   \n",
       "97                           4                     6     2.0  ...   \n",
       "98                           4                     6     3.0  ...   \n",
       "190                          3                     5     2.0  ...   \n",
       "...                        ...                   ...     ...  ...   \n",
       "59001                        4                     6     2.0  ...   \n",
       "60788                        3                     5     3.0  ...   \n",
       "62169                        3                     5     2.0  ...   \n",
       "62901                        3                     6     2.0  ...   \n",
       "64863                        4                     6     2.0  ...   \n",
       "\n",
       "       is_repeated_guest  previous_cancellations  \\\n",
       "71                     0                       0   \n",
       "72                     0                       0   \n",
       "97                     0                       0   \n",
       "98                     0                       0   \n",
       "190                    0                       0   \n",
       "...                  ...                     ...   \n",
       "59001                  0                       0   \n",
       "60788                  0                       0   \n",
       "62169                  0                       0   \n",
       "62901                  0                       0   \n",
       "64863                  0                       0   \n",
       "\n",
       "      previous_bookings_not_canceled reserved_room_type booking_changes  \\\n",
       "71                                 0                  D               0   \n",
       "72                                 0                  D               0   \n",
       "97                                 0                  D               0   \n",
       "98                                 0                  D               3   \n",
       "190                                0                  E               0   \n",
       "...                              ...                ...             ...   \n",
       "59001                              0                  A               0   \n",
       "60788                              0                  A               0   \n",
       "62169                              0                  A               2   \n",
       "62901                              0                  D               0   \n",
       "64863                              0                  A               0   \n",
       "\n",
       "       days_in_waiting_list  customer_type  required_car_parking_spaces  \\\n",
       "71                        0       Contract                            0   \n",
       "72                        0       Contract                            0   \n",
       "97                        0      Transient                            1   \n",
       "98                        0      Transient                            1   \n",
       "190                       0      Transient                            0   \n",
       "...                     ...            ...                          ...   \n",
       "59001                     0      Transient                            0   \n",
       "60788                     0      Transient                            0   \n",
       "62169                     0      Transient                            0   \n",
       "62901                     0      Transient                            0   \n",
       "64863                     0      Transient                            0   \n",
       "\n",
       "      total_of_special_requests  total_nights  \n",
       "71                            1            10  \n",
       "72                            1            10  \n",
       "97                            2            10  \n",
       "98                            1            10  \n",
       "190                           1             8  \n",
       "...                         ...           ...  \n",
       "59001                         5            10  \n",
       "60788                         0             8  \n",
       "62169                         0             8  \n",
       "62901                         0             9  \n",
       "64863                         1            10  \n",
       "\n",
       "[413 rows x 25 columns]"
      ]
     },
     "metadata": {},
     "output_type": "display_data"
    }
   ],
   "source": [
    "### Выведем строки с подозрительными значениями\n",
    "display(df_train[df_train['babies']> 3])\n",
    "display(df_train[df_train['stays_in_weekend_nights']> 2])\n",
    "for df in dfs:\n",
    "    df[df['babies'] <5]"
   ]
  },
  {
   "cell_type": "markdown",
   "metadata": {},
   "source": [
    "##### Вывод\n",
    "Мы видим, что подозрительное кол-во выходных в отеле всегда сопряжено с большим кол-вом дней в будни, значит клиенты бронировали отель >неделю и здесь с данными все корректно. А вот 10 детей по столбцу babies - явный вброс, так как значения > 2 почти не встречаются."
   ]
  },
  {
   "cell_type": "markdown",
   "metadata": {},
   "source": [
    "##### Вывод\n",
    "Мы видим, что по признаку: 'количество дней между датой бронирования и датой прибытия', значения распределяются нормально и выбросов нет. Есть небольшой скачок между 250 и 300, что составляет ~9 месяцев. Могу связать это с тем, что люди клиенты скорее всего планируют отпуск (в котом им необходимы услуги отеля) в конце календарного года (где то в 11 месяце) на следующий календарный год. Большая часть отпусков приходится на период с 6 по 9 месяца включительно. что как раз и составляет от 7 до 10 месяцев(от 210 до 300 дней), от даты бронирования до даты прибытия."
   ]
  },
  {
   "cell_type": "markdown",
   "metadata": {},
   "source": [
    "#### Пропущенные значения"
   ]
  },
  {
   "cell_type": "code",
   "execution_count": 8,
   "metadata": {
    "scrolled": false
   },
   "outputs": [
    {
     "name": "stdout",
     "output_type": "stream",
     "text": [
      "Empty DataFrame\n",
      "Columns: [id, is_canceled, lead_time, arrival_date_year, arrival_date_month, arrival_date_week_number, arrival_date_day_of_month, stays_in_weekend_nights, stays_in_week_nights, adults, children, babies, meal, country, distribution_channel, is_repeated_guest, previous_cancellations, previous_bookings_not_canceled, reserved_room_type, booking_changes, days_in_waiting_list, customer_type, required_car_parking_spaces, total_of_special_requests, total_nights]\n",
      "Index: []\n",
      "\n",
      "[0 rows x 25 columns]\n",
      "Empty DataFrame\n",
      "Columns: [id, is_canceled, lead_time, arrival_date_year, arrival_date_month, arrival_date_week_number, arrival_date_day_of_month, stays_in_weekend_nights, stays_in_week_nights, adults, children, babies, meal, country, distribution_channel, is_repeated_guest, previous_cancellations, previous_bookings_not_canceled, reserved_room_type, booking_changes, days_in_waiting_list, customer_type, required_car_parking_spaces, total_of_special_requests, total_nights]\n",
      "Index: []\n",
      "\n",
      "[0 rows x 25 columns]\n"
     ]
    }
   ],
   "source": [
    "for df in dfs:\n",
    "    print(df[df.isna().any(axis=1)])"
   ]
  },
  {
   "cell_type": "code",
   "execution_count": 9,
   "metadata": {
    "scrolled": false
   },
   "outputs": [
    {
     "data": {
      "text/html": [
       "<div>\n",
       "<style scoped>\n",
       "    .dataframe tbody tr th:only-of-type {\n",
       "        vertical-align: middle;\n",
       "    }\n",
       "\n",
       "    .dataframe tbody tr th {\n",
       "        vertical-align: top;\n",
       "    }\n",
       "\n",
       "    .dataframe thead th {\n",
       "        text-align: right;\n",
       "    }\n",
       "</style>\n",
       "<table border=\"1\" class=\"dataframe\">\n",
       "  <thead>\n",
       "    <tr style=\"text-align: right;\">\n",
       "      <th></th>\n",
       "      <th>id</th>\n",
       "      <th>is_canceled</th>\n",
       "      <th>lead_time</th>\n",
       "      <th>arrival_date_year</th>\n",
       "      <th>arrival_date_month</th>\n",
       "      <th>arrival_date_week_number</th>\n",
       "      <th>arrival_date_day_of_month</th>\n",
       "      <th>stays_in_weekend_nights</th>\n",
       "      <th>stays_in_week_nights</th>\n",
       "      <th>adults</th>\n",
       "      <th>...</th>\n",
       "      <th>is_repeated_guest</th>\n",
       "      <th>previous_cancellations</th>\n",
       "      <th>previous_bookings_not_canceled</th>\n",
       "      <th>reserved_room_type</th>\n",
       "      <th>booking_changes</th>\n",
       "      <th>days_in_waiting_list</th>\n",
       "      <th>customer_type</th>\n",
       "      <th>required_car_parking_spaces</th>\n",
       "      <th>total_of_special_requests</th>\n",
       "      <th>total_nights</th>\n",
       "    </tr>\n",
       "  </thead>\n",
       "  <tbody>\n",
       "  </tbody>\n",
       "</table>\n",
       "<p>0 rows × 25 columns</p>\n",
       "</div>"
      ],
      "text/plain": [
       "Empty DataFrame\n",
       "Columns: [id, is_canceled, lead_time, arrival_date_year, arrival_date_month, arrival_date_week_number, arrival_date_day_of_month, stays_in_weekend_nights, stays_in_week_nights, adults, children, babies, meal, country, distribution_channel, is_repeated_guest, previous_cancellations, previous_bookings_not_canceled, reserved_room_type, booking_changes, days_in_waiting_list, customer_type, required_car_parking_spaces, total_of_special_requests, total_nights]\n",
       "Index: []\n",
       "\n",
       "[0 rows x 25 columns]"
      ]
     },
     "metadata": {},
     "output_type": "display_data"
    }
   ],
   "source": [
    "display(df.query('total_nights == 0'))"
   ]
  },
  {
   "cell_type": "markdown",
   "metadata": {},
   "source": [
    "##### Вывод\n",
    "Пропущенных значений хотя бы в одной из ячеек 2-х датасетов тоже не наблюдается. Так же в признаке: 'общее количество ночей' нет значений, которые бы были равны 0, значит это количество  забронированных ночей, а не фактических. Тут пропущенных значений тоже нет"
   ]
  },
  {
   "cell_type": "markdown",
   "metadata": {},
   "source": [
    "#### Работа с датой"
   ]
  },
  {
   "cell_type": "code",
   "execution_count": 10,
   "metadata": {},
   "outputs": [],
   "source": [
    "mouths = {'January':1,\n",
    "         'February':2,\n",
    "         'March':3,\n",
    "         'April':4,\n",
    "         'May':5,\n",
    "         'June':6,\n",
    "         'July':7,\n",
    "         'August':8,\n",
    "         'September':9,\n",
    "         'October':10,\n",
    "         'November':11,\n",
    "         'December':12,\n",
    "         }\n",
    "\n",
    "for df in dfs:\n",
    "    df['arrival_date_month'] = df['arrival_date_month'].apply(lambda x: mouths[x])"
   ]
  },
  {
   "cell_type": "markdown",
   "metadata": {},
   "source": [
    "##### Вывод\n",
    "Сделаем словарь с числовыми значениями месяцев для вычисления сезонных коэффициентов а так же обучения модели. Вставим значения из словаря в признак: 'месяц заезда'."
   ]
  },
  {
   "cell_type": "code",
   "execution_count": 11,
   "metadata": {},
   "outputs": [
    {
     "name": "stdout",
     "output_type": "stream",
     "text": [
      "Empty DataFrame\n",
      "Columns: [id, is_canceled, lead_time, arrival_date_year, arrival_date_month, arrival_date_week_number, arrival_date_day_of_month, stays_in_weekend_nights, stays_in_week_nights, adults, children, babies, meal, country, distribution_channel, is_repeated_guest, previous_cancellations, previous_bookings_not_canceled, reserved_room_type, booking_changes, days_in_waiting_list, customer_type, required_car_parking_spaces, total_of_special_requests, total_nights]\n",
      "Index: []\n",
      "\n",
      "[0 rows x 25 columns]\n",
      "Empty DataFrame\n",
      "Columns: [id, is_canceled, lead_time, arrival_date_year, arrival_date_month, arrival_date_week_number, arrival_date_day_of_month, stays_in_weekend_nights, stays_in_week_nights, adults, children, babies, meal, country, distribution_channel, is_repeated_guest, previous_cancellations, previous_bookings_not_canceled, reserved_room_type, booking_changes, days_in_waiting_list, customer_type, required_car_parking_spaces, total_of_special_requests, total_nights]\n",
      "Index: []\n",
      "\n",
      "[0 rows x 25 columns]\n"
     ]
    }
   ],
   "source": [
    "for df in dfs:\n",
    "    print(df.query('total_nights != (stays_in_week_nights+stays_in_weekend_nights)'))\n",
    "for df in dfs:\n",
    "    df = df.query('adults != 0 and children > 0')\n",
    "    df = df.query('adults != 0 and babies > 0')\n",
    "for df in dfs:\n",
    "    df = df.drop(columns = ['arrival_date_week_number','arrival_date_year'])\n",
    "\n",
    "\n",
    "\n"
   ]
  },
  {
   "cell_type": "markdown",
   "metadata": {},
   "source": [
    "### Шаг 3. Формулировка ML-задачи на основе бизнес-задачи"
   ]
  },
  {
   "cell_type": "markdown",
   "metadata": {},
   "source": [
    "Необходимо написать функцию, которая будет счиать прибыль по каждой из уникальных броней. Для удобства напишем еще и функцию, которая считает только убыток по отмененным бронированиям"
   ]
  },
  {
   "cell_type": "markdown",
   "metadata": {},
   "source": [
    "#### Функция расчета прибыли"
   ]
  },
  {
   "cell_type": "code",
   "execution_count": 12,
   "metadata": {},
   "outputs": [],
   "source": [
    "autumn = [9,10,11]\n",
    "summer = [6,7,8]\n",
    "common_ratio = 1\n",
    "autumn_ratio = 1.2\n",
    "summer_ratio = 1.4\n",
    "\n",
    "price_list = {'A': [1000, 400],\n",
    "             'B': [800, 350],\n",
    "             'C': [600, 350],\n",
    "             'D': [550, 150],\n",
    "             'E': [500, 150],\n",
    "             'F': [450, 150],\n",
    "             'G': [350, 150]\n",
    "             }\n",
    "\n",
    "def profit(row):\n",
    "    mounth = row['arrival_date_month']\n",
    "    category = row['reserved_room_type']\n",
    "    days = row['total_nights']\n",
    "    canceled = row['is_canceled']\n",
    "    if mounth in autumn:\n",
    "        ratio = autumn_ratio\n",
    "    elif mounth in summer:\n",
    "        ratio = summer_ratio\n",
    "    else: ratio = common_ratio\n",
    "    one_day_price = price_list[category][0]*ratio\n",
    "    clean = price_list[category][1]\n",
    "    if canceled != 0:\n",
    "        profit = 0 - (one_day_price+clean)\n",
    "    else:\n",
    "        profit = (one_day_price*days) - (clean*(1 +days//2))\n",
    "    return profit\n",
    "\n",
    "\n",
    "def canceled_loss(row):\n",
    "    profit = row['profit']\n",
    "    if profit > 0:\n",
    "        loss = 0\n",
    "    elif profit <= 0:\n",
    "        loss = profit\n",
    "    return loss\n",
    "        \n",
    "\n",
    "\n",
    "for df in dfs:\n",
    "    df['profit'] = df.apply(profit, axis = 1)\n",
    "    df['canceled_loss'] = df.apply(canceled_loss, axis = 1)"
   ]
  },
  {
   "cell_type": "markdown",
   "metadata": {},
   "source": [
    "##### Вывод\n",
    "Мы написали 2 функции для подсчета прибыли и убытков с учетом сезонных коэффициентов. Далее применили данные фунции ко всем датасетам, что бы в дальнейшем посмотреть прибыль и сколько денег теряет ежемесячно и ежегодно сеть на отмене забронированных номеров."
   ]
  },
  {
   "cell_type": "markdown",
   "metadata": {},
   "source": [
    "#### Прибыль и убытки без внедрения депозитов"
   ]
  },
  {
   "cell_type": "code",
   "execution_count": 13,
   "metadata": {},
   "outputs": [
    {
     "data": {
      "text/html": [
       "<div>\n",
       "<style scoped>\n",
       "    .dataframe tbody tr th:only-of-type {\n",
       "        vertical-align: middle;\n",
       "    }\n",
       "\n",
       "    .dataframe tbody tr th {\n",
       "        vertical-align: top;\n",
       "    }\n",
       "\n",
       "    .dataframe thead th {\n",
       "        text-align: right;\n",
       "    }\n",
       "</style>\n",
       "<table border=\"1\" class=\"dataframe\">\n",
       "  <thead>\n",
       "    <tr style=\"text-align: right;\">\n",
       "      <th></th>\n",
       "      <th></th>\n",
       "      <th>canceled_loss</th>\n",
       "      <th>profit</th>\n",
       "    </tr>\n",
       "    <tr>\n",
       "      <th>arrival_date_year</th>\n",
       "      <th>arrival_date_month</th>\n",
       "      <th></th>\n",
       "      <th></th>\n",
       "    </tr>\n",
       "  </thead>\n",
       "  <tbody>\n",
       "    <tr>\n",
       "      <th rowspan=\"6\" valign=\"top\">2015</th>\n",
       "      <th>7</th>\n",
       "      <td>-1947940</td>\n",
       "      <td>1612900</td>\n",
       "    </tr>\n",
       "    <tr>\n",
       "      <th>8</th>\n",
       "      <td>-2452320</td>\n",
       "      <td>3146330</td>\n",
       "    </tr>\n",
       "    <tr>\n",
       "      <th>9</th>\n",
       "      <td>-2969890</td>\n",
       "      <td>3627200</td>\n",
       "    </tr>\n",
       "    <tr>\n",
       "      <th>10</th>\n",
       "      <td>-2367310</td>\n",
       "      <td>4374540</td>\n",
       "    </tr>\n",
       "    <tr>\n",
       "      <th>11</th>\n",
       "      <td>-632310</td>\n",
       "      <td>2958390</td>\n",
       "    </tr>\n",
       "    <tr>\n",
       "      <th>12</th>\n",
       "      <td>-1071400</td>\n",
       "      <td>1729200</td>\n",
       "    </tr>\n",
       "    <tr>\n",
       "      <th rowspan=\"12\" valign=\"top\">2016</th>\n",
       "      <th>1</th>\n",
       "      <td>-640300</td>\n",
       "      <td>1412100</td>\n",
       "    </tr>\n",
       "    <tr>\n",
       "      <th>2</th>\n",
       "      <td>-1568300</td>\n",
       "      <td>2002800</td>\n",
       "    </tr>\n",
       "    <tr>\n",
       "      <th>3</th>\n",
       "      <td>-1602150</td>\n",
       "      <td>3781550</td>\n",
       "    </tr>\n",
       "    <tr>\n",
       "      <th>4</th>\n",
       "      <td>-2320850</td>\n",
       "      <td>3020250</td>\n",
       "    </tr>\n",
       "    <tr>\n",
       "      <th>5</th>\n",
       "      <td>-2082900</td>\n",
       "      <td>3522600</td>\n",
       "    </tr>\n",
       "    <tr>\n",
       "      <th>6</th>\n",
       "      <td>-3202990</td>\n",
       "      <td>4752540</td>\n",
       "    </tr>\n",
       "    <tr>\n",
       "      <th>7</th>\n",
       "      <td>-1681390</td>\n",
       "      <td>5970280</td>\n",
       "    </tr>\n",
       "    <tr>\n",
       "      <th>8</th>\n",
       "      <td>-1825150</td>\n",
       "      <td>5651390</td>\n",
       "    </tr>\n",
       "    <tr>\n",
       "      <th>9</th>\n",
       "      <td>-2153550</td>\n",
       "      <td>4399020</td>\n",
       "    </tr>\n",
       "    <tr>\n",
       "      <th>10</th>\n",
       "      <td>-2854920</td>\n",
       "      <td>4180730</td>\n",
       "    </tr>\n",
       "    <tr>\n",
       "      <th>11</th>\n",
       "      <td>-2108560</td>\n",
       "      <td>3858460</td>\n",
       "    </tr>\n",
       "    <tr>\n",
       "      <th>12</th>\n",
       "      <td>-1306800</td>\n",
       "      <td>2478050</td>\n",
       "    </tr>\n",
       "    <tr>\n",
       "      <th rowspan=\"8\" valign=\"top\">2017</th>\n",
       "      <th>1</th>\n",
       "      <td>-1351100</td>\n",
       "      <td>2176450</td>\n",
       "    </tr>\n",
       "    <tr>\n",
       "      <th>2</th>\n",
       "      <td>-1405100</td>\n",
       "      <td>2918600</td>\n",
       "    </tr>\n",
       "    <tr>\n",
       "      <th>3</th>\n",
       "      <td>-1708700</td>\n",
       "      <td>3786200</td>\n",
       "    </tr>\n",
       "    <tr>\n",
       "      <th>4</th>\n",
       "      <td>-2654650</td>\n",
       "      <td>2981600</td>\n",
       "    </tr>\n",
       "    <tr>\n",
       "      <th>5</th>\n",
       "      <td>-2863500</td>\n",
       "      <td>2729750</td>\n",
       "    </tr>\n",
       "    <tr>\n",
       "      <th>6</th>\n",
       "      <td>-3315270</td>\n",
       "      <td>4376840</td>\n",
       "    </tr>\n",
       "    <tr>\n",
       "      <th>7</th>\n",
       "      <td>-2027370</td>\n",
       "      <td>5035260</td>\n",
       "    </tr>\n",
       "    <tr>\n",
       "      <th>8</th>\n",
       "      <td>-1672440</td>\n",
       "      <td>5010310</td>\n",
       "    </tr>\n",
       "  </tbody>\n",
       "</table>\n",
       "</div>"
      ],
      "text/plain": [
       "                                      canceled_loss   profit\n",
       "arrival_date_year arrival_date_month                        \n",
       "2015              7                        -1947940  1612900\n",
       "                  8                        -2452320  3146330\n",
       "                  9                        -2969890  3627200\n",
       "                  10                       -2367310  4374540\n",
       "                  11                        -632310  2958390\n",
       "                  12                       -1071400  1729200\n",
       "2016              1                         -640300  1412100\n",
       "                  2                        -1568300  2002800\n",
       "                  3                        -1602150  3781550\n",
       "                  4                        -2320850  3020250\n",
       "                  5                        -2082900  3522600\n",
       "                  6                        -3202990  4752540\n",
       "                  7                        -1681390  5970280\n",
       "                  8                        -1825150  5651390\n",
       "                  9                        -2153550  4399020\n",
       "                  10                       -2854920  4180730\n",
       "                  11                       -2108560  3858460\n",
       "                  12                       -1306800  2478050\n",
       "2017              1                        -1351100  2176450\n",
       "                  2                        -1405100  2918600\n",
       "                  3                        -1708700  3786200\n",
       "                  4                        -2654650  2981600\n",
       "                  5                        -2863500  2729750\n",
       "                  6                        -3315270  4376840\n",
       "                  7                        -2027370  5035260\n",
       "                  8                        -1672440  5010310"
      ]
     },
     "metadata": {},
     "output_type": "display_data"
    },
    {
     "name": "stdout",
     "output_type": "stream",
     "text": [
      "0.3614389955367269\n"
     ]
    }
   ],
   "source": [
    "pvt = pd.concat(dfs)\n",
    "percentile_of_loss = (abs(pvt['canceled_loss'])).sum()/(pvt['profit'].sum()+(abs(pvt['canceled_loss'])).sum())\n",
    "pvt = (\n",
    "    pd.pivot_table(pvt, values = ['profit', 'canceled_loss'], index = ['arrival_date_year','arrival_date_month'],\n",
    "                   aggfunc = sum)\n",
    "       .astype(int)\n",
    "      )\n",
    "\n",
    "display(pvt)\n",
    "print(percentile_of_loss)"
   ]
  },
  {
   "cell_type": "markdown",
   "metadata": {},
   "source": [
    "##### Вывод\n",
    "Мы видим, что ситуация по отмене номеров плачевная. В одном месяце (Июль 2015) убыток от отмен составил более 50% от общего оборота за месяц. Если брать всю статистику, то этот процент составил ~36% \n"
   ]
  },
  {
   "cell_type": "markdown",
   "metadata": {},
   "source": [
    "### Шаг 4. Разработка модели ML"
   ]
  },
  {
   "cell_type": "markdown",
   "metadata": {},
   "source": [
    "#### Подготовка данных"
   ]
  },
  {
   "cell_type": "code",
   "execution_count": 14,
   "metadata": {
    "scrolled": false
   },
   "outputs": [],
   "source": [
    "\n",
    "#Dummies\n",
    "df_train = pd.get_dummies(df_train,columns = ['distribution_channel','reserved_room_type','customer_type', 'meal'], drop_first=True)\n",
    "df_test = pd.get_dummies(df_test,columns = ['distribution_channel','reserved_room_type','customer_type', 'meal'], drop_first=True)\n",
    "\n",
    "#Сохраним, что бы потом посчитать прибыль\n",
    "to_append_profit = df_test['profit']\n",
    "to_append_canceled_loss = df_test['canceled_loss']\n",
    "\n",
    "#Разбиваем выборки\n",
    "target_train = df_train['is_canceled']\n",
    "features_train = df_train.drop(['id','profit', 'canceled_loss', 'is_canceled'], axis = 1)\n",
    "target_test = df_test['is_canceled']\n",
    "features_test = df_test.drop(['id','profit', 'canceled_loss', 'is_canceled'], axis = 1)\n",
    "\n",
    "#Кодирование\n",
    "encoder = LabelEncoder()\n",
    "to_encode = features_train['country'].append(features_test['country'])\n",
    "to_encode = to_encode.unique()\n",
    "to_encode = pd.Series(to_encode)\n",
    "encoder.fit(to_encode)\n",
    "\n",
    "features_train['country'] = encoder.transform(features_train['country'])\n",
    "features_test['country'] = encoder.transform(features_test['country'])"
   ]
  },
  {
   "cell_type": "markdown",
   "metadata": {},
   "source": [
    "##### Вывод\n",
    "У нас есть несколько вариантов кодирования переменных, со своими плюсами и минусами. Сейчас мы воспользуемся 2-мя способами. Это создание дамми переменных и LabelEncoder, который присваивает категориальным переменным число.\n",
    "Дамми переменные хороши тем, что создают для каждого признака столбец с булевым значением (0/1) это помогает избежать некорректного обучение модели, но создание большого кол-ва столбцов пагубно влияет и на читаемость датасета и на скорость обучения. Поэтому мы применяем данный метод кодирования к признакам с минимальным кол-вом категориальных переменных, но необходимых для поиска взаимосвязей и улучшения точности предсказаний.\n",
    "LabelEncoder же мы применим к признаку, который содержит в себе более 20 уникальных переменных, это столбец 'country'. В дальнейшем мы так же сможем вернуть предыдущее написание переменных, если вдруг нам будет необходим точный анализ по данному признаку. Итого мы получаем 35 столбцов в каждом дата-сете."
   ]
  },
  {
   "cell_type": "markdown",
   "metadata": {},
   "source": [
    "#### Обучаем модели и выбираем лучшую"
   ]
  },
  {
   "cell_type": "code",
   "execution_count": 15,
   "metadata": {
    "scrolled": false
   },
   "outputs": [
    {
     "name": "stderr",
     "output_type": "stream",
     "text": [
      "/opt/conda/lib/python3.9/site-packages/sklearn/linear_model/_logistic.py:763: ConvergenceWarning: lbfgs failed to converge (status=1):\n",
      "STOP: TOTAL NO. of ITERATIONS REACHED LIMIT.\n",
      "\n",
      "Increase the number of iterations (max_iter) or scale the data as shown in:\n",
      "    https://scikit-learn.org/stable/modules/preprocessing.html\n",
      "Please also refer to the documentation for alternative solver options:\n",
      "    https://scikit-learn.org/stable/modules/linear_model.html#logistic-regression\n",
      "  n_iter_i = _check_optimize_result(\n",
      "/opt/conda/lib/python3.9/site-packages/sklearn/linear_model/_logistic.py:763: ConvergenceWarning: lbfgs failed to converge (status=1):\n",
      "STOP: TOTAL NO. of ITERATIONS REACHED LIMIT.\n",
      "\n",
      "Increase the number of iterations (max_iter) or scale the data as shown in:\n",
      "    https://scikit-learn.org/stable/modules/preprocessing.html\n",
      "Please also refer to the documentation for alternative solver options:\n",
      "    https://scikit-learn.org/stable/modules/linear_model.html#logistic-regression\n",
      "  n_iter_i = _check_optimize_result(\n",
      "/opt/conda/lib/python3.9/site-packages/sklearn/linear_model/_logistic.py:763: ConvergenceWarning: lbfgs failed to converge (status=1):\n",
      "STOP: TOTAL NO. of ITERATIONS REACHED LIMIT.\n",
      "\n",
      "Increase the number of iterations (max_iter) or scale the data as shown in:\n",
      "    https://scikit-learn.org/stable/modules/preprocessing.html\n",
      "Please also refer to the documentation for alternative solver options:\n",
      "    https://scikit-learn.org/stable/modules/linear_model.html#logistic-regression\n",
      "  n_iter_i = _check_optimize_result(\n",
      "/opt/conda/lib/python3.9/site-packages/sklearn/linear_model/_logistic.py:763: ConvergenceWarning: lbfgs failed to converge (status=1):\n",
      "STOP: TOTAL NO. of ITERATIONS REACHED LIMIT.\n",
      "\n",
      "Increase the number of iterations (max_iter) or scale the data as shown in:\n",
      "    https://scikit-learn.org/stable/modules/preprocessing.html\n",
      "Please also refer to the documentation for alternative solver options:\n",
      "    https://scikit-learn.org/stable/modules/linear_model.html#logistic-regression\n",
      "  n_iter_i = _check_optimize_result(\n",
      "/opt/conda/lib/python3.9/site-packages/sklearn/linear_model/_logistic.py:763: ConvergenceWarning: lbfgs failed to converge (status=1):\n",
      "STOP: TOTAL NO. of ITERATIONS REACHED LIMIT.\n",
      "\n",
      "Increase the number of iterations (max_iter) or scale the data as shown in:\n",
      "    https://scikit-learn.org/stable/modules/preprocessing.html\n",
      "Please also refer to the documentation for alternative solver options:\n",
      "    https://scikit-learn.org/stable/modules/linear_model.html#logistic-regression\n",
      "  n_iter_i = _check_optimize_result(\n",
      "/opt/conda/lib/python3.9/site-packages/sklearn/linear_model/_logistic.py:763: ConvergenceWarning: lbfgs failed to converge (status=1):\n",
      "STOP: TOTAL NO. of ITERATIONS REACHED LIMIT.\n",
      "\n",
      "Increase the number of iterations (max_iter) or scale the data as shown in:\n",
      "    https://scikit-learn.org/stable/modules/preprocessing.html\n",
      "Please also refer to the documentation for alternative solver options:\n",
      "    https://scikit-learn.org/stable/modules/linear_model.html#logistic-regression\n",
      "  n_iter_i = _check_optimize_result(\n",
      "/opt/conda/lib/python3.9/site-packages/sklearn/linear_model/_logistic.py:763: ConvergenceWarning: lbfgs failed to converge (status=1):\n",
      "STOP: TOTAL NO. of ITERATIONS REACHED LIMIT.\n",
      "\n",
      "Increase the number of iterations (max_iter) or scale the data as shown in:\n",
      "    https://scikit-learn.org/stable/modules/preprocessing.html\n",
      "Please also refer to the documentation for alternative solver options:\n",
      "    https://scikit-learn.org/stable/modules/linear_model.html#logistic-regression\n",
      "  n_iter_i = _check_optimize_result(\n",
      "/opt/conda/lib/python3.9/site-packages/sklearn/linear_model/_logistic.py:763: ConvergenceWarning: lbfgs failed to converge (status=1):\n",
      "STOP: TOTAL NO. of ITERATIONS REACHED LIMIT.\n",
      "\n",
      "Increase the number of iterations (max_iter) or scale the data as shown in:\n",
      "    https://scikit-learn.org/stable/modules/preprocessing.html\n",
      "Please also refer to the documentation for alternative solver options:\n",
      "    https://scikit-learn.org/stable/modules/linear_model.html#logistic-regression\n",
      "  n_iter_i = _check_optimize_result(\n",
      "/opt/conda/lib/python3.9/site-packages/sklearn/linear_model/_logistic.py:763: ConvergenceWarning: lbfgs failed to converge (status=1):\n",
      "STOP: TOTAL NO. of ITERATIONS REACHED LIMIT.\n",
      "\n",
      "Increase the number of iterations (max_iter) or scale the data as shown in:\n",
      "    https://scikit-learn.org/stable/modules/preprocessing.html\n",
      "Please also refer to the documentation for alternative solver options:\n",
      "    https://scikit-learn.org/stable/modules/linear_model.html#logistic-regression\n",
      "  n_iter_i = _check_optimize_result(\n",
      "/opt/conda/lib/python3.9/site-packages/sklearn/linear_model/_logistic.py:763: ConvergenceWarning: lbfgs failed to converge (status=1):\n",
      "STOP: TOTAL NO. of ITERATIONS REACHED LIMIT.\n",
      "\n",
      "Increase the number of iterations (max_iter) or scale the data as shown in:\n",
      "    https://scikit-learn.org/stable/modules/preprocessing.html\n",
      "Please also refer to the documentation for alternative solver options:\n",
      "    https://scikit-learn.org/stable/modules/linear_model.html#logistic-regression\n",
      "  n_iter_i = _check_optimize_result(\n",
      "/opt/conda/lib/python3.9/site-packages/sklearn/utils/optimize.py:202: ConvergenceWarning: newton-cg failed to converge. Increase the number of iterations.\n",
      "  warnings.warn(\"newton-cg failed to converge. Increase the \"\n",
      "/opt/conda/lib/python3.9/site-packages/sklearn/utils/optimize.py:202: ConvergenceWarning: newton-cg failed to converge. Increase the number of iterations.\n",
      "  warnings.warn(\"newton-cg failed to converge. Increase the \"\n",
      "/opt/conda/lib/python3.9/site-packages/sklearn/utils/optimize.py:202: ConvergenceWarning: newton-cg failed to converge. Increase the number of iterations.\n",
      "  warnings.warn(\"newton-cg failed to converge. Increase the \"\n",
      "/opt/conda/lib/python3.9/site-packages/scipy/optimize/_linesearch.py:456: LineSearchWarning: The line search algorithm did not converge\n",
      "  warn('The line search algorithm did not converge', LineSearchWarning)\n",
      "/opt/conda/lib/python3.9/site-packages/scipy/optimize/_linesearch.py:305: LineSearchWarning: The line search algorithm did not converge\n",
      "  warn('The line search algorithm did not converge', LineSearchWarning)\n",
      "/opt/conda/lib/python3.9/site-packages/scipy/optimize/_linesearch.py:456: LineSearchWarning: The line search algorithm did not converge\n",
      "  warn('The line search algorithm did not converge', LineSearchWarning)\n",
      "/opt/conda/lib/python3.9/site-packages/scipy/optimize/_linesearch.py:305: LineSearchWarning: The line search algorithm did not converge\n",
      "  warn('The line search algorithm did not converge', LineSearchWarning)\n",
      "/opt/conda/lib/python3.9/site-packages/sklearn/utils/optimize.py:202: ConvergenceWarning: newton-cg failed to converge. Increase the number of iterations.\n",
      "  warnings.warn(\"newton-cg failed to converge. Increase the \"\n",
      "/opt/conda/lib/python3.9/site-packages/scipy/optimize/_linesearch.py:456: LineSearchWarning: The line search algorithm did not converge\n",
      "  warn('The line search algorithm did not converge', LineSearchWarning)\n",
      "/opt/conda/lib/python3.9/site-packages/scipy/optimize/_linesearch.py:305: LineSearchWarning: The line search algorithm did not converge\n",
      "  warn('The line search algorithm did not converge', LineSearchWarning)\n",
      "/opt/conda/lib/python3.9/site-packages/sklearn/utils/optimize.py:202: ConvergenceWarning: newton-cg failed to converge. Increase the number of iterations.\n",
      "  warnings.warn(\"newton-cg failed to converge. Increase the \"\n",
      "/opt/conda/lib/python3.9/site-packages/sklearn/utils/optimize.py:202: ConvergenceWarning: newton-cg failed to converge. Increase the number of iterations.\n",
      "  warnings.warn(\"newton-cg failed to converge. Increase the \"\n",
      "/opt/conda/lib/python3.9/site-packages/sklearn/utils/optimize.py:202: ConvergenceWarning: newton-cg failed to converge. Increase the number of iterations.\n",
      "  warnings.warn(\"newton-cg failed to converge. Increase the \"\n",
      "/opt/conda/lib/python3.9/site-packages/sklearn/utils/optimize.py:202: ConvergenceWarning: newton-cg failed to converge. Increase the number of iterations.\n",
      "  warnings.warn(\"newton-cg failed to converge. Increase the \"\n",
      "/opt/conda/lib/python3.9/site-packages/sklearn/utils/optimize.py:202: ConvergenceWarning: newton-cg failed to converge. Increase the number of iterations.\n",
      "  warnings.warn(\"newton-cg failed to converge. Increase the \"\n",
      "/opt/conda/lib/python3.9/site-packages/scipy/optimize/_linesearch.py:456: LineSearchWarning: The line search algorithm did not converge\n",
      "  warn('The line search algorithm did not converge', LineSearchWarning)\n",
      "/opt/conda/lib/python3.9/site-packages/scipy/optimize/_linesearch.py:305: LineSearchWarning: The line search algorithm did not converge\n",
      "  warn('The line search algorithm did not converge', LineSearchWarning)\n",
      "/opt/conda/lib/python3.9/site-packages/sklearn/utils/optimize.py:202: ConvergenceWarning: newton-cg failed to converge. Increase the number of iterations.\n",
      "  warnings.warn(\"newton-cg failed to converge. Increase the \"\n",
      "/opt/conda/lib/python3.9/site-packages/sklearn/linear_model/_sag.py:328: ConvergenceWarning: The max_iter was reached which means the coef_ did not converge\n",
      "  warnings.warn(\"The max_iter was reached which means \"\n",
      "/opt/conda/lib/python3.9/site-packages/sklearn/linear_model/_sag.py:328: ConvergenceWarning: The max_iter was reached which means the coef_ did not converge\n",
      "  warnings.warn(\"The max_iter was reached which means \"\n",
      "/opt/conda/lib/python3.9/site-packages/sklearn/linear_model/_sag.py:328: ConvergenceWarning: The max_iter was reached which means the coef_ did not converge\n",
      "  warnings.warn(\"The max_iter was reached which means \"\n",
      "/opt/conda/lib/python3.9/site-packages/sklearn/linear_model/_sag.py:328: ConvergenceWarning: The max_iter was reached which means the coef_ did not converge\n",
      "  warnings.warn(\"The max_iter was reached which means \"\n",
      "/opt/conda/lib/python3.9/site-packages/sklearn/linear_model/_sag.py:328: ConvergenceWarning: The max_iter was reached which means the coef_ did not converge\n",
      "  warnings.warn(\"The max_iter was reached which means \"\n",
      "/opt/conda/lib/python3.9/site-packages/sklearn/linear_model/_sag.py:328: ConvergenceWarning: The max_iter was reached which means the coef_ did not converge\n",
      "  warnings.warn(\"The max_iter was reached which means \"\n",
      "/opt/conda/lib/python3.9/site-packages/sklearn/linear_model/_sag.py:328: ConvergenceWarning: The max_iter was reached which means the coef_ did not converge\n",
      "  warnings.warn(\"The max_iter was reached which means \"\n",
      "/opt/conda/lib/python3.9/site-packages/sklearn/linear_model/_sag.py:328: ConvergenceWarning: The max_iter was reached which means the coef_ did not converge\n",
      "  warnings.warn(\"The max_iter was reached which means \"\n",
      "/opt/conda/lib/python3.9/site-packages/sklearn/linear_model/_sag.py:328: ConvergenceWarning: The max_iter was reached which means the coef_ did not converge\n",
      "  warnings.warn(\"The max_iter was reached which means \"\n",
      "/opt/conda/lib/python3.9/site-packages/sklearn/linear_model/_sag.py:328: ConvergenceWarning: The max_iter was reached which means the coef_ did not converge\n",
      "  warnings.warn(\"The max_iter was reached which means \"\n",
      "/opt/conda/lib/python3.9/site-packages/sklearn/linear_model/_sag.py:328: ConvergenceWarning: The max_iter was reached which means the coef_ did not converge\n",
      "  warnings.warn(\"The max_iter was reached which means \"\n",
      "/opt/conda/lib/python3.9/site-packages/sklearn/linear_model/_sag.py:328: ConvergenceWarning: The max_iter was reached which means the coef_ did not converge\n",
      "  warnings.warn(\"The max_iter was reached which means \"\n",
      "/opt/conda/lib/python3.9/site-packages/sklearn/linear_model/_sag.py:328: ConvergenceWarning: The max_iter was reached which means the coef_ did not converge\n",
      "  warnings.warn(\"The max_iter was reached which means \"\n",
      "/opt/conda/lib/python3.9/site-packages/sklearn/linear_model/_sag.py:328: ConvergenceWarning: The max_iter was reached which means the coef_ did not converge\n",
      "  warnings.warn(\"The max_iter was reached which means \"\n",
      "/opt/conda/lib/python3.9/site-packages/sklearn/linear_model/_sag.py:328: ConvergenceWarning: The max_iter was reached which means the coef_ did not converge\n",
      "  warnings.warn(\"The max_iter was reached which means \"\n",
      "/opt/conda/lib/python3.9/site-packages/sklearn/linear_model/_sag.py:328: ConvergenceWarning: The max_iter was reached which means the coef_ did not converge\n",
      "  warnings.warn(\"The max_iter was reached which means \"\n",
      "/opt/conda/lib/python3.9/site-packages/sklearn/linear_model/_sag.py:328: ConvergenceWarning: The max_iter was reached which means the coef_ did not converge\n",
      "  warnings.warn(\"The max_iter was reached which means \"\n",
      "/opt/conda/lib/python3.9/site-packages/sklearn/linear_model/_sag.py:328: ConvergenceWarning: The max_iter was reached which means the coef_ did not converge\n",
      "  warnings.warn(\"The max_iter was reached which means \"\n",
      "/opt/conda/lib/python3.9/site-packages/sklearn/linear_model/_sag.py:328: ConvergenceWarning: The max_iter was reached which means the coef_ did not converge\n",
      "  warnings.warn(\"The max_iter was reached which means \"\n",
      "/opt/conda/lib/python3.9/site-packages/sklearn/linear_model/_sag.py:328: ConvergenceWarning: The max_iter was reached which means the coef_ did not converge\n",
      "  warnings.warn(\"The max_iter was reached which means \"\n"
     ]
    },
    {
     "name": "stdout",
     "output_type": "stream",
     "text": [
      "Лучшая модель:LogisticRegression(class_weight='balanced', penalty='none', random_state=0) c результатом 0.653895176784793\n",
      "CPU times: user 14min 15s, sys: 9min 49s, total: 24min 4s\n",
      "Wall time: 24min 7s\n"
     ]
    }
   ],
   "source": [
    "%%time\n",
    "models = ['DecisionTreeClassifier', 'LogisticRegression','RandomForestClassifier']\n",
    "\n",
    "best_model = []\n",
    "best_result = 0\n",
    "\n",
    "solvers = ['lbfgs', 'newton-cg','sag', 'saga']\n",
    "penalties = ['l2', 'none']\n",
    "\n",
    "for model in models:\n",
    "    if model == 'DecisionTreeClassifier':\n",
    "        for depth in range(5, 20, 5):\n",
    "            for min_samples in range(0,10,2):\n",
    "                for max_samples in range(6,12,2):\n",
    "                    model = DecisionTreeClassifier(random_state = 0, max_depth=depth, class_weight='balanced')\n",
    "                    scores = cross_val_score(model, features_train, target_train, cv=5, scoring='recall')\n",
    "                    final_score = scores.sum() / len(scores)\n",
    "                    if final_score > best_result:\n",
    "                        best_model = model\n",
    "                        best_result = final_score\n",
    "                \n",
    "    if model == 'RandomForestClassifier':\n",
    "        for est in range(50, 350, 50):\n",
    "            for depth in range(5, 20, 5):\n",
    "                model = RandomForestClassifier(random_state= 0, n_estimators = est, max_depth=depth, class_weight='balanced')\n",
    "                scores = cross_val_score(model, features_train, target_train, cv=5, scoring='recall')\n",
    "                final_score = scores.sum() / len(scores)\n",
    "                if final_score > best_result:\n",
    "                    best_model = model\n",
    "                    best_result = final_score\n",
    "                    \n",
    "    if model == 'LogisticRegression':\n",
    "        for solv in solvers:\n",
    "            for penal in penalties:\n",
    "                model = LogisticRegression(penalty=penal,random_state= 0, class_weight='balanced',solver=solv)\n",
    "                scores = cross_val_score(model, features_train, target_train, cv=5, scoring='recall')\n",
    "                final_score = scores.sum() / len(scores)\n",
    "                if final_score > best_result:\n",
    "                    best_model = model\n",
    "                    best_result = final_score\n",
    "\n",
    "\n",
    "\n",
    "\n",
    "\n",
    "print(f'Лучшая модель:{best_model} c результатом {best_result}')"
   ]
  },
  {
   "cell_type": "markdown",
   "metadata": {},
   "source": [
    "##### Вывод\n",
    "Наилучший результат в данной задаче по метрике scores показал классификатор логистической регрессии. Мы сразу записали его в переменную best_model для дальнеших предсказаний и замеров на тестовой выборке."
   ]
  },
  {
   "cell_type": "markdown",
   "metadata": {},
   "source": [
    "#### Предсказания на тестовой выборке"
   ]
  },
  {
   "cell_type": "code",
   "execution_count": 16,
   "metadata": {},
   "outputs": [
    {
     "name": "stderr",
     "output_type": "stream",
     "text": [
      "/opt/conda/lib/python3.9/site-packages/sklearn/linear_model/_logistic.py:763: ConvergenceWarning: lbfgs failed to converge (status=1):\n",
      "STOP: TOTAL NO. of ITERATIONS REACHED LIMIT.\n",
      "\n",
      "Increase the number of iterations (max_iter) or scale the data as shown in:\n",
      "    https://scikit-learn.org/stable/modules/preprocessing.html\n",
      "Please also refer to the documentation for alternative solver options:\n",
      "    https://scikit-learn.org/stable/modules/linear_model.html#logistic-regression\n",
      "  n_iter_i = _check_optimize_result(\n"
     ]
    },
    {
     "name": "stdout",
     "output_type": "stream",
     "text": [
      "Значение метрики f1 на тестовой выборке: 0.6423240510392424\n",
      "Значение метрики accuracy на тестовой выборке:0.7249784030605948\n",
      "              precision    recall  f1-score   support\n",
      "\n",
      "           0       0.77      0.78      0.78     19821\n",
      "           1       0.65      0.64      0.64     12591\n",
      "\n",
      "    accuracy                           0.72     32412\n",
      "   macro avg       0.71      0.71      0.71     32412\n",
      "weighted avg       0.72      0.72      0.72     32412\n",
      "\n"
     ]
    }
   ],
   "source": [
    "model = best_model\n",
    "best_model.fit(features_train, target_train)\n",
    "predictions_test = best_model.predict(features_test)\n",
    "\n",
    "f1 = f1_score(target_test, predictions_test)\n",
    "accuracy = accuracy_score(target_test, predictions_test)\n",
    "print(f'Значение метрики f1 на тестовой выборке: {f1}')\n",
    "print(f'Значение метрики accuracy на тестовой выборке:{accuracy}')\n",
    "print(classification_report(target_test, predictions_test))"
   ]
  },
  {
   "cell_type": "markdown",
   "metadata": {},
   "source": [
    "##### Вывод\n",
    "Значение точности и полноты предсказаний у нашей модели сбалансированные, о чем и говорит f1-мера. Однако несмотря на гиперпараметр class_weight='balanced' мы не смогли до конца победить дизбаланс классов. Класс '0' Предсказывается лучше, чем класс '1'. (Без отмены или с отменой брони соответственно). Проверим такую модель на адекватность\n"
   ]
  },
  {
   "cell_type": "markdown",
   "metadata": {},
   "source": [
    "#### Проверка модели на адекватность"
   ]
  },
  {
   "cell_type": "code",
   "execution_count": 17,
   "metadata": {},
   "outputs": [
    {
     "name": "stdout",
     "output_type": "stream",
     "text": [
      "accuracy_score константной модели: 0.6115327656423547\n"
     ]
    }
   ],
   "source": [
    "target_pred_constant = pd.Series([0] * len(target_test))\n",
    "print(f'accuracy_score константной модели: {accuracy_score(target_test, target_pred_constant)}')"
   ]
  },
  {
   "cell_type": "markdown",
   "metadata": {},
   "source": [
    "##### Вывод\n",
    "Модель прошла проверку на адекватность. Показатель accuracy лучше, чем у константной модели. 0.73 против 0.61"
   ]
  },
  {
   "cell_type": "markdown",
   "metadata": {},
   "source": [
    "#### ROC - кривая"
   ]
  },
  {
   "cell_type": "code",
   "execution_count": 18,
   "metadata": {},
   "outputs": [
    {
     "data": {
      "image/png": "[encoded data removed]",
      "text/plain": [
       "<Figure size 720x576 with 1 Axes>"
      ]
     },
     "metadata": {
      "needs_background": "light"
     },
     "output_type": "display_data"
    },
    {
     "name": "stdout",
     "output_type": "stream",
     "text": [
      "0.7834296726971586\n"
     ]
    }
   ],
   "source": [
    "probabilities_test = model.predict_proba(features_test)\n",
    "probabilities_one_test = probabilities_test[:, 1]\n",
    "\n",
    "plt.figure(figsize=(10, 8))\n",
    "fpr, tpr, thresholds = roc_curve(target_test, probabilities_one_test, pos_label=1)\n",
    "lw = 2\n",
    "plt.plot(fpr, tpr, lw=lw, label='ROC curve')\n",
    "plt.plot([0, 1], [0, 1])\n",
    "plt.xlim([0.0, 1.0])\n",
    "plt.ylim([0.0, 1.05])\n",
    "plt.xlabel('False Positive Rate')\n",
    "plt.ylabel('True Positive Rate')\n",
    "plt.title('ROC curve')\n",
    "plt.show()\n",
    "print(roc_auc_score(target_test,probabilities_one_test))"
   ]
  },
  {
   "cell_type": "markdown",
   "metadata": {},
   "source": [
    "##### Вывод\n",
    "График ROC (кривая ошибок) тоже говорит об эффективности модели. Запишем итоговые показатели метрик по предсказаниям модели на тестовой выборке:\n",
    "- accuracy = 0.79\n",
    "- f1 = 0.65\n",
    "- auc-roc = 0.79"
   ]
  },
  {
   "cell_type": "markdown",
   "metadata": {},
   "source": [
    "#### Оценка прибыльности модели"
   ]
  },
  {
   "cell_type": "code",
   "execution_count": 19,
   "metadata": {},
   "outputs": [
    {
     "data": {
      "text/html": [
       "<div>\n",
       "<style scoped>\n",
       "    .dataframe tbody tr th:only-of-type {\n",
       "        vertical-align: middle;\n",
       "    }\n",
       "\n",
       "    .dataframe tbody tr th {\n",
       "        vertical-align: top;\n",
       "    }\n",
       "\n",
       "    .dataframe thead th {\n",
       "        text-align: right;\n",
       "    }\n",
       "</style>\n",
       "<table border=\"1\" class=\"dataframe\">\n",
       "  <thead>\n",
       "    <tr style=\"text-align: right;\">\n",
       "      <th></th>\n",
       "      <th>lead_time</th>\n",
       "      <th>arrival_date_year</th>\n",
       "      <th>arrival_date_month</th>\n",
       "      <th>arrival_date_week_number</th>\n",
       "      <th>arrival_date_day_of_month</th>\n",
       "      <th>stays_in_weekend_nights</th>\n",
       "      <th>stays_in_week_nights</th>\n",
       "      <th>adults</th>\n",
       "      <th>children</th>\n",
       "      <th>babies</th>\n",
       "      <th>...</th>\n",
       "      <th>customer_type_Transient</th>\n",
       "      <th>customer_type_Transient-Party</th>\n",
       "      <th>meal_FB</th>\n",
       "      <th>meal_HB</th>\n",
       "      <th>meal_SC</th>\n",
       "      <th>profit</th>\n",
       "      <th>canceled_loss</th>\n",
       "      <th>predictions</th>\n",
       "      <th>is_canceled</th>\n",
       "      <th>new_loss</th>\n",
       "    </tr>\n",
       "  </thead>\n",
       "  <tbody>\n",
       "    <tr>\n",
       "      <th>0</th>\n",
       "      <td>74.0</td>\n",
       "      <td>2017</td>\n",
       "      <td>1</td>\n",
       "      <td>1</td>\n",
       "      <td>1</td>\n",
       "      <td>1</td>\n",
       "      <td>0</td>\n",
       "      <td>2.0</td>\n",
       "      <td>0.0</td>\n",
       "      <td>0.0</td>\n",
       "      <td>...</td>\n",
       "      <td>1</td>\n",
       "      <td>0</td>\n",
       "      <td>0</td>\n",
       "      <td>0</td>\n",
       "      <td>0</td>\n",
       "      <td>-1400.0</td>\n",
       "      <td>-1400.0</td>\n",
       "      <td>1</td>\n",
       "      <td>1</td>\n",
       "      <td>-280.0</td>\n",
       "    </tr>\n",
       "    <tr>\n",
       "      <th>1</th>\n",
       "      <td>62.0</td>\n",
       "      <td>2017</td>\n",
       "      <td>1</td>\n",
       "      <td>1</td>\n",
       "      <td>1</td>\n",
       "      <td>2</td>\n",
       "      <td>2</td>\n",
       "      <td>2.0</td>\n",
       "      <td>0.0</td>\n",
       "      <td>0.0</td>\n",
       "      <td>...</td>\n",
       "      <td>1</td>\n",
       "      <td>0</td>\n",
       "      <td>0</td>\n",
       "      <td>0</td>\n",
       "      <td>0</td>\n",
       "      <td>-1400.0</td>\n",
       "      <td>-1400.0</td>\n",
       "      <td>0</td>\n",
       "      <td>1</td>\n",
       "      <td>-1400.0</td>\n",
       "    </tr>\n",
       "    <tr>\n",
       "      <th>2</th>\n",
       "      <td>62.0</td>\n",
       "      <td>2017</td>\n",
       "      <td>1</td>\n",
       "      <td>1</td>\n",
       "      <td>1</td>\n",
       "      <td>2</td>\n",
       "      <td>2</td>\n",
       "      <td>2.0</td>\n",
       "      <td>0.0</td>\n",
       "      <td>0.0</td>\n",
       "      <td>...</td>\n",
       "      <td>1</td>\n",
       "      <td>0</td>\n",
       "      <td>0</td>\n",
       "      <td>0</td>\n",
       "      <td>0</td>\n",
       "      <td>-1400.0</td>\n",
       "      <td>-1400.0</td>\n",
       "      <td>0</td>\n",
       "      <td>1</td>\n",
       "      <td>-1400.0</td>\n",
       "    </tr>\n",
       "    <tr>\n",
       "      <th>3</th>\n",
       "      <td>71.0</td>\n",
       "      <td>2017</td>\n",
       "      <td>1</td>\n",
       "      <td>1</td>\n",
       "      <td>1</td>\n",
       "      <td>2</td>\n",
       "      <td>2</td>\n",
       "      <td>1.0</td>\n",
       "      <td>0.0</td>\n",
       "      <td>0.0</td>\n",
       "      <td>...</td>\n",
       "      <td>1</td>\n",
       "      <td>0</td>\n",
       "      <td>0</td>\n",
       "      <td>0</td>\n",
       "      <td>0</td>\n",
       "      <td>-1400.0</td>\n",
       "      <td>-1400.0</td>\n",
       "      <td>1</td>\n",
       "      <td>1</td>\n",
       "      <td>-280.0</td>\n",
       "    </tr>\n",
       "    <tr>\n",
       "      <th>4</th>\n",
       "      <td>172.0</td>\n",
       "      <td>2017</td>\n",
       "      <td>1</td>\n",
       "      <td>1</td>\n",
       "      <td>1</td>\n",
       "      <td>2</td>\n",
       "      <td>5</td>\n",
       "      <td>2.0</td>\n",
       "      <td>0.0</td>\n",
       "      <td>0.0</td>\n",
       "      <td>...</td>\n",
       "      <td>1</td>\n",
       "      <td>0</td>\n",
       "      <td>0</td>\n",
       "      <td>0</td>\n",
       "      <td>0</td>\n",
       "      <td>-1400.0</td>\n",
       "      <td>-1400.0</td>\n",
       "      <td>0</td>\n",
       "      <td>1</td>\n",
       "      <td>-1400.0</td>\n",
       "    </tr>\n",
       "    <tr>\n",
       "      <th>...</th>\n",
       "      <td>...</td>\n",
       "      <td>...</td>\n",
       "      <td>...</td>\n",
       "      <td>...</td>\n",
       "      <td>...</td>\n",
       "      <td>...</td>\n",
       "      <td>...</td>\n",
       "      <td>...</td>\n",
       "      <td>...</td>\n",
       "      <td>...</td>\n",
       "      <td>...</td>\n",
       "      <td>...</td>\n",
       "      <td>...</td>\n",
       "      <td>...</td>\n",
       "      <td>...</td>\n",
       "      <td>...</td>\n",
       "      <td>...</td>\n",
       "      <td>...</td>\n",
       "      <td>...</td>\n",
       "      <td>...</td>\n",
       "      <td>...</td>\n",
       "    </tr>\n",
       "    <tr>\n",
       "      <th>32407</th>\n",
       "      <td>164.0</td>\n",
       "      <td>2017</td>\n",
       "      <td>8</td>\n",
       "      <td>35</td>\n",
       "      <td>31</td>\n",
       "      <td>2</td>\n",
       "      <td>4</td>\n",
       "      <td>2.0</td>\n",
       "      <td>0.0</td>\n",
       "      <td>0.0</td>\n",
       "      <td>...</td>\n",
       "      <td>1</td>\n",
       "      <td>0</td>\n",
       "      <td>0</td>\n",
       "      <td>0</td>\n",
       "      <td>0</td>\n",
       "      <td>6800.0</td>\n",
       "      <td>0.0</td>\n",
       "      <td>1</td>\n",
       "      <td>0</td>\n",
       "      <td>0.0</td>\n",
       "    </tr>\n",
       "    <tr>\n",
       "      <th>32408</th>\n",
       "      <td>21.0</td>\n",
       "      <td>2017</td>\n",
       "      <td>8</td>\n",
       "      <td>35</td>\n",
       "      <td>30</td>\n",
       "      <td>2</td>\n",
       "      <td>5</td>\n",
       "      <td>2.0</td>\n",
       "      <td>0.0</td>\n",
       "      <td>0.0</td>\n",
       "      <td>...</td>\n",
       "      <td>1</td>\n",
       "      <td>0</td>\n",
       "      <td>0</td>\n",
       "      <td>0</td>\n",
       "      <td>0</td>\n",
       "      <td>8200.0</td>\n",
       "      <td>0.0</td>\n",
       "      <td>0</td>\n",
       "      <td>0</td>\n",
       "      <td>0.0</td>\n",
       "    </tr>\n",
       "    <tr>\n",
       "      <th>32409</th>\n",
       "      <td>23.0</td>\n",
       "      <td>2017</td>\n",
       "      <td>8</td>\n",
       "      <td>35</td>\n",
       "      <td>30</td>\n",
       "      <td>2</td>\n",
       "      <td>5</td>\n",
       "      <td>2.0</td>\n",
       "      <td>0.0</td>\n",
       "      <td>0.0</td>\n",
       "      <td>...</td>\n",
       "      <td>1</td>\n",
       "      <td>0</td>\n",
       "      <td>0</td>\n",
       "      <td>0</td>\n",
       "      <td>0</td>\n",
       "      <td>8200.0</td>\n",
       "      <td>0.0</td>\n",
       "      <td>0</td>\n",
       "      <td>0</td>\n",
       "      <td>0.0</td>\n",
       "    </tr>\n",
       "    <tr>\n",
       "      <th>32410</th>\n",
       "      <td>34.0</td>\n",
       "      <td>2017</td>\n",
       "      <td>8</td>\n",
       "      <td>35</td>\n",
       "      <td>31</td>\n",
       "      <td>2</td>\n",
       "      <td>5</td>\n",
       "      <td>2.0</td>\n",
       "      <td>0.0</td>\n",
       "      <td>0.0</td>\n",
       "      <td>...</td>\n",
       "      <td>1</td>\n",
       "      <td>0</td>\n",
       "      <td>0</td>\n",
       "      <td>0</td>\n",
       "      <td>0</td>\n",
       "      <td>4790.0</td>\n",
       "      <td>0.0</td>\n",
       "      <td>0</td>\n",
       "      <td>0</td>\n",
       "      <td>0.0</td>\n",
       "    </tr>\n",
       "    <tr>\n",
       "      <th>32411</th>\n",
       "      <td>109.0</td>\n",
       "      <td>2017</td>\n",
       "      <td>8</td>\n",
       "      <td>35</td>\n",
       "      <td>31</td>\n",
       "      <td>2</td>\n",
       "      <td>5</td>\n",
       "      <td>2.0</td>\n",
       "      <td>0.0</td>\n",
       "      <td>0.0</td>\n",
       "      <td>...</td>\n",
       "      <td>1</td>\n",
       "      <td>0</td>\n",
       "      <td>0</td>\n",
       "      <td>0</td>\n",
       "      <td>0</td>\n",
       "      <td>8200.0</td>\n",
       "      <td>0.0</td>\n",
       "      <td>1</td>\n",
       "      <td>0</td>\n",
       "      <td>0.0</td>\n",
       "    </tr>\n",
       "  </tbody>\n",
       "</table>\n",
       "<p>32412 rows × 39 columns</p>\n",
       "</div>"
      ],
      "text/plain": [
       "       lead_time  arrival_date_year  arrival_date_month  \\\n",
       "0           74.0               2017                   1   \n",
       "1           62.0               2017                   1   \n",
       "2           62.0               2017                   1   \n",
       "3           71.0               2017                   1   \n",
       "4          172.0               2017                   1   \n",
       "...          ...                ...                 ...   \n",
       "32407      164.0               2017                   8   \n",
       "32408       21.0               2017                   8   \n",
       "32409       23.0               2017                   8   \n",
       "32410       34.0               2017                   8   \n",
       "32411      109.0               2017                   8   \n",
       "\n",
       "       arrival_date_week_number  arrival_date_day_of_month  \\\n",
       "0                             1                          1   \n",
       "1                             1                          1   \n",
       "2                             1                          1   \n",
       "3                             1                          1   \n",
       "4                             1                          1   \n",
       "...                         ...                        ...   \n",
       "32407                        35                         31   \n",
       "32408                        35                         30   \n",
       "32409                        35                         30   \n",
       "32410                        35                         31   \n",
       "32411                        35                         31   \n",
       "\n",
       "       stays_in_weekend_nights  stays_in_week_nights  adults  children  \\\n",
       "0                            1                     0     2.0       0.0   \n",
       "1                            2                     2     2.0       0.0   \n",
       "2                            2                     2     2.0       0.0   \n",
       "3                            2                     2     1.0       0.0   \n",
       "4                            2                     5     2.0       0.0   \n",
       "...                        ...                   ...     ...       ...   \n",
       "32407                        2                     4     2.0       0.0   \n",
       "32408                        2                     5     2.0       0.0   \n",
       "32409                        2                     5     2.0       0.0   \n",
       "32410                        2                     5     2.0       0.0   \n",
       "32411                        2                     5     2.0       0.0   \n",
       "\n",
       "       babies  ...  customer_type_Transient  customer_type_Transient-Party  \\\n",
       "0         0.0  ...                        1                              0   \n",
       "1         0.0  ...                        1                              0   \n",
       "2         0.0  ...                        1                              0   \n",
       "3         0.0  ...                        1                              0   \n",
       "4         0.0  ...                        1                              0   \n",
       "...       ...  ...                      ...                            ...   \n",
       "32407     0.0  ...                        1                              0   \n",
       "32408     0.0  ...                        1                              0   \n",
       "32409     0.0  ...                        1                              0   \n",
       "32410     0.0  ...                        1                              0   \n",
       "32411     0.0  ...                        1                              0   \n",
       "\n",
       "       meal_FB  meal_HB  meal_SC  profit  canceled_loss  predictions  \\\n",
       "0            0        0        0 -1400.0        -1400.0            1   \n",
       "1            0        0        0 -1400.0        -1400.0            0   \n",
       "2            0        0        0 -1400.0        -1400.0            0   \n",
       "3            0        0        0 -1400.0        -1400.0            1   \n",
       "4            0        0        0 -1400.0        -1400.0            0   \n",
       "...        ...      ...      ...     ...            ...          ...   \n",
       "32407        0        0        0  6800.0            0.0            1   \n",
       "32408        0        0        0  8200.0            0.0            0   \n",
       "32409        0        0        0  8200.0            0.0            0   \n",
       "32410        0        0        0  4790.0            0.0            0   \n",
       "32411        0        0        0  8200.0            0.0            1   \n",
       "\n",
       "       is_canceled  new_loss  \n",
       "0                1    -280.0  \n",
       "1                1   -1400.0  \n",
       "2                1   -1400.0  \n",
       "3                1    -280.0  \n",
       "4                1   -1400.0  \n",
       "...            ...       ...  \n",
       "32407            0       0.0  \n",
       "32408            0       0.0  \n",
       "32409            0       0.0  \n",
       "32410            0       0.0  \n",
       "32411            0       0.0  \n",
       "\n",
       "[32412 rows x 39 columns]"
      ]
     },
     "metadata": {},
     "output_type": "display_data"
    }
   ],
   "source": [
    "features_test['profit'] = to_append_profit\n",
    "features_test['canceled_loss'] = to_append_canceled_loss\n",
    "features_test['predictions'] = predictions_test\n",
    "features_test['is_canceled'] = target_test\n",
    "\n",
    "deposit = 0.8\n",
    "\n",
    "def new_loss(row):\n",
    "    canceled = row['is_canceled']\n",
    "    cancel_predict = row['predictions']\n",
    "    old_loss = row['canceled_loss']\n",
    "    if canceled == 1 and cancel_predict == 1:\n",
    "        new_loss =  old_loss*(1-deposit)\n",
    "    else: new_loss = old_loss\n",
    "    return new_loss\n",
    "    \n",
    "features_test['new_loss'] = features_test.apply(new_loss, axis = 1)\n",
    "display(features_test)"
   ]
  },
  {
   "cell_type": "markdown",
   "metadata": {},
   "source": [
    "##### Вывод\n",
    "Вернем в датасет столбцы с прибылью и убыками. Так же добавим новый расчет потерь с учетом предсказаний модели."
   ]
  },
  {
   "cell_type": "markdown",
   "metadata": {},
   "source": [
    "#### Расчет итоговой прибыли"
   ]
  },
  {
   "cell_type": "code",
   "execution_count": 20,
   "metadata": {},
   "outputs": [
    {
     "data": {
      "text/html": [
       "<div>\n",
       "<style scoped>\n",
       "    .dataframe tbody tr th:only-of-type {\n",
       "        vertical-align: middle;\n",
       "    }\n",
       "\n",
       "    .dataframe tbody tr th {\n",
       "        vertical-align: top;\n",
       "    }\n",
       "\n",
       "    .dataframe thead th {\n",
       "        text-align: right;\n",
       "    }\n",
       "</style>\n",
       "<table border=\"1\" class=\"dataframe\">\n",
       "  <thead>\n",
       "    <tr style=\"text-align: right;\">\n",
       "      <th></th>\n",
       "      <th>arrival_date_month</th>\n",
       "      <th>canceled_loss</th>\n",
       "      <th>new_loss</th>\n",
       "      <th>difference</th>\n",
       "    </tr>\n",
       "  </thead>\n",
       "  <tbody>\n",
       "    <tr>\n",
       "      <th>0</th>\n",
       "      <td>1</td>\n",
       "      <td>-1351100.0</td>\n",
       "      <td>-762060.0</td>\n",
       "      <td>589040</td>\n",
       "    </tr>\n",
       "    <tr>\n",
       "      <th>1</th>\n",
       "      <td>2</td>\n",
       "      <td>-1405100.0</td>\n",
       "      <td>-853860.0</td>\n",
       "      <td>551240</td>\n",
       "    </tr>\n",
       "    <tr>\n",
       "      <th>2</th>\n",
       "      <td>3</td>\n",
       "      <td>-1708700.0</td>\n",
       "      <td>-849860.0</td>\n",
       "      <td>858840</td>\n",
       "    </tr>\n",
       "    <tr>\n",
       "      <th>3</th>\n",
       "      <td>4</td>\n",
       "      <td>-2654650.0</td>\n",
       "      <td>-1178050.0</td>\n",
       "      <td>1476600</td>\n",
       "    </tr>\n",
       "    <tr>\n",
       "      <th>4</th>\n",
       "      <td>5</td>\n",
       "      <td>-2863500.0</td>\n",
       "      <td>-1241540.0</td>\n",
       "      <td>1621960</td>\n",
       "    </tr>\n",
       "    <tr>\n",
       "      <th>5</th>\n",
       "      <td>6</td>\n",
       "      <td>-3315270.0</td>\n",
       "      <td>-1321262.0</td>\n",
       "      <td>1994008</td>\n",
       "    </tr>\n",
       "    <tr>\n",
       "      <th>6</th>\n",
       "      <td>7</td>\n",
       "      <td>-2027370.0</td>\n",
       "      <td>-1019922.0</td>\n",
       "      <td>1007448</td>\n",
       "    </tr>\n",
       "    <tr>\n",
       "      <th>7</th>\n",
       "      <td>8</td>\n",
       "      <td>-1672440.0</td>\n",
       "      <td>-851448.0</td>\n",
       "      <td>820992</td>\n",
       "    </tr>\n",
       "  </tbody>\n",
       "</table>\n",
       "</div>"
      ],
      "text/plain": [
       "   arrival_date_month  canceled_loss   new_loss  difference\n",
       "0                   1     -1351100.0  -762060.0      589040\n",
       "1                   2     -1405100.0  -853860.0      551240\n",
       "2                   3     -1708700.0  -849860.0      858840\n",
       "3                   4     -2654650.0 -1178050.0     1476600\n",
       "4                   5     -2863500.0 -1241540.0     1621960\n",
       "5                   6     -3315270.0 -1321262.0     1994008\n",
       "6                   7     -2027370.0 -1019922.0     1007448\n",
       "7                   8     -1672440.0  -851448.0      820992"
      ]
     },
     "metadata": {},
     "output_type": "display_data"
    },
    {
     "name": "stdout",
     "output_type": "stream",
     "text": [
      "Средняя прибыль модели за месяц: 1115016.0\n",
      "Общая прибыль модели за 2017 год: 8920128\n"
     ]
    }
   ],
   "source": [
    "pvt2 = pd.pivot_table(features_test, values = ['canceled_loss', 'new_loss'], index = ['arrival_date_month'],\n",
    "                   aggfunc = sum).reset_index()\n",
    "\n",
    "pvt2['difference'] = (abs(pvt2['canceled_loss']) - abs(pvt2['new_loss'])).astype(int)\n",
    "display(pvt2)\n",
    "difference_mean = pvt2['difference'].mean()\n",
    "difference_sum = pvt2['difference'].sum()\n",
    "print(f'Средняя прибыль модели за месяц: {difference_mean}')\n",
    "print(f'Общая прибыль модели за 2017 год: {difference_sum:0}')"
   ]
  },
  {
   "cell_type": "markdown",
   "metadata": {},
   "source": [
    "##### Вывод\n",
    "Такая модель с бюджетом в 400 тысяч окупится менее чем за месяц, особенно эффективно идея внедрения депозитов показывает себя в месяцы с повышенным сезонным коэффициентом. Такая модель может сократить убытки сети отелей около 8 млн. за 8 месяцев прогнозируемого года. И сокращать убытки на более, чем 1 млн каждый месяц."
   ]
  },
  {
   "cell_type": "markdown",
   "metadata": {},
   "source": [
    "### Шаг 5. Опишите портрет «ненадёжного» клиента"
   ]
  },
  {
   "cell_type": "markdown",
   "metadata": {},
   "source": [
    "#### Вес признаков при обучении модели"
   ]
  },
  {
   "cell_type": "code",
   "execution_count": 21,
   "metadata": {},
   "outputs": [
    {
     "data": {
      "text/html": [
       "<div>\n",
       "<style scoped>\n",
       "    .dataframe tbody tr th:only-of-type {\n",
       "        vertical-align: middle;\n",
       "    }\n",
       "\n",
       "    .dataframe tbody tr th {\n",
       "        vertical-align: top;\n",
       "    }\n",
       "\n",
       "    .dataframe thead th {\n",
       "        text-align: right;\n",
       "    }\n",
       "</style>\n",
       "<table border=\"1\" class=\"dataframe\">\n",
       "  <thead>\n",
       "    <tr style=\"text-align: right;\">\n",
       "      <th></th>\n",
       "      <th>features</th>\n",
       "      <th>feature_importances</th>\n",
       "    </tr>\n",
       "  </thead>\n",
       "  <tbody>\n",
       "    <tr>\n",
       "      <th>29</th>\n",
       "      <td>customer_type_Transient</td>\n",
       "      <td>0.630247</td>\n",
       "    </tr>\n",
       "    <tr>\n",
       "      <th>12</th>\n",
       "      <td>previous_cancellations</td>\n",
       "      <td>0.604776</td>\n",
       "    </tr>\n",
       "    <tr>\n",
       "      <th>21</th>\n",
       "      <td>distribution_channel_TA/TO</td>\n",
       "      <td>0.400772</td>\n",
       "    </tr>\n",
       "    <tr>\n",
       "      <th>7</th>\n",
       "      <td>adults</td>\n",
       "      <td>0.198717</td>\n",
       "    </tr>\n",
       "    <tr>\n",
       "      <th>33</th>\n",
       "      <td>meal_SC</td>\n",
       "      <td>0.137706</td>\n",
       "    </tr>\n",
       "    <tr>\n",
       "      <th>24</th>\n",
       "      <td>reserved_room_type_D</td>\n",
       "      <td>0.063723</td>\n",
       "    </tr>\n",
       "    <tr>\n",
       "      <th>5</th>\n",
       "      <td>stays_in_weekend_nights</td>\n",
       "      <td>0.056215</td>\n",
       "    </tr>\n",
       "    <tr>\n",
       "      <th>8</th>\n",
       "      <td>children</td>\n",
       "      <td>0.053987</td>\n",
       "    </tr>\n",
       "    <tr>\n",
       "      <th>31</th>\n",
       "      <td>meal_FB</td>\n",
       "      <td>0.026485</td>\n",
       "    </tr>\n",
       "    <tr>\n",
       "      <th>18</th>\n",
       "      <td>total_nights</td>\n",
       "      <td>0.018746</td>\n",
       "    </tr>\n",
       "    <tr>\n",
       "      <th>10</th>\n",
       "      <td>country</td>\n",
       "      <td>0.016722</td>\n",
       "    </tr>\n",
       "    <tr>\n",
       "      <th>0</th>\n",
       "      <td>lead_time</td>\n",
       "      <td>0.006688</td>\n",
       "    </tr>\n",
       "    <tr>\n",
       "      <th>4</th>\n",
       "      <td>arrival_date_day_of_month</td>\n",
       "      <td>0.005042</td>\n",
       "    </tr>\n",
       "    <tr>\n",
       "      <th>3</th>\n",
       "      <td>arrival_date_week_number</td>\n",
       "      <td>0.004339</td>\n",
       "    </tr>\n",
       "    <tr>\n",
       "      <th>2</th>\n",
       "      <td>arrival_date_month</td>\n",
       "      <td>0.003656</td>\n",
       "    </tr>\n",
       "    <tr>\n",
       "      <th>26</th>\n",
       "      <td>reserved_room_type_F</td>\n",
       "      <td>0.002306</td>\n",
       "    </tr>\n",
       "    <tr>\n",
       "      <th>27</th>\n",
       "      <td>reserved_room_type_G</td>\n",
       "      <td>-0.000695</td>\n",
       "    </tr>\n",
       "    <tr>\n",
       "      <th>20</th>\n",
       "      <td>distribution_channel_GDS</td>\n",
       "      <td>-0.001108</td>\n",
       "    </tr>\n",
       "    <tr>\n",
       "      <th>1</th>\n",
       "      <td>arrival_date_year</td>\n",
       "      <td>-0.001508</td>\n",
       "    </tr>\n",
       "    <tr>\n",
       "      <th>15</th>\n",
       "      <td>days_in_waiting_list</td>\n",
       "      <td>-0.003211</td>\n",
       "    </tr>\n",
       "    <tr>\n",
       "      <th>22</th>\n",
       "      <td>reserved_room_type_B</td>\n",
       "      <td>-0.005338</td>\n",
       "    </tr>\n",
       "    <tr>\n",
       "      <th>23</th>\n",
       "      <td>reserved_room_type_C</td>\n",
       "      <td>-0.008736</td>\n",
       "    </tr>\n",
       "    <tr>\n",
       "      <th>28</th>\n",
       "      <td>customer_type_Group</td>\n",
       "      <td>-0.015157</td>\n",
       "    </tr>\n",
       "    <tr>\n",
       "      <th>9</th>\n",
       "      <td>babies</td>\n",
       "      <td>-0.017565</td>\n",
       "    </tr>\n",
       "    <tr>\n",
       "      <th>6</th>\n",
       "      <td>stays_in_week_nights</td>\n",
       "      <td>-0.037469</td>\n",
       "    </tr>\n",
       "    <tr>\n",
       "      <th>25</th>\n",
       "      <td>reserved_room_type_E</td>\n",
       "      <td>-0.058749</td>\n",
       "    </tr>\n",
       "    <tr>\n",
       "      <th>11</th>\n",
       "      <td>is_repeated_guest</td>\n",
       "      <td>-0.064312</td>\n",
       "    </tr>\n",
       "    <tr>\n",
       "      <th>32</th>\n",
       "      <td>meal_HB</td>\n",
       "      <td>-0.097564</td>\n",
       "    </tr>\n",
       "    <tr>\n",
       "      <th>19</th>\n",
       "      <td>distribution_channel_Direct</td>\n",
       "      <td>-0.265873</td>\n",
       "    </tr>\n",
       "    <tr>\n",
       "      <th>16</th>\n",
       "      <td>required_car_parking_spaces</td>\n",
       "      <td>-0.303806</td>\n",
       "    </tr>\n",
       "    <tr>\n",
       "      <th>13</th>\n",
       "      <td>previous_bookings_not_canceled</td>\n",
       "      <td>-0.469724</td>\n",
       "    </tr>\n",
       "    <tr>\n",
       "      <th>30</th>\n",
       "      <td>customer_type_Transient-Party</td>\n",
       "      <td>-0.578579</td>\n",
       "    </tr>\n",
       "    <tr>\n",
       "      <th>14</th>\n",
       "      <td>booking_changes</td>\n",
       "      <td>-0.581423</td>\n",
       "    </tr>\n",
       "    <tr>\n",
       "      <th>17</th>\n",
       "      <td>total_of_special_requests</td>\n",
       "      <td>-0.972975</td>\n",
       "    </tr>\n",
       "  </tbody>\n",
       "</table>\n",
       "</div>"
      ],
      "text/plain": [
       "                          features  feature_importances\n",
       "29         customer_type_Transient             0.630247\n",
       "12          previous_cancellations             0.604776\n",
       "21      distribution_channel_TA/TO             0.400772\n",
       "7                           adults             0.198717\n",
       "33                         meal_SC             0.137706\n",
       "24            reserved_room_type_D             0.063723\n",
       "5          stays_in_weekend_nights             0.056215\n",
       "8                         children             0.053987\n",
       "31                         meal_FB             0.026485\n",
       "18                    total_nights             0.018746\n",
       "10                         country             0.016722\n",
       "0                        lead_time             0.006688\n",
       "4        arrival_date_day_of_month             0.005042\n",
       "3         arrival_date_week_number             0.004339\n",
       "2               arrival_date_month             0.003656\n",
       "26            reserved_room_type_F             0.002306\n",
       "27            reserved_room_type_G            -0.000695\n",
       "20        distribution_channel_GDS            -0.001108\n",
       "1                arrival_date_year            -0.001508\n",
       "15            days_in_waiting_list            -0.003211\n",
       "22            reserved_room_type_B            -0.005338\n",
       "23            reserved_room_type_C            -0.008736\n",
       "28             customer_type_Group            -0.015157\n",
       "9                           babies            -0.017565\n",
       "6             stays_in_week_nights            -0.037469\n",
       "25            reserved_room_type_E            -0.058749\n",
       "11               is_repeated_guest            -0.064312\n",
       "32                         meal_HB            -0.097564\n",
       "19     distribution_channel_Direct            -0.265873\n",
       "16     required_car_parking_spaces            -0.303806\n",
       "13  previous_bookings_not_canceled            -0.469724\n",
       "30   customer_type_Transient-Party            -0.578579\n",
       "14                 booking_changes            -0.581423\n",
       "17       total_of_special_requests            -0.972975"
      ]
     },
     "metadata": {},
     "output_type": "display_data"
    },
    {
     "data": {
      "text/plain": [
       "<AxesSubplot:title={'center':'Feature Importance'}, ylabel='features'>"
      ]
     },
     "execution_count": 21,
     "metadata": {},
     "output_type": "execute_result"
    },
    {
     "data": {
      "image/png": "[encoded data removed]",
      "text/plain": [
       "<Figure size 720x720 with 1 Axes>"
      ]
     },
     "metadata": {
      "needs_background": "light"
     },
     "output_type": "display_data"
    }
   ],
   "source": [
    "feature_importances = best_model.coef_[0]\n",
    "features_df = pd.DataFrame({'features':list(features_train),\n",
    "    'feature_importances': feature_importances}).sort_values(by='feature_importances', ascending = False)\n",
    "display(features_df)\n",
    "\n",
    "feature_importances = pd.Series(feature_importances)\n",
    "features_df.plot.barh(x = 'features', y ='feature_importances',title = 'Feature Importance',figsize=(10,10))"
   ]
  },
  {
   "cell_type": "markdown",
   "metadata": {},
   "source": [
    "##### Вывод\n",
    "Достали 'вес' признаков из модели, то есть те, которые модель считает наиболее весомыми. Рассмотрим 6 из них более детально."
   ]
  },
  {
   "cell_type": "markdown",
   "metadata": {},
   "source": [
    "#### Исследовательский анализ для булевых признаков"
   ]
  },
  {
   "cell_type": "code",
   "execution_count": 22,
   "metadata": {
    "scrolled": false
   },
   "outputs": [
    {
     "name": "stdout",
     "output_type": "stream",
     "text": [
      "Средний процент отказавшихся от брони по всем данным за 2017 год: 0.3884672343576453\n"
     ]
    },
    {
     "data": {
      "text/html": [
       "<div>\n",
       "<style scoped>\n",
       "    .dataframe tbody tr th:only-of-type {\n",
       "        vertical-align: middle;\n",
       "    }\n",
       "\n",
       "    .dataframe tbody tr th {\n",
       "        vertical-align: top;\n",
       "    }\n",
       "\n",
       "    .dataframe thead th {\n",
       "        text-align: right;\n",
       "    }\n",
       "</style>\n",
       "<table border=\"1\" class=\"dataframe\">\n",
       "  <thead>\n",
       "    <tr style=\"text-align: right;\">\n",
       "      <th></th>\n",
       "      <th>is_canceled</th>\n",
       "    </tr>\n",
       "    <tr>\n",
       "      <th>customer_type_Transient</th>\n",
       "      <th></th>\n",
       "    </tr>\n",
       "  </thead>\n",
       "  <tbody>\n",
       "    <tr>\n",
       "      <th>0</th>\n",
       "      <td>0.158756</td>\n",
       "    </tr>\n",
       "    <tr>\n",
       "      <th>1</th>\n",
       "      <td>0.429882</td>\n",
       "    </tr>\n",
       "  </tbody>\n",
       "</table>\n",
       "</div>"
      ],
      "text/plain": [
       "                         is_canceled\n",
       "customer_type_Transient             \n",
       "0                           0.158756\n",
       "1                           0.429882"
      ]
     },
     "metadata": {},
     "output_type": "display_data"
    },
    {
     "data": {
      "text/html": [
       "<div>\n",
       "<style scoped>\n",
       "    .dataframe tbody tr th:only-of-type {\n",
       "        vertical-align: middle;\n",
       "    }\n",
       "\n",
       "    .dataframe tbody tr th {\n",
       "        vertical-align: top;\n",
       "    }\n",
       "\n",
       "    .dataframe thead th {\n",
       "        text-align: right;\n",
       "    }\n",
       "</style>\n",
       "<table border=\"1\" class=\"dataframe\">\n",
       "  <thead>\n",
       "    <tr style=\"text-align: right;\">\n",
       "      <th></th>\n",
       "      <th>is_canceled</th>\n",
       "    </tr>\n",
       "    <tr>\n",
       "      <th>distribution_channel_TA/TO</th>\n",
       "      <th></th>\n",
       "    </tr>\n",
       "  </thead>\n",
       "  <tbody>\n",
       "    <tr>\n",
       "      <th>0</th>\n",
       "      <td>0.196472</td>\n",
       "    </tr>\n",
       "    <tr>\n",
       "      <th>1</th>\n",
       "      <td>0.426245</td>\n",
       "    </tr>\n",
       "  </tbody>\n",
       "</table>\n",
       "</div>"
      ],
      "text/plain": [
       "                            is_canceled\n",
       "distribution_channel_TA/TO             \n",
       "0                              0.196472\n",
       "1                              0.426245"
      ]
     },
     "metadata": {},
     "output_type": "display_data"
    },
    {
     "data": {
      "text/html": [
       "<div>\n",
       "<style scoped>\n",
       "    .dataframe tbody tr th:only-of-type {\n",
       "        vertical-align: middle;\n",
       "    }\n",
       "\n",
       "    .dataframe tbody tr th {\n",
       "        vertical-align: top;\n",
       "    }\n",
       "\n",
       "    .dataframe thead th {\n",
       "        text-align: right;\n",
       "    }\n",
       "</style>\n",
       "<table border=\"1\" class=\"dataframe\">\n",
       "  <thead>\n",
       "    <tr style=\"text-align: right;\">\n",
       "      <th></th>\n",
       "      <th>is_canceled</th>\n",
       "    </tr>\n",
       "    <tr>\n",
       "      <th>customer_type_Transient-Party</th>\n",
       "      <th></th>\n",
       "    </tr>\n",
       "  </thead>\n",
       "  <tbody>\n",
       "    <tr>\n",
       "      <th>0</th>\n",
       "      <td>0.423727</td>\n",
       "    </tr>\n",
       "    <tr>\n",
       "      <th>1</th>\n",
       "      <td>0.165575</td>\n",
       "    </tr>\n",
       "  </tbody>\n",
       "</table>\n",
       "</div>"
      ],
      "text/plain": [
       "                               is_canceled\n",
       "customer_type_Transient-Party             \n",
       "0                                 0.423727\n",
       "1                                 0.165575"
      ]
     },
     "metadata": {},
     "output_type": "display_data"
    }
   ],
   "source": [
    "\n",
    "columns_to_analyse = ['customer_type_Transient', 'distribution_channel_TA/TO', 'customer_type_Transient-Party']\n",
    "\n",
    "mean = features_test['is_canceled'].mean()\n",
    "\n",
    "print(f'Средний процент отказавшихся от брони по всем данным за 2017 год: {mean}')\n",
    "\n",
    "for column in columns_to_analyse:\n",
    "    display(pd.pivot_table(features_test, index = column, values = 'is_canceled',aggfunc='mean'))\n"
   ]
  },
  {
   "cell_type": "markdown",
   "metadata": {},
   "source": [
    "##### Вывод\n",
    "Мы видим, что за 2017, около 39% клиентов отказываются от брони. Рассмотрим процентное распределение внутри каждого 'весомого' признака. Тут мы уже можем выделить взаимосвязи:\n",
    "- Если тип заказчика 'Transient-Party' вероятность отмены брони уже резко падает до 16%\n",
    "- Если канал дистибуции заказа не 'TA/TO' то вероятность отмены брони падает 19%"
   ]
  },
  {
   "cell_type": "markdown",
   "metadata": {},
   "source": [
    "#### Исследовательский анализ для числовых признаков"
   ]
  },
  {
   "cell_type": "code",
   "execution_count": 23,
   "metadata": {
    "scrolled": false
   },
   "outputs": [
    {
     "name": "stdout",
     "output_type": "stream",
     "text": [
      "------------------------------\n",
      "Измерения по призанку: previous_cancellations\n"
     ]
    },
    {
     "data": {
      "image/png": "[encoded data removed]",
      "text/plain": [
       "<Figure size 432x288 with 1 Axes>"
      ]
     },
     "metadata": {
      "needs_background": "light"
     },
     "output_type": "display_data"
    },
    {
     "data": {
      "text/html": [
       "<div>\n",
       "<style scoped>\n",
       "    .dataframe tbody tr th:only-of-type {\n",
       "        vertical-align: middle;\n",
       "    }\n",
       "\n",
       "    .dataframe tbody tr th {\n",
       "        vertical-align: top;\n",
       "    }\n",
       "\n",
       "    .dataframe thead th {\n",
       "        text-align: right;\n",
       "    }\n",
       "</style>\n",
       "<table border=\"1\" class=\"dataframe\">\n",
       "  <thead>\n",
       "    <tr style=\"text-align: right;\">\n",
       "      <th></th>\n",
       "      <th>previous_cancellations</th>\n",
       "      <th>is_canceled</th>\n",
       "    </tr>\n",
       "  </thead>\n",
       "  <tbody>\n",
       "    <tr>\n",
       "      <th>0</th>\n",
       "      <td>0</td>\n",
       "      <td>0.390108</td>\n",
       "    </tr>\n",
       "    <tr>\n",
       "      <th>1</th>\n",
       "      <td>1</td>\n",
       "      <td>0.157576</td>\n",
       "    </tr>\n",
       "    <tr>\n",
       "      <th>2</th>\n",
       "      <td>2</td>\n",
       "      <td>0.137931</td>\n",
       "    </tr>\n",
       "    <tr>\n",
       "      <th>3</th>\n",
       "      <td>3</td>\n",
       "      <td>0.333333</td>\n",
       "    </tr>\n",
       "    <tr>\n",
       "      <th>4</th>\n",
       "      <td>4</td>\n",
       "      <td>0.300000</td>\n",
       "    </tr>\n",
       "    <tr>\n",
       "      <th>5</th>\n",
       "      <td>5</td>\n",
       "      <td>0.000000</td>\n",
       "    </tr>\n",
       "    <tr>\n",
       "      <th>6</th>\n",
       "      <td>6</td>\n",
       "      <td>0.000000</td>\n",
       "    </tr>\n",
       "  </tbody>\n",
       "</table>\n",
       "</div>"
      ],
      "text/plain": [
       "   previous_cancellations  is_canceled\n",
       "0                       0     0.390108\n",
       "1                       1     0.157576\n",
       "2                       2     0.137931\n",
       "3                       3     0.333333\n",
       "4                       4     0.300000\n",
       "5                       5     0.000000\n",
       "6                       6     0.000000"
      ]
     },
     "metadata": {},
     "output_type": "display_data"
    },
    {
     "name": "stdout",
     "output_type": "stream",
     "text": [
      "------------------------------\n",
      "------------------------------\n",
      "Измерения по призанку: booking_changes\n"
     ]
    },
    {
     "data": {
      "image/png": "[encoded data removed]",
      "text/plain": [
       "<Figure size 432x288 with 1 Axes>"
      ]
     },
     "metadata": {
      "needs_background": "light"
     },
     "output_type": "display_data"
    },
    {
     "data": {
      "text/html": [
       "<div>\n",
       "<style scoped>\n",
       "    .dataframe tbody tr th:only-of-type {\n",
       "        vertical-align: middle;\n",
       "    }\n",
       "\n",
       "    .dataframe tbody tr th {\n",
       "        vertical-align: top;\n",
       "    }\n",
       "\n",
       "    .dataframe thead th {\n",
       "        text-align: right;\n",
       "    }\n",
       "</style>\n",
       "<table border=\"1\" class=\"dataframe\">\n",
       "  <thead>\n",
       "    <tr style=\"text-align: right;\">\n",
       "      <th></th>\n",
       "      <th>booking_changes</th>\n",
       "      <th>is_canceled</th>\n",
       "    </tr>\n",
       "  </thead>\n",
       "  <tbody>\n",
       "    <tr>\n",
       "      <th>0</th>\n",
       "      <td>0</td>\n",
       "      <td>0.425086</td>\n",
       "    </tr>\n",
       "    <tr>\n",
       "      <th>1</th>\n",
       "      <td>1</td>\n",
       "      <td>0.130179</td>\n",
       "    </tr>\n",
       "    <tr>\n",
       "      <th>2</th>\n",
       "      <td>2</td>\n",
       "      <td>0.268966</td>\n",
       "    </tr>\n",
       "    <tr>\n",
       "      <th>3</th>\n",
       "      <td>3</td>\n",
       "      <td>0.190299</td>\n",
       "    </tr>\n",
       "    <tr>\n",
       "      <th>4</th>\n",
       "      <td>4</td>\n",
       "      <td>0.196581</td>\n",
       "    </tr>\n",
       "    <tr>\n",
       "      <th>5</th>\n",
       "      <td>5</td>\n",
       "      <td>0.172414</td>\n",
       "    </tr>\n",
       "    <tr>\n",
       "      <th>6</th>\n",
       "      <td>6</td>\n",
       "      <td>0.437500</td>\n",
       "    </tr>\n",
       "    <tr>\n",
       "      <th>7</th>\n",
       "      <td>7</td>\n",
       "      <td>0.000000</td>\n",
       "    </tr>\n",
       "    <tr>\n",
       "      <th>8</th>\n",
       "      <td>8</td>\n",
       "      <td>0.000000</td>\n",
       "    </tr>\n",
       "    <tr>\n",
       "      <th>9</th>\n",
       "      <td>10</td>\n",
       "      <td>0.000000</td>\n",
       "    </tr>\n",
       "    <tr>\n",
       "      <th>10</th>\n",
       "      <td>11</td>\n",
       "      <td>0.000000</td>\n",
       "    </tr>\n",
       "    <tr>\n",
       "      <th>11</th>\n",
       "      <td>14</td>\n",
       "      <td>0.000000</td>\n",
       "    </tr>\n",
       "    <tr>\n",
       "      <th>12</th>\n",
       "      <td>15</td>\n",
       "      <td>0.000000</td>\n",
       "    </tr>\n",
       "    <tr>\n",
       "      <th>13</th>\n",
       "      <td>16</td>\n",
       "      <td>0.000000</td>\n",
       "    </tr>\n",
       "    <tr>\n",
       "      <th>14</th>\n",
       "      <td>18</td>\n",
       "      <td>0.000000</td>\n",
       "    </tr>\n",
       "  </tbody>\n",
       "</table>\n",
       "</div>"
      ],
      "text/plain": [
       "    booking_changes  is_canceled\n",
       "0                 0     0.425086\n",
       "1                 1     0.130179\n",
       "2                 2     0.268966\n",
       "3                 3     0.190299\n",
       "4                 4     0.196581\n",
       "5                 5     0.172414\n",
       "6                 6     0.437500\n",
       "7                 7     0.000000\n",
       "8                 8     0.000000\n",
       "9                10     0.000000\n",
       "10               11     0.000000\n",
       "11               14     0.000000\n",
       "12               15     0.000000\n",
       "13               16     0.000000\n",
       "14               18     0.000000"
      ]
     },
     "metadata": {},
     "output_type": "display_data"
    },
    {
     "name": "stdout",
     "output_type": "stream",
     "text": [
      "------------------------------\n",
      "------------------------------\n",
      "Измерения по призанку: total_of_special_requests\n"
     ]
    },
    {
     "data": {
      "image/png": "[encoded data removed]",
      "text/plain": [
       "<Figure size 432x288 with 1 Axes>"
      ]
     },
     "metadata": {
      "needs_background": "light"
     },
     "output_type": "display_data"
    },
    {
     "data": {
      "text/html": [
       "<div>\n",
       "<style scoped>\n",
       "    .dataframe tbody tr th:only-of-type {\n",
       "        vertical-align: middle;\n",
       "    }\n",
       "\n",
       "    .dataframe tbody tr th {\n",
       "        vertical-align: top;\n",
       "    }\n",
       "\n",
       "    .dataframe thead th {\n",
       "        text-align: right;\n",
       "    }\n",
       "</style>\n",
       "<table border=\"1\" class=\"dataframe\">\n",
       "  <thead>\n",
       "    <tr style=\"text-align: right;\">\n",
       "      <th></th>\n",
       "      <th>total_of_special_requests</th>\n",
       "      <th>is_canceled</th>\n",
       "    </tr>\n",
       "  </thead>\n",
       "  <tbody>\n",
       "    <tr>\n",
       "      <th>0</th>\n",
       "      <td>0</td>\n",
       "      <td>0.494578</td>\n",
       "    </tr>\n",
       "    <tr>\n",
       "      <th>1</th>\n",
       "      <td>1</td>\n",
       "      <td>0.278968</td>\n",
       "    </tr>\n",
       "    <tr>\n",
       "      <th>2</th>\n",
       "      <td>2</td>\n",
       "      <td>0.262287</td>\n",
       "    </tr>\n",
       "    <tr>\n",
       "      <th>3</th>\n",
       "      <td>3</td>\n",
       "      <td>0.171996</td>\n",
       "    </tr>\n",
       "    <tr>\n",
       "      <th>4</th>\n",
       "      <td>4</td>\n",
       "      <td>0.104839</td>\n",
       "    </tr>\n",
       "    <tr>\n",
       "      <th>5</th>\n",
       "      <td>5</td>\n",
       "      <td>0.055556</td>\n",
       "    </tr>\n",
       "  </tbody>\n",
       "</table>\n",
       "</div>"
      ],
      "text/plain": [
       "   total_of_special_requests  is_canceled\n",
       "0                          0     0.494578\n",
       "1                          1     0.278968\n",
       "2                          2     0.262287\n",
       "3                          3     0.171996\n",
       "4                          4     0.104839\n",
       "5                          5     0.055556"
      ]
     },
     "metadata": {},
     "output_type": "display_data"
    },
    {
     "name": "stdout",
     "output_type": "stream",
     "text": [
      "------------------------------\n"
     ]
    }
   ],
   "source": [
    "columns_to_analyse = ['previous_cancellations', 'booking_changes','total_of_special_requests']\n",
    "for column in columns_to_analyse:\n",
    "    print('------------------------------')\n",
    "    print(f'Измерения по призанку: {column}')\n",
    "    pt = pd.pivot_table(features_test, index = column, values = 'is_canceled',aggfunc='mean').reset_index()\n",
    "    pt.plot(x=column)\n",
    "    plt.show()\n",
    "    display(pt)\n",
    "    print('------------------------------')\n",
    "\n"
   ]
  },
  {
   "cell_type": "markdown",
   "metadata": {},
   "source": [
    "##### Вывод\n",
    "Опишем выводы по каждому из признаков:\n",
    "\n",
    "<ol>\n",
    "<li>previous_cancellations (количество отменённых заказов у клиента) - Мы видим, что среди людей, которые никогда не отменяли брони % отмены распределяется почти так же как и по всему датасету (39% и 38%), но далее можно сделать контринтуитивный вывод, а именно: вероятность, что клиент отменит бронь, если он уже её отменял 1 раз становится меньше, чем если бы отмен не было, а именно 16%. Если 2 раза - еще меньше 14%. Исследований с признаком > 2 слишком мало,что бы сделать выводы. Остановимся на этом.</li>\n",
    "\n",
    "<li>booking_changes (количество изменений параметров заказа) - здесь мы видим V образное распределение данных. Это означает, что если изменений параметров заказа не было, или их было слишком много (>5) - вероятность отмены заказа высокая. Таким образом наименьшую вероятность отмены брони составляют переменные признака, которые попадают в данный диапазон: от 0 до 5\n",
    "</li>\n",
    "\n",
    "<li>total_of_special_requests (количество специальных отметок) - здесь стабильно убывающий график. Т.е. При увеличении числа специальных отметок уменьшается вероятность отмены заказа, при чем диапазон вероятностей начинается с 49% и заканчивается 6%.\n",
    "Это можно связять с тем, что клиенты, которые более точно и осмысленно склонны планировать свой комфорт во время пребывания в отеле так же более осмысленно принимают решения о бронировании номера и не склонны это решение менять.</li>\n",
    "</ol>"
   ]
  },
  {
   "cell_type": "markdown",
   "metadata": {},
   "source": [
    "### Шаг 6. Напишите общий вывод"
   ]
  },
  {
   "cell_type": "markdown",
   "metadata": {},
   "source": [
    "<i>И так мы выяслили, что наш классификатор логистической регрессии может сократить убытки сети отделей более чем на 1 млн. в месяц, со сроком окупаемости менее, чем за 1 месяц. Так же теперь мы можем составить примерный портрет клиента, который с наименьшей вероятностью откажется от бронирования номера. это:\n",
    "- Клиент, который точно знает, что хочет получить от пребывания в отделе и вносит большое кол-во специальных отметок\n",
    "- Клиент, который изменит параметры заказа в уже забронированном номере, но не слишком много раз (от 1 до 5)\n",
    "- Тип клиента 'Transient-Party'\n",
    "- Канал, с которого пришел клиент не TA/TO\n",
    "\n",
    "Выведем средний % отказа по таким клиентам:\n",
    "<i>"
   ]
  },
  {
   "cell_type": "code",
   "execution_count": 24,
   "metadata": {},
   "outputs": [
    {
     "name": "stdout",
     "output_type": "stream",
     "text": [
      "33\n"
     ]
    },
    {
     "data": {
      "text/plain": [
       "0.030303030303030304"
      ]
     },
     "execution_count": 24,
     "metadata": {},
     "output_type": "execute_result"
    }
   ],
   "source": [
    "best_client = features_test[features_test['distribution_channel_TA/TO']!= 1]\n",
    "best_client = best_client[best_client['total_of_special_requests']>= 1]\n",
    "best_client = best_client[best_client['previous_cancellations']>0]\n",
    "best_client = best_client[best_client['booking_changes'] > 0]\n",
    "best_client = best_client[best_client['booking_changes'] < 6]\n",
    "print(len(best_client))\n",
    "best_client['is_canceled'].mean()"
   ]
  },
  {
   "cell_type": "markdown",
   "metadata": {},
   "source": [
    "<i> Количество условий немного сократили, так как исследований сликом мало, но мы уже видим, что по 33 клиентам, которые попали под условия выше процент отказа составляет около 3%<i>"
   ]
  },
  {
   "cell_type": "markdown",
   "metadata": {},
   "source": [
    "<i> Теперь перейдем к параметрам, которые либо слабо, либо никак не влияют на 'надежность' клиента:\n",
    "- Тип питания, который выбирает клиент\n",
    "- Страна, из которой пребывает клиент\n",
    "- Дни, в которые клиент будет пользоваться услугами отеля (будни/выходные)\n",
    "- Количество дней между датой бронирования и датой прибытия\n",
    "- Сколько дней заказ ожидал подтверждения\n",
    "<i>"
   ]
  },
  {
   "cell_type": "code",
   "execution_count": null,
   "metadata": {},
   "outputs": [],
   "source": []
  }
 ],
 "metadata": {
  "ExecuteTimeLog": [
   {
    "duration": 51,
    "start_time": "2022-12-20T07:22:14.394Z"
   },
   {
    "duration": 376,
    "start_time": "2022-12-20T07:22:37.618Z"
   },
   {
    "duration": 628,
    "start_time": "2022-12-20T07:22:37.996Z"
   },
   {
    "duration": 285,
    "start_time": "2022-12-20T07:23:13.890Z"
   },
   {
    "duration": 294,
    "start_time": "2022-12-20T07:23:28.362Z"
   },
   {
    "duration": 370,
    "start_time": "2022-12-20T07:23:44.347Z"
   },
   {
    "duration": 54,
    "start_time": "2022-12-21T07:16:43.619Z"
   },
   {
    "duration": 7,
    "start_time": "2022-12-21T07:16:46.790Z"
   },
   {
    "duration": 430,
    "start_time": "2022-12-21T07:16:49.117Z"
   },
   {
    "duration": 1002,
    "start_time": "2022-12-21T07:16:49.646Z"
   },
   {
    "duration": 32,
    "start_time": "2022-12-21T07:16:50.701Z"
   },
   {
    "duration": 61,
    "start_time": "2022-12-21T07:17:04.078Z"
   },
   {
    "duration": 64,
    "start_time": "2022-12-21T07:17:33.680Z"
   },
   {
    "duration": 8,
    "start_time": "2022-12-21T07:17:49.359Z"
   },
   {
    "duration": 8,
    "start_time": "2022-12-21T07:18:02.815Z"
   },
   {
    "duration": 1163,
    "start_time": "2022-12-21T07:19:52.122Z"
   },
   {
    "duration": 15,
    "start_time": "2022-12-21T07:20:02.496Z"
   },
   {
    "duration": 7,
    "start_time": "2022-12-21T07:20:23.864Z"
   },
   {
    "duration": 9,
    "start_time": "2022-12-21T07:23:41.100Z"
   },
   {
    "duration": 11,
    "start_time": "2022-12-21T07:23:51.652Z"
   },
   {
    "duration": 132,
    "start_time": "2022-12-21T07:24:54.438Z"
   },
   {
    "duration": 114,
    "start_time": "2022-12-21T07:25:26.700Z"
   },
   {
    "duration": 110,
    "start_time": "2022-12-21T07:25:31.838Z"
   },
   {
    "duration": 128,
    "start_time": "2022-12-21T07:28:12.181Z"
   },
   {
    "duration": 63,
    "start_time": "2022-12-21T07:28:32.103Z"
   },
   {
    "duration": 90,
    "start_time": "2022-12-21T07:28:44.847Z"
   },
   {
    "duration": 8,
    "start_time": "2022-12-21T07:30:24.549Z"
   },
   {
    "duration": 65,
    "start_time": "2022-12-21T07:30:29.421Z"
   },
   {
    "duration": 60,
    "start_time": "2022-12-21T07:31:21.400Z"
   },
   {
    "duration": 120,
    "start_time": "2022-12-21T07:31:29.839Z"
   },
   {
    "duration": 1566,
    "start_time": "2022-12-21T07:44:27.084Z"
   },
   {
    "duration": 152,
    "start_time": "2022-12-21T07:44:38.573Z"
   },
   {
    "duration": 307,
    "start_time": "2022-12-21T07:50:28.679Z"
   },
   {
    "duration": 90,
    "start_time": "2022-12-21T07:51:50.663Z"
   },
   {
    "duration": 89,
    "start_time": "2022-12-21T07:52:39.001Z"
   },
   {
    "duration": 24,
    "start_time": "2022-12-21T07:53:33.282Z"
   },
   {
    "duration": 35,
    "start_time": "2022-12-21T07:54:07.890Z"
   },
   {
    "duration": 296,
    "start_time": "2022-12-21T08:08:56.039Z"
   },
   {
    "duration": 9,
    "start_time": "2022-12-21T08:12:00.194Z"
   },
   {
    "duration": 3,
    "start_time": "2022-12-21T08:12:02.770Z"
   },
   {
    "duration": 323,
    "start_time": "2022-12-21T08:12:02.776Z"
   },
   {
    "duration": 99,
    "start_time": "2022-12-21T08:12:03.101Z"
   },
   {
    "duration": 72,
    "start_time": "2022-12-21T08:12:03.203Z"
   },
   {
    "duration": 282,
    "start_time": "2022-12-21T08:12:03.277Z"
   },
   {
    "duration": 34,
    "start_time": "2022-12-21T08:12:03.560Z"
   },
   {
    "duration": 37,
    "start_time": "2022-12-21T08:12:50.273Z"
   },
   {
    "duration": 88,
    "start_time": "2022-12-21T08:13:52.743Z"
   },
   {
    "duration": 410,
    "start_time": "2022-12-21T08:14:41.381Z"
   },
   {
    "duration": 3,
    "start_time": "2022-12-21T08:14:48.377Z"
   },
   {
    "duration": 346,
    "start_time": "2022-12-21T08:14:48.383Z"
   },
   {
    "duration": 108,
    "start_time": "2022-12-21T08:14:48.731Z"
   },
   {
    "duration": 69,
    "start_time": "2022-12-21T08:14:48.851Z"
   },
   {
    "duration": 396,
    "start_time": "2022-12-21T08:14:48.922Z"
   },
   {
    "duration": 60,
    "start_time": "2022-12-21T08:14:49.321Z"
   },
   {
    "duration": 8,
    "start_time": "2022-12-21T08:29:01.478Z"
   },
   {
    "duration": 16,
    "start_time": "2022-12-21T08:29:08.522Z"
   },
   {
    "duration": 17,
    "start_time": "2022-12-21T08:29:14.064Z"
   },
   {
    "duration": 50,
    "start_time": "2022-12-21T08:30:19.137Z"
   },
   {
    "duration": 116,
    "start_time": "2022-12-21T08:45:40.601Z"
   },
   {
    "duration": 15,
    "start_time": "2022-12-21T08:49:36.002Z"
   },
   {
    "duration": 96,
    "start_time": "2022-12-21T08:51:23.725Z"
   },
   {
    "duration": 112,
    "start_time": "2022-12-21T08:53:05.213Z"
   },
   {
    "duration": 121,
    "start_time": "2022-12-21T08:54:08.445Z"
   },
   {
    "duration": 10,
    "start_time": "2022-12-21T09:53:55.489Z"
   },
   {
    "duration": 3,
    "start_time": "2022-12-21T09:55:52.458Z"
   },
   {
    "duration": 74,
    "start_time": "2022-12-21T09:58:01.148Z"
   },
   {
    "duration": 4,
    "start_time": "2022-12-21T09:58:11.063Z"
   },
   {
    "duration": 6,
    "start_time": "2022-12-21T09:58:38.052Z"
   },
   {
    "duration": 279,
    "start_time": "2022-12-21T09:59:55.797Z"
   },
   {
    "duration": 302,
    "start_time": "2022-12-21T10:01:59.542Z"
   },
   {
    "duration": 47,
    "start_time": "2022-12-21T10:03:36.633Z"
   },
   {
    "duration": 283,
    "start_time": "2022-12-21T10:03:47.532Z"
   },
   {
    "duration": 3,
    "start_time": "2022-12-21T10:04:13.788Z"
   },
   {
    "duration": 335,
    "start_time": "2022-12-21T10:04:13.793Z"
   },
   {
    "duration": 154,
    "start_time": "2022-12-21T10:04:14.130Z"
   },
   {
    "duration": 91,
    "start_time": "2022-12-21T10:04:14.286Z"
   },
   {
    "duration": 370,
    "start_time": "2022-12-21T10:04:14.380Z"
   },
   {
    "duration": 54,
    "start_time": "2022-12-21T10:04:14.753Z"
   },
   {
    "duration": 20,
    "start_time": "2022-12-21T10:04:14.809Z"
   },
   {
    "duration": 57,
    "start_time": "2022-12-21T10:04:14.852Z"
   },
   {
    "duration": 52,
    "start_time": "2022-12-21T10:04:14.911Z"
   },
   {
    "duration": 94,
    "start_time": "2022-12-21T10:04:14.966Z"
   },
   {
    "duration": 0,
    "start_time": "2022-12-21T10:04:15.062Z"
   },
   {
    "duration": 76,
    "start_time": "2022-12-21T10:24:03.093Z"
   },
   {
    "duration": 11,
    "start_time": "2022-12-21T10:24:33.398Z"
   },
   {
    "duration": 11,
    "start_time": "2022-12-21T10:24:39.053Z"
   },
   {
    "duration": 5,
    "start_time": "2022-12-21T10:24:43.053Z"
   },
   {
    "duration": 4,
    "start_time": "2022-12-21T10:24:46.885Z"
   },
   {
    "duration": 76,
    "start_time": "2022-12-21T10:40:00.360Z"
   },
   {
    "duration": 143,
    "start_time": "2022-12-21T10:40:09.208Z"
   },
   {
    "duration": 7,
    "start_time": "2022-12-21T10:40:14.151Z"
   },
   {
    "duration": 145,
    "start_time": "2022-12-21T10:52:11.114Z"
   },
   {
    "duration": 59,
    "start_time": "2022-12-21T10:53:09.353Z"
   },
   {
    "duration": 70,
    "start_time": "2022-12-21T10:53:21.257Z"
   },
   {
    "duration": 3,
    "start_time": "2022-12-21T10:53:26.170Z"
   },
   {
    "duration": 394,
    "start_time": "2022-12-21T10:53:26.176Z"
   },
   {
    "duration": 135,
    "start_time": "2022-12-21T10:53:26.571Z"
   },
   {
    "duration": 80,
    "start_time": "2022-12-21T10:53:26.708Z"
   },
   {
    "duration": 315,
    "start_time": "2022-12-21T10:53:26.790Z"
   },
   {
    "duration": 44,
    "start_time": "2022-12-21T10:53:27.107Z"
   },
   {
    "duration": 16,
    "start_time": "2022-12-21T10:53:27.153Z"
   },
   {
    "duration": 37,
    "start_time": "2022-12-21T10:53:27.171Z"
   },
   {
    "duration": 1040,
    "start_time": "2022-12-21T10:53:27.210Z"
   },
   {
    "duration": 0,
    "start_time": "2022-12-21T10:53:28.252Z"
   },
   {
    "duration": 432,
    "start_time": "2022-12-21T10:53:54.746Z"
   },
   {
    "duration": 391,
    "start_time": "2022-12-21T10:53:55.181Z"
   },
   {
    "duration": 196,
    "start_time": "2022-12-21T10:53:55.574Z"
   },
   {
    "duration": 82,
    "start_time": "2022-12-21T10:53:55.772Z"
   },
   {
    "duration": 567,
    "start_time": "2022-12-21T10:53:55.856Z"
   },
   {
    "duration": 42,
    "start_time": "2022-12-21T10:53:56.425Z"
   },
   {
    "duration": 17,
    "start_time": "2022-12-21T10:53:56.468Z"
   },
   {
    "duration": 69,
    "start_time": "2022-12-21T10:53:56.487Z"
   },
   {
    "duration": 1173,
    "start_time": "2022-12-21T10:53:56.558Z"
   },
   {
    "duration": 0,
    "start_time": "2022-12-21T10:53:57.733Z"
   },
   {
    "duration": 144,
    "start_time": "2022-12-21T10:54:58.371Z"
   },
   {
    "duration": 4,
    "start_time": "2022-12-21T10:55:00.247Z"
   },
   {
    "duration": 357,
    "start_time": "2022-12-21T10:55:00.253Z"
   },
   {
    "duration": 179,
    "start_time": "2022-12-21T10:55:00.612Z"
   },
   {
    "duration": 89,
    "start_time": "2022-12-21T10:55:00.793Z"
   },
   {
    "duration": 320,
    "start_time": "2022-12-21T10:55:00.884Z"
   },
   {
    "duration": 49,
    "start_time": "2022-12-21T10:55:01.205Z"
   },
   {
    "duration": 41,
    "start_time": "2022-12-21T10:55:01.256Z"
   },
   {
    "duration": 74,
    "start_time": "2022-12-21T10:55:01.299Z"
   },
   {
    "duration": 1573,
    "start_time": "2022-12-21T10:55:01.375Z"
   },
   {
    "duration": 4,
    "start_time": "2022-12-21T10:55:02.951Z"
   },
   {
    "duration": 1710,
    "start_time": "2022-12-21T10:55:12.756Z"
   },
   {
    "duration": 1601,
    "start_time": "2022-12-21T10:56:49.813Z"
   },
   {
    "duration": 1791,
    "start_time": "2022-12-21T10:57:19.108Z"
   },
   {
    "duration": 1698,
    "start_time": "2022-12-21T10:59:58.486Z"
   },
   {
    "duration": 1578,
    "start_time": "2022-12-21T11:00:16.101Z"
   },
   {
    "duration": 1544,
    "start_time": "2022-12-21T11:01:19.800Z"
   },
   {
    "duration": 1592,
    "start_time": "2022-12-21T11:02:43.168Z"
   },
   {
    "duration": 1519,
    "start_time": "2022-12-21T11:03:16.146Z"
   },
   {
    "duration": 1662,
    "start_time": "2022-12-21T11:03:29.089Z"
   },
   {
    "duration": 1579,
    "start_time": "2022-12-21T11:03:32.260Z"
   },
   {
    "duration": 1554,
    "start_time": "2022-12-21T11:03:41.047Z"
   },
   {
    "duration": 73,
    "start_time": "2022-12-21T11:04:37.645Z"
   },
   {
    "duration": 1549,
    "start_time": "2022-12-21T11:04:41.366Z"
   },
   {
    "duration": 3,
    "start_time": "2022-12-21T11:06:06.725Z"
   },
   {
    "duration": 323,
    "start_time": "2022-12-21T11:06:06.735Z"
   },
   {
    "duration": 158,
    "start_time": "2022-12-21T11:06:07.061Z"
   },
   {
    "duration": 110,
    "start_time": "2022-12-21T11:06:07.221Z"
   },
   {
    "duration": 388,
    "start_time": "2022-12-21T11:06:07.333Z"
   },
   {
    "duration": 47,
    "start_time": "2022-12-21T11:06:07.724Z"
   },
   {
    "duration": 18,
    "start_time": "2022-12-21T11:06:07.773Z"
   },
   {
    "duration": 71,
    "start_time": "2022-12-21T11:06:07.794Z"
   },
   {
    "duration": 1585,
    "start_time": "2022-12-21T11:06:07.867Z"
   },
   {
    "duration": 1622,
    "start_time": "2022-12-21T11:08:01.354Z"
   },
   {
    "duration": 1454,
    "start_time": "2022-12-21T11:08:07.242Z"
   },
   {
    "duration": 1945,
    "start_time": "2022-12-21T11:08:17.074Z"
   },
   {
    "duration": 71,
    "start_time": "2022-12-21T11:08:45.147Z"
   },
   {
    "duration": 80,
    "start_time": "2022-12-21T11:08:49.606Z"
   },
   {
    "duration": 1578,
    "start_time": "2022-12-21T11:08:58.541Z"
   },
   {
    "duration": 1527,
    "start_time": "2022-12-21T11:09:05.737Z"
   },
   {
    "duration": 3,
    "start_time": "2022-12-21T11:09:22.288Z"
   },
   {
    "duration": 311,
    "start_time": "2022-12-21T11:09:22.294Z"
   },
   {
    "duration": 143,
    "start_time": "2022-12-21T11:09:22.607Z"
   },
   {
    "duration": 65,
    "start_time": "2022-12-21T11:09:22.752Z"
   },
   {
    "duration": 310,
    "start_time": "2022-12-21T11:09:22.819Z"
   },
   {
    "duration": 42,
    "start_time": "2022-12-21T11:09:23.131Z"
   },
   {
    "duration": 15,
    "start_time": "2022-12-21T11:09:23.174Z"
   },
   {
    "duration": 67,
    "start_time": "2022-12-21T11:09:23.191Z"
   },
   {
    "duration": 1502,
    "start_time": "2022-12-21T11:09:23.260Z"
   },
   {
    "duration": 1532,
    "start_time": "2022-12-21T11:09:35.972Z"
   },
   {
    "duration": 1636,
    "start_time": "2022-12-21T11:14:28.702Z"
   },
   {
    "duration": 1701,
    "start_time": "2022-12-21T11:14:47.951Z"
   },
   {
    "duration": 1593,
    "start_time": "2022-12-21T11:15:10.615Z"
   },
   {
    "duration": 1659,
    "start_time": "2022-12-21T11:15:17.625Z"
   },
   {
    "duration": 1015,
    "start_time": "2022-12-21T11:16:21.273Z"
   },
   {
    "duration": 1015,
    "start_time": "2022-12-21T11:16:35.461Z"
   },
   {
    "duration": 1174,
    "start_time": "2022-12-21T11:17:39.472Z"
   },
   {
    "duration": 1727,
    "start_time": "2022-12-21T11:17:49.624Z"
   },
   {
    "duration": 1726,
    "start_time": "2022-12-21T11:19:08.141Z"
   },
   {
    "duration": 1663,
    "start_time": "2022-12-21T11:19:39.058Z"
   },
   {
    "duration": 1544,
    "start_time": "2022-12-21T11:19:56.076Z"
   },
   {
    "duration": 1498,
    "start_time": "2022-12-21T11:22:03.564Z"
   },
   {
    "duration": 2,
    "start_time": "2022-12-21T11:22:29.113Z"
   },
   {
    "duration": 339,
    "start_time": "2022-12-21T11:22:29.117Z"
   },
   {
    "duration": 159,
    "start_time": "2022-12-21T11:22:29.458Z"
   },
   {
    "duration": 101,
    "start_time": "2022-12-21T11:22:29.620Z"
   },
   {
    "duration": 404,
    "start_time": "2022-12-21T11:22:29.723Z"
   },
   {
    "duration": 55,
    "start_time": "2022-12-21T11:22:30.129Z"
   },
   {
    "duration": 26,
    "start_time": "2022-12-21T11:22:30.186Z"
   },
   {
    "duration": 59,
    "start_time": "2022-12-21T11:22:30.214Z"
   },
   {
    "duration": 2161,
    "start_time": "2022-12-21T11:22:30.275Z"
   },
   {
    "duration": 2305,
    "start_time": "2022-12-21T11:22:44.917Z"
   },
   {
    "duration": 2139,
    "start_time": "2022-12-21T11:23:12.548Z"
   },
   {
    "duration": 3,
    "start_time": "2022-12-21T11:25:26.720Z"
   },
   {
    "duration": 284,
    "start_time": "2022-12-21T11:25:26.725Z"
   },
   {
    "duration": 148,
    "start_time": "2022-12-21T11:25:27.011Z"
   },
   {
    "duration": 90,
    "start_time": "2022-12-21T11:25:27.161Z"
   },
   {
    "duration": 307,
    "start_time": "2022-12-21T11:25:27.253Z"
   },
   {
    "duration": 36,
    "start_time": "2022-12-21T11:25:27.562Z"
   },
   {
    "duration": 24,
    "start_time": "2022-12-21T11:25:27.600Z"
   },
   {
    "duration": 56,
    "start_time": "2022-12-21T11:25:27.626Z"
   },
   {
    "duration": 2250,
    "start_time": "2022-12-21T11:25:27.684Z"
   },
   {
    "duration": 94,
    "start_time": "2022-12-21T11:26:55.262Z"
   },
   {
    "duration": 2188,
    "start_time": "2022-12-21T11:26:59.938Z"
   },
   {
    "duration": 1039,
    "start_time": "2022-12-21T11:27:40.727Z"
   },
   {
    "duration": 2272,
    "start_time": "2022-12-21T11:27:48.962Z"
   },
   {
    "duration": 3,
    "start_time": "2022-12-21T11:28:05.707Z"
   },
   {
    "duration": 340,
    "start_time": "2022-12-21T11:28:05.712Z"
   },
   {
    "duration": 140,
    "start_time": "2022-12-21T11:28:06.054Z"
   },
   {
    "duration": 82,
    "start_time": "2022-12-21T11:28:06.196Z"
   },
   {
    "duration": 307,
    "start_time": "2022-12-21T11:28:06.279Z"
   },
   {
    "duration": 34,
    "start_time": "2022-12-21T11:28:06.588Z"
   },
   {
    "duration": 31,
    "start_time": "2022-12-21T11:28:06.624Z"
   },
   {
    "duration": 44,
    "start_time": "2022-12-21T11:28:06.657Z"
   },
   {
    "duration": 2219,
    "start_time": "2022-12-21T11:28:06.703Z"
   },
   {
    "duration": 407,
    "start_time": "2022-12-21T11:28:13.469Z"
   },
   {
    "duration": 356,
    "start_time": "2022-12-21T11:28:13.878Z"
   },
   {
    "duration": 149,
    "start_time": "2022-12-21T11:28:14.250Z"
   },
   {
    "duration": 80,
    "start_time": "2022-12-21T11:28:14.402Z"
   },
   {
    "duration": 537,
    "start_time": "2022-12-21T11:28:14.484Z"
   },
   {
    "duration": 43,
    "start_time": "2022-12-21T11:28:15.023Z"
   },
   {
    "duration": 16,
    "start_time": "2022-12-21T11:28:15.068Z"
   },
   {
    "duration": 52,
    "start_time": "2022-12-21T11:28:15.086Z"
   },
   {
    "duration": 2184,
    "start_time": "2022-12-21T11:28:15.140Z"
   },
   {
    "duration": 1091,
    "start_time": "2022-12-23T11:31:13.285Z"
   },
   {
    "duration": 1199,
    "start_time": "2022-12-23T11:31:14.378Z"
   },
   {
    "duration": 130,
    "start_time": "2022-12-23T11:31:15.579Z"
   },
   {
    "duration": 51,
    "start_time": "2022-12-23T11:31:15.711Z"
   },
   {
    "duration": 662,
    "start_time": "2022-12-23T11:31:15.764Z"
   },
   {
    "duration": 29,
    "start_time": "2022-12-23T11:31:16.428Z"
   },
   {
    "duration": 24,
    "start_time": "2022-12-23T11:31:16.459Z"
   },
   {
    "duration": 46,
    "start_time": "2022-12-23T11:31:16.484Z"
   },
   {
    "duration": 169,
    "start_time": "2022-12-23T11:31:16.531Z"
   },
   {
    "duration": 3,
    "start_time": "2022-12-23T11:32:03.157Z"
   },
   {
    "duration": 288,
    "start_time": "2022-12-23T11:32:03.162Z"
   },
   {
    "duration": 134,
    "start_time": "2022-12-23T11:32:03.452Z"
   },
   {
    "duration": 66,
    "start_time": "2022-12-23T11:32:03.588Z"
   },
   {
    "duration": 261,
    "start_time": "2022-12-23T11:32:03.656Z"
   },
   {
    "duration": 28,
    "start_time": "2022-12-23T11:32:03.919Z"
   },
   {
    "duration": 21,
    "start_time": "2022-12-23T11:32:03.950Z"
   },
   {
    "duration": 72,
    "start_time": "2022-12-23T11:32:03.972Z"
   },
   {
    "duration": 1977,
    "start_time": "2022-12-23T11:32:04.045Z"
   },
   {
    "duration": 8,
    "start_time": "2022-12-23T11:36:21.118Z"
   },
   {
    "duration": 25,
    "start_time": "2022-12-23T11:36:32.654Z"
   },
   {
    "duration": 9,
    "start_time": "2022-12-23T11:36:45.709Z"
   },
   {
    "duration": 12,
    "start_time": "2022-12-23T11:37:27.176Z"
   },
   {
    "duration": 13,
    "start_time": "2022-12-23T11:37:38.059Z"
   },
   {
    "duration": 10,
    "start_time": "2022-12-23T11:54:21.217Z"
   },
   {
    "duration": 114,
    "start_time": "2022-12-23T12:02:28.214Z"
   },
   {
    "duration": 42,
    "start_time": "2022-12-23T12:03:48.138Z"
   },
   {
    "duration": 11,
    "start_time": "2022-12-23T12:03:57.320Z"
   },
   {
    "duration": 281,
    "start_time": "2022-12-23T12:03:57.333Z"
   },
   {
    "duration": 125,
    "start_time": "2022-12-23T12:03:57.616Z"
   },
   {
    "duration": 50,
    "start_time": "2022-12-23T12:03:57.742Z"
   },
   {
    "duration": 365,
    "start_time": "2022-12-23T12:03:57.794Z"
   },
   {
    "duration": 28,
    "start_time": "2022-12-23T12:03:58.160Z"
   },
   {
    "duration": 28,
    "start_time": "2022-12-23T12:03:58.189Z"
   },
   {
    "duration": 33,
    "start_time": "2022-12-23T12:03:58.219Z"
   },
   {
    "duration": 2007,
    "start_time": "2022-12-23T12:03:58.254Z"
   },
   {
    "duration": 135,
    "start_time": "2022-12-23T12:04:00.262Z"
   },
   {
    "duration": 51,
    "start_time": "2022-12-23T12:04:00.399Z"
   },
   {
    "duration": 1089,
    "start_time": "2022-12-23T12:05:09.120Z"
   },
   {
    "duration": 334,
    "start_time": "2022-12-23T12:05:10.213Z"
   },
   {
    "duration": 135,
    "start_time": "2022-12-23T12:05:10.549Z"
   },
   {
    "duration": 58,
    "start_time": "2022-12-23T12:05:10.685Z"
   },
   {
    "duration": 508,
    "start_time": "2022-12-23T12:05:10.745Z"
   },
   {
    "duration": 28,
    "start_time": "2022-12-23T12:05:11.254Z"
   },
   {
    "duration": 31,
    "start_time": "2022-12-23T12:05:11.283Z"
   },
   {
    "duration": 31,
    "start_time": "2022-12-23T12:05:11.315Z"
   },
   {
    "duration": 2010,
    "start_time": "2022-12-23T12:05:11.348Z"
   },
   {
    "duration": 126,
    "start_time": "2022-12-23T12:05:13.360Z"
   },
   {
    "duration": 47,
    "start_time": "2022-12-23T12:05:13.488Z"
   },
   {
    "duration": 165,
    "start_time": "2022-12-23T12:05:59.672Z"
   },
   {
    "duration": 3,
    "start_time": "2022-12-23T12:06:53.075Z"
   },
   {
    "duration": 269,
    "start_time": "2022-12-23T12:06:53.080Z"
   },
   {
    "duration": 119,
    "start_time": "2022-12-23T12:06:53.351Z"
   },
   {
    "duration": 61,
    "start_time": "2022-12-23T12:06:53.472Z"
   },
   {
    "duration": 264,
    "start_time": "2022-12-23T12:06:53.535Z"
   },
   {
    "duration": 36,
    "start_time": "2022-12-23T12:06:53.800Z"
   },
   {
    "duration": 28,
    "start_time": "2022-12-23T12:06:53.838Z"
   },
   {
    "duration": 50,
    "start_time": "2022-12-23T12:06:53.867Z"
   },
   {
    "duration": 1987,
    "start_time": "2022-12-23T12:06:53.918Z"
   },
   {
    "duration": 155,
    "start_time": "2022-12-23T12:06:55.906Z"
   },
   {
    "duration": 36,
    "start_time": "2022-12-23T12:06:56.063Z"
   },
   {
    "duration": 1067,
    "start_time": "2022-12-23T12:08:02.379Z"
   },
   {
    "duration": 284,
    "start_time": "2022-12-23T12:08:03.448Z"
   },
   {
    "duration": 131,
    "start_time": "2022-12-23T12:08:03.734Z"
   },
   {
    "duration": 64,
    "start_time": "2022-12-23T12:08:03.867Z"
   },
   {
    "duration": 489,
    "start_time": "2022-12-23T12:08:03.933Z"
   },
   {
    "duration": 27,
    "start_time": "2022-12-23T12:08:04.424Z"
   },
   {
    "duration": 18,
    "start_time": "2022-12-23T12:08:04.453Z"
   },
   {
    "duration": 53,
    "start_time": "2022-12-23T12:08:04.473Z"
   },
   {
    "duration": 2051,
    "start_time": "2022-12-23T12:08:04.528Z"
   },
   {
    "duration": 138,
    "start_time": "2022-12-23T12:08:06.581Z"
   },
   {
    "duration": 32,
    "start_time": "2022-12-23T12:08:06.721Z"
   },
   {
    "duration": 4,
    "start_time": "2022-12-23T12:08:47.434Z"
   },
   {
    "duration": 287,
    "start_time": "2022-12-23T12:08:47.441Z"
   },
   {
    "duration": 140,
    "start_time": "2022-12-23T12:08:47.730Z"
   },
   {
    "duration": 85,
    "start_time": "2022-12-23T12:08:47.872Z"
   },
   {
    "duration": 304,
    "start_time": "2022-12-23T12:08:47.960Z"
   },
   {
    "duration": 27,
    "start_time": "2022-12-23T12:08:48.266Z"
   },
   {
    "duration": 30,
    "start_time": "2022-12-23T12:08:48.295Z"
   },
   {
    "duration": 36,
    "start_time": "2022-12-23T12:08:48.327Z"
   },
   {
    "duration": 2112,
    "start_time": "2022-12-23T12:08:48.365Z"
   },
   {
    "duration": 162,
    "start_time": "2022-12-23T12:08:50.479Z"
   },
   {
    "duration": 29,
    "start_time": "2022-12-23T12:08:50.643Z"
   },
   {
    "duration": 95,
    "start_time": "2022-12-23T12:17:53.259Z"
   },
   {
    "duration": 18,
    "start_time": "2022-12-23T12:18:11.457Z"
   },
   {
    "duration": 17,
    "start_time": "2022-12-23T12:18:25.517Z"
   },
   {
    "duration": 1437,
    "start_time": "2022-12-23T12:19:29.482Z"
   },
   {
    "duration": 1317,
    "start_time": "2022-12-23T12:19:41.912Z"
   },
   {
    "duration": 3,
    "start_time": "2022-12-23T12:20:03.112Z"
   },
   {
    "duration": 270,
    "start_time": "2022-12-23T12:20:03.116Z"
   },
   {
    "duration": 127,
    "start_time": "2022-12-23T12:20:03.388Z"
   },
   {
    "duration": 56,
    "start_time": "2022-12-23T12:20:03.517Z"
   },
   {
    "duration": 355,
    "start_time": "2022-12-23T12:20:03.575Z"
   },
   {
    "duration": 32,
    "start_time": "2022-12-23T12:20:03.932Z"
   },
   {
    "duration": 20,
    "start_time": "2022-12-23T12:20:03.966Z"
   },
   {
    "duration": 89,
    "start_time": "2022-12-23T12:20:03.988Z"
   },
   {
    "duration": 2117,
    "start_time": "2022-12-23T12:20:04.079Z"
   },
   {
    "duration": 136,
    "start_time": "2022-12-23T12:20:06.199Z"
   },
   {
    "duration": 1403,
    "start_time": "2022-12-23T12:20:06.337Z"
   },
   {
    "duration": 34,
    "start_time": "2022-12-23T12:20:47.431Z"
   },
   {
    "duration": 21,
    "start_time": "2022-12-23T12:21:47.505Z"
   },
   {
    "duration": 4,
    "start_time": "2022-12-23T12:21:54.645Z"
   },
   {
    "duration": 307,
    "start_time": "2022-12-23T12:21:54.652Z"
   },
   {
    "duration": 128,
    "start_time": "2022-12-23T12:21:54.961Z"
   },
   {
    "duration": 59,
    "start_time": "2022-12-23T12:21:55.091Z"
   },
   {
    "duration": 255,
    "start_time": "2022-12-23T12:21:55.151Z"
   },
   {
    "duration": 36,
    "start_time": "2022-12-23T12:21:55.407Z"
   },
   {
    "duration": 15,
    "start_time": "2022-12-23T12:21:55.444Z"
   },
   {
    "duration": 58,
    "start_time": "2022-12-23T12:21:55.461Z"
   },
   {
    "duration": 1983,
    "start_time": "2022-12-23T12:21:55.521Z"
   },
   {
    "duration": 129,
    "start_time": "2022-12-23T12:21:57.506Z"
   },
   {
    "duration": 1308,
    "start_time": "2022-12-23T12:21:57.637Z"
   },
   {
    "duration": 36,
    "start_time": "2022-12-23T12:23:07.052Z"
   },
   {
    "duration": 4,
    "start_time": "2022-12-23T12:23:48.922Z"
   },
   {
    "duration": 329,
    "start_time": "2022-12-23T12:23:48.930Z"
   },
   {
    "duration": 129,
    "start_time": "2022-12-23T12:23:49.261Z"
   },
   {
    "duration": 65,
    "start_time": "2022-12-23T12:23:49.392Z"
   },
   {
    "duration": 280,
    "start_time": "2022-12-23T12:23:49.458Z"
   },
   {
    "duration": 28,
    "start_time": "2022-12-23T12:23:49.740Z"
   },
   {
    "duration": 60,
    "start_time": "2022-12-23T12:23:49.769Z"
   },
   {
    "duration": 45,
    "start_time": "2022-12-23T12:23:49.830Z"
   },
   {
    "duration": 2063,
    "start_time": "2022-12-23T12:23:49.877Z"
   },
   {
    "duration": 132,
    "start_time": "2022-12-23T12:23:51.942Z"
   },
   {
    "duration": 1307,
    "start_time": "2022-12-23T12:23:52.076Z"
   },
   {
    "duration": 18,
    "start_time": "2022-12-23T12:27:47.307Z"
   },
   {
    "duration": 16,
    "start_time": "2022-12-23T12:28:54.678Z"
   },
   {
    "duration": 4,
    "start_time": "2022-12-23T12:30:08.510Z"
   },
   {
    "duration": 284,
    "start_time": "2022-12-23T12:30:08.516Z"
   },
   {
    "duration": 143,
    "start_time": "2022-12-23T12:30:08.802Z"
   },
   {
    "duration": 50,
    "start_time": "2022-12-23T12:30:08.947Z"
   },
   {
    "duration": 277,
    "start_time": "2022-12-23T12:30:09.012Z"
   },
   {
    "duration": 38,
    "start_time": "2022-12-23T12:30:09.291Z"
   },
   {
    "duration": 17,
    "start_time": "2022-12-23T12:30:09.330Z"
   },
   {
    "duration": 29,
    "start_time": "2022-12-23T12:30:09.349Z"
   },
   {
    "duration": 2194,
    "start_time": "2022-12-23T12:30:09.380Z"
   },
   {
    "duration": 132,
    "start_time": "2022-12-23T12:30:11.576Z"
   },
   {
    "duration": 1922,
    "start_time": "2022-12-23T12:30:11.712Z"
   },
   {
    "duration": 1069,
    "start_time": "2022-12-23T12:56:48.053Z"
   },
   {
    "duration": 292,
    "start_time": "2022-12-23T12:56:49.124Z"
   },
   {
    "duration": 137,
    "start_time": "2022-12-23T12:56:49.417Z"
   },
   {
    "duration": 67,
    "start_time": "2022-12-23T12:56:49.556Z"
   },
   {
    "duration": 506,
    "start_time": "2022-12-23T12:56:49.624Z"
   },
   {
    "duration": 36,
    "start_time": "2022-12-23T12:56:50.132Z"
   },
   {
    "duration": 18,
    "start_time": "2022-12-23T12:56:50.170Z"
   },
   {
    "duration": 48,
    "start_time": "2022-12-23T12:56:50.190Z"
   },
   {
    "duration": 2085,
    "start_time": "2022-12-23T12:56:50.240Z"
   },
   {
    "duration": 162,
    "start_time": "2022-12-23T12:56:52.327Z"
   },
   {
    "duration": 1739,
    "start_time": "2022-12-23T12:56:52.491Z"
   },
   {
    "duration": 1091,
    "start_time": "2022-12-23T12:57:57.809Z"
   },
   {
    "duration": 291,
    "start_time": "2022-12-23T12:57:58.903Z"
   },
   {
    "duration": 135,
    "start_time": "2022-12-23T12:57:59.196Z"
   },
   {
    "duration": 48,
    "start_time": "2022-12-23T12:57:59.333Z"
   },
   {
    "duration": 508,
    "start_time": "2022-12-23T12:57:59.382Z"
   },
   {
    "duration": 32,
    "start_time": "2022-12-23T12:57:59.892Z"
   },
   {
    "duration": 15,
    "start_time": "2022-12-23T12:57:59.925Z"
   },
   {
    "duration": 33,
    "start_time": "2022-12-23T12:57:59.941Z"
   },
   {
    "duration": 2087,
    "start_time": "2022-12-23T12:57:59.975Z"
   },
   {
    "duration": 155,
    "start_time": "2022-12-23T12:58:02.063Z"
   },
   {
    "duration": 1719,
    "start_time": "2022-12-23T12:58:02.220Z"
   },
   {
    "duration": 603010,
    "start_time": "2022-12-23T12:58:03.941Z"
   },
   {
    "duration": 2395,
    "start_time": "2022-12-23T13:18:12.229Z"
   },
   {
    "duration": 50,
    "start_time": "2022-12-23T13:18:59.980Z"
   },
   {
    "duration": 17,
    "start_time": "2022-12-23T13:19:08.848Z"
   },
   {
    "duration": 4,
    "start_time": "2022-12-23T13:19:33.903Z"
   },
   {
    "duration": 297,
    "start_time": "2022-12-23T13:19:33.908Z"
   },
   {
    "duration": 134,
    "start_time": "2022-12-23T13:19:34.206Z"
   },
   {
    "duration": 56,
    "start_time": "2022-12-23T13:19:34.342Z"
   },
   {
    "duration": 267,
    "start_time": "2022-12-23T13:19:34.400Z"
   },
   {
    "duration": 47,
    "start_time": "2022-12-23T13:19:34.669Z"
   },
   {
    "duration": 27,
    "start_time": "2022-12-23T13:19:34.718Z"
   },
   {
    "duration": 31,
    "start_time": "2022-12-23T13:19:34.747Z"
   },
   {
    "duration": 2017,
    "start_time": "2022-12-23T13:19:34.779Z"
   },
   {
    "duration": 134,
    "start_time": "2022-12-23T13:19:42.873Z"
   },
   {
    "duration": 53,
    "start_time": "2022-12-23T13:19:46.294Z"
   },
   {
    "duration": 4,
    "start_time": "2022-12-23T13:20:31.639Z"
   },
   {
    "duration": 298,
    "start_time": "2022-12-23T13:20:31.645Z"
   },
   {
    "duration": 111,
    "start_time": "2022-12-23T13:20:31.945Z"
   },
   {
    "duration": 69,
    "start_time": "2022-12-23T13:20:32.058Z"
   },
   {
    "duration": 261,
    "start_time": "2022-12-23T13:20:32.129Z"
   },
   {
    "duration": 40,
    "start_time": "2022-12-23T13:20:32.392Z"
   },
   {
    "duration": 14,
    "start_time": "2022-12-23T13:20:32.433Z"
   },
   {
    "duration": 41,
    "start_time": "2022-12-23T13:20:32.449Z"
   },
   {
    "duration": 2047,
    "start_time": "2022-12-23T13:20:32.491Z"
   },
   {
    "duration": 140,
    "start_time": "2022-12-23T13:20:34.539Z"
   },
   {
    "duration": 1102,
    "start_time": "2022-12-23T13:20:57.209Z"
   },
   {
    "duration": 290,
    "start_time": "2022-12-23T13:20:58.314Z"
   },
   {
    "duration": 140,
    "start_time": "2022-12-23T13:20:58.606Z"
   },
   {
    "duration": 47,
    "start_time": "2022-12-23T13:20:58.748Z"
   },
   {
    "duration": 599,
    "start_time": "2022-12-23T13:20:58.797Z"
   },
   {
    "duration": 40,
    "start_time": "2022-12-23T13:20:59.398Z"
   },
   {
    "duration": 14,
    "start_time": "2022-12-23T13:20:59.440Z"
   },
   {
    "duration": 30,
    "start_time": "2022-12-23T13:20:59.456Z"
   },
   {
    "duration": 2139,
    "start_time": "2022-12-23T13:20:59.489Z"
   },
   {
    "duration": 158,
    "start_time": "2022-12-23T13:21:01.629Z"
   },
   {
    "duration": 46,
    "start_time": "2022-12-23T13:21:04.426Z"
   },
   {
    "duration": 100,
    "start_time": "2022-12-23T13:21:37.766Z"
   },
   {
    "duration": 34,
    "start_time": "2022-12-23T13:21:45.476Z"
   },
   {
    "duration": 20,
    "start_time": "2022-12-23T13:21:53.139Z"
   },
   {
    "duration": 1129,
    "start_time": "2022-12-23T13:22:15.095Z"
   },
   {
    "duration": 300,
    "start_time": "2022-12-23T13:22:16.226Z"
   },
   {
    "duration": 131,
    "start_time": "2022-12-23T13:22:16.527Z"
   },
   {
    "duration": 66,
    "start_time": "2022-12-23T13:22:16.660Z"
   },
   {
    "duration": 547,
    "start_time": "2022-12-23T13:22:16.728Z"
   },
   {
    "duration": 40,
    "start_time": "2022-12-23T13:22:17.276Z"
   },
   {
    "duration": 18,
    "start_time": "2022-12-23T13:22:17.317Z"
   },
   {
    "duration": 34,
    "start_time": "2022-12-23T13:22:17.337Z"
   },
   {
    "duration": 2059,
    "start_time": "2022-12-23T13:22:17.372Z"
   },
   {
    "duration": 106,
    "start_time": "2022-12-23T13:22:19.434Z"
   },
   {
    "duration": 230,
    "start_time": "2022-12-23T13:22:54.037Z"
   },
   {
    "duration": 25,
    "start_time": "2022-12-23T13:23:00.595Z"
   },
   {
    "duration": 76,
    "start_time": "2022-12-23T13:26:19.492Z"
   },
   {
    "duration": 3,
    "start_time": "2022-12-23T13:26:25.004Z"
   },
   {
    "duration": 8,
    "start_time": "2022-12-23T13:26:57.956Z"
   },
   {
    "duration": 1085,
    "start_time": "2022-12-23T13:31:59.011Z"
   },
   {
    "duration": 346,
    "start_time": "2022-12-23T13:32:00.098Z"
   },
   {
    "duration": 172,
    "start_time": "2022-12-23T13:32:00.447Z"
   },
   {
    "duration": 67,
    "start_time": "2022-12-23T13:32:00.621Z"
   },
   {
    "duration": 551,
    "start_time": "2022-12-23T13:32:00.690Z"
   },
   {
    "duration": 27,
    "start_time": "2022-12-23T13:32:01.243Z"
   },
   {
    "duration": 39,
    "start_time": "2022-12-23T13:32:01.271Z"
   },
   {
    "duration": 121,
    "start_time": "2022-12-23T13:32:01.312Z"
   },
   {
    "duration": 2162,
    "start_time": "2022-12-23T13:32:01.435Z"
   },
   {
    "duration": 133,
    "start_time": "2022-12-23T13:32:09.739Z"
   },
   {
    "duration": 38,
    "start_time": "2022-12-23T13:32:44.049Z"
   },
   {
    "duration": 161,
    "start_time": "2022-12-23T13:34:05.729Z"
   },
   {
    "duration": 1040,
    "start_time": "2022-12-23T13:34:36.562Z"
   },
   {
    "duration": 294,
    "start_time": "2022-12-23T13:34:37.604Z"
   },
   {
    "duration": 149,
    "start_time": "2022-12-23T13:34:37.900Z"
   },
   {
    "duration": 64,
    "start_time": "2022-12-23T13:34:38.051Z"
   },
   {
    "duration": 518,
    "start_time": "2022-12-23T13:34:38.122Z"
   },
   {
    "duration": 27,
    "start_time": "2022-12-23T13:34:38.641Z"
   },
   {
    "duration": 14,
    "start_time": "2022-12-23T13:34:38.670Z"
   },
   {
    "duration": 56,
    "start_time": "2022-12-23T13:34:38.686Z"
   },
   {
    "duration": 2294,
    "start_time": "2022-12-23T13:34:38.744Z"
   },
   {
    "duration": 148,
    "start_time": "2022-12-23T13:35:07.892Z"
   },
   {
    "duration": 5,
    "start_time": "2022-12-23T13:35:38.803Z"
   },
   {
    "duration": 1079,
    "start_time": "2022-12-23T13:36:33.185Z"
   },
   {
    "duration": 293,
    "start_time": "2022-12-23T13:36:34.266Z"
   },
   {
    "duration": 173,
    "start_time": "2022-12-23T13:36:34.560Z"
   },
   {
    "duration": 59,
    "start_time": "2022-12-23T13:36:34.736Z"
   },
   {
    "duration": 545,
    "start_time": "2022-12-23T13:36:34.797Z"
   },
   {
    "duration": 28,
    "start_time": "2022-12-23T13:36:35.343Z"
   },
   {
    "duration": 16,
    "start_time": "2022-12-23T13:36:35.373Z"
   },
   {
    "duration": 63,
    "start_time": "2022-12-23T13:36:35.390Z"
   },
   {
    "duration": 2092,
    "start_time": "2022-12-23T13:36:35.455Z"
   },
   {
    "duration": 103,
    "start_time": "2022-12-23T13:36:37.549Z"
   },
   {
    "duration": 483573,
    "start_time": "2022-12-23T13:36:37.654Z"
   },
   {
    "duration": 2709,
    "start_time": "2022-12-23T13:44:41.228Z"
   },
   {
    "duration": 297,
    "start_time": "2022-12-23T13:47:59.996Z"
   },
   {
    "duration": 183,
    "start_time": "2022-12-23T13:48:20.108Z"
   },
   {
    "duration": 3,
    "start_time": "2022-12-23T13:48:24.434Z"
   },
   {
    "duration": 178,
    "start_time": "2022-12-23T13:48:27.913Z"
   },
   {
    "duration": 4,
    "start_time": "2022-12-23T13:48:41.689Z"
   },
   {
    "duration": 315,
    "start_time": "2022-12-23T13:48:48.526Z"
   },
   {
    "duration": 5,
    "start_time": "2022-12-23T14:00:16.345Z"
   },
   {
    "duration": 303,
    "start_time": "2022-12-23T14:00:16.352Z"
   },
   {
    "duration": 132,
    "start_time": "2022-12-23T14:00:16.657Z"
   },
   {
    "duration": 66,
    "start_time": "2022-12-23T14:00:16.790Z"
   },
   {
    "duration": 322,
    "start_time": "2022-12-23T14:00:16.859Z"
   },
   {
    "duration": 44,
    "start_time": "2022-12-23T14:00:17.183Z"
   },
   {
    "duration": 17,
    "start_time": "2022-12-23T14:00:17.230Z"
   },
   {
    "duration": 59,
    "start_time": "2022-12-23T14:00:17.249Z"
   },
   {
    "duration": 2246,
    "start_time": "2022-12-23T14:00:17.310Z"
   },
   {
    "duration": 87,
    "start_time": "2022-12-23T14:00:19.558Z"
   },
   {
    "duration": 480937,
    "start_time": "2022-12-23T14:00:19.647Z"
   },
   {
    "duration": 2533,
    "start_time": "2022-12-23T14:08:20.586Z"
   },
   {
    "duration": 321,
    "start_time": "2022-12-23T14:08:23.121Z"
   },
   {
    "duration": 67,
    "start_time": "2022-12-27T09:03:36.500Z"
   },
   {
    "duration": 1543,
    "start_time": "2022-12-27T09:03:50.846Z"
   },
   {
    "duration": 957,
    "start_time": "2022-12-27T09:03:52.392Z"
   },
   {
    "duration": 148,
    "start_time": "2022-12-27T09:03:53.350Z"
   },
   {
    "duration": 67,
    "start_time": "2022-12-27T09:03:53.500Z"
   },
   {
    "duration": 349,
    "start_time": "2022-12-27T09:03:53.568Z"
   },
   {
    "duration": 29,
    "start_time": "2022-12-27T09:03:53.922Z"
   },
   {
    "duration": 16,
    "start_time": "2022-12-27T09:03:53.953Z"
   },
   {
    "duration": 61,
    "start_time": "2022-12-27T09:03:53.970Z"
   },
   {
    "duration": 2432,
    "start_time": "2022-12-27T09:03:54.033Z"
   },
   {
    "duration": 83,
    "start_time": "2022-12-27T09:03:56.467Z"
   },
   {
    "duration": 7,
    "start_time": "2022-12-27T09:03:58.738Z"
   },
   {
    "duration": 83,
    "start_time": "2022-12-27T09:05:30.467Z"
   },
   {
    "duration": 15,
    "start_time": "2022-12-27T09:05:50.222Z"
   },
   {
    "duration": 4,
    "start_time": "2022-12-27T09:06:42.786Z"
   },
   {
    "duration": 331,
    "start_time": "2022-12-27T09:06:42.792Z"
   },
   {
    "duration": 129,
    "start_time": "2022-12-27T09:06:43.125Z"
   },
   {
    "duration": 67,
    "start_time": "2022-12-27T09:06:43.256Z"
   },
   {
    "duration": 301,
    "start_time": "2022-12-27T09:06:43.325Z"
   },
   {
    "duration": 31,
    "start_time": "2022-12-27T09:06:43.628Z"
   },
   {
    "duration": 32,
    "start_time": "2022-12-27T09:06:43.661Z"
   },
   {
    "duration": 70,
    "start_time": "2022-12-27T09:06:43.695Z"
   },
   {
    "duration": 2147,
    "start_time": "2022-12-27T09:06:43.767Z"
   },
   {
    "duration": 64,
    "start_time": "2022-12-27T09:06:45.916Z"
   },
   {
    "duration": 16,
    "start_time": "2022-12-27T09:06:52.417Z"
   },
   {
    "duration": 21,
    "start_time": "2022-12-27T09:09:36.568Z"
   },
   {
    "duration": 24,
    "start_time": "2022-12-27T09:09:52.679Z"
   },
   {
    "duration": 10,
    "start_time": "2022-12-27T09:10:30.758Z"
   },
   {
    "duration": 4,
    "start_time": "2022-12-27T09:11:07.589Z"
   },
   {
    "duration": 269,
    "start_time": "2022-12-27T09:11:07.595Z"
   },
   {
    "duration": 140,
    "start_time": "2022-12-27T09:11:07.866Z"
   },
   {
    "duration": 60,
    "start_time": "2022-12-27T09:11:08.007Z"
   },
   {
    "duration": 356,
    "start_time": "2022-12-27T09:11:08.069Z"
   },
   {
    "duration": 29,
    "start_time": "2022-12-27T09:11:08.427Z"
   },
   {
    "duration": 15,
    "start_time": "2022-12-27T09:11:08.457Z"
   },
   {
    "duration": 56,
    "start_time": "2022-12-27T09:11:08.474Z"
   },
   {
    "duration": 2089,
    "start_time": "2022-12-27T09:11:08.532Z"
   },
   {
    "duration": 70,
    "start_time": "2022-12-27T09:11:14.405Z"
   },
   {
    "duration": 9,
    "start_time": "2022-12-27T09:11:25.081Z"
   },
   {
    "duration": 6,
    "start_time": "2022-12-27T09:11:29.583Z"
   },
   {
    "duration": 16,
    "start_time": "2022-12-27T09:12:11.460Z"
   },
   {
    "duration": 5,
    "start_time": "2022-12-27T09:12:22.425Z"
   },
   {
    "duration": 297,
    "start_time": "2022-12-27T09:12:22.432Z"
   },
   {
    "duration": 180,
    "start_time": "2022-12-27T09:12:22.731Z"
   },
   {
    "duration": 58,
    "start_time": "2022-12-27T09:12:22.921Z"
   },
   {
    "duration": 354,
    "start_time": "2022-12-27T09:12:22.982Z"
   },
   {
    "duration": 32,
    "start_time": "2022-12-27T09:12:23.340Z"
   },
   {
    "duration": 18,
    "start_time": "2022-12-27T09:12:23.374Z"
   },
   {
    "duration": 64,
    "start_time": "2022-12-27T09:12:23.394Z"
   },
   {
    "duration": 2652,
    "start_time": "2022-12-27T09:12:23.460Z"
   },
   {
    "duration": 89,
    "start_time": "2022-12-27T09:12:29.216Z"
   },
   {
    "duration": 16,
    "start_time": "2022-12-27T09:13:12.120Z"
   },
   {
    "duration": 4,
    "start_time": "2022-12-27T09:13:20.110Z"
   },
   {
    "duration": 285,
    "start_time": "2022-12-27T09:13:20.115Z"
   },
   {
    "duration": 136,
    "start_time": "2022-12-27T09:13:20.402Z"
   },
   {
    "duration": 56,
    "start_time": "2022-12-27T09:13:20.540Z"
   },
   {
    "duration": 309,
    "start_time": "2022-12-27T09:13:20.598Z"
   },
   {
    "duration": 36,
    "start_time": "2022-12-27T09:13:20.909Z"
   },
   {
    "duration": 34,
    "start_time": "2022-12-27T09:13:20.947Z"
   },
   {
    "duration": 49,
    "start_time": "2022-12-27T09:13:20.982Z"
   },
   {
    "duration": 2072,
    "start_time": "2022-12-27T09:13:21.033Z"
   },
   {
    "duration": 130,
    "start_time": "2022-12-27T09:13:26.216Z"
   },
   {
    "duration": 1294,
    "start_time": "2022-12-27T09:14:02.064Z"
   },
   {
    "duration": 313,
    "start_time": "2022-12-27T09:14:03.359Z"
   },
   {
    "duration": 150,
    "start_time": "2022-12-27T09:14:03.674Z"
   },
   {
    "duration": 71,
    "start_time": "2022-12-27T09:14:03.827Z"
   },
   {
    "duration": 376,
    "start_time": "2022-12-27T09:14:03.900Z"
   },
   {
    "duration": 51,
    "start_time": "2022-12-27T09:14:04.278Z"
   },
   {
    "duration": 19,
    "start_time": "2022-12-27T09:14:04.330Z"
   },
   {
    "duration": 35,
    "start_time": "2022-12-27T09:14:04.351Z"
   },
   {
    "duration": 2171,
    "start_time": "2022-12-27T09:14:04.388Z"
   },
   {
    "duration": 106,
    "start_time": "2022-12-27T09:14:09.973Z"
   },
   {
    "duration": 1304,
    "start_time": "2022-12-27T09:14:27.637Z"
   },
   {
    "duration": 290,
    "start_time": "2022-12-27T09:14:28.943Z"
   },
   {
    "duration": 134,
    "start_time": "2022-12-27T09:14:29.235Z"
   },
   {
    "duration": 73,
    "start_time": "2022-12-27T09:14:29.372Z"
   },
   {
    "duration": 300,
    "start_time": "2022-12-27T09:14:29.447Z"
   },
   {
    "duration": 28,
    "start_time": "2022-12-27T09:14:29.749Z"
   },
   {
    "duration": 15,
    "start_time": "2022-12-27T09:14:29.779Z"
   },
   {
    "duration": 58,
    "start_time": "2022-12-27T09:14:29.795Z"
   },
   {
    "duration": 2082,
    "start_time": "2022-12-27T09:14:29.855Z"
   },
   {
    "duration": 103,
    "start_time": "2022-12-27T09:14:31.939Z"
   },
   {
    "duration": 535301,
    "start_time": "2022-12-27T09:14:32.044Z"
   },
   {
    "duration": 2617,
    "start_time": "2022-12-27T09:23:27.346Z"
   },
   {
    "duration": 339,
    "start_time": "2022-12-27T09:23:29.965Z"
   },
   {
    "duration": 30,
    "start_time": "2022-12-27T09:34:15.129Z"
   },
   {
    "duration": 1286,
    "start_time": "2022-12-27T09:35:58.702Z"
   },
   {
    "duration": 1348,
    "start_time": "2022-12-27T09:40:55.227Z"
   },
   {
    "duration": 294,
    "start_time": "2022-12-27T09:40:56.577Z"
   },
   {
    "duration": 142,
    "start_time": "2022-12-27T09:40:56.873Z"
   },
   {
    "duration": 52,
    "start_time": "2022-12-27T09:40:57.022Z"
   },
   {
    "duration": 307,
    "start_time": "2022-12-27T09:40:57.075Z"
   },
   {
    "duration": 27,
    "start_time": "2022-12-27T09:40:57.384Z"
   },
   {
    "duration": 20,
    "start_time": "2022-12-27T09:40:57.422Z"
   },
   {
    "duration": 34,
    "start_time": "2022-12-27T09:40:57.443Z"
   },
   {
    "duration": 2155,
    "start_time": "2022-12-27T09:40:57.479Z"
   },
   {
    "duration": 108,
    "start_time": "2022-12-27T09:40:59.636Z"
   },
   {
    "duration": 511996,
    "start_time": "2022-12-27T09:40:59.746Z"
   },
   {
    "duration": 2685,
    "start_time": "2022-12-27T09:49:31.744Z"
   },
   {
    "duration": 346,
    "start_time": "2022-12-27T09:49:34.436Z"
   },
   {
    "duration": 53,
    "start_time": "2022-12-27T09:49:34.784Z"
   },
   {
    "duration": 6,
    "start_time": "2022-12-27T09:54:05.812Z"
   },
   {
    "duration": 4,
    "start_time": "2022-12-27T09:54:14.608Z"
   },
   {
    "duration": 4,
    "start_time": "2022-12-27T09:54:47.891Z"
   },
   {
    "duration": 32,
    "start_time": "2022-12-27T10:00:28.468Z"
   },
   {
    "duration": 5,
    "start_time": "2022-12-27T10:02:54.634Z"
   },
   {
    "duration": 30,
    "start_time": "2022-12-27T10:03:14.463Z"
   },
   {
    "duration": 125,
    "start_time": "2022-12-27T10:07:46.817Z"
   },
   {
    "duration": 11,
    "start_time": "2022-12-27T10:07:50.781Z"
   },
   {
    "duration": 725,
    "start_time": "2022-12-27T10:08:10.109Z"
   },
   {
    "duration": 1397,
    "start_time": "2022-12-27T10:10:44.375Z"
   },
   {
    "duration": 362,
    "start_time": "2022-12-27T10:10:45.774Z"
   },
   {
    "duration": 133,
    "start_time": "2022-12-27T10:10:46.139Z"
   },
   {
    "duration": 74,
    "start_time": "2022-12-27T10:10:46.274Z"
   },
   {
    "duration": 304,
    "start_time": "2022-12-27T10:10:46.349Z"
   },
   {
    "duration": 29,
    "start_time": "2022-12-27T10:10:46.655Z"
   },
   {
    "duration": 45,
    "start_time": "2022-12-27T10:10:46.686Z"
   },
   {
    "duration": 36,
    "start_time": "2022-12-27T10:10:46.732Z"
   },
   {
    "duration": 2275,
    "start_time": "2022-12-27T10:10:46.770Z"
   },
   {
    "duration": 127,
    "start_time": "2022-12-27T10:10:49.048Z"
   },
   {
    "duration": 542105,
    "start_time": "2022-12-27T10:10:49.177Z"
   },
   {
    "duration": 2638,
    "start_time": "2022-12-27T10:19:51.284Z"
   },
   {
    "duration": 402,
    "start_time": "2022-12-27T10:19:53.923Z"
   },
   {
    "duration": 424,
    "start_time": "2022-12-27T10:19:54.327Z"
   },
   {
    "duration": 17,
    "start_time": "2022-12-27T11:07:15.072Z"
   },
   {
    "duration": 17,
    "start_time": "2022-12-27T11:07:41.117Z"
   },
   {
    "duration": 1231,
    "start_time": "2022-12-27T11:10:22.168Z"
   },
   {
    "duration": 1179,
    "start_time": "2022-12-27T11:11:10.344Z"
   },
   {
    "duration": 422,
    "start_time": "2022-12-27T11:11:29.981Z"
   },
   {
    "duration": 1259,
    "start_time": "2022-12-27T11:11:32.572Z"
   },
   {
    "duration": 1359,
    "start_time": "2022-12-27T11:11:57.139Z"
   },
   {
    "duration": 336,
    "start_time": "2022-12-27T11:11:58.500Z"
   },
   {
    "duration": 155,
    "start_time": "2022-12-27T11:11:58.838Z"
   },
   {
    "duration": 66,
    "start_time": "2022-12-27T11:11:58.995Z"
   },
   {
    "duration": 305,
    "start_time": "2022-12-27T11:11:59.063Z"
   },
   {
    "duration": 31,
    "start_time": "2022-12-27T11:11:59.370Z"
   },
   {
    "duration": 32,
    "start_time": "2022-12-27T11:11:59.403Z"
   },
   {
    "duration": 34,
    "start_time": "2022-12-27T11:11:59.436Z"
   },
   {
    "duration": 2172,
    "start_time": "2022-12-27T11:11:59.472Z"
   },
   {
    "duration": 109,
    "start_time": "2022-12-27T11:12:01.647Z"
   },
   {
    "duration": 538640,
    "start_time": "2022-12-27T11:12:01.758Z"
   },
   {
    "duration": 2683,
    "start_time": "2022-12-27T11:21:00.400Z"
   },
   {
    "duration": 337,
    "start_time": "2022-12-27T11:21:03.085Z"
   },
   {
    "duration": 399,
    "start_time": "2022-12-27T11:21:03.424Z"
   },
   {
    "duration": 1459,
    "start_time": "2022-12-27T11:21:03.825Z"
   },
   {
    "duration": 10,
    "start_time": "2022-12-27T11:23:00.967Z"
   },
   {
    "duration": 6,
    "start_time": "2022-12-27T11:23:25.261Z"
   },
   {
    "duration": 15,
    "start_time": "2022-12-27T11:23:46.316Z"
   },
   {
    "duration": 18,
    "start_time": "2022-12-27T11:23:52.710Z"
   },
   {
    "duration": 18,
    "start_time": "2022-12-27T11:24:12.379Z"
   },
   {
    "duration": 76,
    "start_time": "2022-12-27T11:27:51.165Z"
   },
   {
    "duration": 70,
    "start_time": "2022-12-27T11:28:13.251Z"
   },
   {
    "duration": 4,
    "start_time": "2022-12-27T11:28:42.200Z"
   },
   {
    "duration": 4,
    "start_time": "2022-12-27T11:29:00.808Z"
   },
   {
    "duration": 18,
    "start_time": "2022-12-27T11:29:08.445Z"
   },
   {
    "duration": 103,
    "start_time": "2022-12-27T11:29:23.392Z"
   },
   {
    "duration": 18,
    "start_time": "2022-12-27T11:29:27.701Z"
   },
   {
    "duration": 19,
    "start_time": "2022-12-27T11:30:37.895Z"
   },
   {
    "duration": 19,
    "start_time": "2022-12-27T11:30:44.481Z"
   },
   {
    "duration": 18,
    "start_time": "2022-12-27T11:30:47.235Z"
   },
   {
    "duration": 10,
    "start_time": "2022-12-27T11:38:54.548Z"
   },
   {
    "duration": 18,
    "start_time": "2022-12-27T11:39:12.026Z"
   },
   {
    "duration": 13,
    "start_time": "2022-12-27T11:39:18.213Z"
   },
   {
    "duration": 9,
    "start_time": "2022-12-27T11:42:11.415Z"
   },
   {
    "duration": 69,
    "start_time": "2022-12-27T11:42:13.906Z"
   },
   {
    "duration": 14,
    "start_time": "2022-12-27T11:42:25.632Z"
   },
   {
    "duration": 9,
    "start_time": "2022-12-27T11:42:27.924Z"
   },
   {
    "duration": 16,
    "start_time": "2022-12-27T11:44:16.239Z"
   },
   {
    "duration": 10,
    "start_time": "2022-12-27T11:44:21.228Z"
   },
   {
    "duration": 1350,
    "start_time": "2022-12-27T11:46:45.118Z"
   },
   {
    "duration": 295,
    "start_time": "2022-12-27T11:46:46.470Z"
   },
   {
    "duration": 152,
    "start_time": "2022-12-27T11:46:46.770Z"
   },
   {
    "duration": 56,
    "start_time": "2022-12-27T11:46:46.924Z"
   },
   {
    "duration": 310,
    "start_time": "2022-12-27T11:46:46.981Z"
   },
   {
    "duration": 42,
    "start_time": "2022-12-27T11:46:47.293Z"
   },
   {
    "duration": 17,
    "start_time": "2022-12-27T11:46:47.336Z"
   },
   {
    "duration": 35,
    "start_time": "2022-12-27T11:46:47.355Z"
   },
   {
    "duration": 2148,
    "start_time": "2022-12-27T11:46:47.393Z"
   },
   {
    "duration": 107,
    "start_time": "2022-12-27T11:46:49.542Z"
   },
   {
    "duration": 773354,
    "start_time": "2022-12-27T11:46:49.651Z"
   },
   {
    "duration": 101750,
    "start_time": "2022-12-27T11:59:43.007Z"
   },
   {
    "duration": 369,
    "start_time": "2022-12-27T12:01:24.760Z"
   },
   {
    "duration": 458,
    "start_time": "2022-12-27T12:01:25.131Z"
   },
   {
    "duration": 20,
    "start_time": "2022-12-27T12:01:25.591Z"
   },
   {
    "duration": 154,
    "start_time": "2022-12-27T12:01:25.622Z"
   },
   {
    "duration": 0,
    "start_time": "2022-12-27T12:01:25.778Z"
   },
   {
    "duration": 4,
    "start_time": "2022-12-27T12:14:20.005Z"
   },
   {
    "duration": 276,
    "start_time": "2022-12-27T12:14:20.011Z"
   },
   {
    "duration": 133,
    "start_time": "2022-12-27T12:14:20.289Z"
   },
   {
    "duration": 51,
    "start_time": "2022-12-27T12:14:20.424Z"
   },
   {
    "duration": 306,
    "start_time": "2022-12-27T12:14:20.476Z"
   },
   {
    "duration": 39,
    "start_time": "2022-12-27T12:14:20.784Z"
   },
   {
    "duration": 19,
    "start_time": "2022-12-27T12:14:20.825Z"
   },
   {
    "duration": 34,
    "start_time": "2022-12-27T12:14:20.846Z"
   },
   {
    "duration": 2247,
    "start_time": "2022-12-27T12:14:20.882Z"
   },
   {
    "duration": 105,
    "start_time": "2022-12-27T12:14:23.131Z"
   },
   {
    "duration": 407650,
    "start_time": "2022-12-27T12:14:23.238Z"
   },
   {
    "duration": 6954,
    "start_time": "2022-12-27T12:21:10.890Z"
   },
   {
    "duration": 313,
    "start_time": "2022-12-27T12:21:17.846Z"
   },
   {
    "duration": 390,
    "start_time": "2022-12-27T12:21:18.161Z"
   },
   {
    "duration": 18,
    "start_time": "2022-12-27T12:21:18.553Z"
   },
   {
    "duration": 46,
    "start_time": "2022-12-27T12:21:18.573Z"
   },
   {
    "duration": 0,
    "start_time": "2022-12-27T12:21:18.621Z"
   },
   {
    "duration": 6,
    "start_time": "2022-12-27T12:23:11.286Z"
   },
   {
    "duration": 11,
    "start_time": "2022-12-27T12:23:14.186Z"
   },
   {
    "duration": 188,
    "start_time": "2022-12-27T12:24:11.789Z"
   },
   {
    "duration": 335,
    "start_time": "2022-12-27T12:25:19.845Z"
   },
   {
    "duration": 274,
    "start_time": "2022-12-27T12:25:33.498Z"
   },
   {
    "duration": 296,
    "start_time": "2022-12-27T12:26:11.068Z"
   },
   {
    "duration": 308,
    "start_time": "2022-12-27T12:26:52.151Z"
   },
   {
    "duration": 308,
    "start_time": "2022-12-27T12:27:37.899Z"
   },
   {
    "duration": 26,
    "start_time": "2022-12-27T12:28:38.362Z"
   },
   {
    "duration": 363,
    "start_time": "2022-12-27T12:29:46.576Z"
   },
   {
    "duration": 472,
    "start_time": "2022-12-27T12:32:07.864Z"
   },
   {
    "duration": 1377,
    "start_time": "2022-12-27T12:55:12.586Z"
   },
   {
    "duration": 90,
    "start_time": "2022-12-27T12:55:30.296Z"
   },
   {
    "duration": 11,
    "start_time": "2022-12-27T12:55:35.566Z"
   },
   {
    "duration": 6,
    "start_time": "2022-12-27T12:56:08.886Z"
   },
   {
    "duration": 95,
    "start_time": "2022-12-27T13:02:36.872Z"
   },
   {
    "duration": 15,
    "start_time": "2022-12-27T13:03:07.384Z"
   },
   {
    "duration": 19,
    "start_time": "2022-12-27T13:03:17.045Z"
   },
   {
    "duration": 17,
    "start_time": "2022-12-27T13:03:43.671Z"
   },
   {
    "duration": 17,
    "start_time": "2022-12-27T13:03:50.368Z"
   },
   {
    "duration": 27,
    "start_time": "2022-12-27T13:03:58.925Z"
   },
   {
    "duration": 80,
    "start_time": "2022-12-27T13:05:30.900Z"
   },
   {
    "duration": 18,
    "start_time": "2022-12-27T13:05:36.540Z"
   },
   {
    "duration": 16,
    "start_time": "2022-12-27T13:06:49.354Z"
   },
   {
    "duration": 13,
    "start_time": "2022-12-27T13:07:06.391Z"
   },
   {
    "duration": 16,
    "start_time": "2022-12-27T13:07:10.536Z"
   },
   {
    "duration": 84,
    "start_time": "2022-12-27T13:09:28.901Z"
   },
   {
    "duration": 18,
    "start_time": "2022-12-27T13:10:05.409Z"
   },
   {
    "duration": 36,
    "start_time": "2022-12-27T13:11:03.784Z"
   },
   {
    "duration": 428,
    "start_time": "2022-12-27T13:17:50.550Z"
   },
   {
    "duration": 38,
    "start_time": "2022-12-27T13:21:03.467Z"
   },
   {
    "duration": 35,
    "start_time": "2022-12-27T13:22:00.586Z"
   },
   {
    "duration": 655,
    "start_time": "2022-12-27T13:24:23.006Z"
   },
   {
    "duration": 420,
    "start_time": "2022-12-27T13:25:09.310Z"
   },
   {
    "duration": 2843,
    "start_time": "2022-12-27T13:25:52.292Z"
   },
   {
    "duration": 502,
    "start_time": "2022-12-27T13:27:44.530Z"
   },
   {
    "duration": 450,
    "start_time": "2022-12-27T13:27:49.166Z"
   },
   {
    "duration": 431,
    "start_time": "2022-12-27T13:29:53.640Z"
   },
   {
    "duration": 499,
    "start_time": "2022-12-27T13:31:29.131Z"
   },
   {
    "duration": 458,
    "start_time": "2022-12-27T13:32:19.747Z"
   },
   {
    "duration": 1386,
    "start_time": "2022-12-27T13:32:56.785Z"
   },
   {
    "duration": 310,
    "start_time": "2022-12-27T13:32:58.173Z"
   },
   {
    "duration": 145,
    "start_time": "2022-12-27T13:32:58.484Z"
   },
   {
    "duration": 52,
    "start_time": "2022-12-27T13:32:58.632Z"
   },
   {
    "duration": 312,
    "start_time": "2022-12-27T13:32:58.685Z"
   },
   {
    "duration": 39,
    "start_time": "2022-12-27T13:32:58.999Z"
   },
   {
    "duration": 17,
    "start_time": "2022-12-27T13:32:59.040Z"
   },
   {
    "duration": 36,
    "start_time": "2022-12-27T13:32:59.058Z"
   },
   {
    "duration": 2335,
    "start_time": "2022-12-27T13:32:59.096Z"
   },
   {
    "duration": 109,
    "start_time": "2022-12-27T13:33:01.435Z"
   },
   {
    "duration": 430580,
    "start_time": "2022-12-27T13:33:01.546Z"
   },
   {
    "duration": 6523,
    "start_time": "2022-12-27T13:40:12.127Z"
   },
   {
    "duration": 311,
    "start_time": "2022-12-27T13:40:18.651Z"
   },
   {
    "duration": 466,
    "start_time": "2022-12-27T13:40:18.964Z"
   },
   {
    "duration": 20,
    "start_time": "2022-12-27T13:40:19.431Z"
   },
   {
    "duration": 425,
    "start_time": "2022-12-27T13:40:19.453Z"
   },
   {
    "duration": 50,
    "start_time": "2022-12-27T13:40:19.880Z"
   },
   {
    "duration": 469,
    "start_time": "2022-12-27T13:40:19.931Z"
   },
   {
    "duration": 431,
    "start_time": "2022-12-27T13:41:09.032Z"
   },
   {
    "duration": 514,
    "start_time": "2022-12-27T13:41:28.270Z"
   },
   {
    "duration": 462,
    "start_time": "2022-12-27T13:42:03.146Z"
   },
   {
    "duration": 443,
    "start_time": "2022-12-27T13:42:12.613Z"
   },
   {
    "duration": 1379,
    "start_time": "2022-12-27T13:44:29.118Z"
   },
   {
    "duration": 311,
    "start_time": "2022-12-27T13:44:30.499Z"
   },
   {
    "duration": 161,
    "start_time": "2022-12-27T13:44:30.811Z"
   },
   {
    "duration": 70,
    "start_time": "2022-12-27T13:44:30.975Z"
   },
   {
    "duration": 310,
    "start_time": "2022-12-27T13:44:31.046Z"
   },
   {
    "duration": 31,
    "start_time": "2022-12-27T13:44:31.358Z"
   },
   {
    "duration": 31,
    "start_time": "2022-12-27T13:44:31.391Z"
   },
   {
    "duration": 32,
    "start_time": "2022-12-27T13:44:31.424Z"
   },
   {
    "duration": 2115,
    "start_time": "2022-12-27T13:44:31.457Z"
   },
   {
    "duration": 102,
    "start_time": "2022-12-27T13:44:33.575Z"
   },
   {
    "duration": 739024,
    "start_time": "2022-12-27T13:44:33.678Z"
   },
   {
    "duration": 74845,
    "start_time": "2022-12-27T13:56:52.703Z"
   },
   {
    "duration": 372,
    "start_time": "2022-12-27T13:58:07.550Z"
   },
   {
    "duration": 421,
    "start_time": "2022-12-27T13:58:07.924Z"
   },
   {
    "duration": 21,
    "start_time": "2022-12-27T13:58:08.347Z"
   },
   {
    "duration": 407,
    "start_time": "2022-12-27T13:58:08.370Z"
   },
   {
    "duration": 55,
    "start_time": "2022-12-27T13:58:08.779Z"
   },
   {
    "duration": 445,
    "start_time": "2022-12-27T13:58:08.836Z"
   },
   {
    "duration": 1363,
    "start_time": "2022-12-27T14:05:44.606Z"
   },
   {
    "duration": 306,
    "start_time": "2022-12-27T14:05:45.971Z"
   },
   {
    "duration": 152,
    "start_time": "2022-12-27T14:05:46.278Z"
   },
   {
    "duration": 54,
    "start_time": "2022-12-27T14:05:46.432Z"
   },
   {
    "duration": 301,
    "start_time": "2022-12-27T14:05:46.488Z"
   },
   {
    "duration": 36,
    "start_time": "2022-12-27T14:05:46.791Z"
   },
   {
    "duration": 15,
    "start_time": "2022-12-27T14:05:46.829Z"
   },
   {
    "duration": 35,
    "start_time": "2022-12-27T14:05:46.846Z"
   },
   {
    "duration": 2103,
    "start_time": "2022-12-27T14:05:46.883Z"
   },
   {
    "duration": 119,
    "start_time": "2022-12-27T14:05:48.989Z"
   },
   {
    "duration": 1094120,
    "start_time": "2022-12-27T14:05:49.110Z"
   },
   {
    "duration": 113612,
    "start_time": "2022-12-27T14:24:03.231Z"
   },
   {
    "duration": 331,
    "start_time": "2022-12-27T14:25:56.845Z"
   },
   {
    "duration": 403,
    "start_time": "2022-12-27T14:25:57.178Z"
   },
   {
    "duration": 18,
    "start_time": "2022-12-27T14:25:57.583Z"
   },
   {
    "duration": 428,
    "start_time": "2022-12-27T14:25:57.603Z"
   },
   {
    "duration": 36,
    "start_time": "2022-12-27T14:25:58.032Z"
   },
   {
    "duration": 476,
    "start_time": "2022-12-27T14:25:58.070Z"
   },
   {
    "duration": 49,
    "start_time": "2022-12-27T14:58:47.536Z"
   },
   {
    "duration": 51,
    "start_time": "2022-12-27T15:02:28.752Z"
   },
   {
    "duration": 52,
    "start_time": "2022-12-27T15:02:43.916Z"
   },
   {
    "duration": 51,
    "start_time": "2022-12-27T15:03:02.054Z"
   },
   {
    "duration": 50,
    "start_time": "2022-12-27T15:04:08.000Z"
   },
   {
    "duration": 28,
    "start_time": "2022-12-27T15:17:06.214Z"
   },
   {
    "duration": 12,
    "start_time": "2022-12-27T15:32:37.897Z"
   },
   {
    "duration": 1292,
    "start_time": "2022-12-27T15:44:07.972Z"
   },
   {
    "duration": 295,
    "start_time": "2022-12-27T15:44:09.267Z"
   },
   {
    "duration": 148,
    "start_time": "2022-12-27T15:44:09.563Z"
   },
   {
    "duration": 55,
    "start_time": "2022-12-27T15:44:09.713Z"
   },
   {
    "duration": 310,
    "start_time": "2022-12-27T15:44:09.770Z"
   },
   {
    "duration": 41,
    "start_time": "2022-12-27T15:44:10.082Z"
   },
   {
    "duration": 17,
    "start_time": "2022-12-27T15:44:10.125Z"
   },
   {
    "duration": 33,
    "start_time": "2022-12-27T15:44:10.144Z"
   },
   {
    "duration": 2023,
    "start_time": "2022-12-27T15:44:10.179Z"
   },
   {
    "duration": 73,
    "start_time": "2022-12-27T15:44:12.205Z"
   },
   {
    "duration": 107,
    "start_time": "2022-12-27T15:44:12.279Z"
   },
   {
    "duration": 692799,
    "start_time": "2022-12-27T15:44:12.388Z"
   },
   {
    "duration": 68874,
    "start_time": "2022-12-27T15:55:45.189Z"
   },
   {
    "duration": 13,
    "start_time": "2022-12-27T15:56:54.066Z"
   },
   {
    "duration": 377,
    "start_time": "2022-12-27T15:56:54.081Z"
   },
   {
    "duration": 396,
    "start_time": "2022-12-27T15:56:54.460Z"
   },
   {
    "duration": 19,
    "start_time": "2022-12-27T15:56:54.858Z"
   },
   {
    "duration": 403,
    "start_time": "2022-12-27T15:56:54.879Z"
   },
   {
    "duration": 41,
    "start_time": "2022-12-27T15:56:55.284Z"
   },
   {
    "duration": 442,
    "start_time": "2022-12-27T15:56:55.326Z"
   },
   {
    "duration": 1480,
    "start_time": "2022-12-28T06:44:40.300Z"
   },
   {
    "duration": 481,
    "start_time": "2022-12-28T06:44:41.782Z"
   },
   {
    "duration": 134,
    "start_time": "2022-12-28T06:44:42.265Z"
   },
   {
    "duration": 70,
    "start_time": "2022-12-28T06:44:42.401Z"
   },
   {
    "duration": 282,
    "start_time": "2022-12-28T06:44:42.473Z"
   },
   {
    "duration": 32,
    "start_time": "2022-12-28T06:44:42.756Z"
   },
   {
    "duration": 26,
    "start_time": "2022-12-28T06:44:42.790Z"
   },
   {
    "duration": 37,
    "start_time": "2022-12-28T06:44:42.818Z"
   },
   {
    "duration": 1894,
    "start_time": "2022-12-28T06:44:42.856Z"
   },
   {
    "duration": 69,
    "start_time": "2022-12-28T06:44:44.752Z"
   },
   {
    "duration": 89,
    "start_time": "2022-12-28T06:44:44.822Z"
   },
   {
    "duration": 374135,
    "start_time": "2022-12-28T06:44:44.921Z"
   },
   {
    "duration": 9290,
    "start_time": "2022-12-28T06:50:59.057Z"
   },
   {
    "duration": 11,
    "start_time": "2022-12-28T06:51:08.348Z"
   },
   {
    "duration": 300,
    "start_time": "2022-12-28T06:51:08.360Z"
   },
   {
    "duration": 374,
    "start_time": "2022-12-28T06:51:08.662Z"
   },
   {
    "duration": 17,
    "start_time": "2022-12-28T06:51:09.037Z"
   },
   {
    "duration": 392,
    "start_time": "2022-12-28T06:51:09.055Z"
   },
   {
    "duration": 32,
    "start_time": "2022-12-28T06:51:09.448Z"
   },
   {
    "duration": 423,
    "start_time": "2022-12-28T06:51:09.481Z"
   },
   {
    "duration": 42,
    "start_time": "2022-12-28T08:42:31.738Z"
   },
   {
    "duration": 1382,
    "start_time": "2022-12-28T08:43:08.048Z"
   },
   {
    "duration": 492,
    "start_time": "2022-12-28T08:43:09.433Z"
   },
   {
    "duration": 132,
    "start_time": "2022-12-28T08:43:09.927Z"
   },
   {
    "duration": 70,
    "start_time": "2022-12-28T08:43:10.061Z"
   },
   {
    "duration": 304,
    "start_time": "2022-12-28T08:43:10.133Z"
   },
   {
    "duration": 30,
    "start_time": "2022-12-28T08:43:10.439Z"
   },
   {
    "duration": 15,
    "start_time": "2022-12-28T08:43:10.470Z"
   },
   {
    "duration": 52,
    "start_time": "2022-12-28T08:43:10.487Z"
   },
   {
    "duration": 1943,
    "start_time": "2022-12-28T08:43:10.541Z"
   },
   {
    "duration": 71,
    "start_time": "2022-12-28T08:43:12.487Z"
   },
   {
    "duration": 107,
    "start_time": "2022-12-28T08:43:12.561Z"
   },
   {
    "duration": 378387,
    "start_time": "2022-12-28T08:43:12.670Z"
   },
   {
    "duration": 8008,
    "start_time": "2022-12-28T08:49:31.058Z"
   },
   {
    "duration": 13,
    "start_time": "2022-12-28T08:49:39.067Z"
   },
   {
    "duration": 351,
    "start_time": "2022-12-28T08:49:39.082Z"
   },
   {
    "duration": 385,
    "start_time": "2022-12-28T08:49:39.434Z"
   },
   {
    "duration": 18,
    "start_time": "2022-12-28T08:49:39.821Z"
   },
   {
    "duration": 383,
    "start_time": "2022-12-28T08:49:39.840Z"
   },
   {
    "duration": 31,
    "start_time": "2022-12-28T08:49:40.225Z"
   },
   {
    "duration": 421,
    "start_time": "2022-12-28T08:49:40.258Z"
   },
   {
    "duration": 108,
    "start_time": "2022-12-28T08:49:40.681Z"
   },
   {
    "duration": 25,
    "start_time": "2022-12-28T08:50:08.113Z"
   },
   {
    "duration": 5,
    "start_time": "2022-12-28T08:51:05.064Z"
   },
   {
    "duration": 9,
    "start_time": "2022-12-28T08:51:51.892Z"
   },
   {
    "duration": 53,
    "start_time": "2022-12-28T08:52:25.362Z"
   },
   {
    "duration": 60,
    "start_time": "2022-12-28T08:52:28.793Z"
   },
   {
    "duration": 8,
    "start_time": "2022-12-28T08:52:35.731Z"
   },
   {
    "duration": 22,
    "start_time": "2022-12-28T08:53:30.439Z"
   },
   {
    "duration": 30,
    "start_time": "2022-12-28T08:53:56.199Z"
   },
   {
    "duration": 51,
    "start_time": "2022-12-28T08:54:14.998Z"
   },
   {
    "duration": 11,
    "start_time": "2022-12-28T08:56:02.313Z"
   },
   {
    "duration": 9,
    "start_time": "2022-12-28T08:56:19.890Z"
   },
   {
    "duration": 52,
    "start_time": "2022-12-28T08:57:40.860Z"
   },
   {
    "duration": 22,
    "start_time": "2022-12-28T09:03:34.550Z"
   },
   {
    "duration": 11,
    "start_time": "2022-12-28T09:04:00.046Z"
   },
   {
    "duration": 11,
    "start_time": "2022-12-28T09:04:07.108Z"
   },
   {
    "duration": 1453,
    "start_time": "2022-12-29T17:17:46.242Z"
   },
   {
    "duration": 907,
    "start_time": "2022-12-29T17:17:47.713Z"
   },
   {
    "duration": 127,
    "start_time": "2022-12-29T17:17:48.622Z"
   },
   {
    "duration": 63,
    "start_time": "2022-12-29T17:17:48.750Z"
   },
   {
    "duration": 301,
    "start_time": "2022-12-29T17:17:48.816Z"
   },
   {
    "duration": 38,
    "start_time": "2022-12-29T17:17:49.119Z"
   },
   {
    "duration": 21,
    "start_time": "2022-12-29T17:17:49.158Z"
   },
   {
    "duration": 62,
    "start_time": "2022-12-29T17:17:49.181Z"
   },
   {
    "duration": 178,
    "start_time": "2022-12-29T17:17:49.245Z"
   },
   {
    "duration": 1881,
    "start_time": "2022-12-29T17:18:18.309Z"
   },
   {
    "duration": 73,
    "start_time": "2022-12-29T17:18:25.400Z"
   },
   {
    "duration": 5,
    "start_time": "2022-12-29T18:03:01.520Z"
   },
   {
    "duration": 349,
    "start_time": "2022-12-29T18:03:01.527Z"
   },
   {
    "duration": 152,
    "start_time": "2022-12-29T18:03:01.879Z"
   },
   {
    "duration": 54,
    "start_time": "2022-12-29T18:03:02.033Z"
   },
   {
    "duration": 264,
    "start_time": "2022-12-29T18:03:02.112Z"
   },
   {
    "duration": 35,
    "start_time": "2022-12-29T18:03:02.378Z"
   },
   {
    "duration": 14,
    "start_time": "2022-12-29T18:03:02.415Z"
   },
   {
    "duration": 37,
    "start_time": "2022-12-29T18:03:02.431Z"
   },
   {
    "duration": 2039,
    "start_time": "2022-12-29T18:03:02.469Z"
   },
   {
    "duration": 61,
    "start_time": "2022-12-29T18:03:04.509Z"
   },
   {
    "duration": 120,
    "start_time": "2022-12-29T18:03:04.572Z"
   },
   {
    "duration": 50,
    "start_time": "2022-12-29T18:03:13.585Z"
   },
   {
    "duration": 39,
    "start_time": "2022-12-29T18:03:24.941Z"
   },
   {
    "duration": 5,
    "start_time": "2022-12-29T18:05:05.040Z"
   },
   {
    "duration": 286,
    "start_time": "2022-12-29T18:05:05.046Z"
   },
   {
    "duration": 127,
    "start_time": "2022-12-29T18:05:05.334Z"
   },
   {
    "duration": 63,
    "start_time": "2022-12-29T18:05:05.464Z"
   },
   {
    "duration": 334,
    "start_time": "2022-12-29T18:05:05.529Z"
   },
   {
    "duration": 27,
    "start_time": "2022-12-29T18:05:05.865Z"
   },
   {
    "duration": 29,
    "start_time": "2022-12-29T18:05:05.893Z"
   },
   {
    "duration": 31,
    "start_time": "2022-12-29T18:05:05.924Z"
   },
   {
    "duration": 1915,
    "start_time": "2022-12-29T18:05:05.957Z"
   },
   {
    "duration": 61,
    "start_time": "2022-12-29T18:05:07.875Z"
   },
   {
    "duration": 94,
    "start_time": "2022-12-29T18:05:07.937Z"
   },
   {
    "duration": 48,
    "start_time": "2022-12-29T18:05:08.033Z"
   },
   {
    "duration": 0,
    "start_time": "2022-12-29T18:05:08.083Z"
   },
   {
    "duration": 0,
    "start_time": "2022-12-29T18:05:08.084Z"
   },
   {
    "duration": 0,
    "start_time": "2022-12-29T18:05:08.085Z"
   },
   {
    "duration": 0,
    "start_time": "2022-12-29T18:05:08.086Z"
   },
   {
    "duration": 0,
    "start_time": "2022-12-29T18:05:08.087Z"
   },
   {
    "duration": 0,
    "start_time": "2022-12-29T18:05:08.088Z"
   },
   {
    "duration": 0,
    "start_time": "2022-12-29T18:05:08.089Z"
   },
   {
    "duration": 0,
    "start_time": "2022-12-29T18:05:08.090Z"
   },
   {
    "duration": 0,
    "start_time": "2022-12-29T18:05:08.091Z"
   },
   {
    "duration": 83,
    "start_time": "2022-12-29T18:05:50.783Z"
   },
   {
    "duration": 2524,
    "start_time": "2022-12-29T18:06:44.490Z"
   },
   {
    "duration": 4,
    "start_time": "2022-12-29T18:32:14.687Z"
   },
   {
    "duration": 287,
    "start_time": "2022-12-29T18:32:14.693Z"
   },
   {
    "duration": 124,
    "start_time": "2022-12-29T18:32:14.982Z"
   },
   {
    "duration": 48,
    "start_time": "2022-12-29T18:32:15.113Z"
   },
   {
    "duration": 268,
    "start_time": "2022-12-29T18:32:15.162Z"
   },
   {
    "duration": 27,
    "start_time": "2022-12-29T18:32:15.432Z"
   },
   {
    "duration": 13,
    "start_time": "2022-12-29T18:32:15.461Z"
   },
   {
    "duration": 48,
    "start_time": "2022-12-29T18:32:15.476Z"
   },
   {
    "duration": 1882,
    "start_time": "2022-12-29T18:32:15.526Z"
   },
   {
    "duration": 52,
    "start_time": "2022-12-29T18:32:17.411Z"
   },
   {
    "duration": 86,
    "start_time": "2022-12-29T18:32:17.464Z"
   },
   {
    "duration": 43,
    "start_time": "2022-12-29T18:32:17.552Z"
   },
   {
    "duration": 834565,
    "start_time": "2022-12-29T18:32:32.559Z"
   },
   {
    "duration": 6881,
    "start_time": "2022-12-29T18:50:48.860Z"
   },
   {
    "duration": 10,
    "start_time": "2022-12-29T18:50:55.743Z"
   },
   {
    "duration": 289,
    "start_time": "2022-12-29T18:50:55.755Z"
   },
   {
    "duration": 368,
    "start_time": "2022-12-29T18:50:56.046Z"
   },
   {
    "duration": 1384,
    "start_time": "2022-12-29T19:03:13.158Z"
   },
   {
    "duration": 16,
    "start_time": "2022-12-29T19:05:37.177Z"
   },
   {
    "duration": 38,
    "start_time": "2022-12-29T19:06:13.963Z"
   },
   {
    "duration": 33,
    "start_time": "2022-12-29T19:06:30.722Z"
   },
   {
    "duration": 41,
    "start_time": "2022-12-29T19:10:11.236Z"
   },
   {
    "duration": 1129,
    "start_time": "2022-12-29T19:12:55.147Z"
   },
   {
    "duration": 1246,
    "start_time": "2022-12-29T19:13:18.504Z"
   },
   {
    "duration": 3,
    "start_time": "2022-12-29T19:13:42.043Z"
   },
   {
    "duration": 343,
    "start_time": "2022-12-29T19:13:43.133Z"
   },
   {
    "duration": 123,
    "start_time": "2022-12-29T19:13:47.507Z"
   },
   {
    "duration": 21,
    "start_time": "2022-12-29T19:13:50.295Z"
   },
   {
    "duration": 39,
    "start_time": "2022-12-29T19:14:19.814Z"
   },
   {
    "duration": 37,
    "start_time": "2022-12-29T19:14:28.059Z"
   },
   {
    "duration": 115,
    "start_time": "2022-12-29T19:15:47.999Z"
   },
   {
    "duration": 106,
    "start_time": "2022-12-29T19:16:15.178Z"
   },
   {
    "duration": 4,
    "start_time": "2022-12-29T19:16:23.974Z"
   },
   {
    "duration": 243,
    "start_time": "2022-12-29T19:16:23.980Z"
   },
   {
    "duration": 114,
    "start_time": "2022-12-29T19:16:24.224Z"
   },
   {
    "duration": 108,
    "start_time": "2022-12-29T19:16:31.484Z"
   },
   {
    "duration": 4,
    "start_time": "2022-12-29T19:16:36.889Z"
   },
   {
    "duration": 261,
    "start_time": "2022-12-29T19:16:36.895Z"
   },
   {
    "duration": 108,
    "start_time": "2022-12-29T19:16:37.158Z"
   },
   {
    "duration": 129,
    "start_time": "2022-12-29T19:16:37.268Z"
   },
   {
    "duration": 55,
    "start_time": "2022-12-29T19:16:37.399Z"
   },
   {
    "duration": 1257,
    "start_time": "2022-12-29T19:16:37.456Z"
   },
   {
    "duration": 46,
    "start_time": "2022-12-29T19:16:38.715Z"
   },
   {
    "duration": 25,
    "start_time": "2022-12-29T19:16:38.763Z"
   },
   {
    "duration": 33,
    "start_time": "2022-12-29T19:16:38.789Z"
   },
   {
    "duration": 31,
    "start_time": "2022-12-29T19:16:38.824Z"
   },
   {
    "duration": 1983,
    "start_time": "2022-12-29T19:16:38.856Z"
   },
   {
    "duration": 54,
    "start_time": "2022-12-29T19:16:40.841Z"
   },
   {
    "duration": 92,
    "start_time": "2022-12-29T19:16:40.896Z"
   },
   {
    "duration": 42,
    "start_time": "2022-12-29T19:20:24.033Z"
   },
   {
    "duration": 1299,
    "start_time": "2022-12-29T19:20:30.002Z"
   },
   {
    "duration": 263,
    "start_time": "2022-12-29T19:20:31.303Z"
   },
   {
    "duration": 120,
    "start_time": "2022-12-29T19:20:31.568Z"
   },
   {
    "duration": 145,
    "start_time": "2022-12-29T19:20:31.689Z"
   },
   {
    "duration": 47,
    "start_time": "2022-12-29T19:20:31.836Z"
   },
   {
    "duration": 1349,
    "start_time": "2022-12-29T19:20:31.885Z"
   },
   {
    "duration": 71,
    "start_time": "2022-12-29T19:20:33.235Z"
   },
   {
    "duration": 25,
    "start_time": "2022-12-29T19:20:33.308Z"
   },
   {
    "duration": 12,
    "start_time": "2022-12-29T19:20:33.335Z"
   },
   {
    "duration": 32,
    "start_time": "2022-12-29T19:20:33.348Z"
   },
   {
    "duration": 39,
    "start_time": "2022-12-29T19:20:33.382Z"
   },
   {
    "duration": 79,
    "start_time": "2022-12-29T19:22:13.878Z"
   },
   {
    "duration": 42,
    "start_time": "2022-12-29T19:23:05.401Z"
   },
   {
    "duration": 62,
    "start_time": "2022-12-29T19:23:12.195Z"
   },
   {
    "duration": 114,
    "start_time": "2022-12-29T19:24:20.897Z"
   },
   {
    "duration": 29,
    "start_time": "2022-12-29T19:24:37.509Z"
   },
   {
    "duration": 61,
    "start_time": "2022-12-29T19:24:52.410Z"
   },
   {
    "duration": 57,
    "start_time": "2022-12-29T19:25:36.126Z"
   },
   {
    "duration": 29,
    "start_time": "2022-12-29T19:25:57.165Z"
   },
   {
    "duration": 63,
    "start_time": "2022-12-29T19:26:02.299Z"
   },
   {
    "duration": 29,
    "start_time": "2022-12-29T19:26:43.419Z"
   },
   {
    "duration": 28,
    "start_time": "2022-12-29T19:33:35.962Z"
   },
   {
    "duration": 35,
    "start_time": "2022-12-29T19:33:53.518Z"
   },
   {
    "duration": 1290,
    "start_time": "2022-12-29T19:36:27.495Z"
   },
   {
    "duration": 276,
    "start_time": "2022-12-29T19:36:28.786Z"
   },
   {
    "duration": 123,
    "start_time": "2022-12-29T19:36:29.063Z"
   },
   {
    "duration": 132,
    "start_time": "2022-12-29T19:36:29.188Z"
   },
   {
    "duration": 45,
    "start_time": "2022-12-29T19:36:29.322Z"
   },
   {
    "duration": 1453,
    "start_time": "2022-12-29T19:36:29.368Z"
   },
   {
    "duration": 56,
    "start_time": "2022-12-29T19:36:30.823Z"
   },
   {
    "duration": 50,
    "start_time": "2022-12-29T19:36:30.880Z"
   },
   {
    "duration": 16,
    "start_time": "2022-12-29T19:36:30.932Z"
   },
   {
    "duration": 63,
    "start_time": "2022-12-29T19:36:30.950Z"
   },
   {
    "duration": 49,
    "start_time": "2022-12-29T19:36:31.014Z"
   },
   {
    "duration": 1918,
    "start_time": "2022-12-29T19:36:31.064Z"
   },
   {
    "duration": 73,
    "start_time": "2022-12-29T19:36:32.984Z"
   },
   {
    "duration": 96,
    "start_time": "2022-12-29T19:36:33.059Z"
   },
   {
    "duration": 1447398,
    "start_time": "2022-12-29T19:36:33.157Z"
   },
   {
    "duration": 9390,
    "start_time": "2022-12-29T20:00:40.557Z"
   },
   {
    "duration": 13,
    "start_time": "2022-12-29T20:00:49.949Z"
   },
   {
    "duration": 308,
    "start_time": "2022-12-29T20:00:49.964Z"
   },
   {
    "duration": 436,
    "start_time": "2022-12-29T20:00:50.274Z"
   },
   {
    "duration": 22,
    "start_time": "2022-12-29T20:00:50.712Z"
   },
   {
    "duration": 404,
    "start_time": "2022-12-29T20:00:50.735Z"
   },
   {
    "duration": 31,
    "start_time": "2022-12-29T20:00:51.141Z"
   },
   {
    "duration": 464,
    "start_time": "2022-12-29T20:00:51.173Z"
   },
   {
    "duration": 11,
    "start_time": "2022-12-29T20:00:51.639Z"
   }
  ],
  "kernelspec": {
   "display_name": "Python 3 (ipykernel)",
   "language": "python",
   "name": "python3"
  },
  "language_info": {
   "codemirror_mode": {
    "name": "ipython",
    "version": 3
   },
   "file_extension": ".py",
   "mimetype": "text/x-python",
   "name": "python",
   "nbconvert_exporter": "python",
   "pygments_lexer": "ipython3",
   "version": "3.9.13"
  },
  "toc": {
   "base_numbering": 1,
   "nav_menu": {},
   "number_sections": true,
   "sideBar": true,
   "skip_h1_title": true,
   "title_cell": "Table of Contents",
   "title_sidebar": "Contents",
   "toc_cell": false,
   "toc_position": {},
   "toc_section_display": true,
   "toc_window_display": false
  }
 },
 "nbformat": 4,
 "nbformat_minor": 2
}
