{
 "cells": [
  {
   "cell_type": "markdown",
   "metadata": {},
   "source": [
    "# Определение перспективного тарифа для телеком-компании"
   ]
  },
  {
   "cell_type": "markdown",
   "metadata": {},
   "source": [
    "## Получение и изучение данных"
   ]
  },
  {
   "cell_type": "code",
   "execution_count": 18,
   "metadata": {
    "scrolled": false
   },
   "outputs": [
    {
     "name": "stdout",
     "output_type": "stream",
     "text": [
      "-----------Звонки:-----------\n"
     ]
    },
    {
     "data": {
      "text/html": [
       "<div>\n",
       "<style scoped>\n",
       "    .dataframe tbody tr th:only-of-type {\n",
       "        vertical-align: middle;\n",
       "    }\n",
       "\n",
       "    .dataframe tbody tr th {\n",
       "        vertical-align: top;\n",
       "    }\n",
       "\n",
       "    .dataframe thead th {\n",
       "        text-align: right;\n",
       "    }\n",
       "</style>\n",
       "<table border=\"1\" class=\"dataframe\">\n",
       "  <thead>\n",
       "    <tr style=\"text-align: right;\">\n",
       "      <th></th>\n",
       "      <th>id</th>\n",
       "      <th>call_date</th>\n",
       "      <th>duration</th>\n",
       "      <th>user_id</th>\n",
       "    </tr>\n",
       "  </thead>\n",
       "  <tbody>\n",
       "    <tr>\n",
       "      <th>0</th>\n",
       "      <td>1000_0</td>\n",
       "      <td>2018-07-25</td>\n",
       "      <td>0.00</td>\n",
       "      <td>1000</td>\n",
       "    </tr>\n",
       "    <tr>\n",
       "      <th>1</th>\n",
       "      <td>1000_1</td>\n",
       "      <td>2018-08-17</td>\n",
       "      <td>0.00</td>\n",
       "      <td>1000</td>\n",
       "    </tr>\n",
       "    <tr>\n",
       "      <th>2</th>\n",
       "      <td>1000_2</td>\n",
       "      <td>2018-06-11</td>\n",
       "      <td>2.85</td>\n",
       "      <td>1000</td>\n",
       "    </tr>\n",
       "    <tr>\n",
       "      <th>3</th>\n",
       "      <td>1000_3</td>\n",
       "      <td>2018-09-21</td>\n",
       "      <td>13.80</td>\n",
       "      <td>1000</td>\n",
       "    </tr>\n",
       "    <tr>\n",
       "      <th>4</th>\n",
       "      <td>1000_4</td>\n",
       "      <td>2018-12-15</td>\n",
       "      <td>5.18</td>\n",
       "      <td>1000</td>\n",
       "    </tr>\n",
       "    <tr>\n",
       "      <th>...</th>\n",
       "      <td>...</td>\n",
       "      <td>...</td>\n",
       "      <td>...</td>\n",
       "      <td>...</td>\n",
       "    </tr>\n",
       "    <tr>\n",
       "      <th>202602</th>\n",
       "      <td>1499_215</td>\n",
       "      <td>2018-12-26</td>\n",
       "      <td>0.76</td>\n",
       "      <td>1499</td>\n",
       "    </tr>\n",
       "    <tr>\n",
       "      <th>202603</th>\n",
       "      <td>1499_216</td>\n",
       "      <td>2018-10-18</td>\n",
       "      <td>18.83</td>\n",
       "      <td>1499</td>\n",
       "    </tr>\n",
       "    <tr>\n",
       "      <th>202604</th>\n",
       "      <td>1499_217</td>\n",
       "      <td>2018-11-10</td>\n",
       "      <td>10.81</td>\n",
       "      <td>1499</td>\n",
       "    </tr>\n",
       "    <tr>\n",
       "      <th>202605</th>\n",
       "      <td>1499_218</td>\n",
       "      <td>2018-10-06</td>\n",
       "      <td>4.27</td>\n",
       "      <td>1499</td>\n",
       "    </tr>\n",
       "    <tr>\n",
       "      <th>202606</th>\n",
       "      <td>1499_219</td>\n",
       "      <td>2018-12-14</td>\n",
       "      <td>19.62</td>\n",
       "      <td>1499</td>\n",
       "    </tr>\n",
       "  </tbody>\n",
       "</table>\n",
       "<p>202607 rows × 4 columns</p>\n",
       "</div>"
      ],
      "text/plain": [
       "              id   call_date  duration  user_id\n",
       "0         1000_0  2018-07-25      0.00     1000\n",
       "1         1000_1  2018-08-17      0.00     1000\n",
       "2         1000_2  2018-06-11      2.85     1000\n",
       "3         1000_3  2018-09-21     13.80     1000\n",
       "4         1000_4  2018-12-15      5.18     1000\n",
       "...          ...         ...       ...      ...\n",
       "202602  1499_215  2018-12-26      0.76     1499\n",
       "202603  1499_216  2018-10-18     18.83     1499\n",
       "202604  1499_217  2018-11-10     10.81     1499\n",
       "202605  1499_218  2018-10-06      4.27     1499\n",
       "202606  1499_219  2018-12-14     19.62     1499\n",
       "\n",
       "[202607 rows x 4 columns]"
      ]
     },
     "metadata": {},
     "output_type": "display_data"
    },
    {
     "name": "stdout",
     "output_type": "stream",
     "text": [
      "-----------Интернет:-----------\n"
     ]
    },
    {
     "data": {
      "text/html": [
       "<div>\n",
       "<style scoped>\n",
       "    .dataframe tbody tr th:only-of-type {\n",
       "        vertical-align: middle;\n",
       "    }\n",
       "\n",
       "    .dataframe tbody tr th {\n",
       "        vertical-align: top;\n",
       "    }\n",
       "\n",
       "    .dataframe thead th {\n",
       "        text-align: right;\n",
       "    }\n",
       "</style>\n",
       "<table border=\"1\" class=\"dataframe\">\n",
       "  <thead>\n",
       "    <tr style=\"text-align: right;\">\n",
       "      <th></th>\n",
       "      <th>Unnamed: 0</th>\n",
       "      <th>id</th>\n",
       "      <th>mb_used</th>\n",
       "      <th>session_date</th>\n",
       "      <th>user_id</th>\n",
       "    </tr>\n",
       "  </thead>\n",
       "  <tbody>\n",
       "    <tr>\n",
       "      <th>0</th>\n",
       "      <td>0</td>\n",
       "      <td>1000_0</td>\n",
       "      <td>112.95</td>\n",
       "      <td>2018-11-25</td>\n",
       "      <td>1000</td>\n",
       "    </tr>\n",
       "    <tr>\n",
       "      <th>1</th>\n",
       "      <td>1</td>\n",
       "      <td>1000_1</td>\n",
       "      <td>1052.81</td>\n",
       "      <td>2018-09-07</td>\n",
       "      <td>1000</td>\n",
       "    </tr>\n",
       "    <tr>\n",
       "      <th>2</th>\n",
       "      <td>2</td>\n",
       "      <td>1000_2</td>\n",
       "      <td>1197.26</td>\n",
       "      <td>2018-06-25</td>\n",
       "      <td>1000</td>\n",
       "    </tr>\n",
       "    <tr>\n",
       "      <th>3</th>\n",
       "      <td>3</td>\n",
       "      <td>1000_3</td>\n",
       "      <td>550.27</td>\n",
       "      <td>2018-08-22</td>\n",
       "      <td>1000</td>\n",
       "    </tr>\n",
       "    <tr>\n",
       "      <th>4</th>\n",
       "      <td>4</td>\n",
       "      <td>1000_4</td>\n",
       "      <td>302.56</td>\n",
       "      <td>2018-09-24</td>\n",
       "      <td>1000</td>\n",
       "    </tr>\n",
       "    <tr>\n",
       "      <th>...</th>\n",
       "      <td>...</td>\n",
       "      <td>...</td>\n",
       "      <td>...</td>\n",
       "      <td>...</td>\n",
       "      <td>...</td>\n",
       "    </tr>\n",
       "    <tr>\n",
       "      <th>149391</th>\n",
       "      <td>149391</td>\n",
       "      <td>1499_152</td>\n",
       "      <td>318.90</td>\n",
       "      <td>2018-10-03</td>\n",
       "      <td>1499</td>\n",
       "    </tr>\n",
       "    <tr>\n",
       "      <th>149392</th>\n",
       "      <td>149392</td>\n",
       "      <td>1499_153</td>\n",
       "      <td>490.13</td>\n",
       "      <td>2018-12-14</td>\n",
       "      <td>1499</td>\n",
       "    </tr>\n",
       "    <tr>\n",
       "      <th>149393</th>\n",
       "      <td>149393</td>\n",
       "      <td>1499_154</td>\n",
       "      <td>0.00</td>\n",
       "      <td>2018-10-27</td>\n",
       "      <td>1499</td>\n",
       "    </tr>\n",
       "    <tr>\n",
       "      <th>149394</th>\n",
       "      <td>149394</td>\n",
       "      <td>1499_155</td>\n",
       "      <td>1246.32</td>\n",
       "      <td>2018-11-26</td>\n",
       "      <td>1499</td>\n",
       "    </tr>\n",
       "    <tr>\n",
       "      <th>149395</th>\n",
       "      <td>149395</td>\n",
       "      <td>1499_156</td>\n",
       "      <td>544.37</td>\n",
       "      <td>2018-10-26</td>\n",
       "      <td>1499</td>\n",
       "    </tr>\n",
       "  </tbody>\n",
       "</table>\n",
       "<p>149396 rows × 5 columns</p>\n",
       "</div>"
      ],
      "text/plain": [
       "        Unnamed: 0        id  mb_used session_date  user_id\n",
       "0                0    1000_0   112.95   2018-11-25     1000\n",
       "1                1    1000_1  1052.81   2018-09-07     1000\n",
       "2                2    1000_2  1197.26   2018-06-25     1000\n",
       "3                3    1000_3   550.27   2018-08-22     1000\n",
       "4                4    1000_4   302.56   2018-09-24     1000\n",
       "...            ...       ...      ...          ...      ...\n",
       "149391      149391  1499_152   318.90   2018-10-03     1499\n",
       "149392      149392  1499_153   490.13   2018-12-14     1499\n",
       "149393      149393  1499_154     0.00   2018-10-27     1499\n",
       "149394      149394  1499_155  1246.32   2018-11-26     1499\n",
       "149395      149395  1499_156   544.37   2018-10-26     1499\n",
       "\n",
       "[149396 rows x 5 columns]"
      ]
     },
     "metadata": {},
     "output_type": "display_data"
    },
    {
     "name": "stdout",
     "output_type": "stream",
     "text": [
      "-----------Сообщения:-----------\n"
     ]
    },
    {
     "data": {
      "text/html": [
       "<div>\n",
       "<style scoped>\n",
       "    .dataframe tbody tr th:only-of-type {\n",
       "        vertical-align: middle;\n",
       "    }\n",
       "\n",
       "    .dataframe tbody tr th {\n",
       "        vertical-align: top;\n",
       "    }\n",
       "\n",
       "    .dataframe thead th {\n",
       "        text-align: right;\n",
       "    }\n",
       "</style>\n",
       "<table border=\"1\" class=\"dataframe\">\n",
       "  <thead>\n",
       "    <tr style=\"text-align: right;\">\n",
       "      <th></th>\n",
       "      <th>id</th>\n",
       "      <th>message_date</th>\n",
       "      <th>user_id</th>\n",
       "    </tr>\n",
       "  </thead>\n",
       "  <tbody>\n",
       "    <tr>\n",
       "      <th>0</th>\n",
       "      <td>1000_0</td>\n",
       "      <td>2018-06-27</td>\n",
       "      <td>1000</td>\n",
       "    </tr>\n",
       "    <tr>\n",
       "      <th>1</th>\n",
       "      <td>1000_1</td>\n",
       "      <td>2018-10-08</td>\n",
       "      <td>1000</td>\n",
       "    </tr>\n",
       "    <tr>\n",
       "      <th>2</th>\n",
       "      <td>1000_2</td>\n",
       "      <td>2018-08-04</td>\n",
       "      <td>1000</td>\n",
       "    </tr>\n",
       "    <tr>\n",
       "      <th>3</th>\n",
       "      <td>1000_3</td>\n",
       "      <td>2018-06-16</td>\n",
       "      <td>1000</td>\n",
       "    </tr>\n",
       "    <tr>\n",
       "      <th>4</th>\n",
       "      <td>1000_4</td>\n",
       "      <td>2018-12-05</td>\n",
       "      <td>1000</td>\n",
       "    </tr>\n",
       "    <tr>\n",
       "      <th>...</th>\n",
       "      <td>...</td>\n",
       "      <td>...</td>\n",
       "      <td>...</td>\n",
       "    </tr>\n",
       "    <tr>\n",
       "      <th>123031</th>\n",
       "      <td>1499_179</td>\n",
       "      <td>2018-12-12</td>\n",
       "      <td>1499</td>\n",
       "    </tr>\n",
       "    <tr>\n",
       "      <th>123032</th>\n",
       "      <td>1499_180</td>\n",
       "      <td>2018-09-28</td>\n",
       "      <td>1499</td>\n",
       "    </tr>\n",
       "    <tr>\n",
       "      <th>123033</th>\n",
       "      <td>1499_181</td>\n",
       "      <td>2018-09-27</td>\n",
       "      <td>1499</td>\n",
       "    </tr>\n",
       "    <tr>\n",
       "      <th>123034</th>\n",
       "      <td>1499_182</td>\n",
       "      <td>2018-11-15</td>\n",
       "      <td>1499</td>\n",
       "    </tr>\n",
       "    <tr>\n",
       "      <th>123035</th>\n",
       "      <td>1499_183</td>\n",
       "      <td>2018-11-16</td>\n",
       "      <td>1499</td>\n",
       "    </tr>\n",
       "  </tbody>\n",
       "</table>\n",
       "<p>123036 rows × 3 columns</p>\n",
       "</div>"
      ],
      "text/plain": [
       "              id message_date  user_id\n",
       "0         1000_0   2018-06-27     1000\n",
       "1         1000_1   2018-10-08     1000\n",
       "2         1000_2   2018-08-04     1000\n",
       "3         1000_3   2018-06-16     1000\n",
       "4         1000_4   2018-12-05     1000\n",
       "...          ...          ...      ...\n",
       "123031  1499_179   2018-12-12     1499\n",
       "123032  1499_180   2018-09-28     1499\n",
       "123033  1499_181   2018-09-27     1499\n",
       "123034  1499_182   2018-11-15     1499\n",
       "123035  1499_183   2018-11-16     1499\n",
       "\n",
       "[123036 rows x 3 columns]"
      ]
     },
     "metadata": {},
     "output_type": "display_data"
    },
    {
     "name": "stdout",
     "output_type": "stream",
     "text": [
      "-----------Тарифы:-----------\n"
     ]
    },
    {
     "data": {
      "text/html": [
       "<div>\n",
       "<style scoped>\n",
       "    .dataframe tbody tr th:only-of-type {\n",
       "        vertical-align: middle;\n",
       "    }\n",
       "\n",
       "    .dataframe tbody tr th {\n",
       "        vertical-align: top;\n",
       "    }\n",
       "\n",
       "    .dataframe thead th {\n",
       "        text-align: right;\n",
       "    }\n",
       "</style>\n",
       "<table border=\"1\" class=\"dataframe\">\n",
       "  <thead>\n",
       "    <tr style=\"text-align: right;\">\n",
       "      <th></th>\n",
       "      <th>messages_included</th>\n",
       "      <th>mb_per_month_included</th>\n",
       "      <th>minutes_included</th>\n",
       "      <th>rub_monthly_fee</th>\n",
       "      <th>rub_per_gb</th>\n",
       "      <th>rub_per_message</th>\n",
       "      <th>rub_per_minute</th>\n",
       "      <th>tariff_name</th>\n",
       "    </tr>\n",
       "  </thead>\n",
       "  <tbody>\n",
       "    <tr>\n",
       "      <th>0</th>\n",
       "      <td>50</td>\n",
       "      <td>15360</td>\n",
       "      <td>500</td>\n",
       "      <td>550</td>\n",
       "      <td>200</td>\n",
       "      <td>3</td>\n",
       "      <td>3</td>\n",
       "      <td>smart</td>\n",
       "    </tr>\n",
       "    <tr>\n",
       "      <th>1</th>\n",
       "      <td>1000</td>\n",
       "      <td>30720</td>\n",
       "      <td>3000</td>\n",
       "      <td>1950</td>\n",
       "      <td>150</td>\n",
       "      <td>1</td>\n",
       "      <td>1</td>\n",
       "      <td>ultra</td>\n",
       "    </tr>\n",
       "  </tbody>\n",
       "</table>\n",
       "</div>"
      ],
      "text/plain": [
       "   messages_included  mb_per_month_included  minutes_included  \\\n",
       "0                 50                  15360               500   \n",
       "1               1000                  30720              3000   \n",
       "\n",
       "   rub_monthly_fee  rub_per_gb  rub_per_message  rub_per_minute tariff_name  \n",
       "0              550         200                3               3       smart  \n",
       "1             1950         150                1               1       ultra  "
      ]
     },
     "metadata": {},
     "output_type": "display_data"
    },
    {
     "name": "stdout",
     "output_type": "stream",
     "text": [
      "-----------Пользователи:-----------\n"
     ]
    },
    {
     "data": {
      "text/html": [
       "<div>\n",
       "<style scoped>\n",
       "    .dataframe tbody tr th:only-of-type {\n",
       "        vertical-align: middle;\n",
       "    }\n",
       "\n",
       "    .dataframe tbody tr th {\n",
       "        vertical-align: top;\n",
       "    }\n",
       "\n",
       "    .dataframe thead th {\n",
       "        text-align: right;\n",
       "    }\n",
       "</style>\n",
       "<table border=\"1\" class=\"dataframe\">\n",
       "  <thead>\n",
       "    <tr style=\"text-align: right;\">\n",
       "      <th></th>\n",
       "      <th>user_id</th>\n",
       "      <th>age</th>\n",
       "      <th>churn_date</th>\n",
       "      <th>city</th>\n",
       "      <th>first_name</th>\n",
       "      <th>last_name</th>\n",
       "      <th>reg_date</th>\n",
       "      <th>tariff</th>\n",
       "    </tr>\n",
       "  </thead>\n",
       "  <tbody>\n",
       "    <tr>\n",
       "      <th>0</th>\n",
       "      <td>1000</td>\n",
       "      <td>52</td>\n",
       "      <td>NaN</td>\n",
       "      <td>Краснодар</td>\n",
       "      <td>Рафаил</td>\n",
       "      <td>Верещагин</td>\n",
       "      <td>2018-05-25</td>\n",
       "      <td>ultra</td>\n",
       "    </tr>\n",
       "    <tr>\n",
       "      <th>1</th>\n",
       "      <td>1001</td>\n",
       "      <td>41</td>\n",
       "      <td>NaN</td>\n",
       "      <td>Москва</td>\n",
       "      <td>Иван</td>\n",
       "      <td>Ежов</td>\n",
       "      <td>2018-11-01</td>\n",
       "      <td>smart</td>\n",
       "    </tr>\n",
       "    <tr>\n",
       "      <th>2</th>\n",
       "      <td>1002</td>\n",
       "      <td>59</td>\n",
       "      <td>NaN</td>\n",
       "      <td>Стерлитамак</td>\n",
       "      <td>Евгений</td>\n",
       "      <td>Абрамович</td>\n",
       "      <td>2018-06-17</td>\n",
       "      <td>smart</td>\n",
       "    </tr>\n",
       "    <tr>\n",
       "      <th>3</th>\n",
       "      <td>1003</td>\n",
       "      <td>23</td>\n",
       "      <td>NaN</td>\n",
       "      <td>Москва</td>\n",
       "      <td>Белла</td>\n",
       "      <td>Белякова</td>\n",
       "      <td>2018-08-17</td>\n",
       "      <td>ultra</td>\n",
       "    </tr>\n",
       "    <tr>\n",
       "      <th>4</th>\n",
       "      <td>1004</td>\n",
       "      <td>68</td>\n",
       "      <td>NaN</td>\n",
       "      <td>Новокузнецк</td>\n",
       "      <td>Татьяна</td>\n",
       "      <td>Авдеенко</td>\n",
       "      <td>2018-05-14</td>\n",
       "      <td>ultra</td>\n",
       "    </tr>\n",
       "    <tr>\n",
       "      <th>...</th>\n",
       "      <td>...</td>\n",
       "      <td>...</td>\n",
       "      <td>...</td>\n",
       "      <td>...</td>\n",
       "      <td>...</td>\n",
       "      <td>...</td>\n",
       "      <td>...</td>\n",
       "      <td>...</td>\n",
       "    </tr>\n",
       "    <tr>\n",
       "      <th>495</th>\n",
       "      <td>1495</td>\n",
       "      <td>65</td>\n",
       "      <td>NaN</td>\n",
       "      <td>Иркутск</td>\n",
       "      <td>Авксентий</td>\n",
       "      <td>Фокин</td>\n",
       "      <td>2018-08-28</td>\n",
       "      <td>ultra</td>\n",
       "    </tr>\n",
       "    <tr>\n",
       "      <th>496</th>\n",
       "      <td>1496</td>\n",
       "      <td>36</td>\n",
       "      <td>NaN</td>\n",
       "      <td>Вологда</td>\n",
       "      <td>Трифон</td>\n",
       "      <td>Блохин</td>\n",
       "      <td>2018-01-27</td>\n",
       "      <td>smart</td>\n",
       "    </tr>\n",
       "    <tr>\n",
       "      <th>497</th>\n",
       "      <td>1497</td>\n",
       "      <td>32</td>\n",
       "      <td>NaN</td>\n",
       "      <td>Челябинск</td>\n",
       "      <td>Каролина</td>\n",
       "      <td>Агеева</td>\n",
       "      <td>2018-10-09</td>\n",
       "      <td>smart</td>\n",
       "    </tr>\n",
       "    <tr>\n",
       "      <th>498</th>\n",
       "      <td>1498</td>\n",
       "      <td>68</td>\n",
       "      <td>2018-10-25</td>\n",
       "      <td>Владикавказ</td>\n",
       "      <td>Всеволод</td>\n",
       "      <td>Акимчин</td>\n",
       "      <td>2018-07-19</td>\n",
       "      <td>smart</td>\n",
       "    </tr>\n",
       "    <tr>\n",
       "      <th>499</th>\n",
       "      <td>1499</td>\n",
       "      <td>35</td>\n",
       "      <td>NaN</td>\n",
       "      <td>Пермь</td>\n",
       "      <td>Гектор</td>\n",
       "      <td>Корнилов</td>\n",
       "      <td>2018-09-27</td>\n",
       "      <td>smart</td>\n",
       "    </tr>\n",
       "  </tbody>\n",
       "</table>\n",
       "<p>500 rows × 8 columns</p>\n",
       "</div>"
      ],
      "text/plain": [
       "     user_id  age  churn_date         city first_name  last_name    reg_date  \\\n",
       "0       1000   52         NaN    Краснодар     Рафаил  Верещагин  2018-05-25   \n",
       "1       1001   41         NaN       Москва       Иван       Ежов  2018-11-01   \n",
       "2       1002   59         NaN  Стерлитамак    Евгений  Абрамович  2018-06-17   \n",
       "3       1003   23         NaN       Москва      Белла   Белякова  2018-08-17   \n",
       "4       1004   68         NaN  Новокузнецк    Татьяна   Авдеенко  2018-05-14   \n",
       "..       ...  ...         ...          ...        ...        ...         ...   \n",
       "495     1495   65         NaN      Иркутск  Авксентий      Фокин  2018-08-28   \n",
       "496     1496   36         NaN      Вологда     Трифон     Блохин  2018-01-27   \n",
       "497     1497   32         NaN    Челябинск   Каролина     Агеева  2018-10-09   \n",
       "498     1498   68  2018-10-25  Владикавказ   Всеволод    Акимчин  2018-07-19   \n",
       "499     1499   35         NaN        Пермь     Гектор   Корнилов  2018-09-27   \n",
       "\n",
       "    tariff  \n",
       "0    ultra  \n",
       "1    smart  \n",
       "2    smart  \n",
       "3    ultra  \n",
       "4    ultra  \n",
       "..     ...  \n",
       "495  ultra  \n",
       "496  smart  \n",
       "497  smart  \n",
       "498  smart  \n",
       "499  smart  \n",
       "\n",
       "[500 rows x 8 columns]"
      ]
     },
     "metadata": {},
     "output_type": "display_data"
    }
   ],
   "source": [
    "import pandas as pd\n",
    "import math\n",
    "import matplotlib.pyplot as plt\n",
    "import numpy as np\n",
    "from scipy import stats as st\n",
    "calls = pd.read_csv('/datasets/calls.csv')\n",
    "internet = pd.read_csv('/datasets/internet.csv')\n",
    "messages = pd.read_csv('/datasets/messages.csv')\n",
    "tariffs = pd.read_csv('/datasets/tariffs.csv')\n",
    "users = pd.read_csv('/datasets/users.csv')\n",
    "print('-----------Звонки:-----------')\n",
    "display(calls)\n",
    "print('-----------Интернет:-----------')\n",
    "display(internet)\n",
    "print('-----------Сообщения:-----------')\n",
    "display(messages)\n",
    "print('-----------Тарифы:-----------')\n",
    "display(tariffs)\n",
    "print('-----------Пользователи:-----------')\n",
    "display(users)"
   ]
  },
  {
   "cell_type": "markdown",
   "metadata": {},
   "source": [
    "Сделали все необходимые, для исследования импорты. Открыли все данные, которые находятся в 5ти разных таблицах."
   ]
  },
  {
   "cell_type": "markdown",
   "metadata": {},
   "source": [
    "## Предобработка данных"
   ]
  },
  {
   "cell_type": "markdown",
   "metadata": {},
   "source": [
    "### Перевод в формат даты"
   ]
  },
  {
   "cell_type": "code",
   "execution_count": 19,
   "metadata": {},
   "outputs": [
    {
     "name": "stderr",
     "output_type": "stream",
     "text": [
      "/tmp/ipykernel_36/3123472631.py:23: SettingWithCopyWarning: \n",
      "A value is trying to be set on a copy of a slice from a DataFrame.\n",
      "Try using .loc[row_indexer,col_indexer] = value instead\n",
      "\n",
      "See the caveats in the documentation: https://pandas.pydata.org/pandas-docs/stable/user_guide/indexing.html#returning-a-view-versus-a-copy\n",
      "  inactive_users['days_of_use'] = inactive_users['churn_date'] - inactive_users['reg_date']\n"
     ]
    },
    {
     "data": {
      "text/html": [
       "<div>\n",
       "<style scoped>\n",
       "    .dataframe tbody tr th:only-of-type {\n",
       "        vertical-align: middle;\n",
       "    }\n",
       "\n",
       "    .dataframe tbody tr th {\n",
       "        vertical-align: top;\n",
       "    }\n",
       "\n",
       "    .dataframe thead th {\n",
       "        text-align: right;\n",
       "    }\n",
       "</style>\n",
       "<table border=\"1\" class=\"dataframe\">\n",
       "  <thead>\n",
       "    <tr style=\"text-align: right;\">\n",
       "      <th></th>\n",
       "      <th>user_id</th>\n",
       "      <th>age</th>\n",
       "      <th>churn_date</th>\n",
       "      <th>city</th>\n",
       "      <th>first_name</th>\n",
       "      <th>last_name</th>\n",
       "      <th>reg_date</th>\n",
       "      <th>tariff</th>\n",
       "      <th>days_of_use</th>\n",
       "    </tr>\n",
       "  </thead>\n",
       "  <tbody>\n",
       "    <tr>\n",
       "      <th>0</th>\n",
       "      <td>1000</td>\n",
       "      <td>52</td>\n",
       "      <td>NaT</td>\n",
       "      <td>Краснодар</td>\n",
       "      <td>Рафаил</td>\n",
       "      <td>Верещагин</td>\n",
       "      <td>2018-05-25</td>\n",
       "      <td>ultra</td>\n",
       "      <td>220 days</td>\n",
       "    </tr>\n",
       "    <tr>\n",
       "      <th>1</th>\n",
       "      <td>1001</td>\n",
       "      <td>41</td>\n",
       "      <td>NaT</td>\n",
       "      <td>Москва</td>\n",
       "      <td>Иван</td>\n",
       "      <td>Ежов</td>\n",
       "      <td>2018-11-01</td>\n",
       "      <td>smart</td>\n",
       "      <td>60 days</td>\n",
       "    </tr>\n",
       "    <tr>\n",
       "      <th>2</th>\n",
       "      <td>1002</td>\n",
       "      <td>59</td>\n",
       "      <td>NaT</td>\n",
       "      <td>Стерлитамак</td>\n",
       "      <td>Евгений</td>\n",
       "      <td>Абрамович</td>\n",
       "      <td>2018-06-17</td>\n",
       "      <td>smart</td>\n",
       "      <td>197 days</td>\n",
       "    </tr>\n",
       "    <tr>\n",
       "      <th>3</th>\n",
       "      <td>1003</td>\n",
       "      <td>23</td>\n",
       "      <td>NaT</td>\n",
       "      <td>Москва</td>\n",
       "      <td>Белла</td>\n",
       "      <td>Белякова</td>\n",
       "      <td>2018-08-17</td>\n",
       "      <td>ultra</td>\n",
       "      <td>136 days</td>\n",
       "    </tr>\n",
       "    <tr>\n",
       "      <th>4</th>\n",
       "      <td>1004</td>\n",
       "      <td>68</td>\n",
       "      <td>NaT</td>\n",
       "      <td>Новокузнецк</td>\n",
       "      <td>Татьяна</td>\n",
       "      <td>Авдеенко</td>\n",
       "      <td>2018-05-14</td>\n",
       "      <td>ultra</td>\n",
       "      <td>231 days</td>\n",
       "    </tr>\n",
       "  </tbody>\n",
       "</table>\n",
       "</div>"
      ],
      "text/plain": [
       "   user_id  age churn_date         city first_name  last_name   reg_date  \\\n",
       "0     1000   52        NaT    Краснодар     Рафаил  Верещагин 2018-05-25   \n",
       "1     1001   41        NaT       Москва       Иван       Ежов 2018-11-01   \n",
       "2     1002   59        NaT  Стерлитамак    Евгений  Абрамович 2018-06-17   \n",
       "3     1003   23        NaT       Москва      Белла   Белякова 2018-08-17   \n",
       "4     1004   68        NaT  Новокузнецк    Татьяна   Авдеенко 2018-05-14   \n",
       "\n",
       "  tariff days_of_use  \n",
       "0  ultra    220 days  \n",
       "1  smart     60 days  \n",
       "2  smart    197 days  \n",
       "3  ultra    136 days  \n",
       "4  ultra    231 days  "
      ]
     },
     "metadata": {},
     "output_type": "display_data"
    },
    {
     "data": {
      "text/html": [
       "<div>\n",
       "<style scoped>\n",
       "    .dataframe tbody tr th:only-of-type {\n",
       "        vertical-align: middle;\n",
       "    }\n",
       "\n",
       "    .dataframe tbody tr th {\n",
       "        vertical-align: top;\n",
       "    }\n",
       "\n",
       "    .dataframe thead th {\n",
       "        text-align: right;\n",
       "    }\n",
       "</style>\n",
       "<table border=\"1\" class=\"dataframe\">\n",
       "  <thead>\n",
       "    <tr style=\"text-align: right;\">\n",
       "      <th></th>\n",
       "      <th>user_id</th>\n",
       "      <th>age</th>\n",
       "      <th>churn_date</th>\n",
       "      <th>city</th>\n",
       "      <th>first_name</th>\n",
       "      <th>last_name</th>\n",
       "      <th>reg_date</th>\n",
       "      <th>tariff</th>\n",
       "      <th>days_of_use</th>\n",
       "    </tr>\n",
       "  </thead>\n",
       "  <tbody>\n",
       "    <tr>\n",
       "      <th>19</th>\n",
       "      <td>1019</td>\n",
       "      <td>63</td>\n",
       "      <td>2018-10-05</td>\n",
       "      <td>Томск</td>\n",
       "      <td>Игнатий</td>\n",
       "      <td>Круглов</td>\n",
       "      <td>2018-05-16</td>\n",
       "      <td>ultra</td>\n",
       "      <td>142 days</td>\n",
       "    </tr>\n",
       "    <tr>\n",
       "      <th>20</th>\n",
       "      <td>1020</td>\n",
       "      <td>59</td>\n",
       "      <td>2018-12-18</td>\n",
       "      <td>Чита</td>\n",
       "      <td>Тала</td>\n",
       "      <td>Костина</td>\n",
       "      <td>2018-10-22</td>\n",
       "      <td>smart</td>\n",
       "      <td>57 days</td>\n",
       "    </tr>\n",
       "    <tr>\n",
       "      <th>34</th>\n",
       "      <td>1034</td>\n",
       "      <td>66</td>\n",
       "      <td>2018-11-21</td>\n",
       "      <td>Вологда</td>\n",
       "      <td>Святослав</td>\n",
       "      <td>Бондарев</td>\n",
       "      <td>2018-08-26</td>\n",
       "      <td>smart</td>\n",
       "      <td>87 days</td>\n",
       "    </tr>\n",
       "    <tr>\n",
       "      <th>50</th>\n",
       "      <td>1050</td>\n",
       "      <td>44</td>\n",
       "      <td>2018-10-03</td>\n",
       "      <td>Тюмень</td>\n",
       "      <td>Рузана</td>\n",
       "      <td>Аничкина</td>\n",
       "      <td>2018-06-16</td>\n",
       "      <td>ultra</td>\n",
       "      <td>109 days</td>\n",
       "    </tr>\n",
       "    <tr>\n",
       "      <th>51</th>\n",
       "      <td>1051</td>\n",
       "      <td>37</td>\n",
       "      <td>2018-10-14</td>\n",
       "      <td>Москва</td>\n",
       "      <td>Кристина</td>\n",
       "      <td>Сомова</td>\n",
       "      <td>2018-05-28</td>\n",
       "      <td>smart</td>\n",
       "      <td>139 days</td>\n",
       "    </tr>\n",
       "  </tbody>\n",
       "</table>\n",
       "</div>"
      ],
      "text/plain": [
       "    user_id  age churn_date     city first_name last_name   reg_date tariff  \\\n",
       "19     1019   63 2018-10-05    Томск    Игнатий   Круглов 2018-05-16  ultra   \n",
       "20     1020   59 2018-12-18     Чита       Тала   Костина 2018-10-22  smart   \n",
       "34     1034   66 2018-11-21  Вологда  Святослав  Бондарев 2018-08-26  smart   \n",
       "50     1050   44 2018-10-03   Тюмень     Рузана  Аничкина 2018-06-16  ultra   \n",
       "51     1051   37 2018-10-14   Москва   Кристина    Сомова 2018-05-28  smart   \n",
       "\n",
       "   days_of_use  \n",
       "19    142 days  \n",
       "20     57 days  \n",
       "34     87 days  \n",
       "50    109 days  \n",
       "51    139 days  "
      ]
     },
     "metadata": {},
     "output_type": "display_data"
    }
   ],
   "source": [
    "calls['call_date'] = pd.to_datetime(calls['call_date'], format = '%Y.%m.%d')\n",
    "internet['session_date'] = pd.to_datetime(internet['session_date'], format = '%Y.%m.%d')\n",
    "messages['message_date'] = pd.to_datetime(messages['message_date'], format = '%Y.%m.%d')\n",
    "users['reg_date'] = pd.to_datetime(users['reg_date'], format = '%Y.%m.%d')\n",
    "users['churn_date'] = pd.to_datetime(users['churn_date'], format = '%Y.%m.%d')\n",
    "\n",
    "#print(users['reg_date'].max())\n",
    "#print(messages['message_date'].max())\n",
    "#print(internet['session_date'].max())\n",
    "#print(calls['call_date'].max())\n",
    "\n",
    "\n",
    "today = calls['call_date'].max()\n",
    "\n",
    "def days_of_use(registr_date):\n",
    "    days = today - registr_date\n",
    "    return days\n",
    "\n",
    "inactive_users = users[users['churn_date'].notnull()]\n",
    "#users = users[users['churn_date'].isna()]\n",
    "\n",
    "users['days_of_use'] = users['reg_date'].apply(days_of_use)\n",
    "inactive_users['days_of_use'] = inactive_users['churn_date'] - inactive_users['reg_date']\n",
    "#users.drop(['churn_date'], axis = 1, inplace = True)\n",
    "display(users.head(5))\n",
    "display(inactive_users.head(5))"
   ]
  },
  {
   "cell_type": "markdown",
   "metadata": {},
   "source": [
    "#### Вывод\n",
    "Во всех таблицах я перевел формат даты в корректный, для того, что бы с ним можно было работать. Далее я отфильтровал всех пользователей на активных и неактивных. В дальнейшем буду работать с датасетом только активных пользователей, так как цель исследования - понять, в какой тариф выгоднее вкладывать рекламный бюджет на будущее. Я думаю, что логичнее это делать по текущему поведению пользователей. Написал функцию, которая показывает, сколько дней человек пользуется тарифом. Для этого взял самый последний звонок в выборке за дату выгрузки датасета."
   ]
  },
  {
   "cell_type": "markdown",
   "metadata": {},
   "source": [
    "### Изменение типов данных"
   ]
  },
  {
   "cell_type": "code",
   "execution_count": 20,
   "metadata": {},
   "outputs": [],
   "source": [
    "calls['duration'] = calls['duration'].apply(math.ceil)"
   ]
  },
  {
   "cell_type": "markdown",
   "metadata": {},
   "source": [
    "#### Вывод\n",
    "Округлил в большую сторону значения, исходя из комментариев к датасету: \"«Мегалайн» всегда округляет секунды до минут, а мегабайты — до гигабайт. Каждый звонок округляется отдельно: даже если он длился всего 1 секунду, будет засчитан как 1 минута.\n",
    "Для веб-трафика отдельные сессии не считаются. Вместо этого общая сумма за месяц округляется в бо́льшую сторону. Если абонент использует 1025 мегабайт в этом месяце, с него возьмут плату за 2 гигабайта. Примите, что неиспользованные за предыдущий месяц звонки, смс, интернет на следующий месяц не переносятся.\""
   ]
  },
  {
   "cell_type": "markdown",
   "metadata": {},
   "source": [
    "### Добавление данных, необходимых для исследования"
   ]
  },
  {
   "cell_type": "code",
   "execution_count": 21,
   "metadata": {},
   "outputs": [],
   "source": [
    "calls['month'] = pd.DatetimeIndex(calls['call_date']).month\n",
    "internet['month'] = pd.DatetimeIndex(internet['session_date']).month\n",
    "messages['month'] = pd.DatetimeIndex(messages['message_date']).month"
   ]
  },
  {
   "cell_type": "markdown",
   "metadata": {},
   "source": [
    "#### Вывод\n",
    "Плата по обоим тарифам взымается за месяц. Для исследования добавил новый столбец с месяцем в выборки."
   ]
  },
  {
   "cell_type": "code",
   "execution_count": 22,
   "metadata": {
    "scrolled": false
   },
   "outputs": [
    {
     "data": {
      "text/html": [
       "<div>\n",
       "<style scoped>\n",
       "    .dataframe tbody tr th:only-of-type {\n",
       "        vertical-align: middle;\n",
       "    }\n",
       "\n",
       "    .dataframe tbody tr th {\n",
       "        vertical-align: top;\n",
       "    }\n",
       "\n",
       "    .dataframe thead tr th {\n",
       "        text-align: left;\n",
       "    }\n",
       "\n",
       "    .dataframe thead tr:last-of-type th {\n",
       "        text-align: right;\n",
       "    }\n",
       "</style>\n",
       "<table border=\"1\" class=\"dataframe\">\n",
       "  <thead>\n",
       "    <tr>\n",
       "      <th></th>\n",
       "      <th></th>\n",
       "      <th>total_calls</th>\n",
       "      <th>total_minutes</th>\n",
       "    </tr>\n",
       "    <tr>\n",
       "      <th></th>\n",
       "      <th></th>\n",
       "      <th>duration</th>\n",
       "      <th>duration</th>\n",
       "    </tr>\n",
       "    <tr>\n",
       "      <th>user_id</th>\n",
       "      <th>month</th>\n",
       "      <th></th>\n",
       "      <th></th>\n",
       "    </tr>\n",
       "  </thead>\n",
       "  <tbody>\n",
       "    <tr>\n",
       "      <th rowspan=\"5\" valign=\"top\">1000</th>\n",
       "      <th>5</th>\n",
       "      <td>22</td>\n",
       "      <td>159</td>\n",
       "    </tr>\n",
       "    <tr>\n",
       "      <th>6</th>\n",
       "      <td>43</td>\n",
       "      <td>172</td>\n",
       "    </tr>\n",
       "    <tr>\n",
       "      <th>7</th>\n",
       "      <td>47</td>\n",
       "      <td>340</td>\n",
       "    </tr>\n",
       "    <tr>\n",
       "      <th>8</th>\n",
       "      <td>52</td>\n",
       "      <td>408</td>\n",
       "    </tr>\n",
       "    <tr>\n",
       "      <th>9</th>\n",
       "      <td>58</td>\n",
       "      <td>466</td>\n",
       "    </tr>\n",
       "    <tr>\n",
       "      <th>...</th>\n",
       "      <th>...</th>\n",
       "      <td>...</td>\n",
       "      <td>...</td>\n",
       "    </tr>\n",
       "    <tr>\n",
       "      <th>1498</th>\n",
       "      <th>10</th>\n",
       "      <td>41</td>\n",
       "      <td>247</td>\n",
       "    </tr>\n",
       "    <tr>\n",
       "      <th rowspan=\"4\" valign=\"top\">1499</th>\n",
       "      <th>9</th>\n",
       "      <td>9</td>\n",
       "      <td>70</td>\n",
       "    </tr>\n",
       "    <tr>\n",
       "      <th>10</th>\n",
       "      <td>68</td>\n",
       "      <td>449</td>\n",
       "    </tr>\n",
       "    <tr>\n",
       "      <th>11</th>\n",
       "      <td>74</td>\n",
       "      <td>612</td>\n",
       "    </tr>\n",
       "    <tr>\n",
       "      <th>12</th>\n",
       "      <td>69</td>\n",
       "      <td>492</td>\n",
       "    </tr>\n",
       "  </tbody>\n",
       "</table>\n",
       "<p>3174 rows × 2 columns</p>\n",
       "</div>"
      ],
      "text/plain": [
       "              total_calls total_minutes\n",
       "                 duration      duration\n",
       "user_id month                          \n",
       "1000    5              22           159\n",
       "        6              43           172\n",
       "        7              47           340\n",
       "        8              52           408\n",
       "        9              58           466\n",
       "...                   ...           ...\n",
       "1498    10             41           247\n",
       "1499    9               9            70\n",
       "        10             68           449\n",
       "        11             74           612\n",
       "        12             69           492\n",
       "\n",
       "[3174 rows x 2 columns]"
      ]
     },
     "metadata": {},
     "output_type": "display_data"
    },
    {
     "data": {
      "text/html": [
       "<div>\n",
       "<style scoped>\n",
       "    .dataframe tbody tr th:only-of-type {\n",
       "        vertical-align: middle;\n",
       "    }\n",
       "\n",
       "    .dataframe tbody tr th {\n",
       "        vertical-align: top;\n",
       "    }\n",
       "\n",
       "    .dataframe thead tr th {\n",
       "        text-align: left;\n",
       "    }\n",
       "\n",
       "    .dataframe thead tr:last-of-type th {\n",
       "        text-align: right;\n",
       "    }\n",
       "</style>\n",
       "<table border=\"1\" class=\"dataframe\">\n",
       "  <thead>\n",
       "    <tr>\n",
       "      <th></th>\n",
       "      <th></th>\n",
       "      <th>total_messages</th>\n",
       "    </tr>\n",
       "    <tr>\n",
       "      <th></th>\n",
       "      <th></th>\n",
       "      <th>message_date</th>\n",
       "    </tr>\n",
       "    <tr>\n",
       "      <th>user_id</th>\n",
       "      <th>month</th>\n",
       "      <th></th>\n",
       "    </tr>\n",
       "  </thead>\n",
       "  <tbody>\n",
       "    <tr>\n",
       "      <th rowspan=\"5\" valign=\"top\">1000</th>\n",
       "      <th>5</th>\n",
       "      <td>22</td>\n",
       "    </tr>\n",
       "    <tr>\n",
       "      <th>6</th>\n",
       "      <td>60</td>\n",
       "    </tr>\n",
       "    <tr>\n",
       "      <th>7</th>\n",
       "      <td>75</td>\n",
       "    </tr>\n",
       "    <tr>\n",
       "      <th>8</th>\n",
       "      <td>81</td>\n",
       "    </tr>\n",
       "    <tr>\n",
       "      <th>9</th>\n",
       "      <td>57</td>\n",
       "    </tr>\n",
       "    <tr>\n",
       "      <th>...</th>\n",
       "      <th>...</th>\n",
       "      <td>...</td>\n",
       "    </tr>\n",
       "    <tr>\n",
       "      <th>1498</th>\n",
       "      <th>10</th>\n",
       "      <td>42</td>\n",
       "    </tr>\n",
       "    <tr>\n",
       "      <th rowspan=\"4\" valign=\"top\">1499</th>\n",
       "      <th>9</th>\n",
       "      <td>11</td>\n",
       "    </tr>\n",
       "    <tr>\n",
       "      <th>10</th>\n",
       "      <td>48</td>\n",
       "    </tr>\n",
       "    <tr>\n",
       "      <th>11</th>\n",
       "      <td>59</td>\n",
       "    </tr>\n",
       "    <tr>\n",
       "      <th>12</th>\n",
       "      <td>66</td>\n",
       "    </tr>\n",
       "  </tbody>\n",
       "</table>\n",
       "<p>2717 rows × 1 columns</p>\n",
       "</div>"
      ],
      "text/plain": [
       "              total_messages\n",
       "                message_date\n",
       "user_id month               \n",
       "1000    5                 22\n",
       "        6                 60\n",
       "        7                 75\n",
       "        8                 81\n",
       "        9                 57\n",
       "...                      ...\n",
       "1498    10                42\n",
       "1499    9                 11\n",
       "        10                48\n",
       "        11                59\n",
       "        12                66\n",
       "\n",
       "[2717 rows x 1 columns]"
      ]
     },
     "metadata": {},
     "output_type": "display_data"
    },
    {
     "data": {
      "text/html": [
       "<div>\n",
       "<style scoped>\n",
       "    .dataframe tbody tr th:only-of-type {\n",
       "        vertical-align: middle;\n",
       "    }\n",
       "\n",
       "    .dataframe tbody tr th {\n",
       "        vertical-align: top;\n",
       "    }\n",
       "\n",
       "    .dataframe thead tr th {\n",
       "        text-align: left;\n",
       "    }\n",
       "\n",
       "    .dataframe thead tr:last-of-type th {\n",
       "        text-align: right;\n",
       "    }\n",
       "</style>\n",
       "<table border=\"1\" class=\"dataframe\">\n",
       "  <thead>\n",
       "    <tr>\n",
       "      <th></th>\n",
       "      <th></th>\n",
       "      <th>sum</th>\n",
       "    </tr>\n",
       "    <tr>\n",
       "      <th></th>\n",
       "      <th></th>\n",
       "      <th>mb_used</th>\n",
       "    </tr>\n",
       "    <tr>\n",
       "      <th>user_id</th>\n",
       "      <th>month</th>\n",
       "      <th></th>\n",
       "    </tr>\n",
       "  </thead>\n",
       "  <tbody>\n",
       "    <tr>\n",
       "      <th rowspan=\"5\" valign=\"top\">1000</th>\n",
       "      <th>5</th>\n",
       "      <td>2253.49</td>\n",
       "    </tr>\n",
       "    <tr>\n",
       "      <th>6</th>\n",
       "      <td>23233.77</td>\n",
       "    </tr>\n",
       "    <tr>\n",
       "      <th>7</th>\n",
       "      <td>14003.64</td>\n",
       "    </tr>\n",
       "    <tr>\n",
       "      <th>8</th>\n",
       "      <td>14055.93</td>\n",
       "    </tr>\n",
       "    <tr>\n",
       "      <th>9</th>\n",
       "      <td>14568.91</td>\n",
       "    </tr>\n",
       "    <tr>\n",
       "      <th>...</th>\n",
       "      <th>...</th>\n",
       "      <td>...</td>\n",
       "    </tr>\n",
       "    <tr>\n",
       "      <th>1498</th>\n",
       "      <th>10</th>\n",
       "      <td>20579.36</td>\n",
       "    </tr>\n",
       "    <tr>\n",
       "      <th rowspan=\"4\" valign=\"top\">1499</th>\n",
       "      <th>9</th>\n",
       "      <td>1845.75</td>\n",
       "    </tr>\n",
       "    <tr>\n",
       "      <th>10</th>\n",
       "      <td>17788.51</td>\n",
       "    </tr>\n",
       "    <tr>\n",
       "      <th>11</th>\n",
       "      <td>17963.31</td>\n",
       "    </tr>\n",
       "    <tr>\n",
       "      <th>12</th>\n",
       "      <td>13055.58</td>\n",
       "    </tr>\n",
       "  </tbody>\n",
       "</table>\n",
       "<p>3203 rows × 1 columns</p>\n",
       "</div>"
      ],
      "text/plain": [
       "                    sum\n",
       "                mb_used\n",
       "user_id month          \n",
       "1000    5       2253.49\n",
       "        6      23233.77\n",
       "        7      14003.64\n",
       "        8      14055.93\n",
       "        9      14568.91\n",
       "...                 ...\n",
       "1498    10     20579.36\n",
       "1499    9       1845.75\n",
       "        10     17788.51\n",
       "        11     17963.31\n",
       "        12     13055.58\n",
       "\n",
       "[3203 rows x 1 columns]"
      ]
     },
     "metadata": {},
     "output_type": "display_data"
    }
   ],
   "source": [
    "calls_pivot = (calls\n",
    "               .pivot_table(index = ['user_id', 'month'], values = ['duration'], aggfunc = ['count', 'sum'])\n",
    "               .rename(columns = {'count': 'total_calls', 'sum': 'total_minutes'})\n",
    "              )\n",
    "messages_pivot = (messages\n",
    "               .pivot_table(index = ['user_id', 'month'], values = ['message_date'], aggfunc = ['count'])\n",
    "               .rename(columns = {'count': 'total_messages'})\n",
    "              )\n",
    "internet_pivot = (internet\n",
    "               .pivot_table(index = ['user_id', 'month'], values = ['mb_used'], aggfunc = ['sum'])\n",
    "               .rename(columns = {'count': 'total_mb_used'})\n",
    "                 )\n",
    "display(calls_pivot)\n",
    "display(messages_pivot)\n",
    "display(internet_pivot)"
   ]
  },
  {
   "cell_type": "markdown",
   "metadata": {},
   "source": [
    "#### Вывод\n",
    "Сделал сводные таблицы по каждому датасету, для дальейшего слияния данных значений с суммами по каждому пользователю за месяц."
   ]
  },
  {
   "cell_type": "markdown",
   "metadata": {},
   "source": []
  },
  {
   "cell_type": "code",
   "execution_count": 23,
   "metadata": {},
   "outputs": [
    {
     "name": "stderr",
     "output_type": "stream",
     "text": [
      "/opt/conda/lib/python3.9/site-packages/pandas/core/reshape/merge.py:648: UserWarning: merging between different levels can give an unintended result (2 levels on the left,1 on the right)\n",
      "  warnings.warn(msg, UserWarning)\n"
     ]
    },
    {
     "data": {
      "text/html": [
       "<div>\n",
       "<style scoped>\n",
       "    .dataframe tbody tr th:only-of-type {\n",
       "        vertical-align: middle;\n",
       "    }\n",
       "\n",
       "    .dataframe tbody tr th {\n",
       "        vertical-align: top;\n",
       "    }\n",
       "\n",
       "    .dataframe thead th {\n",
       "        text-align: right;\n",
       "    }\n",
       "</style>\n",
       "<table border=\"1\" class=\"dataframe\">\n",
       "  <thead>\n",
       "    <tr style=\"text-align: right;\">\n",
       "      <th></th>\n",
       "      <th>user_id</th>\n",
       "      <th>total_calls</th>\n",
       "      <th>total_minutes</th>\n",
       "      <th>total_messages_send</th>\n",
       "      <th>mb_used</th>\n",
       "      <th>tariff</th>\n",
       "      <th>city</th>\n",
       "      <th>monthly_revenue</th>\n",
       "    </tr>\n",
       "  </thead>\n",
       "  <tbody>\n",
       "    <tr>\n",
       "      <th>3201</th>\n",
       "      <td>1328</td>\n",
       "      <td>0</td>\n",
       "      <td>0</td>\n",
       "      <td>6</td>\n",
       "      <td>22000</td>\n",
       "      <td>ultra</td>\n",
       "      <td>Мурманск</td>\n",
       "      <td>1950</td>\n",
       "    </tr>\n",
       "    <tr>\n",
       "      <th>3202</th>\n",
       "      <td>1328</td>\n",
       "      <td>0</td>\n",
       "      <td>0</td>\n",
       "      <td>8</td>\n",
       "      <td>35000</td>\n",
       "      <td>ultra</td>\n",
       "      <td>Мурманск</td>\n",
       "      <td>2700</td>\n",
       "    </tr>\n",
       "    <tr>\n",
       "      <th>3203</th>\n",
       "      <td>1328</td>\n",
       "      <td>0</td>\n",
       "      <td>0</td>\n",
       "      <td>7</td>\n",
       "      <td>39000</td>\n",
       "      <td>ultra</td>\n",
       "      <td>Мурманск</td>\n",
       "      <td>3300</td>\n",
       "    </tr>\n",
       "    <tr>\n",
       "      <th>3204</th>\n",
       "      <td>1473</td>\n",
       "      <td>0</td>\n",
       "      <td>0</td>\n",
       "      <td>17</td>\n",
       "      <td>13000</td>\n",
       "      <td>ultra</td>\n",
       "      <td>Красноярск</td>\n",
       "      <td>1950</td>\n",
       "    </tr>\n",
       "    <tr>\n",
       "      <th>3205</th>\n",
       "      <td>1473</td>\n",
       "      <td>0</td>\n",
       "      <td>0</td>\n",
       "      <td>19</td>\n",
       "      <td>17000</td>\n",
       "      <td>ultra</td>\n",
       "      <td>Красноярск</td>\n",
       "      <td>1950</td>\n",
       "    </tr>\n",
       "    <tr>\n",
       "      <th>3206</th>\n",
       "      <td>1473</td>\n",
       "      <td>0</td>\n",
       "      <td>0</td>\n",
       "      <td>20</td>\n",
       "      <td>14000</td>\n",
       "      <td>ultra</td>\n",
       "      <td>Красноярск</td>\n",
       "      <td>1950</td>\n",
       "    </tr>\n",
       "    <tr>\n",
       "      <th>3207</th>\n",
       "      <td>1473</td>\n",
       "      <td>0</td>\n",
       "      <td>0</td>\n",
       "      <td>14</td>\n",
       "      <td>22000</td>\n",
       "      <td>ultra</td>\n",
       "      <td>Красноярск</td>\n",
       "      <td>1950</td>\n",
       "    </tr>\n",
       "    <tr>\n",
       "      <th>3208</th>\n",
       "      <td>1473</td>\n",
       "      <td>0</td>\n",
       "      <td>0</td>\n",
       "      <td>20</td>\n",
       "      <td>18000</td>\n",
       "      <td>ultra</td>\n",
       "      <td>Красноярск</td>\n",
       "      <td>1950</td>\n",
       "    </tr>\n",
       "    <tr>\n",
       "      <th>3209</th>\n",
       "      <td>1489</td>\n",
       "      <td>0</td>\n",
       "      <td>0</td>\n",
       "      <td>17</td>\n",
       "      <td>11000</td>\n",
       "      <td>smart</td>\n",
       "      <td>Санкт-Петербург</td>\n",
       "      <td>550</td>\n",
       "    </tr>\n",
       "    <tr>\n",
       "      <th>3210</th>\n",
       "      <td>1489</td>\n",
       "      <td>0</td>\n",
       "      <td>0</td>\n",
       "      <td>32</td>\n",
       "      <td>17000</td>\n",
       "      <td>smart</td>\n",
       "      <td>Санкт-Петербург</td>\n",
       "      <td>950</td>\n",
       "    </tr>\n",
       "    <tr>\n",
       "      <th>3211</th>\n",
       "      <td>1489</td>\n",
       "      <td>0</td>\n",
       "      <td>0</td>\n",
       "      <td>21</td>\n",
       "      <td>20000</td>\n",
       "      <td>smart</td>\n",
       "      <td>Санкт-Петербург</td>\n",
       "      <td>1550</td>\n",
       "    </tr>\n",
       "    <tr>\n",
       "      <th>3212</th>\n",
       "      <td>1489</td>\n",
       "      <td>0</td>\n",
       "      <td>0</td>\n",
       "      <td>20</td>\n",
       "      <td>18000</td>\n",
       "      <td>smart</td>\n",
       "      <td>Санкт-Петербург</td>\n",
       "      <td>1150</td>\n",
       "    </tr>\n",
       "    <tr>\n",
       "      <th>3213</th>\n",
       "      <td>1489</td>\n",
       "      <td>0</td>\n",
       "      <td>0</td>\n",
       "      <td>35</td>\n",
       "      <td>17000</td>\n",
       "      <td>smart</td>\n",
       "      <td>Санкт-Петербург</td>\n",
       "      <td>950</td>\n",
       "    </tr>\n",
       "    <tr>\n",
       "      <th>3214</th>\n",
       "      <td>1128</td>\n",
       "      <td>0</td>\n",
       "      <td>0</td>\n",
       "      <td>0</td>\n",
       "      <td>0</td>\n",
       "      <td>ultra</td>\n",
       "      <td>Волжский</td>\n",
       "      <td>1950</td>\n",
       "    </tr>\n",
       "    <tr>\n",
       "      <th>3215</th>\n",
       "      <td>1371</td>\n",
       "      <td>0</td>\n",
       "      <td>0</td>\n",
       "      <td>0</td>\n",
       "      <td>0</td>\n",
       "      <td>smart</td>\n",
       "      <td>Омск</td>\n",
       "      <td>550</td>\n",
       "    </tr>\n",
       "  </tbody>\n",
       "</table>\n",
       "</div>"
      ],
      "text/plain": [
       "      user_id  total_calls  total_minutes  total_messages_send  mb_used  \\\n",
       "3201     1328            0              0                    6    22000   \n",
       "3202     1328            0              0                    8    35000   \n",
       "3203     1328            0              0                    7    39000   \n",
       "3204     1473            0              0                   17    13000   \n",
       "3205     1473            0              0                   19    17000   \n",
       "3206     1473            0              0                   20    14000   \n",
       "3207     1473            0              0                   14    22000   \n",
       "3208     1473            0              0                   20    18000   \n",
       "3209     1489            0              0                   17    11000   \n",
       "3210     1489            0              0                   32    17000   \n",
       "3211     1489            0              0                   21    20000   \n",
       "3212     1489            0              0                   20    18000   \n",
       "3213     1489            0              0                   35    17000   \n",
       "3214     1128            0              0                    0        0   \n",
       "3215     1371            0              0                    0        0   \n",
       "\n",
       "     tariff             city  monthly_revenue  \n",
       "3201  ultra         Мурманск             1950  \n",
       "3202  ultra         Мурманск             2700  \n",
       "3203  ultra         Мурманск             3300  \n",
       "3204  ultra       Красноярск             1950  \n",
       "3205  ultra       Красноярск             1950  \n",
       "3206  ultra       Красноярск             1950  \n",
       "3207  ultra       Красноярск             1950  \n",
       "3208  ultra       Красноярск             1950  \n",
       "3209  smart  Санкт-Петербург              550  \n",
       "3210  smart  Санкт-Петербург              950  \n",
       "3211  smart  Санкт-Петербург             1550  \n",
       "3212  smart  Санкт-Петербург             1150  \n",
       "3213  smart  Санкт-Петербург              950  \n",
       "3214  ultra         Волжский             1950  \n",
       "3215  smart             Омск              550  "
      ]
     },
     "execution_count": 23,
     "metadata": {},
     "output_type": "execute_result"
    }
   ],
   "source": [
    "user_tariff = users.loc[:,['user_id', 'tariff','city']]\n",
    "all_pivot = (calls_pivot\n",
    "             .merge(messages_pivot, on = ['user_id', 'month'], how = 'outer')\n",
    "             .merge(internet_pivot, on = ['user_id', 'month'], how = 'outer')\n",
    "             .merge(user_tariff, on = ['user_id'], how = 'outer')\n",
    "             .reset_index()\n",
    "            )\n",
    "\n",
    "all_pivot.columns = [' '.join(col).strip() for col in all_pivot.columns.values]\n",
    "\n",
    "all_pivot.rename({'total_messages message_date' : 'total_messages_send', \n",
    "                 'sum mb_used': 'mb_used', 't a r i f f': 'tariff',\n",
    "                  'total_calls duration': 'total_calls', 'total_minutes duration': 'total_minutes',\n",
    "                 'u s e r _ i d': 'user_id', 'c i t y': 'city'}, \n",
    "                 axis = 1, inplace = True)\n",
    "del all_pivot['i n d e x']\n",
    "all_pivot.fillna({'total_calls' : 0, \n",
    "                 'total_minutes' : 0,\n",
    "                  'total_messages_send' : 0,\n",
    "                  'mb_used' : 0},\n",
    "                 inplace = True)\n",
    "\n",
    "all_pivot = all_pivot.astype({'total_calls' : 'int', \n",
    "                 'total_minutes' : 'int',\n",
    "                  'total_messages_send' : 'int',\n",
    "                  'mb_used' : 'int'})\n",
    "n = 1024\n",
    "y=1000\n",
    "all_pivot['mb_used'] = all_pivot['mb_used'].apply(lambda x: y * math.ceil(x/n))\n",
    "\n",
    "def monthly_revenue(row):\n",
    "    revenue = 0\n",
    "    user_id = row['user_id']\n",
    "    monthly_calls_duration = row['total_calls']\n",
    "    monthly_minutes_duration = row['total_minutes']\n",
    "    monthly_messages_send = row['total_messages_send']\n",
    "    monthly_mb_used = row['mb_used']\n",
    "    tariff = row['tariff']\n",
    "    if tariff == 'ultra':\n",
    "        revenue += tariffs.loc[1, 'rub_monthly_fee']\n",
    "        if monthly_minutes_duration - tariffs.loc[1,'minutes_included'] < 0:\n",
    "            revenue += 0 \n",
    "        else:\n",
    "            revenue += (monthly_minutes_duration - tariffs.loc[1,'minutes_included'])*tariffs.loc[1, 'rub_per_minute']\n",
    "            \n",
    "        if monthly_messages_send - tariffs.loc[1,'messages_included'] < 0:\n",
    "            revenue += 0\n",
    "        else:\n",
    "            revenue += (monthly_messages_send - tariffs.loc[1,'messages_included'] < 0)*tariffs.loc[1, 'rub_per_message']\n",
    "        if monthly_mb_used - tariffs.loc[1,'mb_per_month_included'] < 0:\n",
    "            revenue += 0\n",
    "        else:\n",
    "            extra_gb = math.ceil((monthly_mb_used - tariffs.loc[1,'mb_per_month_included'])/n)\n",
    "            revenue += extra_gb * tariffs.loc[1,'rub_per_gb']\n",
    "    if tariff == 'smart':\n",
    "        revenue += tariffs.loc[0, 'rub_monthly_fee']\n",
    "        if monthly_minutes_duration - tariffs.loc[0,'minutes_included'] < 0:\n",
    "            revenue += 0 \n",
    "        else:\n",
    "            revenue += (monthly_minutes_duration - tariffs.loc[0,'minutes_included'])*tariffs.loc[0, 'rub_per_minute']\n",
    "            \n",
    "        if monthly_messages_send - tariffs.loc[0,'messages_included'] < 0:\n",
    "            revenue += 0\n",
    "        else:\n",
    "            revenue += (monthly_messages_send - tariffs.loc[0,'messages_included'] < 0)*tariffs.loc[0, 'rub_per_message']\n",
    "        if monthly_mb_used - tariffs.loc[0,'mb_per_month_included'] < 0:\n",
    "            revenue += 0\n",
    "        else:\n",
    "            extra_gb = math.ceil((monthly_mb_used - tariffs.loc[0,'mb_per_month_included'])/n)\n",
    "            revenue += extra_gb * tariffs.loc[0,'rub_per_gb']\n",
    "    return revenue\n",
    "\n",
    "all_pivot['monthly_revenue'] = all_pivot.apply(monthly_revenue, axis = 1)\n",
    "all_pivot.tail(15)"
   ]
  },
  {
   "cell_type": "markdown",
   "metadata": {},
   "source": [
    "#### Вывод\n",
    "Обьеденил все таблицы в одну. Для расчета прибыли округлил мегабайты (исходя из комментария к датасету), используя лямбда-функцию. Далее написал функцию, которая принимает строку как параметр и в теле функции происходит расчет прибыли. Строки мы используем из сводной таблицы, которую создавали ранее, индексами служат пользователь + месяц, следовательно функцией мы считаем прибыль от конкретного пользователя в конкретный месяц. Добавляем новый столбец 'monthly_revenue' с результатами расчетов."
   ]
  },
  {
   "cell_type": "markdown",
   "metadata": {},
   "source": [
    "## Проанализируйте данные"
   ]
  },
  {
   "cell_type": "code",
   "execution_count": 24,
   "metadata": {
    "scrolled": false
   },
   "outputs": [
    {
     "data": {
      "text/html": [
       "<div>\n",
       "<style scoped>\n",
       "    .dataframe tbody tr th:only-of-type {\n",
       "        vertical-align: middle;\n",
       "    }\n",
       "\n",
       "    .dataframe tbody tr th {\n",
       "        vertical-align: top;\n",
       "    }\n",
       "\n",
       "    .dataframe thead tr th {\n",
       "        text-align: left;\n",
       "    }\n",
       "</style>\n",
       "<table border=\"1\" class=\"dataframe\">\n",
       "  <thead>\n",
       "    <tr>\n",
       "      <th></th>\n",
       "      <th>tariff</th>\n",
       "      <th colspan=\"5\" halign=\"left\">mean</th>\n",
       "    </tr>\n",
       "    <tr>\n",
       "      <th></th>\n",
       "      <th></th>\n",
       "      <th>mb_used</th>\n",
       "      <th>monthly_revenue</th>\n",
       "      <th>total_calls</th>\n",
       "      <th>total_messages_send</th>\n",
       "      <th>total_minutes</th>\n",
       "    </tr>\n",
       "  </thead>\n",
       "  <tbody>\n",
       "    <tr>\n",
       "      <th>0</th>\n",
       "      <td>smart</td>\n",
       "      <td>16321.524664</td>\n",
       "      <td>1272.249776</td>\n",
       "      <td>58.437220</td>\n",
       "      <td>33.369058</td>\n",
       "      <td>417.747534</td>\n",
       "    </tr>\n",
       "    <tr>\n",
       "      <th>1</th>\n",
       "      <td>ultra</td>\n",
       "      <td>19474.645030</td>\n",
       "      <td>2068.509128</td>\n",
       "      <td>73.318458</td>\n",
       "      <td>49.313387</td>\n",
       "      <td>526.089249</td>\n",
       "    </tr>\n",
       "  </tbody>\n",
       "</table>\n",
       "</div>"
      ],
      "text/plain": [
       "  tariff          mean                                                  \\\n",
       "               mb_used monthly_revenue total_calls total_messages_send   \n",
       "0  smart  16321.524664     1272.249776   58.437220           33.369058   \n",
       "1  ultra  19474.645030     2068.509128   73.318458           49.313387   \n",
       "\n",
       "                 \n",
       "  total_minutes  \n",
       "0    417.747534  \n",
       "1    526.089249  "
      ]
     },
     "metadata": {},
     "output_type": "display_data"
    },
    {
     "data": {
      "text/html": [
       "<div>\n",
       "<style scoped>\n",
       "    .dataframe tbody tr th:only-of-type {\n",
       "        vertical-align: middle;\n",
       "    }\n",
       "\n",
       "    .dataframe tbody tr th {\n",
       "        vertical-align: top;\n",
       "    }\n",
       "\n",
       "    .dataframe thead th {\n",
       "        text-align: right;\n",
       "    }\n",
       "</style>\n",
       "<table border=\"1\" class=\"dataframe\">\n",
       "  <thead>\n",
       "    <tr style=\"text-align: right;\">\n",
       "      <th></th>\n",
       "      <th>messages_included</th>\n",
       "      <th>mb_per_month_included</th>\n",
       "      <th>minutes_included</th>\n",
       "      <th>rub_monthly_fee</th>\n",
       "      <th>rub_per_gb</th>\n",
       "      <th>rub_per_message</th>\n",
       "      <th>rub_per_minute</th>\n",
       "      <th>tariff_name</th>\n",
       "    </tr>\n",
       "  </thead>\n",
       "  <tbody>\n",
       "    <tr>\n",
       "      <th>0</th>\n",
       "      <td>50</td>\n",
       "      <td>15360</td>\n",
       "      <td>500</td>\n",
       "      <td>550</td>\n",
       "      <td>200</td>\n",
       "      <td>3</td>\n",
       "      <td>3</td>\n",
       "      <td>smart</td>\n",
       "    </tr>\n",
       "    <tr>\n",
       "      <th>1</th>\n",
       "      <td>1000</td>\n",
       "      <td>30720</td>\n",
       "      <td>3000</td>\n",
       "      <td>1950</td>\n",
       "      <td>150</td>\n",
       "      <td>1</td>\n",
       "      <td>1</td>\n",
       "      <td>ultra</td>\n",
       "    </tr>\n",
       "  </tbody>\n",
       "</table>\n",
       "</div>"
      ],
      "text/plain": [
       "   messages_included  mb_per_month_included  minutes_included  \\\n",
       "0                 50                  15360               500   \n",
       "1               1000                  30720              3000   \n",
       "\n",
       "   rub_monthly_fee  rub_per_gb  rub_per_message  rub_per_minute tariff_name  \n",
       "0              550         200                3               3       smart  \n",
       "1             1950         150                1               1       ultra  "
      ]
     },
     "metadata": {},
     "output_type": "display_data"
    },
    {
     "name": "stdout",
     "output_type": "stream",
     "text": [
      "----------------------------------------------------------\n"
     ]
    },
    {
     "data": {
      "text/plain": [
       "'total_calls'"
      ]
     },
     "metadata": {},
     "output_type": "display_data"
    },
    {
     "data": {
      "image/png": "[encoded data removed]",
      "text/plain": [
       "<Figure size 432x288 with 1 Axes>"
      ]
     },
     "metadata": {
      "needs_background": "light"
     },
     "output_type": "display_data"
    },
    {
     "name": "stdout",
     "output_type": "stream",
     "text": [
      "Среднее значение в тарифе smart составляет 58.437\n",
      "Среднее значение в тарифе ultra составляет 73.318\n",
      "Дисперсия значений в тарифе smart составляет 673.805\n",
      "Дисперсия значений в тарифе ultra составляет 1930.235\n",
      "Стандартное отклонение в тарифе smart составляет 25.958\n",
      "Стандартное отклонение в тарифе ultra составляет 43.934\n",
      "----------------------------------------------------------\n"
     ]
    },
    {
     "data": {
      "text/plain": [
       "'total_minutes'"
      ]
     },
     "metadata": {},
     "output_type": "display_data"
    },
    {
     "data": {
      "image/png": "[encoded data removed]",
      "text/plain": [
       "<Figure size 432x288 with 1 Axes>"
      ]
     },
     "metadata": {
      "needs_background": "light"
     },
     "output_type": "display_data"
    },
    {
     "name": "stdout",
     "output_type": "stream",
     "text": [
      "Среднее значение в тарифе smart составляет 417.748\n",
      "Среднее значение в тарифе ultra составляет 526.089\n",
      "Дисперсия значений в тарифе smart составляет 36265.124\n",
      "Дисперсия значений в тарифе ultra составляет 100950.006\n",
      "Стандартное отклонение в тарифе smart составляет 190.434\n",
      "Стандартное отклонение в тарифе ultra составляет 317.726\n",
      "----------------------------------------------------------\n"
     ]
    },
    {
     "data": {
      "text/plain": [
       "'total_messages_send'"
      ]
     },
     "metadata": {},
     "output_type": "display_data"
    },
    {
     "data": {
      "image/png": "[encoded data removed]",
      "text/plain": [
       "<Figure size 432x288 with 1 Axes>"
      ]
     },
     "metadata": {
      "needs_background": "light"
     },
     "output_type": "display_data"
    },
    {
     "name": "stdout",
     "output_type": "stream",
     "text": [
      "Среднее значение в тарифе smart составляет 33.369\n",
      "Среднее значение в тарифе ultra составляет 49.313\n",
      "Дисперсия значений в тарифе smart составляет 796.598\n",
      "Дисперсия значений в тарифе ultra составляет 2283.100\n",
      "Стандартное отклонение в тарифе smart составляет 28.224\n",
      "Стандартное отклонение в тарифе ultra составляет 47.782\n",
      "----------------------------------------------------------\n"
     ]
    },
    {
     "data": {
      "text/plain": [
       "'mb_used'"
      ]
     },
     "metadata": {},
     "output_type": "display_data"
    },
    {
     "data": {
      "image/png": "[encoded data removed]",
      "text/plain": [
       "<Figure size 432x288 with 1 Axes>"
      ]
     },
     "metadata": {
      "needs_background": "light"
     },
     "output_type": "display_data"
    },
    {
     "name": "stdout",
     "output_type": "stream",
     "text": [
      "Среднее значение в тарифе smart составляет 16321.525\n",
      "Среднее значение в тарифе ultra составляет 19474.645\n",
      "Дисперсия значений в тарифе smart составляет 33118594.985\n",
      "Дисперсия значений в тарифе ultra составляет 97279783.089\n",
      "Стандартное отклонение в тарифе smart составляет 5754.876\n",
      "Стандартное отклонение в тарифе ultra составляет 9863.051\n"
     ]
    }
   ],
   "source": [
    "pivot_tariffs = (all_pivot\n",
    "                 .pivot_table(index = ['tariff'],\n",
    "                              values = ['total_calls', 'total_minutes', 'total_messages_send', \n",
    "                                        'mb_used', 'monthly_revenue'],\n",
    "                              aggfunc = ['mean'])\n",
    "                 .reset_index()\n",
    "                )\n",
    "display(pivot_tariffs)\n",
    "columns_to_visualization = ['total_calls','total_minutes','total_messages_send','mb_used']\n",
    "#tariffs = ['ultra', 'smart']\n",
    "display(tariffs)\n",
    "for column in columns_to_visualization:\n",
    "    print('----------------------------------------------------------')\n",
    "    smart = all_pivot.query('tariff == \"smart\"')\n",
    "    ultra = all_pivot.query('tariff == \"ultra\"')\n",
    "    smart_included = tariffs.query('tariff_name == \"smart\"')\n",
    "    ultra_included = tariffs.query('tariff_name == \"ultra\"')\n",
    "    mean_smart = smart[column].mean()\n",
    "    mean_ultra = ultra[column].mean()\n",
    "    variance_estimate_smart = np.var(smart[column])\n",
    "    variance_estimate_ultra = np.var(ultra[column])\n",
    "    standard_deviation_smart = np.std(smart[column])\n",
    "    standard_deviation_ultra = np.std(ultra[column])\n",
    "    #Построим графики:\n",
    "    smart[column].plot(kind='hist', label = 'smart')\n",
    "    ultra[column].plot(kind='hist', label = 'ultra', alpha = 0.8)\n",
    "    display(column)\n",
    "    plt.legend()\n",
    "    plt.show()\n",
    "    print(f'Среднее значение в тарифе smart составляет {mean_smart:.3f}')\n",
    "    print(f'Среднее значение в тарифе ultra составляет {mean_ultra:.3f}')\n",
    "    print(f'Дисперсия значений в тарифе smart составляет {variance_estimate_smart:.3f}')\n",
    "    print(f'Дисперсия значений в тарифе ultra составляет {variance_estimate_ultra:.3f}')\n",
    "    print(f'Стандартное отклонение в тарифе smart составляет {standard_deviation_smart:.3f}')\n",
    "    print(f'Стандартное отклонение в тарифе ultra составляет {standard_deviation_ultra:.3f}')\n"
   ]
  },
  {
   "cell_type": "markdown",
   "metadata": {},
   "source": [
    "### Вывод\n",
    "Стандратное отклонение показывает, что разброс данных у пользователей тарифа 'ultra' больше. Это говорит о том, что пользователи более склонны превышать лимит тарифа по всем показателям (минуты, гигабайты, кол-во сообщений), несмотря на то, что лимит у данного тарифа - больше, это подтверждают и графики. Так же:\n",
    "\n",
    "- Почти все пользователи тарифа 'ultra' не используют и 50% включенных в пакет смс, в то время пользователи тарифа 'smart' в среднем используют 70% включенных в пакет сообщений.\n",
    "- В среднем пользователи тарифа 'smart' используют больше гб, включенных в пакет и переплачивают за 2 гб."
   ]
  },
  {
   "cell_type": "code",
   "execution_count": 25,
   "metadata": {},
   "outputs": [
    {
     "data": {
      "text/plain": [
       "<matplotlib.legend.Legend at 0x7fa6e3dd5040>"
      ]
     },
     "execution_count": 25,
     "metadata": {},
     "output_type": "execute_result"
    },
    {
     "data": {
      "image/png": "[encoded data removed]",
      "text/plain": [
       "<Figure size 432x288 with 1 Axes>"
      ]
     },
     "metadata": {
      "needs_background": "light"
     },
     "output_type": "display_data"
    }
   ],
   "source": [
    "# Код ревьюера\n",
    "\n",
    "ax = smart['mb_used'].plot(kind='hist', label = 'smart')\n",
    "ultra['mb_used'].plot(kind='hist', label = 'ultra', alpha = 0.8)\n",
    "ax.axvline(tariffs.loc[tariffs['tariff_name'] == 'ultra', 'mb_per_month_included'].squeeze(), label='ultra_limit', color='c')\n",
    "ax.axvline(tariffs.loc[tariffs['tariff_name'] == 'smart', 'mb_per_month_included'].squeeze(), label='smart_limit', color='red')\n",
    "plt.legend()"
   ]
  },
  {
   "cell_type": "markdown",
   "metadata": {},
   "source": [
    "## Шаг 4. Проверьте гипотезы"
   ]
  },
  {
   "cell_type": "markdown",
   "metadata": {},
   "source": [
    "### Гипотеза 1\n",
    "Средняя выручка пользователей тарифов «Ультра» и «Смарт» различаются.\n",
    "\n",
    "Нулевая гипотеза: Средняя выручка пользователей тарифов «Ультра» и «Смарт» равны.\n",
    "\n",
    "Альтернативная гипотеза: Средняя выручка пользователей тарифов «Ультра» и «Смарт» не равны."
   ]
  },
  {
   "cell_type": "code",
   "execution_count": 26,
   "metadata": {},
   "outputs": [
    {
     "name": "stdout",
     "output_type": "stream",
     "text": [
      "p-значение: 9.15215016389188e-169\n",
      "Отвергаем нулевую гипотезу\n"
     ]
    }
   ],
   "source": [
    "smart_revenue = all_pivot.query('tariff == \"smart\"')['monthly_revenue']\n",
    "ultra_revenue = all_pivot.query('tariff == \"ultra\"')['monthly_revenue']\n",
    "alpha = .05\n",
    "results_tariff = st.ttest_ind(\n",
    "    smart_revenue, \n",
    "    ultra_revenue)\n",
    "p_value_tariff = results_tariff.pvalue\n",
    "print('p-значение:', p_value_tariff)\n",
    "\n",
    "if p_value_tariff < alpha:\n",
    "    print(\"Отвергаем нулевую гипотезу\")\n",
    "else:\n",
    "    print(\"Не получилось отвергнуть нулевую гипотезу\")"
   ]
  },
  {
   "cell_type": "markdown",
   "metadata": {},
   "source": [
    "#### Вывод\n",
    "Мы берем 2 генеральные совокупности, по тарифам 'smart' и 'ultra', так как они не зависят друг от друга и средние значения в них нормально распределены. Нулевую гипотезу я формировал как утверждение, которое принимается верным верным, если отбрасывается альтернативная гитпотеза. В данном случае то, что средняя выручка пользователей обоих тарифов равны. "
   ]
  },
  {
   "cell_type": "markdown",
   "metadata": {},
   "source": [
    "### Гипотеза 2\n",
    "Cредняя выручка пользователей из Москвы отличается от выручки пользователей из других регионов.\n",
    "\n",
    "Нулевая гипотеза: Средняя выручка пользователей тарифов «Ультра» и «Смарт» равны.\n",
    "\n",
    "Альтернативная гипотеза: Средняя выручка пользователей тарифов «Ультра» и «Смарт» не равны."
   ]
  },
  {
   "cell_type": "code",
   "execution_count": 27,
   "metadata": {},
   "outputs": [
    {
     "name": "stdout",
     "output_type": "stream",
     "text": [
      "p-значение: 0.442103377547158\n",
      "Не получилось отвергнуть нулевую гипотезу\n"
     ]
    }
   ],
   "source": [
    "moscow_revenue = all_pivot.query('city == \"Москва\"')['monthly_revenue']\n",
    "other_revenue = all_pivot.query('city != \"Москва\"')['monthly_revenue']\n",
    "alpha = .05\n",
    "results_city = st.ttest_ind(\n",
    "    moscow_revenue, \n",
    "    other_revenue)\n",
    "p_value_city = results_city.pvalue\n",
    "print('p-значение:', p_value_city)\n",
    "\n",
    "if p_value_city < alpha:\n",
    "    print(\"Отвергаем нулевую гипотезу\")\n",
    "else:\n",
    "    print(\"Не получилось отвергнуть нулевую гипотезу\")"
   ]
  },
  {
   "cell_type": "markdown",
   "metadata": {},
   "source": [
    "Принцип формулирования гипотезы такой же как и в гипотезе 1. Вероятность получить одинаковые значения из двух выборок составляет 0,0009 следовательно отвергаем нулевую гипотезу."
   ]
  },
  {
   "cell_type": "markdown",
   "metadata": {},
   "source": [
    "# Общий вывод"
   ]
  },
  {
   "cell_type": "markdown",
   "metadata": {},
   "source": [
    "Помимо того, что ежемесячная плата за тариф 'ultra' больше, пользователи данного тарифа более склонны превышать лимит по минутам, кол-ву смс и гигабайтам,что влечет за собой дополнительную прибыль. Если быть кратким, то я рекомендую направить рекламный бюджет именно на развитие данного тарифа, в среднем он приносит на ~700 рублей больше за каждого уникального пользователя в месяц. \n",
    "Так же я заметил что пользователи тарифа 'ultra' не тратят даже половину включенных в тариф смс, перераспределение ресурсов включенных в пакет может служить как привлечением новых пользователей, так и увеличением лояльности уже действующих. Например, увеличение гигабайт, включенных в пакет, путем уменьшения кол-ва смс.  "
   ]
  },
  {
   "cell_type": "code",
   "execution_count": 28,
   "metadata": {},
   "outputs": [
    {
     "data": {
      "text/plain": [
       "'Процент пользователей, которые превысили ежемесячную плату по тарифу ultra: 14%'"
      ]
     },
     "metadata": {},
     "output_type": "display_data"
    },
    {
     "data": {
      "text/plain": [
       "'Процент пользователей, которые превысили ежемесячную плату по тарифу smart: 18%'"
      ]
     },
     "metadata": {},
     "output_type": "display_data"
    }
   ],
   "source": [
    "count_ultra_users = 0\n",
    "exceed_ultra_users = 0\n",
    "count_smart_users = 0\n",
    "exceed_smart_users = 0\n",
    "ultra_users = all_pivot.query('tariff == \"ultra\"')['monthly_revenue']\n",
    "smart_users = all_pivot.query('tariff == \"smart\"')['monthly_revenue']\n",
    "for revenue in ultra_users:\n",
    "    count_ultra_users += 1\n",
    "    if revenue > 1950:\n",
    "        exceed_ultra_users += 1\n",
    "\n",
    "for revenue in smart_users:\n",
    "    count_smart_users += 1\n",
    "    if revenue > 1950:\n",
    "        exceed_smart_users += 1\n",
    "    \n",
    "display(f'Процент пользователей, которые превысили ежемесячную плату по тарифу ultra: {exceed_ultra_users/count_ultra_users:.0%}')\n",
    "display(f'Процент пользователей, которые превысили ежемесячную плату по тарифу smart: {exceed_smart_users/count_smart_users:.0%}')"
   ]
  },
  {
   "cell_type": "code",
   "execution_count": 29,
   "metadata": {},
   "outputs": [
    {
     "data": {
      "text/plain": [
       "0.1359026369168357"
      ]
     },
     "execution_count": 29,
     "metadata": {},
     "output_type": "execute_result"
    }
   ],
   "source": [
    "# Код ревьюера\n",
    "\n",
    "(all_pivot.query('tariff == \"ultra\"')['monthly_revenue'] > 1950).mean()"
   ]
  },
  {
   "cell_type": "code",
   "execution_count": 30,
   "metadata": {},
   "outputs": [
    {
     "data": {
      "text/plain": [
       "0.6946188340807175"
      ]
     },
     "execution_count": 30,
     "metadata": {},
     "output_type": "execute_result"
    }
   ],
   "source": [
    "(all_pivot.query('tariff == \"smart\"')['monthly_revenue'] > 550).mean()"
   ]
  }
 ],
 "metadata": {
  "ExecuteTimeLog": [
   {
    "duration": 722,
    "start_time": "2022-01-28T13:23:51.657Z"
   },
   {
    "duration": 295,
    "start_time": "2022-01-28T13:24:37.952Z"
   },
   {
    "duration": 333,
    "start_time": "2022-01-28T13:24:52.557Z"
   },
   {
    "duration": 747,
    "start_time": "2022-01-28T13:27:29.997Z"
   },
   {
    "duration": 411,
    "start_time": "2022-01-28T13:27:49.408Z"
   },
   {
    "duration": 427,
    "start_time": "2022-01-28T13:28:00.271Z"
   },
   {
    "duration": 703,
    "start_time": "2022-01-28T13:33:18.532Z"
   },
   {
    "duration": 790,
    "start_time": "2022-01-28T13:33:30.595Z"
   },
   {
    "duration": 687,
    "start_time": "2022-01-28T13:34:30.820Z"
   },
   {
    "duration": 654,
    "start_time": "2022-01-28T13:34:56.525Z"
   },
   {
    "duration": 270,
    "start_time": "2022-01-28T13:35:26.689Z"
   },
   {
    "duration": 2959,
    "start_time": "2022-01-28T13:35:29.900Z"
   },
   {
    "duration": 1049,
    "start_time": "2022-01-28T13:35:46.572Z"
   },
   {
    "duration": 429,
    "start_time": "2022-01-28T13:39:49.905Z"
   },
   {
    "duration": 296,
    "start_time": "2022-01-28T13:40:17.983Z"
   },
   {
    "duration": 304,
    "start_time": "2022-01-28T13:40:36.143Z"
   },
   {
    "duration": 1016,
    "start_time": "2022-01-28T13:40:39.391Z"
   },
   {
    "duration": 1389,
    "start_time": "2022-01-28T13:42:50.509Z"
   },
   {
    "duration": 691,
    "start_time": "2022-01-28T13:44:05.841Z"
   },
   {
    "duration": 662,
    "start_time": "2022-01-28T13:45:05.905Z"
   },
   {
    "duration": 87,
    "start_time": "2022-01-28T13:48:55.176Z"
   },
   {
    "duration": 701,
    "start_time": "2022-01-28T13:49:00.010Z"
   },
   {
    "duration": 710,
    "start_time": "2022-01-28T13:49:14.197Z"
   },
   {
    "duration": 465,
    "start_time": "2022-01-28T13:49:37.392Z"
   },
   {
    "duration": 467,
    "start_time": "2022-01-28T13:49:57.790Z"
   },
   {
    "duration": 1688,
    "start_time": "2022-01-28T13:56:25.869Z"
   },
   {
    "duration": 498,
    "start_time": "2022-01-28T13:57:09.819Z"
   },
   {
    "duration": 186,
    "start_time": "2022-01-28T13:57:31.541Z"
   },
   {
    "duration": 706,
    "start_time": "2022-01-28T13:57:37.491Z"
   },
   {
    "duration": 690,
    "start_time": "2022-01-28T13:57:49.163Z"
   },
   {
    "duration": 713,
    "start_time": "2022-01-28T13:57:58.312Z"
   },
   {
    "duration": 764,
    "start_time": "2022-01-28T13:58:04.873Z"
   },
   {
    "duration": 1110,
    "start_time": "2022-01-28T13:58:13.555Z"
   },
   {
    "duration": 709,
    "start_time": "2022-01-28T13:58:21.390Z"
   },
   {
    "duration": 699,
    "start_time": "2022-01-28T14:00:09.437Z"
   },
   {
    "duration": 718,
    "start_time": "2022-01-28T14:04:04.873Z"
   },
   {
    "duration": 456,
    "start_time": "2022-01-28T14:04:32.577Z"
   },
   {
    "duration": 470,
    "start_time": "2022-01-28T14:04:54.087Z"
   },
   {
    "duration": 793,
    "start_time": "2022-01-28T14:05:40.082Z"
   },
   {
    "duration": 461,
    "start_time": "2022-01-28T14:05:49.918Z"
   },
   {
    "duration": 500,
    "start_time": "2022-01-28T14:06:10.395Z"
   },
   {
    "duration": 769,
    "start_time": "2022-01-28T14:07:05.435Z"
   },
   {
    "duration": 739,
    "start_time": "2022-01-28T14:07:42.147Z"
   },
   {
    "duration": 494,
    "start_time": "2022-01-28T14:08:26.450Z"
   },
   {
    "duration": 492,
    "start_time": "2022-01-28T14:08:57.266Z"
   },
   {
    "duration": 480,
    "start_time": "2022-01-28T14:18:16.656Z"
   },
   {
    "duration": 472,
    "start_time": "2022-01-28T14:18:57.768Z"
   },
   {
    "duration": 749,
    "start_time": "2022-01-28T14:19:12.841Z"
   },
   {
    "duration": 1010,
    "start_time": "2022-01-28T19:19:46.421Z"
   },
   {
    "duration": 9,
    "start_time": "2022-01-28T19:34:01.204Z"
   },
   {
    "duration": 7,
    "start_time": "2022-01-28T19:34:09.339Z"
   },
   {
    "duration": 4,
    "start_time": "2022-01-28T19:35:21.793Z"
   },
   {
    "duration": 4,
    "start_time": "2022-01-28T19:35:36.368Z"
   },
   {
    "duration": 8250,
    "start_time": "2022-01-28T19:39:50.427Z"
   },
   {
    "duration": 4,
    "start_time": "2022-01-28T19:43:16.547Z"
   },
   {
    "duration": 33,
    "start_time": "2022-01-28T19:43:34.513Z"
   },
   {
    "duration": 459,
    "start_time": "2022-01-28T19:43:56.880Z"
   },
   {
    "duration": 20,
    "start_time": "2022-01-28T19:44:07.991Z"
   },
   {
    "duration": 23,
    "start_time": "2022-01-28T19:44:11.376Z"
   },
   {
    "duration": 31,
    "start_time": "2022-01-28T19:45:30.403Z"
   },
   {
    "duration": 417,
    "start_time": "2022-01-28T19:48:08.484Z"
   },
   {
    "duration": 319,
    "start_time": "2022-01-28T19:48:57.304Z"
   },
   {
    "duration": 336,
    "start_time": "2022-01-28T19:49:21.605Z"
   },
   {
    "duration": 29,
    "start_time": "2022-01-28T19:49:52.247Z"
   },
   {
    "duration": 29,
    "start_time": "2022-01-28T19:50:23.965Z"
   },
   {
    "duration": 105,
    "start_time": "2022-01-28T19:50:47.298Z"
   },
   {
    "duration": 849,
    "start_time": "2022-01-28T19:50:51.802Z"
   },
   {
    "duration": 426,
    "start_time": "2022-01-28T19:50:58.512Z"
   },
   {
    "duration": 335,
    "start_time": "2022-01-28T19:52:55.576Z"
   },
   {
    "duration": 328,
    "start_time": "2022-01-28T19:53:10.922Z"
   },
   {
    "duration": 51,
    "start_time": "2022-01-28T19:53:25.154Z"
   },
   {
    "duration": 29,
    "start_time": "2022-01-28T20:13:47.977Z"
   },
   {
    "duration": 31,
    "start_time": "2022-01-28T20:14:37.812Z"
   },
   {
    "duration": 12,
    "start_time": "2022-01-28T20:28:27.539Z"
   },
   {
    "duration": 13,
    "start_time": "2022-01-28T20:28:31.866Z"
   },
   {
    "duration": 10,
    "start_time": "2022-01-28T20:28:36.688Z"
   },
   {
    "duration": 22,
    "start_time": "2022-01-28T20:28:57.728Z"
   },
   {
    "duration": 12,
    "start_time": "2022-01-28T20:29:02.208Z"
   },
   {
    "duration": 32,
    "start_time": "2022-01-28T20:29:16.533Z"
   },
   {
    "duration": 12,
    "start_time": "2022-01-28T20:29:44.735Z"
   },
   {
    "duration": 439,
    "start_time": "2022-01-28T20:30:31.121Z"
   },
   {
    "duration": 420,
    "start_time": "2022-01-28T20:30:50.200Z"
   },
   {
    "duration": 347,
    "start_time": "2022-01-28T20:40:22.892Z"
   },
   {
    "duration": 375,
    "start_time": "2022-01-28T20:40:44.219Z"
   },
   {
    "duration": 110,
    "start_time": "2022-01-28T20:44:07.685Z"
   },
   {
    "duration": 103,
    "start_time": "2022-01-28T20:44:17.465Z"
   },
   {
    "duration": 371,
    "start_time": "2022-01-28T20:45:12.483Z"
   },
   {
    "duration": 407,
    "start_time": "2022-01-28T20:46:01.201Z"
   },
   {
    "duration": 371,
    "start_time": "2022-01-28T20:46:13.042Z"
   },
   {
    "duration": 423,
    "start_time": "2022-01-28T20:52:32.107Z"
   },
   {
    "duration": 329,
    "start_time": "2022-01-28T20:53:58.754Z"
   },
   {
    "duration": 337,
    "start_time": "2022-01-28T20:54:09.074Z"
   },
   {
    "duration": 396,
    "start_time": "2022-01-28T20:54:16.713Z"
   },
   {
    "duration": 331,
    "start_time": "2022-01-28T20:54:47.117Z"
   },
   {
    "duration": 1324,
    "start_time": "2022-01-28T20:55:20.007Z"
   },
   {
    "duration": 319,
    "start_time": "2022-01-28T20:55:34.180Z"
   },
   {
    "duration": 323,
    "start_time": "2022-01-28T20:55:42.238Z"
   },
   {
    "duration": 331,
    "start_time": "2022-01-28T20:55:48.197Z"
   },
   {
    "duration": 349,
    "start_time": "2022-01-28T20:56:33.440Z"
   },
   {
    "duration": 321,
    "start_time": "2022-01-28T20:57:12.071Z"
   },
   {
    "duration": 382,
    "start_time": "2022-01-28T20:57:17.905Z"
   },
   {
    "duration": 296,
    "start_time": "2022-01-28T20:57:29.380Z"
   },
   {
    "duration": 355,
    "start_time": "2022-01-28T20:57:35.513Z"
   },
   {
    "duration": 310,
    "start_time": "2022-01-28T20:59:28.820Z"
   },
   {
    "duration": 305,
    "start_time": "2022-01-28T20:59:38.446Z"
   },
   {
    "duration": 326,
    "start_time": "2022-01-28T21:00:03.494Z"
   },
   {
    "duration": 324,
    "start_time": "2022-01-28T21:00:16.086Z"
   },
   {
    "duration": 3189,
    "start_time": "2022-01-28T21:00:31.772Z"
   },
   {
    "duration": 26,
    "start_time": "2022-01-28T21:00:55.304Z"
   },
   {
    "duration": 7,
    "start_time": "2022-01-28T21:01:59.091Z"
   },
   {
    "duration": 29,
    "start_time": "2022-01-28T21:02:56.257Z"
   },
   {
    "duration": 9,
    "start_time": "2022-01-28T21:03:10.865Z"
   },
   {
    "duration": 22,
    "start_time": "2022-01-28T21:03:43.447Z"
   },
   {
    "duration": 12,
    "start_time": "2022-01-28T21:03:58.595Z"
   },
   {
    "duration": 13,
    "start_time": "2022-01-28T21:04:47.918Z"
   },
   {
    "duration": 14,
    "start_time": "2022-01-28T21:05:05.927Z"
   },
   {
    "duration": 8280,
    "start_time": "2022-01-28T21:06:11.762Z"
   },
   {
    "duration": 15,
    "start_time": "2022-01-28T21:07:21.122Z"
   },
   {
    "duration": 340,
    "start_time": "2022-01-28T21:07:28.641Z"
   },
   {
    "duration": 14,
    "start_time": "2022-01-28T21:07:42.419Z"
   },
   {
    "duration": 14,
    "start_time": "2022-01-28T21:08:02.411Z"
   },
   {
    "duration": 15,
    "start_time": "2022-01-28T21:08:09.396Z"
   },
   {
    "duration": 121,
    "start_time": "2022-01-28T21:12:55.908Z"
   },
   {
    "duration": 104,
    "start_time": "2022-01-28T21:12:59.349Z"
   },
   {
    "duration": 17,
    "start_time": "2022-01-28T21:13:08.796Z"
   },
   {
    "duration": 36,
    "start_time": "2022-01-28T21:15:42.180Z"
   },
   {
    "duration": 38,
    "start_time": "2022-01-28T21:17:01.578Z"
   },
   {
    "duration": 38,
    "start_time": "2022-01-28T21:17:13.294Z"
   },
   {
    "duration": 248,
    "start_time": "2022-01-28T21:20:09.269Z"
   },
   {
    "duration": 38,
    "start_time": "2022-01-28T21:20:18.273Z"
   },
   {
    "duration": 416,
    "start_time": "2022-01-28T21:25:18.018Z"
   },
   {
    "duration": 340,
    "start_time": "2022-01-28T21:25:39.435Z"
   },
   {
    "duration": 333,
    "start_time": "2022-01-28T21:26:09.003Z"
   },
   {
    "duration": 104,
    "start_time": "2022-01-28T21:26:13.293Z"
   },
   {
    "duration": 331,
    "start_time": "2022-01-28T21:26:36.961Z"
   },
   {
    "duration": 385,
    "start_time": "2022-01-28T21:26:44.971Z"
   },
   {
    "duration": 440,
    "start_time": "2022-01-28T21:26:48.255Z"
   },
   {
    "duration": 337,
    "start_time": "2022-01-28T21:27:05.049Z"
   },
   {
    "duration": 423,
    "start_time": "2022-01-28T21:27:56.817Z"
   },
   {
    "duration": 411,
    "start_time": "2022-01-28T21:28:18.879Z"
   },
   {
    "duration": 391,
    "start_time": "2022-01-28T21:28:30.605Z"
   },
   {
    "duration": 385,
    "start_time": "2022-01-28T21:28:30.998Z"
   },
   {
    "duration": 344,
    "start_time": "2022-01-28T21:28:56.579Z"
   },
   {
    "duration": 398,
    "start_time": "2022-01-28T21:29:16.963Z"
   },
   {
    "duration": 438,
    "start_time": "2022-01-28T21:29:17.362Z"
   },
   {
    "duration": 18,
    "start_time": "2022-01-28T21:29:40.987Z"
   },
   {
    "duration": 18,
    "start_time": "2022-01-28T21:30:27.877Z"
   },
   {
    "duration": 35,
    "start_time": "2022-01-28T21:30:35.923Z"
   },
   {
    "duration": 348,
    "start_time": "2022-01-28T21:31:44.120Z"
   },
   {
    "duration": 1009,
    "start_time": "2022-01-28T21:32:09.780Z"
   },
   {
    "duration": 399,
    "start_time": "2022-01-28T21:33:06.649Z"
   },
   {
    "duration": 37,
    "start_time": "2022-01-28T21:33:29.838Z"
   },
   {
    "duration": 396,
    "start_time": "2022-01-28T21:34:01.862Z"
   },
   {
    "duration": 367,
    "start_time": "2022-01-28T21:34:26.452Z"
   },
   {
    "duration": 32,
    "start_time": "2022-01-28T21:34:51.839Z"
   },
   {
    "duration": 7686,
    "start_time": "2022-01-28T21:35:35.084Z"
   },
   {
    "duration": 4252,
    "start_time": "2022-01-28T21:37:02.678Z"
   },
   {
    "duration": 38,
    "start_time": "2022-01-28T21:37:14.086Z"
   },
   {
    "duration": 399,
    "start_time": "2022-01-28T21:37:20.166Z"
   },
   {
    "duration": 105,
    "start_time": "2022-01-28T21:37:20.566Z"
   },
   {
    "duration": 48,
    "start_time": "2022-01-28T21:37:55.516Z"
   },
   {
    "duration": 5446,
    "start_time": "2022-01-28T21:38:44.149Z"
   },
   {
    "duration": 47,
    "start_time": "2022-01-28T21:39:39.494Z"
   },
   {
    "duration": 45,
    "start_time": "2022-01-28T21:40:30.453Z"
   },
   {
    "duration": 51,
    "start_time": "2022-01-28T21:42:07.628Z"
   },
   {
    "duration": 42,
    "start_time": "2022-01-28T21:43:47.983Z"
   },
   {
    "duration": 43,
    "start_time": "2022-01-28T21:44:51.859Z"
   },
   {
    "duration": 47,
    "start_time": "2022-01-28T21:45:20.449Z"
   },
   {
    "duration": 505,
    "start_time": "2022-01-28T21:45:26.112Z"
   },
   {
    "duration": 91,
    "start_time": "2022-01-28T21:45:26.619Z"
   },
   {
    "duration": 44,
    "start_time": "2022-01-28T21:45:51.367Z"
   },
   {
    "duration": 409,
    "start_time": "2022-01-28T21:46:00.892Z"
   },
   {
    "duration": 104,
    "start_time": "2022-01-28T21:46:01.303Z"
   },
   {
    "duration": 47,
    "start_time": "2022-01-28T21:48:15.235Z"
   },
   {
    "duration": 390,
    "start_time": "2022-01-28T21:48:22.596Z"
   },
   {
    "duration": 8052,
    "start_time": "2022-01-28T21:48:22.988Z"
   },
   {
    "duration": 42,
    "start_time": "2022-01-28T21:48:59.369Z"
   },
   {
    "duration": 381,
    "start_time": "2022-01-28T21:49:06.980Z"
   },
   {
    "duration": 111,
    "start_time": "2022-01-28T21:49:07.363Z"
   },
   {
    "duration": 38,
    "start_time": "2022-01-28T21:49:47.926Z"
   },
   {
    "duration": 383,
    "start_time": "2022-01-28T21:49:56.183Z"
   },
   {
    "duration": 97,
    "start_time": "2022-01-28T21:49:56.567Z"
   },
   {
    "duration": 380,
    "start_time": "2022-01-28T21:50:23.026Z"
   },
   {
    "duration": 394,
    "start_time": "2022-01-28T21:50:29.834Z"
   },
   {
    "duration": 330,
    "start_time": "2022-01-28T21:50:45.109Z"
   },
   {
    "duration": 383,
    "start_time": "2022-01-28T21:51:12.117Z"
   },
   {
    "duration": 412,
    "start_time": "2022-01-28T21:51:12.502Z"
   },
   {
    "duration": 351,
    "start_time": "2022-01-28T21:52:10.449Z"
   },
   {
    "duration": 340,
    "start_time": "2022-01-28T21:52:17.860Z"
   },
   {
    "duration": 385,
    "start_time": "2022-01-28T21:52:23.064Z"
   },
   {
    "duration": 410,
    "start_time": "2022-01-28T21:52:23.451Z"
   },
   {
    "duration": 355,
    "start_time": "2022-01-28T21:52:53.022Z"
   },
   {
    "duration": 382,
    "start_time": "2022-01-28T21:52:55.779Z"
   },
   {
    "duration": 462,
    "start_time": "2022-01-28T21:52:56.162Z"
   },
   {
    "duration": 37,
    "start_time": "2022-01-28T21:53:05.150Z"
   },
   {
    "duration": 107,
    "start_time": "2022-01-28T21:53:39.063Z"
   },
   {
    "duration": 40,
    "start_time": "2022-01-28T21:53:43.299Z"
   },
   {
    "duration": 378,
    "start_time": "2022-01-28T21:53:47.909Z"
   },
   {
    "duration": 84,
    "start_time": "2022-01-28T21:53:48.289Z"
   },
   {
    "duration": 816,
    "start_time": "2022-01-28T21:54:21.033Z"
   },
   {
    "duration": 817,
    "start_time": "2022-01-28T21:54:21.033Z"
   },
   {
    "duration": 385,
    "start_time": "2022-01-28T21:54:33.330Z"
   },
   {
    "duration": 85,
    "start_time": "2022-01-28T21:54:33.716Z"
   },
   {
    "duration": 410,
    "start_time": "2022-01-29T09:16:07.398Z"
   },
   {
    "duration": 1059,
    "start_time": "2022-01-29T09:16:11.012Z"
   },
   {
    "duration": 102,
    "start_time": "2022-01-29T09:16:12.073Z"
   },
   {
    "duration": 47,
    "start_time": "2022-01-29T09:18:44.724Z"
   },
   {
    "duration": 43,
    "start_time": "2022-01-29T09:18:46.378Z"
   },
   {
    "duration": 50,
    "start_time": "2022-01-29T09:18:55.790Z"
   },
   {
    "duration": 117,
    "start_time": "2022-01-29T09:19:52.318Z"
   },
   {
    "duration": 21,
    "start_time": "2022-01-29T09:26:35.332Z"
   },
   {
    "duration": 21,
    "start_time": "2022-01-29T09:26:37.543Z"
   },
   {
    "duration": 43,
    "start_time": "2022-01-29T09:27:39.888Z"
   },
   {
    "duration": 50,
    "start_time": "2022-01-29T09:27:50.088Z"
   },
   {
    "duration": 401,
    "start_time": "2022-01-29T09:28:21.696Z"
   },
   {
    "duration": 83,
    "start_time": "2022-01-29T09:28:22.099Z"
   },
   {
    "duration": 96,
    "start_time": "2022-01-29T09:28:22.183Z"
   },
   {
    "duration": 51,
    "start_time": "2022-01-29T09:28:22.280Z"
   },
   {
    "duration": 42,
    "start_time": "2022-01-29T09:45:23.101Z"
   },
   {
    "duration": 37,
    "start_time": "2022-01-29T09:45:41.159Z"
   },
   {
    "duration": 405,
    "start_time": "2022-01-29T09:47:15.873Z"
   },
   {
    "duration": 341,
    "start_time": "2022-01-29T09:47:27.346Z"
   },
   {
    "duration": 37,
    "start_time": "2022-01-29T09:50:07.776Z"
   },
   {
    "duration": 101,
    "start_time": "2022-01-29T09:51:30.519Z"
   },
   {
    "duration": 365,
    "start_time": "2022-01-29T09:52:09.696Z"
   },
   {
    "duration": 37,
    "start_time": "2022-01-29T09:52:18.970Z"
   },
   {
    "duration": 40,
    "start_time": "2022-01-29T09:53:46.129Z"
   },
   {
    "duration": 39,
    "start_time": "2022-01-29T09:53:58.039Z"
   },
   {
    "duration": 40,
    "start_time": "2022-01-29T09:56:53.031Z"
   },
   {
    "duration": 39,
    "start_time": "2022-01-29T09:57:13.865Z"
   },
   {
    "duration": 8295,
    "start_time": "2022-01-29T09:57:21.563Z"
   },
   {
    "duration": 40,
    "start_time": "2022-01-29T09:57:33.390Z"
   },
   {
    "duration": 346,
    "start_time": "2022-01-29T10:03:12.965Z"
   },
   {
    "duration": 548,
    "start_time": "2022-01-29T10:03:28.667Z"
   },
   {
    "duration": 2123,
    "start_time": "2022-01-29T10:03:37.972Z"
   },
   {
    "duration": 333,
    "start_time": "2022-01-29T10:04:22.791Z"
   },
   {
    "duration": 1008,
    "start_time": "2022-01-29T10:04:34.577Z"
   },
   {
    "duration": 711,
    "start_time": "2022-01-29T10:06:05.468Z"
   },
   {
    "duration": 686,
    "start_time": "2022-01-29T10:07:01.326Z"
   },
   {
    "duration": 44,
    "start_time": "2022-01-29T10:07:22.110Z"
   },
   {
    "duration": 67,
    "start_time": "2022-01-29T10:10:00.483Z"
   },
   {
    "duration": 118,
    "start_time": "2022-01-29T10:11:53.082Z"
   },
   {
    "duration": 82,
    "start_time": "2022-01-29T10:12:12.971Z"
   },
   {
    "duration": 90,
    "start_time": "2022-01-29T10:12:28.756Z"
   },
   {
    "duration": 166,
    "start_time": "2022-01-29T11:56:31.426Z"
   },
   {
    "duration": 191,
    "start_time": "2022-01-29T11:56:43.915Z"
   },
   {
    "duration": 1062,
    "start_time": "2022-01-29T11:57:49.000Z"
   },
   {
    "duration": 348,
    "start_time": "2022-01-29T12:00:37.065Z"
   },
   {
    "duration": 1008,
    "start_time": "2022-01-29T12:00:42.895Z"
   },
   {
    "duration": 90,
    "start_time": "2022-01-29T12:00:43.905Z"
   },
   {
    "duration": 146,
    "start_time": "2022-01-29T12:00:43.996Z"
   },
   {
    "duration": 53,
    "start_time": "2022-01-29T12:00:44.144Z"
   },
   {
    "duration": 167,
    "start_time": "2022-01-29T12:00:44.199Z"
   },
   {
    "duration": 112,
    "start_time": "2022-01-29T12:00:44.368Z"
   },
   {
    "duration": 102,
    "start_time": "2022-01-29T12:00:50.933Z"
   },
   {
    "duration": 401,
    "start_time": "2022-01-29T12:00:54.649Z"
   },
   {
    "duration": 973,
    "start_time": "2022-01-29T12:02:10.440Z"
   },
   {
    "duration": 89,
    "start_time": "2022-01-29T12:02:11.415Z"
   },
   {
    "duration": 113,
    "start_time": "2022-01-29T12:02:11.506Z"
   },
   {
    "duration": 44,
    "start_time": "2022-01-29T12:02:11.621Z"
   },
   {
    "duration": 118,
    "start_time": "2022-01-29T12:02:11.667Z"
   },
   {
    "duration": 368,
    "start_time": "2022-01-29T12:03:10.756Z"
   },
   {
    "duration": 969,
    "start_time": "2022-01-29T12:03:16.610Z"
   },
   {
    "duration": 98,
    "start_time": "2022-01-29T12:03:17.581Z"
   },
   {
    "duration": 116,
    "start_time": "2022-01-29T12:03:17.681Z"
   },
   {
    "duration": 49,
    "start_time": "2022-01-29T12:03:17.798Z"
   },
   {
    "duration": 116,
    "start_time": "2022-01-29T12:03:17.849Z"
   },
   {
    "duration": 339,
    "start_time": "2022-01-29T12:07:39.368Z"
   },
   {
    "duration": 983,
    "start_time": "2022-01-29T12:07:43.293Z"
   },
   {
    "duration": 94,
    "start_time": "2022-01-29T12:07:44.278Z"
   },
   {
    "duration": 115,
    "start_time": "2022-01-29T12:07:44.374Z"
   },
   {
    "duration": 48,
    "start_time": "2022-01-29T12:07:44.490Z"
   },
   {
    "duration": 113,
    "start_time": "2022-01-29T12:07:44.540Z"
   },
   {
    "duration": 357,
    "start_time": "2022-01-29T12:07:44.655Z"
   },
   {
    "duration": 52,
    "start_time": "2022-01-29T12:08:34.316Z"
   },
   {
    "duration": 318,
    "start_time": "2022-01-29T12:09:44.406Z"
   },
   {
    "duration": 378,
    "start_time": "2022-01-29T12:09:52.775Z"
   },
   {
    "duration": 322,
    "start_time": "2022-01-29T12:10:09.614Z"
   },
   {
    "duration": 1401,
    "start_time": "2022-01-29T12:10:21.784Z"
   },
   {
    "duration": 1360,
    "start_time": "2022-01-30T17:35:40.362Z"
   },
   {
    "duration": 175,
    "start_time": "2022-01-30T17:35:41.725Z"
   },
   {
    "duration": 183,
    "start_time": "2022-01-30T17:35:41.904Z"
   },
   {
    "duration": 84,
    "start_time": "2022-01-30T17:35:42.090Z"
   },
   {
    "duration": 199,
    "start_time": "2022-01-30T17:35:42.176Z"
   },
   {
    "duration": 2,
    "start_time": "2022-01-30T17:35:42.378Z"
   },
   {
    "duration": 366,
    "start_time": "2022-01-30T17:35:59.224Z"
   },
   {
    "duration": 269,
    "start_time": "2022-01-30T17:37:53.404Z"
   },
   {
    "duration": 84,
    "start_time": "2022-01-30T17:39:31.145Z"
   },
   {
    "duration": 325,
    "start_time": "2022-01-30T17:39:34.501Z"
   },
   {
    "duration": 605,
    "start_time": "2022-01-30T17:39:46.633Z"
   },
   {
    "duration": 261,
    "start_time": "2022-01-30T17:39:47.241Z"
   },
   {
    "duration": 174,
    "start_time": "2022-01-30T17:39:47.507Z"
   },
   {
    "duration": 72,
    "start_time": "2022-01-30T17:39:47.683Z"
   },
   {
    "duration": 166,
    "start_time": "2022-01-30T17:39:47.757Z"
   },
   {
    "duration": 260,
    "start_time": "2022-01-30T17:39:47.926Z"
   },
   {
    "duration": 248,
    "start_time": "2022-01-30T17:40:21.399Z"
   },
   {
    "duration": 58,
    "start_time": "2022-01-30T17:40:39.144Z"
   },
   {
    "duration": 69,
    "start_time": "2022-01-30T17:40:55.266Z"
   },
   {
    "duration": 70,
    "start_time": "2022-01-30T17:41:17.393Z"
   },
   {
    "duration": 55,
    "start_time": "2022-01-30T17:44:55.934Z"
   },
   {
    "duration": 59,
    "start_time": "2022-01-30T17:45:38.573Z"
   },
   {
    "duration": 153,
    "start_time": "2022-01-30T17:47:34.753Z"
   },
   {
    "duration": 113,
    "start_time": "2022-01-30T17:47:48.523Z"
   },
   {
    "duration": 67,
    "start_time": "2022-01-30T17:47:55.262Z"
   },
   {
    "duration": 597,
    "start_time": "2022-01-30T17:48:00.422Z"
   },
   {
    "duration": 196,
    "start_time": "2022-01-30T17:48:01.023Z"
   },
   {
    "duration": 182,
    "start_time": "2022-01-30T17:48:01.222Z"
   },
   {
    "duration": 78,
    "start_time": "2022-01-30T17:48:01.406Z"
   },
   {
    "duration": 165,
    "start_time": "2022-01-30T17:48:01.487Z"
   },
   {
    "duration": 74,
    "start_time": "2022-01-30T17:48:01.654Z"
   },
   {
    "duration": 63,
    "start_time": "2022-01-30T17:48:29.084Z"
   },
   {
    "duration": 63,
    "start_time": "2022-01-30T17:49:00.155Z"
   },
   {
    "duration": 56,
    "start_time": "2022-01-30T17:49:18.710Z"
   },
   {
    "duration": 42,
    "start_time": "2022-01-30T17:49:57.834Z"
   },
   {
    "duration": 89,
    "start_time": "2022-01-30T17:50:07.593Z"
   },
   {
    "duration": 63,
    "start_time": "2022-01-30T17:50:09.744Z"
   },
   {
    "duration": 78,
    "start_time": "2022-01-30T17:50:37.578Z"
   },
   {
    "duration": 160,
    "start_time": "2022-01-30T17:53:04.026Z"
   },
   {
    "duration": 99,
    "start_time": "2022-01-30T17:53:10.197Z"
   },
   {
    "duration": 74,
    "start_time": "2022-01-30T17:54:20.640Z"
   },
   {
    "duration": 70,
    "start_time": "2022-01-30T17:54:54.812Z"
   },
   {
    "duration": 99,
    "start_time": "2022-01-30T17:55:52.838Z"
   },
   {
    "duration": 61,
    "start_time": "2022-01-30T17:55:59.026Z"
   },
   {
    "duration": 76,
    "start_time": "2022-01-30T17:56:11.257Z"
   },
   {
    "duration": 117,
    "start_time": "2022-01-30T17:56:16.775Z"
   },
   {
    "duration": 372,
    "start_time": "2022-01-30T17:57:27.830Z"
   },
   {
    "duration": 81,
    "start_time": "2022-01-30T17:57:34.433Z"
   },
   {
    "duration": 57,
    "start_time": "2022-01-30T17:59:21.857Z"
   },
   {
    "duration": 47,
    "start_time": "2022-01-30T18:00:20.682Z"
   },
   {
    "duration": 606,
    "start_time": "2022-01-30T18:00:29.132Z"
   },
   {
    "duration": 175,
    "start_time": "2022-01-30T18:00:29.741Z"
   },
   {
    "duration": 173,
    "start_time": "2022-01-30T18:00:29.920Z"
   },
   {
    "duration": 79,
    "start_time": "2022-01-30T18:00:30.096Z"
   },
   {
    "duration": 168,
    "start_time": "2022-01-30T18:00:30.177Z"
   },
   {
    "duration": 61,
    "start_time": "2022-01-30T18:00:30.347Z"
   },
   {
    "duration": 79,
    "start_time": "2022-01-30T18:00:35.989Z"
   },
   {
    "duration": 102,
    "start_time": "2022-01-30T18:01:12.369Z"
   },
   {
    "duration": 59,
    "start_time": "2022-01-30T18:01:35.795Z"
   },
   {
    "duration": 54,
    "start_time": "2022-01-30T18:01:45.432Z"
   },
   {
    "duration": 415,
    "start_time": "2022-01-30T18:02:19.188Z"
   },
   {
    "duration": 57,
    "start_time": "2022-01-30T18:02:25.754Z"
   },
   {
    "duration": 59,
    "start_time": "2022-01-30T18:02:38.943Z"
   },
   {
    "duration": 45,
    "start_time": "2022-01-30T18:02:57.323Z"
   },
   {
    "duration": 45,
    "start_time": "2022-01-30T18:03:01.884Z"
   },
   {
    "duration": 60,
    "start_time": "2022-01-30T18:03:05.991Z"
   },
   {
    "duration": 67,
    "start_time": "2022-01-30T18:04:10.256Z"
   },
   {
    "duration": 58,
    "start_time": "2022-01-30T18:04:18.242Z"
   },
   {
    "duration": 58,
    "start_time": "2022-01-30T18:05:35.663Z"
   },
   {
    "duration": 150,
    "start_time": "2022-01-30T18:09:29.184Z"
   },
   {
    "duration": 86,
    "start_time": "2022-01-30T18:09:38.658Z"
   },
   {
    "duration": 61,
    "start_time": "2022-01-30T18:09:54.347Z"
   },
   {
    "duration": 58,
    "start_time": "2022-01-30T18:10:45.553Z"
   },
   {
    "duration": 85,
    "start_time": "2022-01-30T18:10:56.268Z"
   },
   {
    "duration": 562,
    "start_time": "2022-01-30T18:11:04.405Z"
   },
   {
    "duration": 142,
    "start_time": "2022-01-30T18:11:04.970Z"
   },
   {
    "duration": 164,
    "start_time": "2022-01-30T18:11:05.115Z"
   },
   {
    "duration": 99,
    "start_time": "2022-01-30T18:11:05.283Z"
   },
   {
    "duration": 239,
    "start_time": "2022-01-30T18:11:05.386Z"
   },
   {
    "duration": 101,
    "start_time": "2022-01-30T18:11:05.628Z"
   },
   {
    "duration": 103,
    "start_time": "2022-01-30T18:11:20.250Z"
   },
   {
    "duration": 60,
    "start_time": "2022-01-30T18:11:23.971Z"
   },
   {
    "duration": 66,
    "start_time": "2022-01-30T18:11:43.690Z"
   },
   {
    "duration": 98,
    "start_time": "2022-01-30T18:12:09.878Z"
   },
   {
    "duration": 60,
    "start_time": "2022-01-30T18:12:25.195Z"
   },
   {
    "duration": 317,
    "start_time": "2022-01-30T18:13:01.554Z"
   },
   {
    "duration": 68,
    "start_time": "2022-01-30T18:13:11.796Z"
   },
   {
    "duration": 65,
    "start_time": "2022-01-30T18:13:52.084Z"
   },
   {
    "duration": 268,
    "start_time": "2022-01-30T18:14:38.816Z"
   },
   {
    "duration": 59,
    "start_time": "2022-01-30T18:14:54.075Z"
   },
   {
    "duration": 99,
    "start_time": "2022-01-30T18:18:12.249Z"
   },
   {
    "duration": 1288,
    "start_time": "2022-01-30T18:18:19.836Z"
   },
   {
    "duration": 1880,
    "start_time": "2022-01-30T18:19:29.375Z"
   },
   {
    "duration": 80,
    "start_time": "2022-01-30T18:23:22.426Z"
   },
   {
    "duration": 80,
    "start_time": "2022-01-30T18:23:49.529Z"
   },
   {
    "duration": 547,
    "start_time": "2022-01-30T18:24:28.561Z"
   },
   {
    "duration": 345,
    "start_time": "2022-01-30T18:24:42.092Z"
   },
   {
    "duration": 8145,
    "start_time": "2022-01-30T18:25:24.459Z"
   },
   {
    "duration": 354,
    "start_time": "2022-01-30T18:25:53.606Z"
   },
   {
    "duration": 70,
    "start_time": "2022-01-30T18:26:23.022Z"
   },
   {
    "duration": 134,
    "start_time": "2022-01-30T18:26:35.517Z"
   },
   {
    "duration": 369,
    "start_time": "2022-01-30T18:27:39.505Z"
   },
   {
    "duration": 342,
    "start_time": "2022-01-30T18:28:19.896Z"
   },
   {
    "duration": 365,
    "start_time": "2022-01-30T18:28:58.981Z"
   },
   {
    "duration": 324,
    "start_time": "2022-01-30T18:29:07.422Z"
   },
   {
    "duration": 87,
    "start_time": "2022-01-30T18:29:15.729Z"
   },
   {
    "duration": 92,
    "start_time": "2022-01-30T18:29:21.977Z"
   },
   {
    "duration": 66,
    "start_time": "2022-01-30T18:29:42.909Z"
   },
   {
    "duration": 74,
    "start_time": "2022-01-30T18:30:11.944Z"
   },
   {
    "duration": 65,
    "start_time": "2022-01-30T18:30:42.930Z"
   },
   {
    "duration": 51,
    "start_time": "2022-01-30T18:30:46.281Z"
   },
   {
    "duration": 367,
    "start_time": "2022-02-09T19:54:03.030Z"
   },
   {
    "duration": 314,
    "start_time": "2022-02-09T19:54:16.451Z"
   },
   {
    "duration": 1005,
    "start_time": "2022-02-09T19:54:25.963Z"
   },
   {
    "duration": 95,
    "start_time": "2022-02-09T19:54:26.970Z"
   },
   {
    "duration": 112,
    "start_time": "2022-02-09T19:54:27.072Z"
   },
   {
    "duration": 47,
    "start_time": "2022-02-09T19:54:27.186Z"
   },
   {
    "duration": 128,
    "start_time": "2022-02-09T19:54:27.234Z"
   },
   {
    "duration": 39,
    "start_time": "2022-02-09T19:54:27.363Z"
   },
   {
    "duration": 44,
    "start_time": "2022-02-09T19:59:29.958Z"
   },
   {
    "duration": 41,
    "start_time": "2022-02-09T20:02:47.538Z"
   },
   {
    "duration": 42,
    "start_time": "2022-02-09T20:03:57.684Z"
   },
   {
    "duration": 42,
    "start_time": "2022-02-09T20:05:43.066Z"
   },
   {
    "duration": 41,
    "start_time": "2022-02-09T20:05:47.279Z"
   },
   {
    "duration": 107,
    "start_time": "2022-02-09T20:06:11.777Z"
   },
   {
    "duration": 42,
    "start_time": "2022-02-09T20:06:17.545Z"
   },
   {
    "duration": 44,
    "start_time": "2022-02-09T20:07:51.765Z"
   },
   {
    "duration": 42,
    "start_time": "2022-02-09T20:08:42.817Z"
   },
   {
    "duration": 38,
    "start_time": "2022-02-09T20:13:00.648Z"
   },
   {
    "duration": 47,
    "start_time": "2022-02-09T20:13:34.491Z"
   },
   {
    "duration": 37,
    "start_time": "2022-02-09T20:14:09.175Z"
   },
   {
    "duration": 799,
    "start_time": "2022-02-09T20:16:44.300Z"
   },
   {
    "duration": 7835,
    "start_time": "2022-02-09T20:16:54.644Z"
   },
   {
    "duration": 35,
    "start_time": "2022-02-09T20:17:19.178Z"
   },
   {
    "duration": 114,
    "start_time": "2022-02-09T20:17:38.297Z"
   },
   {
    "duration": 2255,
    "start_time": "2022-02-09T20:17:43.083Z"
   },
   {
    "duration": 35,
    "start_time": "2022-02-09T20:17:50.805Z"
   },
   {
    "duration": 42,
    "start_time": "2022-02-09T20:19:04.413Z"
   },
   {
    "duration": 177,
    "start_time": "2022-02-09T20:19:39.978Z"
   },
   {
    "duration": 43,
    "start_time": "2022-02-09T20:19:49.334Z"
   },
   {
    "duration": 36,
    "start_time": "2022-02-09T20:20:08.033Z"
   },
   {
    "duration": 42,
    "start_time": "2022-02-09T20:20:54.205Z"
   },
   {
    "duration": 45,
    "start_time": "2022-02-09T20:21:28.434Z"
   },
   {
    "duration": 40,
    "start_time": "2022-02-09T20:21:49.907Z"
   },
   {
    "duration": 123,
    "start_time": "2022-02-09T20:33:55.463Z"
   },
   {
    "duration": 45,
    "start_time": "2022-02-09T20:33:59.710Z"
   },
   {
    "duration": 40,
    "start_time": "2022-02-09T20:34:10.193Z"
   },
   {
    "duration": 155,
    "start_time": "2022-02-09T20:34:19.203Z"
   },
   {
    "duration": 38,
    "start_time": "2022-02-09T20:34:22.850Z"
   },
   {
    "duration": 44,
    "start_time": "2022-02-09T20:34:35.315Z"
   },
   {
    "duration": 112,
    "start_time": "2022-02-09T20:36:27.653Z"
   },
   {
    "duration": 184,
    "start_time": "2022-02-09T20:36:39.264Z"
   },
   {
    "duration": 153,
    "start_time": "2022-02-09T20:36:50.761Z"
   },
   {
    "duration": 105,
    "start_time": "2022-02-09T20:37:02.691Z"
   },
   {
    "duration": 111,
    "start_time": "2022-02-09T20:37:40.840Z"
   },
   {
    "duration": 101,
    "start_time": "2022-02-09T20:37:47.870Z"
   },
   {
    "duration": 48,
    "start_time": "2022-02-09T20:38:35.237Z"
   },
   {
    "duration": 113,
    "start_time": "2022-02-09T20:38:58.924Z"
   },
   {
    "duration": 104,
    "start_time": "2022-02-09T20:42:21.326Z"
   },
   {
    "duration": 111,
    "start_time": "2022-02-09T20:42:47.199Z"
   },
   {
    "duration": 3,
    "start_time": "2022-02-09T20:42:56.295Z"
   },
   {
    "duration": 4,
    "start_time": "2022-02-09T20:43:28.461Z"
   },
   {
    "duration": 4,
    "start_time": "2022-02-09T20:51:04.295Z"
   },
   {
    "duration": 45,
    "start_time": "2022-02-09T20:56:14.988Z"
   },
   {
    "duration": 255,
    "start_time": "2022-02-09T21:02:37.904Z"
   },
   {
    "duration": 259,
    "start_time": "2022-02-09T21:02:50.201Z"
   },
   {
    "duration": 278,
    "start_time": "2022-02-09T21:04:06.491Z"
   },
   {
    "duration": 283,
    "start_time": "2022-02-09T21:04:24.515Z"
   },
   {
    "duration": 280,
    "start_time": "2022-02-09T21:07:26.896Z"
   },
   {
    "duration": 403,
    "start_time": "2022-02-09T21:07:32.589Z"
   },
   {
    "duration": 102,
    "start_time": "2022-02-09T21:07:32.994Z"
   },
   {
    "duration": 106,
    "start_time": "2022-02-09T21:07:33.098Z"
   },
   {
    "duration": 45,
    "start_time": "2022-02-09T21:07:33.206Z"
   },
   {
    "duration": 99,
    "start_time": "2022-02-09T21:07:33.252Z"
   },
   {
    "duration": 284,
    "start_time": "2022-02-09T21:07:33.352Z"
   },
   {
    "duration": 4,
    "start_time": "2022-02-09T21:07:33.637Z"
   },
   {
    "duration": 67,
    "start_time": "2022-04-19T19:20:11.626Z"
   },
   {
    "duration": 1107,
    "start_time": "2022-04-19T19:21:40.165Z"
   },
   {
    "duration": 180,
    "start_time": "2022-04-19T19:21:41.275Z"
   },
   {
    "duration": 174,
    "start_time": "2022-04-19T19:21:41.458Z"
   },
   {
    "duration": 74,
    "start_time": "2022-04-19T19:21:41.634Z"
   },
   {
    "duration": 185,
    "start_time": "2022-04-19T19:21:41.710Z"
   },
   {
    "duration": 433,
    "start_time": "2022-04-19T19:21:41.897Z"
   },
   {
    "duration": 219,
    "start_time": "2022-04-19T19:21:42.333Z"
   },
   {
    "duration": 235,
    "start_time": "2022-04-19T19:21:49.839Z"
   },
   {
    "duration": 192,
    "start_time": "2022-04-19T19:22:10.457Z"
   },
   {
    "duration": 214,
    "start_time": "2022-04-19T19:23:21.552Z"
   },
   {
    "duration": 594,
    "start_time": "2022-04-19T19:23:29.722Z"
   },
   {
    "duration": 178,
    "start_time": "2022-04-19T19:23:30.319Z"
   },
   {
    "duration": 150,
    "start_time": "2022-04-19T19:23:30.499Z"
   },
   {
    "duration": 76,
    "start_time": "2022-04-19T19:23:30.652Z"
   },
   {
    "duration": 152,
    "start_time": "2022-04-19T19:23:30.730Z"
   },
   {
    "duration": 445,
    "start_time": "2022-04-19T19:23:30.892Z"
   },
   {
    "duration": 213,
    "start_time": "2022-04-19T19:23:31.339Z"
   },
   {
    "duration": 227,
    "start_time": "2022-04-19T19:24:06.080Z"
   },
   {
    "duration": 213,
    "start_time": "2022-04-19T19:24:22.245Z"
   },
   {
    "duration": 21,
    "start_time": "2022-04-19T19:24:26.846Z"
   },
   {
    "duration": 33,
    "start_time": "2022-04-19T19:24:38.431Z"
   },
   {
    "duration": 32,
    "start_time": "2022-04-19T19:24:59.944Z"
   },
   {
    "duration": 26,
    "start_time": "2022-04-19T19:26:10.972Z"
   },
   {
    "duration": 34,
    "start_time": "2022-04-19T19:26:16.616Z"
   },
   {
    "duration": 34,
    "start_time": "2022-04-19T19:27:41.672Z"
   },
   {
    "duration": 28,
    "start_time": "2022-04-19T19:27:47.946Z"
   },
   {
    "duration": 220,
    "start_time": "2022-04-19T19:27:54.677Z"
   },
   {
    "duration": 31,
    "start_time": "2022-04-19T19:27:58.181Z"
   },
   {
    "duration": 33,
    "start_time": "2022-04-19T19:28:16.317Z"
   },
   {
    "duration": 33,
    "start_time": "2022-04-19T19:28:33.432Z"
   },
   {
    "duration": 33,
    "start_time": "2022-04-19T19:28:46.054Z"
   },
   {
    "duration": 101,
    "start_time": "2022-04-19T19:35:06.694Z"
   },
   {
    "duration": 65,
    "start_time": "2022-04-19T19:37:37.911Z"
   },
   {
    "duration": 416,
    "start_time": "2022-04-19T19:37:52.669Z"
   },
   {
    "duration": 421,
    "start_time": "2022-04-19T19:38:41.252Z"
   },
   {
    "duration": 31,
    "start_time": "2022-04-19T19:39:16.532Z"
   },
   {
    "duration": 874,
    "start_time": "2022-04-21T19:06:57.461Z"
   },
   {
    "duration": 122,
    "start_time": "2022-04-21T19:06:58.337Z"
   },
   {
    "duration": 117,
    "start_time": "2022-04-21T19:06:58.461Z"
   },
   {
    "duration": 62,
    "start_time": "2022-04-21T19:06:58.581Z"
   },
   {
    "duration": 129,
    "start_time": "2022-04-21T19:06:58.645Z"
   },
   {
    "duration": 246,
    "start_time": "2022-04-21T19:06:58.776Z"
   },
   {
    "duration": 28,
    "start_time": "2022-04-21T19:06:59.023Z"
   },
   {
    "duration": 24,
    "start_time": "2022-04-21T19:08:12.770Z"
   },
   {
    "duration": 2733,
    "start_time": "2022-04-21T19:08:43.003Z"
   },
   {
    "duration": 29,
    "start_time": "2022-04-21T19:08:56.892Z"
   },
   {
    "duration": 665,
    "start_time": "2022-04-21T19:10:53.502Z"
   },
   {
    "duration": 53,
    "start_time": "2022-04-21T19:13:16.938Z"
   },
   {
    "duration": 55,
    "start_time": "2022-04-21T19:13:55.895Z"
   },
   {
    "duration": 35,
    "start_time": "2022-04-21T19:14:28.009Z"
   },
   {
    "duration": 277,
    "start_time": "2022-04-21T19:20:26.688Z"
   },
   {
    "duration": 294,
    "start_time": "2022-04-21T19:21:08.466Z"
   },
   {
    "duration": 496,
    "start_time": "2022-04-21T19:21:44.535Z"
   },
   {
    "duration": 502,
    "start_time": "2022-04-21T19:21:53.710Z"
   },
   {
    "duration": 125,
    "start_time": "2022-04-21T19:21:54.214Z"
   },
   {
    "duration": 105,
    "start_time": "2022-04-21T19:21:54.341Z"
   },
   {
    "duration": 54,
    "start_time": "2022-04-21T19:21:54.449Z"
   },
   {
    "duration": 134,
    "start_time": "2022-04-21T19:21:54.505Z"
   },
   {
    "duration": 263,
    "start_time": "2022-04-21T19:21:54.641Z"
   },
   {
    "duration": 641,
    "start_time": "2022-04-21T19:21:54.905Z"
   },
   {
    "duration": 180,
    "start_time": "2022-04-21T19:22:26.857Z"
   },
   {
    "duration": 633,
    "start_time": "2022-04-21T19:22:32.441Z"
   },
   {
    "duration": 718,
    "start_time": "2022-04-21T19:22:40.105Z"
   },
   {
    "duration": 682,
    "start_time": "2022-04-21T19:22:57.590Z"
   },
   {
    "duration": 184,
    "start_time": "2022-04-21T19:24:01.310Z"
   },
   {
    "duration": 774,
    "start_time": "2022-04-21T19:24:13.342Z"
   },
   {
    "duration": 810,
    "start_time": "2022-04-21T19:24:33.646Z"
   },
   {
    "duration": 755,
    "start_time": "2022-04-21T19:43:10.300Z"
   },
   {
    "duration": 73,
    "start_time": "2022-04-24T12:40:01.617Z"
   },
   {
    "duration": 4342,
    "start_time": "2022-04-24T12:40:13.212Z"
   },
   {
    "duration": 294,
    "start_time": "2022-04-24T12:40:17.558Z"
   },
   {
    "duration": 262,
    "start_time": "2022-04-24T12:40:17.855Z"
   },
   {
    "duration": 103,
    "start_time": "2022-04-24T12:40:18.121Z"
   },
   {
    "duration": 269,
    "start_time": "2022-04-24T12:40:18.227Z"
   },
   {
    "duration": 504,
    "start_time": "2022-04-24T12:40:18.499Z"
   },
   {
    "duration": 1263,
    "start_time": "2022-04-24T12:40:19.006Z"
   },
   {
    "duration": 8,
    "start_time": "2022-04-24T12:43:39.142Z"
   },
   {
    "duration": 25,
    "start_time": "2022-04-24T12:43:48.370Z"
   },
   {
    "duration": 24,
    "start_time": "2022-04-24T12:45:17.564Z"
   },
   {
    "duration": 619,
    "start_time": "2022-04-24T12:46:18.706Z"
   },
   {
    "duration": 266,
    "start_time": "2022-04-24T12:46:19.329Z"
   },
   {
    "duration": 283,
    "start_time": "2022-04-24T12:46:19.598Z"
   },
   {
    "duration": 69,
    "start_time": "2022-04-24T12:46:19.892Z"
   },
   {
    "duration": 154,
    "start_time": "2022-04-24T12:46:19.963Z"
   },
   {
    "duration": 420,
    "start_time": "2022-04-24T12:46:20.119Z"
   },
   {
    "duration": 1700,
    "start_time": "2022-04-24T12:46:20.542Z"
   },
   {
    "duration": 14,
    "start_time": "2022-04-24T12:46:22.245Z"
   },
   {
    "duration": 1145,
    "start_time": "2022-04-24T12:50:30.982Z"
   },
   {
    "duration": 1293,
    "start_time": "2022-04-24T12:51:43.312Z"
   },
   {
    "duration": 1154,
    "start_time": "2022-04-24T12:51:57.259Z"
   },
   {
    "duration": 1281,
    "start_time": "2022-04-24T12:53:14.543Z"
   },
   {
    "duration": 1309,
    "start_time": "2022-04-24T12:53:48.807Z"
   },
   {
    "duration": 8,
    "start_time": "2022-04-24T12:57:44.354Z"
   },
   {
    "duration": 1373,
    "start_time": "2022-04-24T12:57:48.961Z"
   },
   {
    "duration": 1887,
    "start_time": "2022-04-24T12:57:54.761Z"
   },
   {
    "duration": 1945,
    "start_time": "2022-04-24T12:57:59.937Z"
   },
   {
    "duration": 1502,
    "start_time": "2022-04-24T12:59:57.620Z"
   },
   {
    "duration": 1303,
    "start_time": "2022-04-24T13:01:19.569Z"
   },
   {
    "duration": 1273,
    "start_time": "2022-04-24T13:02:38.922Z"
   },
   {
    "duration": 55,
    "start_time": "2022-04-24T13:12:56.392Z"
   },
   {
    "duration": 1636,
    "start_time": "2022-04-24T13:13:30.528Z"
   },
   {
    "duration": 175,
    "start_time": "2022-04-24T13:13:32.167Z"
   },
   {
    "duration": 137,
    "start_time": "2022-04-24T13:13:32.344Z"
   },
   {
    "duration": 74,
    "start_time": "2022-04-24T13:13:32.484Z"
   },
   {
    "duration": 155,
    "start_time": "2022-04-24T13:13:32.561Z"
   },
   {
    "duration": 410,
    "start_time": "2022-04-24T13:13:32.718Z"
   },
   {
    "duration": 1176,
    "start_time": "2022-04-24T13:13:33.131Z"
   },
   {
    "duration": 196,
    "start_time": "2022-04-24T13:13:34.309Z"
   },
   {
    "duration": 186,
    "start_time": "2022-04-24T13:17:49.067Z"
   },
   {
    "duration": 62,
    "start_time": "2022-04-24T13:17:52.973Z"
   },
   {
    "duration": 3330,
    "start_time": "2022-04-24T13:17:59.333Z"
   },
   {
    "duration": 15,
    "start_time": "2022-04-24T13:18:21.897Z"
   },
   {
    "duration": 12,
    "start_time": "2022-04-24T13:18:30.755Z"
   },
   {
    "duration": 10,
    "start_time": "2022-04-24T13:18:58.824Z"
   },
   {
    "duration": 11,
    "start_time": "2022-04-24T13:19:07.170Z"
   },
   {
    "duration": 10,
    "start_time": "2022-04-24T13:19:47.524Z"
   },
   {
    "duration": 11,
    "start_time": "2022-04-24T13:21:38.435Z"
   },
   {
    "duration": 13,
    "start_time": "2022-04-24T13:21:55.278Z"
   },
   {
    "duration": 15,
    "start_time": "2022-04-24T13:22:59.602Z"
   },
   {
    "duration": 21,
    "start_time": "2022-04-24T13:24:23.914Z"
   },
   {
    "duration": 20,
    "start_time": "2022-04-24T13:24:36.550Z"
   },
   {
    "duration": 20,
    "start_time": "2022-04-24T13:24:50.999Z"
   },
   {
    "duration": 14,
    "start_time": "2022-04-24T13:26:37.594Z"
   },
   {
    "duration": 18,
    "start_time": "2022-04-24T13:26:46.593Z"
   },
   {
    "duration": 21,
    "start_time": "2022-04-24T13:26:50.935Z"
   },
   {
    "duration": 14,
    "start_time": "2022-04-24T13:26:58.818Z"
   },
   {
    "duration": 14,
    "start_time": "2022-04-24T13:27:02.575Z"
   },
   {
    "duration": 15,
    "start_time": "2022-04-24T13:27:23.278Z"
   },
   {
    "duration": 14,
    "start_time": "2022-04-24T13:27:35.362Z"
   },
   {
    "duration": 7,
    "start_time": "2022-04-24T13:30:26.294Z"
   },
   {
    "duration": 8,
    "start_time": "2022-04-24T13:30:31.008Z"
   },
   {
    "duration": 9,
    "start_time": "2022-04-24T13:30:41.408Z"
   },
   {
    "duration": 12,
    "start_time": "2022-04-24T13:30:52.755Z"
   },
   {
    "duration": 14,
    "start_time": "2022-04-24T13:31:02.253Z"
   },
   {
    "duration": 15,
    "start_time": "2022-04-24T13:31:25.753Z"
   },
   {
    "duration": 16,
    "start_time": "2022-04-24T13:32:08.971Z"
   },
   {
    "duration": 15,
    "start_time": "2022-04-24T13:32:49.332Z"
   },
   {
    "duration": 14,
    "start_time": "2022-04-24T13:33:53.714Z"
   },
   {
    "duration": 14,
    "start_time": "2022-04-24T13:33:55.515Z"
   },
   {
    "duration": 14,
    "start_time": "2022-04-24T13:33:56.454Z"
   },
   {
    "duration": 4924,
    "start_time": "2022-04-24T14:00:11.841Z"
   },
   {
    "duration": 264,
    "start_time": "2022-04-24T14:00:16.769Z"
   },
   {
    "duration": 258,
    "start_time": "2022-04-24T14:00:17.035Z"
   },
   {
    "duration": 70,
    "start_time": "2022-04-24T14:00:17.297Z"
   },
   {
    "duration": 159,
    "start_time": "2022-04-24T14:00:17.369Z"
   },
   {
    "duration": 442,
    "start_time": "2022-04-24T14:00:17.530Z"
   },
   {
    "duration": 1174,
    "start_time": "2022-04-24T14:00:17.975Z"
   },
   {
    "duration": 13,
    "start_time": "2022-04-24T14:00:19.151Z"
   },
   {
    "duration": 34,
    "start_time": "2022-04-24T14:00:19.167Z"
   },
   {
    "duration": 60,
    "start_time": "2022-04-24T17:14:26.116Z"
   },
   {
    "duration": 0,
    "start_time": "2022-04-24T17:14:26.178Z"
   },
   {
    "duration": 0,
    "start_time": "2022-04-24T17:14:26.180Z"
   },
   {
    "duration": 0,
    "start_time": "2022-04-24T17:14:26.181Z"
   },
   {
    "duration": 1771,
    "start_time": "2022-04-24T17:14:30.556Z"
   },
   {
    "duration": 130,
    "start_time": "2022-04-24T17:14:32.329Z"
   },
   {
    "duration": 139,
    "start_time": "2022-04-24T17:14:32.461Z"
   },
   {
    "duration": 61,
    "start_time": "2022-04-24T17:14:32.602Z"
   },
   {
    "duration": 165,
    "start_time": "2022-04-24T17:14:32.665Z"
   },
   {
    "duration": 270,
    "start_time": "2022-04-24T17:14:32.832Z"
   },
   {
    "duration": 893,
    "start_time": "2022-04-24T17:14:33.104Z"
   },
   {
    "duration": 19,
    "start_time": "2022-04-24T17:14:33.998Z"
   },
   {
    "duration": 14,
    "start_time": "2022-04-24T17:14:34.020Z"
   },
   {
    "duration": 81,
    "start_time": "2022-04-25T15:44:45.182Z"
   },
   {
    "duration": 1,
    "start_time": "2022-04-25T15:44:45.265Z"
   },
   {
    "duration": 2695,
    "start_time": "2022-04-25T15:58:49.608Z"
   },
   {
    "duration": 186,
    "start_time": "2022-04-25T15:58:52.306Z"
   },
   {
    "duration": 153,
    "start_time": "2022-04-25T15:58:52.495Z"
   },
   {
    "duration": 77,
    "start_time": "2022-04-25T15:58:52.652Z"
   },
   {
    "duration": 185,
    "start_time": "2022-04-25T15:58:52.732Z"
   },
   {
    "duration": 432,
    "start_time": "2022-04-25T15:58:52.920Z"
   },
   {
    "duration": 1376,
    "start_time": "2022-04-25T15:58:53.354Z"
   },
   {
    "duration": 16,
    "start_time": "2022-04-25T15:58:54.733Z"
   },
   {
    "duration": 45,
    "start_time": "2022-04-25T15:58:54.752Z"
   },
   {
    "duration": 608,
    "start_time": "2022-04-25T16:11:30.628Z"
   },
   {
    "duration": 176,
    "start_time": "2022-04-25T16:11:31.238Z"
   },
   {
    "duration": 151,
    "start_time": "2022-04-25T16:11:31.417Z"
   },
   {
    "duration": 80,
    "start_time": "2022-04-25T16:11:31.570Z"
   },
   {
    "duration": 154,
    "start_time": "2022-04-25T16:11:31.654Z"
   },
   {
    "duration": 433,
    "start_time": "2022-04-25T16:11:31.810Z"
   },
   {
    "duration": 1239,
    "start_time": "2022-04-25T16:11:32.246Z"
   },
   {
    "duration": 14,
    "start_time": "2022-04-25T16:11:33.488Z"
   },
   {
    "duration": 22,
    "start_time": "2022-04-25T16:11:33.505Z"
   },
   {
    "duration": 229,
    "start_time": "2022-05-01T13:12:47.783Z"
   },
   {
    "duration": 125,
    "start_time": "2022-05-01T13:31:29.529Z"
   },
   {
    "duration": 1453,
    "start_time": "2022-05-01T13:33:31.507Z"
   },
   {
    "duration": 105,
    "start_time": "2022-05-01T13:33:32.962Z"
   },
   {
    "duration": 100,
    "start_time": "2022-05-01T13:33:33.068Z"
   },
   {
    "duration": 46,
    "start_time": "2022-05-01T13:33:33.169Z"
   },
   {
    "duration": 122,
    "start_time": "2022-05-01T13:33:33.217Z"
   },
   {
    "duration": 224,
    "start_time": "2022-05-01T13:33:33.341Z"
   },
   {
    "duration": 671,
    "start_time": "2022-05-01T13:33:33.567Z"
   },
   {
    "duration": 16,
    "start_time": "2022-05-01T13:33:34.240Z"
   },
   {
    "duration": 20,
    "start_time": "2022-05-01T13:33:34.257Z"
   },
   {
    "duration": 16,
    "start_time": "2022-05-01T13:33:58.816Z"
   },
   {
    "duration": 4,
    "start_time": "2022-05-01T13:34:14.005Z"
   },
   {
    "duration": 403,
    "start_time": "2022-05-01T13:35:54.210Z"
   },
   {
    "duration": 104,
    "start_time": "2022-05-01T13:35:54.615Z"
   },
   {
    "duration": 98,
    "start_time": "2022-05-01T13:35:54.721Z"
   },
   {
    "duration": 62,
    "start_time": "2022-05-01T13:35:54.822Z"
   },
   {
    "duration": 104,
    "start_time": "2022-05-01T13:35:54.885Z"
   },
   {
    "duration": 226,
    "start_time": "2022-05-01T13:35:54.990Z"
   },
   {
    "duration": 684,
    "start_time": "2022-05-01T13:35:55.218Z"
   },
   {
    "duration": 8,
    "start_time": "2022-05-01T13:35:55.904Z"
   },
   {
    "duration": 11,
    "start_time": "2022-05-01T13:35:55.914Z"
   },
   {
    "duration": 137,
    "start_time": "2022-05-01T13:39:22.959Z"
   },
   {
    "duration": 180,
    "start_time": "2022-05-01T13:40:14.015Z"
   },
   {
    "duration": 2297,
    "start_time": "2022-05-15T14:10:38.374Z"
   },
   {
    "duration": 168,
    "start_time": "2022-05-15T14:10:40.677Z"
   },
   {
    "duration": 173,
    "start_time": "2022-05-15T14:10:40.848Z"
   },
   {
    "duration": 85,
    "start_time": "2022-05-15T14:10:41.023Z"
   },
   {
    "duration": 177,
    "start_time": "2022-05-15T14:10:41.111Z"
   },
   {
    "duration": 491,
    "start_time": "2022-05-15T14:10:41.291Z"
   },
   {
    "duration": 1407,
    "start_time": "2022-05-15T14:10:41.785Z"
   },
   {
    "duration": 14,
    "start_time": "2022-05-15T14:10:43.195Z"
   },
   {
    "duration": 20,
    "start_time": "2022-05-15T14:10:43.211Z"
   },
   {
    "duration": 2626,
    "start_time": "2022-05-15T14:11:20.215Z"
   },
   {
    "duration": 609,
    "start_time": "2022-05-15T14:11:29.787Z"
   },
   {
    "duration": 212,
    "start_time": "2022-05-15T14:11:30.399Z"
   },
   {
    "duration": 287,
    "start_time": "2022-05-15T14:11:30.613Z"
   },
   {
    "duration": 93,
    "start_time": "2022-05-15T14:11:30.902Z"
   },
   {
    "duration": 201,
    "start_time": "2022-05-15T14:11:31.000Z"
   },
   {
    "duration": 517,
    "start_time": "2022-05-15T14:11:31.204Z"
   },
   {
    "duration": 1359,
    "start_time": "2022-05-15T14:11:31.724Z"
   },
   {
    "duration": 17,
    "start_time": "2022-05-15T14:11:33.086Z"
   },
   {
    "duration": 17,
    "start_time": "2022-05-15T14:11:33.106Z"
   },
   {
    "duration": 607,
    "start_time": "2022-05-15T14:14:00.417Z"
   },
   {
    "duration": 196,
    "start_time": "2022-05-15T14:14:01.027Z"
   },
   {
    "duration": 170,
    "start_time": "2022-05-15T14:14:01.225Z"
   },
   {
    "duration": 86,
    "start_time": "2022-05-15T14:14:01.397Z"
   },
   {
    "duration": 158,
    "start_time": "2022-05-15T14:14:01.487Z"
   },
   {
    "duration": 475,
    "start_time": "2022-05-15T14:14:01.647Z"
   },
   {
    "duration": 1213,
    "start_time": "2022-05-15T14:14:02.124Z"
   },
   {
    "duration": 28,
    "start_time": "2022-05-15T14:14:03.340Z"
   },
   {
    "duration": 33,
    "start_time": "2022-05-15T14:14:03.371Z"
   },
   {
    "duration": 2470,
    "start_time": "2022-05-15T14:15:11.950Z"
   },
   {
    "duration": 574,
    "start_time": "2022-05-15T14:15:16.307Z"
   },
   {
    "duration": 230,
    "start_time": "2022-05-15T14:15:16.884Z"
   },
   {
    "duration": 282,
    "start_time": "2022-05-15T14:15:17.117Z"
   },
   {
    "duration": 97,
    "start_time": "2022-05-15T14:15:17.403Z"
   },
   {
    "duration": 215,
    "start_time": "2022-05-15T14:15:17.502Z"
   },
   {
    "duration": 458,
    "start_time": "2022-05-15T14:15:17.720Z"
   },
   {
    "duration": 1347,
    "start_time": "2022-05-15T14:15:18.182Z"
   },
   {
    "duration": 29,
    "start_time": "2022-05-15T14:15:19.533Z"
   },
   {
    "duration": 17,
    "start_time": "2022-05-15T14:15:19.567Z"
   },
   {
    "duration": 2125,
    "start_time": "2022-05-15T14:17:18.696Z"
   },
   {
    "duration": 2297,
    "start_time": "2022-05-15T14:17:37.380Z"
   },
   {
    "duration": 2138,
    "start_time": "2022-05-15T14:18:04.491Z"
   },
   {
    "duration": 2160,
    "start_time": "2022-05-15T14:18:13.770Z"
   },
   {
    "duration": 534,
    "start_time": "2022-05-15T14:18:22.770Z"
   },
   {
    "duration": 150,
    "start_time": "2022-05-15T14:18:26.790Z"
   },
   {
    "duration": 2406,
    "start_time": "2022-05-15T14:18:33.848Z"
   },
   {
    "duration": 2197,
    "start_time": "2022-05-15T14:18:43.800Z"
   },
   {
    "duration": 2095,
    "start_time": "2022-05-15T14:18:52.718Z"
   },
   {
    "duration": 2085,
    "start_time": "2022-05-15T14:19:03.382Z"
   },
   {
    "duration": 2020,
    "start_time": "2022-05-15T14:19:17.220Z"
   },
   {
    "duration": 548,
    "start_time": "2022-05-15T14:19:25.664Z"
   },
   {
    "duration": 187,
    "start_time": "2022-05-15T14:19:26.216Z"
   },
   {
    "duration": 145,
    "start_time": "2022-05-15T14:19:26.406Z"
   },
   {
    "duration": 67,
    "start_time": "2022-05-15T14:19:26.554Z"
   },
   {
    "duration": 164,
    "start_time": "2022-05-15T14:19:26.624Z"
   },
   {
    "duration": 416,
    "start_time": "2022-05-15T14:19:26.791Z"
   },
   {
    "duration": 1365,
    "start_time": "2022-05-15T14:19:27.210Z"
   },
   {
    "duration": 14,
    "start_time": "2022-05-15T14:19:28.578Z"
   },
   {
    "duration": 13,
    "start_time": "2022-05-15T14:19:28.595Z"
   },
   {
    "duration": 2129,
    "start_time": "2022-05-15T14:19:45.731Z"
   },
   {
    "duration": 508,
    "start_time": "2022-05-15T14:19:51.593Z"
   },
   {
    "duration": 137,
    "start_time": "2022-05-15T14:19:55.070Z"
   },
   {
    "duration": 515,
    "start_time": "2022-05-15T14:20:06.764Z"
   },
   {
    "duration": 159,
    "start_time": "2022-05-15T14:20:07.282Z"
   },
   {
    "duration": 139,
    "start_time": "2022-05-15T14:20:07.443Z"
   },
   {
    "duration": 80,
    "start_time": "2022-05-15T14:20:07.585Z"
   },
   {
    "duration": 149,
    "start_time": "2022-05-15T14:20:07.667Z"
   },
   {
    "duration": 424,
    "start_time": "2022-05-15T14:20:07.818Z"
   },
   {
    "duration": 1107,
    "start_time": "2022-05-15T14:20:08.244Z"
   },
   {
    "duration": 15,
    "start_time": "2022-05-15T14:20:09.358Z"
   },
   {
    "duration": 20,
    "start_time": "2022-05-15T14:20:09.376Z"
   },
   {
    "duration": 91,
    "start_time": "2022-05-15T14:21:00.109Z"
   },
   {
    "duration": 171,
    "start_time": "2022-05-15T14:21:12.205Z"
   },
   {
    "duration": 516,
    "start_time": "2022-05-15T14:21:15.679Z"
   },
   {
    "duration": 171,
    "start_time": "2022-05-15T14:21:16.198Z"
   },
   {
    "duration": 136,
    "start_time": "2022-05-15T14:21:16.371Z"
   },
   {
    "duration": 81,
    "start_time": "2022-05-15T14:21:16.511Z"
   },
   {
    "duration": 151,
    "start_time": "2022-05-15T14:21:16.595Z"
   },
   {
    "duration": 413,
    "start_time": "2022-05-15T14:21:16.757Z"
   },
   {
    "duration": 1148,
    "start_time": "2022-05-15T14:21:17.173Z"
   },
   {
    "duration": 13,
    "start_time": "2022-05-15T14:21:18.323Z"
   },
   {
    "duration": 30,
    "start_time": "2022-05-15T14:21:18.338Z"
   },
   {
    "duration": 2413,
    "start_time": "2022-05-15T14:25:30.715Z"
   },
   {
    "duration": 625,
    "start_time": "2022-05-15T14:26:39.579Z"
   },
   {
    "duration": 153,
    "start_time": "2022-05-15T14:26:43.294Z"
   },
   {
    "duration": 2343,
    "start_time": "2022-05-15T14:26:54.572Z"
   },
   {
    "duration": 642,
    "start_time": "2022-05-15T14:27:00.016Z"
   },
   {
    "duration": 194,
    "start_time": "2022-05-15T14:27:03.177Z"
   },
   {
    "duration": 612,
    "start_time": "2022-05-15T14:27:22.218Z"
   },
   {
    "duration": 180,
    "start_time": "2022-05-15T14:27:22.856Z"
   },
   {
    "duration": 166,
    "start_time": "2022-05-15T14:27:23.038Z"
   },
   {
    "duration": 91,
    "start_time": "2022-05-15T14:27:23.207Z"
   },
   {
    "duration": 163,
    "start_time": "2022-05-15T14:27:23.300Z"
   },
   {
    "duration": 524,
    "start_time": "2022-05-15T14:27:23.466Z"
   },
   {
    "duration": 1306,
    "start_time": "2022-05-15T14:27:23.992Z"
   },
   {
    "duration": 15,
    "start_time": "2022-05-15T14:27:25.301Z"
   },
   {
    "duration": 55,
    "start_time": "2022-05-15T14:27:25.319Z"
   },
   {
    "duration": 177,
    "start_time": "2022-05-15T14:33:34.727Z"
   },
   {
    "duration": 143,
    "start_time": "2022-05-15T14:33:44.098Z"
   },
   {
    "duration": 173,
    "start_time": "2022-05-15T14:33:59.407Z"
   },
   {
    "duration": 160,
    "start_time": "2022-05-15T14:34:49.778Z"
   },
   {
    "duration": 109,
    "start_time": "2022-05-15T14:34:52.465Z"
   },
   {
    "duration": 639,
    "start_time": "2022-05-15T14:34:55.631Z"
   },
   {
    "duration": 207,
    "start_time": "2022-05-15T14:34:56.274Z"
   },
   {
    "duration": 102,
    "start_time": "2022-05-15T14:34:56.484Z"
   },
   {
    "duration": 87,
    "start_time": "2022-05-15T14:34:56.590Z"
   },
   {
    "duration": 154,
    "start_time": "2022-05-15T14:34:56.680Z"
   },
   {
    "duration": 490,
    "start_time": "2022-05-15T14:34:56.837Z"
   },
   {
    "duration": 1655,
    "start_time": "2022-05-15T14:34:57.330Z"
   },
   {
    "duration": 15,
    "start_time": "2022-05-15T14:34:58.987Z"
   },
   {
    "duration": 15,
    "start_time": "2022-05-15T14:34:59.005Z"
   },
   {
    "duration": 82,
    "start_time": "2022-05-15T14:36:39.772Z"
   },
   {
    "duration": 598,
    "start_time": "2022-05-15T14:36:45.130Z"
   },
   {
    "duration": 231,
    "start_time": "2022-05-15T14:36:45.759Z"
   },
   {
    "duration": 94,
    "start_time": "2022-05-15T14:36:45.992Z"
   },
   {
    "duration": 77,
    "start_time": "2022-05-15T14:36:46.089Z"
   },
   {
    "duration": 171,
    "start_time": "2022-05-15T14:36:46.170Z"
   },
   {
    "duration": 688,
    "start_time": "2022-05-15T14:36:46.344Z"
   },
   {
    "duration": 1474,
    "start_time": "2022-05-15T14:36:47.035Z"
   },
   {
    "duration": 15,
    "start_time": "2022-05-15T14:36:48.511Z"
   },
   {
    "duration": 40,
    "start_time": "2022-05-15T14:36:48.528Z"
   },
   {
    "duration": 126,
    "start_time": "2022-05-15T14:39:21.956Z"
   },
   {
    "duration": 735,
    "start_time": "2022-05-15T14:39:25.435Z"
   },
   {
    "duration": 186,
    "start_time": "2022-05-15T14:39:26.174Z"
   },
   {
    "duration": 141,
    "start_time": "2022-05-15T14:39:26.365Z"
   },
   {
    "duration": 97,
    "start_time": "2022-05-15T14:39:26.509Z"
   },
   {
    "duration": 173,
    "start_time": "2022-05-15T14:39:26.609Z"
   },
   {
    "duration": 548,
    "start_time": "2022-05-15T14:39:26.786Z"
   },
   {
    "duration": 1551,
    "start_time": "2022-05-15T14:39:27.337Z"
   },
   {
    "duration": 14,
    "start_time": "2022-05-15T14:39:28.890Z"
   },
   {
    "duration": 16,
    "start_time": "2022-05-15T14:39:28.906Z"
   },
   {
    "duration": 36,
    "start_time": "2022-05-15T14:56:28.510Z"
   },
   {
    "duration": 34,
    "start_time": "2022-05-15T14:59:33.981Z"
   },
   {
    "duration": 137,
    "start_time": "2022-05-15T14:59:41.266Z"
   },
   {
    "duration": 1371,
    "start_time": "2022-05-15T14:59:48.075Z"
   },
   {
    "duration": 35,
    "start_time": "2022-05-15T15:00:13.160Z"
   },
   {
    "duration": 1137,
    "start_time": "2022-05-15T15:00:20.544Z"
   },
   {
    "duration": 1583,
    "start_time": "2022-05-15T15:01:58.253Z"
   },
   {
    "duration": 508,
    "start_time": "2022-05-15T15:02:20.105Z"
   },
   {
    "duration": 168,
    "start_time": "2022-05-15T15:02:20.617Z"
   },
   {
    "duration": 89,
    "start_time": "2022-05-15T15:02:20.787Z"
   },
   {
    "duration": 81,
    "start_time": "2022-05-15T15:02:20.879Z"
   },
   {
    "duration": 151,
    "start_time": "2022-05-15T15:02:20.963Z"
   },
   {
    "duration": 443,
    "start_time": "2022-05-15T15:02:21.116Z"
   },
   {
    "duration": 1155,
    "start_time": "2022-05-15T15:02:21.562Z"
   },
   {
    "duration": 14,
    "start_time": "2022-05-15T15:02:22.720Z"
   },
   {
    "duration": 13,
    "start_time": "2022-05-15T15:02:22.756Z"
   },
   {
    "duration": 165,
    "start_time": "2022-05-15T15:02:37.086Z"
   },
   {
    "duration": 1855,
    "start_time": "2022-05-15T15:02:48.908Z"
   },
   {
    "duration": 6805,
    "start_time": "2022-05-15T15:06:04.477Z"
   },
   {
    "duration": 2355,
    "start_time": "2022-05-15T15:06:35.555Z"
   },
   {
    "duration": 620,
    "start_time": "2022-05-15T15:06:47.970Z"
   },
   {
    "duration": 177,
    "start_time": "2022-05-15T15:06:48.594Z"
   },
   {
    "duration": 85,
    "start_time": "2022-05-15T15:06:48.774Z"
   },
   {
    "duration": 68,
    "start_time": "2022-05-15T15:06:48.862Z"
   },
   {
    "duration": 159,
    "start_time": "2022-05-15T15:06:48.932Z"
   },
   {
    "duration": 600,
    "start_time": "2022-05-15T15:06:49.094Z"
   },
   {
    "duration": 2439,
    "start_time": "2022-05-15T15:06:49.697Z"
   },
   {
    "duration": 0,
    "start_time": "2022-05-15T15:06:52.139Z"
   },
   {
    "duration": 0,
    "start_time": "2022-05-15T15:06:52.141Z"
   },
   {
    "duration": 2841,
    "start_time": "2022-05-15T15:07:40.027Z"
   },
   {
    "duration": 2959,
    "start_time": "2022-05-15T15:08:08.881Z"
   },
   {
    "duration": 2850,
    "start_time": "2022-05-15T15:08:35.138Z"
   },
   {
    "duration": 556,
    "start_time": "2022-05-15T15:08:42.310Z"
   },
   {
    "duration": 177,
    "start_time": "2022-05-15T15:08:42.870Z"
   },
   {
    "duration": 161,
    "start_time": "2022-05-15T15:08:43.057Z"
   },
   {
    "duration": 95,
    "start_time": "2022-05-15T15:08:43.222Z"
   },
   {
    "duration": 213,
    "start_time": "2022-05-15T15:08:43.319Z"
   },
   {
    "duration": 713,
    "start_time": "2022-05-15T15:08:43.534Z"
   },
   {
    "duration": 3165,
    "start_time": "2022-05-15T15:08:44.256Z"
   },
   {
    "duration": 0,
    "start_time": "2022-05-15T15:08:47.424Z"
   },
   {
    "duration": 0,
    "start_time": "2022-05-15T15:08:47.426Z"
   },
   {
    "duration": 1228,
    "start_time": "2022-05-15T15:10:44.394Z"
   },
   {
    "duration": 27,
    "start_time": "2022-05-15T15:15:28.742Z"
   },
   {
    "duration": 25,
    "start_time": "2022-05-15T15:16:08.109Z"
   },
   {
    "duration": 42,
    "start_time": "2022-05-15T15:23:34.377Z"
   },
   {
    "duration": 29,
    "start_time": "2022-05-15T15:23:45.795Z"
   },
   {
    "duration": 35,
    "start_time": "2022-05-15T15:23:56.522Z"
   },
   {
    "duration": 32,
    "start_time": "2022-05-15T15:24:39.783Z"
   },
   {
    "duration": 25,
    "start_time": "2022-05-15T15:29:06.324Z"
   },
   {
    "duration": 148,
    "start_time": "2022-05-15T15:29:14.014Z"
   },
   {
    "duration": 30,
    "start_time": "2022-05-15T15:30:01.378Z"
   },
   {
    "duration": 29,
    "start_time": "2022-05-15T15:30:23.719Z"
   },
   {
    "duration": 29,
    "start_time": "2022-05-15T15:31:09.645Z"
   },
   {
    "duration": 39,
    "start_time": "2022-05-15T15:31:14.677Z"
   },
   {
    "duration": 50,
    "start_time": "2022-05-15T15:33:07.555Z"
   },
   {
    "duration": 4203,
    "start_time": "2022-05-15T15:33:39.881Z"
   },
   {
    "duration": 49,
    "start_time": "2022-05-15T15:34:52.904Z"
   },
   {
    "duration": 34,
    "start_time": "2022-05-15T15:34:58.350Z"
   },
   {
    "duration": 26,
    "start_time": "2022-05-15T15:35:31.434Z"
   },
   {
    "duration": 43,
    "start_time": "2022-05-15T15:35:43.298Z"
   },
   {
    "duration": 38,
    "start_time": "2022-05-15T15:36:37.255Z"
   },
   {
    "duration": 26,
    "start_time": "2022-05-15T15:36:39.978Z"
   },
   {
    "duration": 31,
    "start_time": "2022-05-15T15:36:47.853Z"
   },
   {
    "duration": 43,
    "start_time": "2022-05-15T15:37:46.593Z"
   },
   {
    "duration": 40,
    "start_time": "2022-05-15T15:37:54.409Z"
   },
   {
    "duration": 25,
    "start_time": "2022-05-15T15:38:07.705Z"
   },
   {
    "duration": 24,
    "start_time": "2022-05-15T15:39:37.929Z"
   },
   {
    "duration": 1809,
    "start_time": "2022-05-15T15:42:50.982Z"
   },
   {
    "duration": 619,
    "start_time": "2022-05-15T15:48:58.656Z"
   },
   {
    "duration": 218,
    "start_time": "2022-05-15T15:48:59.278Z"
   },
   {
    "duration": 101,
    "start_time": "2022-05-15T15:48:59.498Z"
   },
   {
    "duration": 85,
    "start_time": "2022-05-15T15:48:59.602Z"
   },
   {
    "duration": 150,
    "start_time": "2022-05-15T15:48:59.689Z"
   },
   {
    "duration": 474,
    "start_time": "2022-05-15T15:48:59.842Z"
   },
   {
    "duration": 1703,
    "start_time": "2022-05-15T15:49:00.318Z"
   },
   {
    "duration": 34,
    "start_time": "2022-05-15T15:49:02.023Z"
   },
   {
    "duration": 22,
    "start_time": "2022-05-15T15:49:02.061Z"
   },
   {
    "duration": 32,
    "start_time": "2022-05-15T15:49:02.088Z"
   },
   {
    "duration": 282,
    "start_time": "2022-05-16T11:06:10.176Z"
   },
   {
    "duration": 72,
    "start_time": "2022-05-16T11:10:20.477Z"
   },
   {
    "duration": 2686,
    "start_time": "2022-05-16T11:10:22.684Z"
   },
   {
    "duration": 238,
    "start_time": "2022-05-16T11:10:25.375Z"
   },
   {
    "duration": 111,
    "start_time": "2022-05-16T11:10:25.616Z"
   },
   {
    "duration": 88,
    "start_time": "2022-05-16T11:10:25.731Z"
   },
   {
    "duration": 227,
    "start_time": "2022-05-16T11:10:25.822Z"
   },
   {
    "duration": 831,
    "start_time": "2022-05-16T11:10:26.052Z"
   },
   {
    "duration": 1723,
    "start_time": "2022-05-16T11:10:26.886Z"
   },
   {
    "duration": 1326,
    "start_time": "2022-05-16T11:10:28.611Z"
   },
   {
    "duration": 0,
    "start_time": "2022-05-16T11:10:29.941Z"
   },
   {
    "duration": 0,
    "start_time": "2022-05-16T11:10:29.959Z"
   },
   {
    "duration": 0,
    "start_time": "2022-05-16T11:10:29.962Z"
   },
   {
    "duration": 260,
    "start_time": "2022-05-16T11:10:49.733Z"
   },
   {
    "duration": 449,
    "start_time": "2022-05-16T11:11:00.154Z"
   },
   {
    "duration": 477,
    "start_time": "2022-05-16T11:11:06.256Z"
   },
   {
    "duration": 437,
    "start_time": "2022-05-16T11:11:14.184Z"
   },
   {
    "duration": 18,
    "start_time": "2022-05-16T11:13:50.636Z"
   },
   {
    "duration": 11,
    "start_time": "2022-05-16T11:14:09.229Z"
   },
   {
    "duration": 19,
    "start_time": "2022-05-16T11:14:19.206Z"
   },
   {
    "duration": 680,
    "start_time": "2022-05-16T11:16:29.216Z"
   },
   {
    "duration": 291,
    "start_time": "2022-05-16T11:16:29.900Z"
   },
   {
    "duration": 109,
    "start_time": "2022-05-16T11:16:30.193Z"
   },
   {
    "duration": 94,
    "start_time": "2022-05-16T11:16:30.305Z"
   },
   {
    "duration": 188,
    "start_time": "2022-05-16T11:16:30.402Z"
   },
   {
    "duration": 506,
    "start_time": "2022-05-16T11:16:30.593Z"
   },
   {
    "duration": 1478,
    "start_time": "2022-05-16T11:16:31.101Z"
   },
   {
    "duration": 552,
    "start_time": "2022-05-16T11:16:32.581Z"
   },
   {
    "duration": 24,
    "start_time": "2022-05-16T11:16:33.135Z"
   },
   {
    "duration": 30,
    "start_time": "2022-05-16T11:16:33.164Z"
   },
   {
    "duration": 20,
    "start_time": "2022-05-16T11:16:33.196Z"
   },
   {
    "duration": 37,
    "start_time": "2022-05-16T11:16:33.219Z"
   },
   {
    "duration": 34,
    "start_time": "2022-05-16T11:16:33.259Z"
   }
  ],
  "kernelspec": {
   "display_name": "Python 3 (ipykernel)",
   "language": "python",
   "name": "python3"
  },
  "language_info": {
   "codemirror_mode": {
    "name": "ipython",
    "version": 3
   },
   "file_extension": ".py",
   "mimetype": "text/x-python",
   "name": "python",
   "nbconvert_exporter": "python",
   "pygments_lexer": "ipython3",
   "version": "3.9.13"
  },
  "toc": {
   "base_numbering": 1,
   "nav_menu": {},
   "number_sections": true,
   "sideBar": true,
   "skip_h1_title": true,
   "title_cell": "Table of Contents",
   "title_sidebar": "Contents",
   "toc_cell": false,
   "toc_position": {
    "height": "calc(100% - 180px)",
    "left": "10px",
    "top": "150px",
    "width": "366px"
   },
   "toc_section_display": true,
   "toc_window_display": true
  }
 },
 "nbformat": 4,
 "nbformat_minor": 2
}
