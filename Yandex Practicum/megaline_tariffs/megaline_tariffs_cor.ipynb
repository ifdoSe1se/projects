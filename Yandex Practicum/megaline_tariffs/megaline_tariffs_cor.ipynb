{
 "cells": [
  {
   "cell_type": "markdown",
   "metadata": {},
   "source": [
    "# Рекомендация тарифов"
   ]
  },
  {
   "cell_type": "markdown",
   "metadata": {},
   "source": [
    "В вашем распоряжении данные о поведении клиентов, которые уже перешли на эти тарифы (из проекта курса «Статистический анализ данных»). Нужно построить модель для задачи классификации, которая выберет подходящий тариф. Предобработка данных не понадобится — вы её уже сделали.\n",
    "\n",
    "Постройте модель с максимально большим значением *accuracy*. Чтобы сдать проект успешно, нужно довести долю правильных ответов по крайней мере до 0.75. Проверьте *accuracy* на тестовой выборке самостоятельно."
   ]
  },
  {
   "cell_type": "markdown",
   "metadata": {},
   "source": [
    "# Описание проекта\n",
    "Оператор мобильной связи «Мегалайн» выяснил: многие клиенты пользуются архивными тарифами. Они хотят построить систему, способную проанализировать поведение клиентов и предложить пользователям новый тариф: «Смарт» или «Ультра».\n",
    "В вашем распоряжении данные о поведении клиентов, которые уже перешли на эти тарифы. Нужно построить модель для задачи классификации, которая выберет подходящий тариф. "
   ]
  },
  {
   "cell_type": "markdown",
   "metadata": {},
   "source": [
    "# Описание данных\n",
    "Каждый объект в наборе данных — это информация о поведении одного пользователя за месяц. Известно:\n",
    "сalls — количество звонков,\n",
    "minutes — суммарная длительность звонков в минутах,\n",
    "messages — количество sms-сообщений,\n",
    "mb_used — израсходованный интернет-трафик в Мб,\n",
    "is_ultra — каким тарифом пользовался в течение месяца («Ультра» — 1, «Смарт» — 0)."
   ]
  },
  {
   "cell_type": "markdown",
   "metadata": {},
   "source": [
    "# План работы\n",
    "- Открываем и изучаем файл\n",
    "- Подготавливаем данные\n",
    "- Пишем и исследуем точность моделей\n",
    "- Проверяем лучшую модель на тестовой выборке\n",
    "- Проверяем модель на адекватность\n",
    "- Подводим итог"
   ]
  },
  {
   "cell_type": "markdown",
   "metadata": {},
   "source": [
    "## Откройте и изучите файл"
   ]
  },
  {
   "cell_type": "code",
   "execution_count": 121,
   "metadata": {},
   "outputs": [
    {
     "data": {
      "text/html": [
       "<div>\n",
       "<style scoped>\n",
       "    .dataframe tbody tr th:only-of-type {\n",
       "        vertical-align: middle;\n",
       "    }\n",
       "\n",
       "    .dataframe tbody tr th {\n",
       "        vertical-align: top;\n",
       "    }\n",
       "\n",
       "    .dataframe thead th {\n",
       "        text-align: right;\n",
       "    }\n",
       "</style>\n",
       "<table border=\"1\" class=\"dataframe\">\n",
       "  <thead>\n",
       "    <tr style=\"text-align: right;\">\n",
       "      <th></th>\n",
       "      <th>calls</th>\n",
       "      <th>minutes</th>\n",
       "      <th>messages</th>\n",
       "      <th>mb_used</th>\n",
       "      <th>is_ultra</th>\n",
       "    </tr>\n",
       "  </thead>\n",
       "  <tbody>\n",
       "    <tr>\n",
       "      <th>0</th>\n",
       "      <td>40.0</td>\n",
       "      <td>311.90</td>\n",
       "      <td>83.0</td>\n",
       "      <td>19915.42</td>\n",
       "      <td>0</td>\n",
       "    </tr>\n",
       "    <tr>\n",
       "      <th>1</th>\n",
       "      <td>85.0</td>\n",
       "      <td>516.75</td>\n",
       "      <td>56.0</td>\n",
       "      <td>22696.96</td>\n",
       "      <td>0</td>\n",
       "    </tr>\n",
       "    <tr>\n",
       "      <th>2</th>\n",
       "      <td>77.0</td>\n",
       "      <td>467.66</td>\n",
       "      <td>86.0</td>\n",
       "      <td>21060.45</td>\n",
       "      <td>0</td>\n",
       "    </tr>\n",
       "    <tr>\n",
       "      <th>3</th>\n",
       "      <td>106.0</td>\n",
       "      <td>745.53</td>\n",
       "      <td>81.0</td>\n",
       "      <td>8437.39</td>\n",
       "      <td>1</td>\n",
       "    </tr>\n",
       "    <tr>\n",
       "      <th>4</th>\n",
       "      <td>66.0</td>\n",
       "      <td>418.74</td>\n",
       "      <td>1.0</td>\n",
       "      <td>14502.75</td>\n",
       "      <td>0</td>\n",
       "    </tr>\n",
       "    <tr>\n",
       "      <th>...</th>\n",
       "      <td>...</td>\n",
       "      <td>...</td>\n",
       "      <td>...</td>\n",
       "      <td>...</td>\n",
       "      <td>...</td>\n",
       "    </tr>\n",
       "    <tr>\n",
       "      <th>3209</th>\n",
       "      <td>122.0</td>\n",
       "      <td>910.98</td>\n",
       "      <td>20.0</td>\n",
       "      <td>35124.90</td>\n",
       "      <td>1</td>\n",
       "    </tr>\n",
       "    <tr>\n",
       "      <th>3210</th>\n",
       "      <td>25.0</td>\n",
       "      <td>190.36</td>\n",
       "      <td>0.0</td>\n",
       "      <td>3275.61</td>\n",
       "      <td>0</td>\n",
       "    </tr>\n",
       "    <tr>\n",
       "      <th>3211</th>\n",
       "      <td>97.0</td>\n",
       "      <td>634.44</td>\n",
       "      <td>70.0</td>\n",
       "      <td>13974.06</td>\n",
       "      <td>0</td>\n",
       "    </tr>\n",
       "    <tr>\n",
       "      <th>3212</th>\n",
       "      <td>64.0</td>\n",
       "      <td>462.32</td>\n",
       "      <td>90.0</td>\n",
       "      <td>31239.78</td>\n",
       "      <td>0</td>\n",
       "    </tr>\n",
       "    <tr>\n",
       "      <th>3213</th>\n",
       "      <td>80.0</td>\n",
       "      <td>566.09</td>\n",
       "      <td>6.0</td>\n",
       "      <td>29480.52</td>\n",
       "      <td>1</td>\n",
       "    </tr>\n",
       "  </tbody>\n",
       "</table>\n",
       "<p>3214 rows × 5 columns</p>\n",
       "</div>"
      ],
      "text/plain": [
       "      calls  minutes  messages   mb_used  is_ultra\n",
       "0      40.0   311.90      83.0  19915.42         0\n",
       "1      85.0   516.75      56.0  22696.96         0\n",
       "2      77.0   467.66      86.0  21060.45         0\n",
       "3     106.0   745.53      81.0   8437.39         1\n",
       "4      66.0   418.74       1.0  14502.75         0\n",
       "...     ...      ...       ...       ...       ...\n",
       "3209  122.0   910.98      20.0  35124.90         1\n",
       "3210   25.0   190.36       0.0   3275.61         0\n",
       "3211   97.0   634.44      70.0  13974.06         0\n",
       "3212   64.0   462.32      90.0  31239.78         0\n",
       "3213   80.0   566.09       6.0  29480.52         1\n",
       "\n",
       "[3214 rows x 5 columns]"
      ]
     },
     "metadata": {},
     "output_type": "display_data"
    },
    {
     "name": "stdout",
     "output_type": "stream",
     "text": [
      "<class 'pandas.core.frame.DataFrame'>\n",
      "RangeIndex: 3214 entries, 0 to 3213\n",
      "Data columns (total 5 columns):\n",
      " #   Column    Non-Null Count  Dtype  \n",
      "---  ------    --------------  -----  \n",
      " 0   calls     3214 non-null   float64\n",
      " 1   minutes   3214 non-null   float64\n",
      " 2   messages  3214 non-null   float64\n",
      " 3   mb_used   3214 non-null   float64\n",
      " 4   is_ultra  3214 non-null   int64  \n",
      "dtypes: float64(4), int64(1)\n",
      "memory usage: 125.7 KB\n"
     ]
    },
    {
     "data": {
      "text/plain": [
       "None"
      ]
     },
     "metadata": {},
     "output_type": "display_data"
    }
   ],
   "source": [
    "import pandas as pd\n",
    "from sklearn.model_selection import train_test_split\n",
    "from sklearn.metrics import accuracy_score\n",
    "from sklearn.tree import DecisionTreeClassifier\n",
    "from sklearn.linear_model import LogisticRegression\n",
    "from sklearn.ensemble import RandomForestClassifier\n",
    "from sklearn.metrics import classification_report\n",
    "\n",
    "df = pd.read_csv('/datasets/users_behavior.csv')\n",
    "display(df)\n",
    "display(df.info())\n",
    "\n"
   ]
  },
  {
   "cell_type": "markdown",
   "metadata": {},
   "source": [
    "Мы видим, что перед нами данные по использованным минутам, сообщениям, кол-ву мегабайт и тарифам 3213 пользователей за месяц. По условию предобработка данных не требуется, своднаяинформация по датасету это подтверждает. Переходим к следующему шагу."
   ]
  },
  {
   "cell_type": "markdown",
   "metadata": {},
   "source": [
    "## Разбейте данные на выборки"
   ]
  },
  {
   "cell_type": "code",
   "execution_count": 122,
   "metadata": {},
   "outputs": [
    {
     "name": "stdout",
     "output_type": "stream",
     "text": [
      "603\n",
      "804\n",
      "1807\n"
     ]
    }
   ],
   "source": [
    "features = df.drop(['is_ultra'], axis=1)\n",
    "target = df['is_ultra']\n",
    "features_train, features_valid, target_train, target_valid = train_test_split(features, target, test_size=0.25, random_state=12345,\n",
    "                                                                             stratify = target)\n",
    "\n",
    "features_train, features_test, target_train, target_test = train_test_split(features_train, target_train, test_size=0.25, random_state=12345,\n",
    "                                                                           stratify = target_train)\n",
    "\n",
    "print(len(features_test))\n",
    "print(len(features_valid))\n",
    "print(len(features_train))"
   ]
  },
  {
   "cell_type": "markdown",
   "metadata": {},
   "source": [
    "Сначала разделим датасет на целевой признак и остальные признаки. Далее - 2 этих датасета я разделил на 2 выборки:\n",
    "\n",
    "- Тренировочная выборка для обучения моделей\n",
    "- Валидационная выборка для выявления метрики accuracy для каждой из модели, каждого гиперпараметра\n",
    "\n",
    "Потом я отделил 25% от тренировочной выборки для создания тестовой выборки, на которой буду проверять лучшую модель по итогам предсказания на валидационой выборке. \n",
    "Итого мы имеем 3 выборки:\n",
    "\n",
    "- Тренировочная выборка (1807 обьектов, 56% от исходной выборки)\n",
    "- Валидационная выборка (804 обьекта, 25% от исходной выборки)\n",
    "- Тестовая выборка (602 обьекта, 19% от исходной выборки)"
   ]
  },
  {
   "cell_type": "markdown",
   "metadata": {},
   "source": [
    "## Исследуйте модели"
   ]
  },
  {
   "cell_type": "code",
   "execution_count": 123,
   "metadata": {},
   "outputs": [
    {
     "name": "stdout",
     "output_type": "stream",
     "text": [
      "Лучшая модель: RandomForestClassifier, с результатом accuracy: 81.22%, и глубиной дерева: 300\n"
     ]
    }
   ],
   "source": [
    "\n",
    "models = ['DecisionTreeClassifier','RandomForestClassifier', 'LogisticRegression']\n",
    "results = []\n",
    "depths = []\n",
    "current_models = []\n",
    "for model in models:\n",
    "\n",
    "    if model == 'DecisionTreeClassifier':\n",
    "        for depth in range(2, 22, 2):\n",
    "            model_tree = DecisionTreeClassifier(random_state=12345, max_depth=depth)\n",
    "            model_tree.fit(features_train, target_train)\n",
    "            predictions_tree_valid = model_tree.predict(features_valid)\n",
    "            result_tree = accuracy_score(target_valid, predictions_tree_valid)\n",
    "            results.append(result_tree)\n",
    "            depths.append(depth)\n",
    "            current_models.append(model)\n",
    "\n",
    "    if model == 'RandomForestClassifier':\n",
    "        for est in range(50, 351, 50):\n",
    "            model_forest = RandomForestClassifier(random_state=12345, n_estimators = est)\n",
    "            model_forest.fit(features_train, target_train)\n",
    "            predictions_forest_valid = model_forest.predict(features_valid)\n",
    "            result_forest = accuracy_score(target_valid, predictions_forest_valid)\n",
    "            results.append(result_forest)\n",
    "            depths.append(est)\n",
    "            current_models.append(model)\n",
    "\n",
    "    if model == 'LogisticRegression':\n",
    "        model_regression = LogisticRegression(random_state=12345, solver='lbfgs', max_iter=1000)\n",
    "        model_regression.fit(features_train, target_train)\n",
    "        predictions_logistic_valid = model_regression.predict(features_valid)\n",
    "        result_regression = accuracy_score(target_valid, predictions_logistic_valid)\n",
    "        results.append(result_regression)\n",
    "        depths.append(None)\n",
    "        current_models.append(model)\n",
    "        \n",
    "best_result = 0\n",
    "best_depth = 0\n",
    "best_model = None\n",
    "for index in range(len(results)):\n",
    "    if results[index] > best_result:\n",
    "        best_result = results[index]\n",
    "        best_depth = depths[index]\n",
    "        best_model = current_models[index]\n",
    "        \n",
    "print(f'Лучшая модель: {best_model}, с результатом accuracy: {best_result:.2%}, и глубиной дерева: {best_depth}')\n"
   ]
  },
  {
   "cell_type": "markdown",
   "metadata": {},
   "source": [
    "Я обьявил 4 переменные models, results, depths, current_models: \n",
    "\n",
    "- models: здесь я храню названия моделей бинарной классификации, их которых мы выберем лучшую, по параметру accuracy модель.\n",
    "- results, depths, current_models: в эти переменные я буду записывать результаты точности пресказаний. \n",
    "- results будет хранить в себе показатель точности. \n",
    "- depths будет хранить в себе гиперпараметр, в зависимости от используемой модели.\n",
    "- current_models - будет хранить в себе название используемой модели\n",
    "\n",
    "Далее я написал цикл, который обращается к списку названий моделей из переменной models. Для каждой отдельной модели я написал еще по циклу с перебором гиперпараметров(Кроме LogisticRegression). Результаты выполнения цикла записываются в параметры results, depths, current_models\n",
    "После выполнения цикла, когда у нас есть все результаты предсказаний моделей - выбираю лучшую, для этого:\n",
    "1. Обьявляю 3 пустые переменные, которые будут хранить в себе результаты лучшего предсказания.\n",
    "2. Пишу цикл, с перебором всех предсказаний для выявления лучшего\n",
    "3. Записываю точность, гиперпараметр и название модели для лучшего результата\n"
   ]
  },
  {
   "cell_type": "markdown",
   "metadata": {},
   "source": [
    "## Проверьте модель на тестовой выборке"
   ]
  },
  {
   "cell_type": "code",
   "execution_count": 124,
   "metadata": {},
   "outputs": [
    {
     "name": "stdout",
     "output_type": "stream",
     "text": [
      " Итоговое значение accuracy лучшей модели на тестовой выборке: 78.4%\n",
      "              precision    recall  f1-score   support\n",
      "\n",
      "           0       0.81      0.89      0.85       418\n",
      "           1       0.69      0.54      0.61       185\n",
      "\n",
      "    accuracy                           0.78       603\n",
      "   macro avg       0.75      0.72      0.73       603\n",
      "weighted avg       0.78      0.78      0.78       603\n",
      "\n"
     ]
    }
   ],
   "source": [
    "model = RandomForestClassifier(random_state=12345, n_estimators = best_depth)\n",
    "model.fit(features_train, target_train)\n",
    "predictions_valid = model.predict(features_test)\n",
    "final_result = accuracy_score(target_test, predictions_valid)\n",
    "print(f' Итоговое значение accuracy лучшей модели на тестовой выборке: {final_result:.1%}')\n",
    "\n",
    "report = classification_report(target_test, predictions_valid)\n",
    "print(report)"
   ]
  },
  {
   "cell_type": "markdown",
   "metadata": {},
   "source": [
    "Путем перебора 3 моделей: \"Решающее дерево\", \"Случайный лес\" и \"Логистическая регрессия\" и их гиперпараметов, я выяснил, что для задачи больше всего подходит \"Случайный лес\" с гиперпараметром \"est\" равным 200. Она показала лучшую точность, по сравнению с другими моделями. Точность предсказаний, на валидационной выборке, составила ~79.85%. Точность предсказаний уже на итоговой, тестовой выборке возросла на ~2% и составила ~81.8%, что выше минимального порога из условия (75%)."
   ]
  },
  {
   "cell_type": "markdown",
   "metadata": {},
   "source": [
    "## (бонус) Проверьте модели на адекватность"
   ]
  },
  {
   "cell_type": "code",
   "execution_count": 125,
   "metadata": {},
   "outputs": [
    {
     "name": "stdout",
     "output_type": "stream",
     "text": [
      "0.693200663349917\n"
     ]
    }
   ],
   "source": [
    "zero_series = []\n",
    "for i in range(len(target_test)):\n",
    "    zero_series.append(0)\n",
    "\n",
    "one = accuracy_score(target_test, zero_series)\n",
    "print(one)"
   ]
  }
 ],
 "metadata": {
  "ExecuteTimeLog": [
   {
    "duration": 443,
    "start_time": "2022-10-21T13:17:59.705Z"
   },
   {
    "duration": 40,
    "start_time": "2022-10-21T13:20:22.224Z"
   },
   {
    "duration": 34,
    "start_time": "2022-10-21T13:20:30.118Z"
   },
   {
    "duration": 71,
    "start_time": "2022-10-21T13:23:30.521Z"
   },
   {
    "duration": 739,
    "start_time": "2022-10-21T13:23:36.414Z"
   },
   {
    "duration": 7,
    "start_time": "2022-10-21T13:23:39.770Z"
   },
   {
    "duration": 4,
    "start_time": "2022-10-21T13:29:57.637Z"
   },
   {
    "duration": 42,
    "start_time": "2022-10-21T13:37:53.307Z"
   },
   {
    "duration": 8,
    "start_time": "2022-10-21T13:38:12.276Z"
   },
   {
    "duration": 62,
    "start_time": "2022-10-21T13:38:22.805Z"
   },
   {
    "duration": 6,
    "start_time": "2022-10-21T13:38:24.844Z"
   },
   {
    "duration": 16,
    "start_time": "2022-10-21T13:38:26.004Z"
   },
   {
    "duration": 12,
    "start_time": "2022-10-21T13:42:25.471Z"
   },
   {
    "duration": 17,
    "start_time": "2022-10-21T13:44:56.136Z"
   },
   {
    "duration": 18,
    "start_time": "2022-10-21T13:45:28.809Z"
   },
   {
    "duration": 17,
    "start_time": "2022-10-21T13:46:14.434Z"
   },
   {
    "duration": 16,
    "start_time": "2022-10-21T13:47:01.554Z"
   },
   {
    "duration": 14,
    "start_time": "2022-10-21T13:47:23.178Z"
   },
   {
    "duration": 31,
    "start_time": "2022-10-21T13:47:42.738Z"
   },
   {
    "duration": 33,
    "start_time": "2022-10-21T13:49:54.412Z"
   },
   {
    "duration": 35,
    "start_time": "2022-10-21T13:50:39.316Z"
   },
   {
    "duration": 4,
    "start_time": "2022-10-21T13:50:59.972Z"
   },
   {
    "duration": 4,
    "start_time": "2022-10-21T13:51:11.165Z"
   },
   {
    "duration": 5,
    "start_time": "2022-10-21T13:51:13.460Z"
   },
   {
    "duration": 34,
    "start_time": "2022-10-21T13:51:19.852Z"
   },
   {
    "duration": 31,
    "start_time": "2022-10-21T13:53:23.679Z"
   },
   {
    "duration": 53,
    "start_time": "2022-10-21T14:04:58.929Z"
   },
   {
    "duration": 35,
    "start_time": "2022-10-21T14:05:03.587Z"
   },
   {
    "duration": 6,
    "start_time": "2022-10-21T14:05:05.525Z"
   },
   {
    "duration": 192,
    "start_time": "2022-10-21T14:05:07.174Z"
   },
   {
    "duration": 507,
    "start_time": "2022-10-21T14:05:24.735Z"
   },
   {
    "duration": 720,
    "start_time": "2022-10-21T14:06:09.422Z"
   },
   {
    "duration": 1276,
    "start_time": "2022-10-22T16:09:06.044Z"
   },
   {
    "duration": 6,
    "start_time": "2022-10-22T16:09:07.323Z"
   },
   {
    "duration": 687,
    "start_time": "2022-10-22T16:09:07.330Z"
   },
   {
    "duration": 432,
    "start_time": "2022-10-22T16:09:59.283Z"
   },
   {
    "duration": 73,
    "start_time": "2022-10-22T16:18:18.822Z"
   },
   {
    "duration": 71,
    "start_time": "2022-10-22T16:18:32.814Z"
   },
   {
    "duration": 131,
    "start_time": "2022-10-22T16:18:37.475Z"
   },
   {
    "duration": 417,
    "start_time": "2022-10-22T16:19:13.295Z"
   },
   {
    "duration": 39,
    "start_time": "2022-10-22T16:19:19.805Z"
   },
   {
    "duration": 5,
    "start_time": "2022-10-22T16:19:19.846Z"
   },
   {
    "duration": 461,
    "start_time": "2022-10-22T16:19:19.852Z"
   },
   {
    "duration": 38,
    "start_time": "2022-10-22T16:19:48.564Z"
   },
   {
    "duration": 5,
    "start_time": "2022-10-22T16:19:50.986Z"
   },
   {
    "duration": 413,
    "start_time": "2022-10-22T16:20:00.498Z"
   },
   {
    "duration": 432,
    "start_time": "2022-10-22T16:20:37.279Z"
   },
   {
    "duration": 417,
    "start_time": "2022-10-22T16:21:08.595Z"
   },
   {
    "duration": 482,
    "start_time": "2022-10-22T16:22:08.633Z"
   },
   {
    "duration": 38,
    "start_time": "2022-10-22T16:23:02.628Z"
   },
   {
    "duration": 5,
    "start_time": "2022-10-22T16:23:02.667Z"
   },
   {
    "duration": 437,
    "start_time": "2022-10-22T16:23:02.674Z"
   },
   {
    "duration": 37,
    "start_time": "2022-10-22T16:24:25.750Z"
   },
   {
    "duration": 5,
    "start_time": "2022-10-22T16:24:25.788Z"
   },
   {
    "duration": 13,
    "start_time": "2022-10-22T16:24:25.794Z"
   },
   {
    "duration": 41,
    "start_time": "2022-10-22T16:25:07.836Z"
   },
   {
    "duration": 5,
    "start_time": "2022-10-22T16:25:07.879Z"
   },
   {
    "duration": 527,
    "start_time": "2022-10-22T16:25:07.886Z"
   },
   {
    "duration": 398,
    "start_time": "2022-10-22T16:27:12.820Z"
   },
   {
    "duration": 37,
    "start_time": "2022-10-22T16:30:20.522Z"
   },
   {
    "duration": 6,
    "start_time": "2022-10-22T16:30:20.561Z"
   },
   {
    "duration": 547,
    "start_time": "2022-10-22T16:30:20.568Z"
   },
   {
    "duration": 717,
    "start_time": "2022-10-22T16:31:16.893Z"
   },
   {
    "duration": 1096,
    "start_time": "2022-10-22T16:36:39.705Z"
   },
   {
    "duration": 7,
    "start_time": "2022-10-22T16:36:40.803Z"
   },
   {
    "duration": 494,
    "start_time": "2022-10-22T16:36:40.812Z"
   },
   {
    "duration": 493,
    "start_time": "2022-10-22T16:38:47.020Z"
   },
   {
    "duration": 448,
    "start_time": "2022-10-22T16:39:23.558Z"
   },
   {
    "duration": 607,
    "start_time": "2022-10-22T16:39:44.307Z"
   },
   {
    "duration": 535,
    "start_time": "2022-10-22T16:40:17.371Z"
   },
   {
    "duration": 39,
    "start_time": "2022-10-22T16:42:17.793Z"
   },
   {
    "duration": 5,
    "start_time": "2022-10-22T16:42:17.834Z"
   },
   {
    "duration": 464,
    "start_time": "2022-10-22T16:42:17.841Z"
   },
   {
    "duration": 514,
    "start_time": "2022-10-22T16:43:39.996Z"
   },
   {
    "duration": 445,
    "start_time": "2022-10-22T16:44:24.061Z"
   },
   {
    "duration": 115,
    "start_time": "2022-10-22T16:46:00.393Z"
   },
   {
    "duration": 500,
    "start_time": "2022-10-22T16:46:23.116Z"
   },
   {
    "duration": 459,
    "start_time": "2022-10-22T16:56:00.555Z"
   },
   {
    "duration": 466,
    "start_time": "2022-10-22T16:56:54.640Z"
   },
   {
    "duration": 5,
    "start_time": "2022-10-22T16:58:06.159Z"
   },
   {
    "duration": 6,
    "start_time": "2022-10-22T16:58:29.094Z"
   },
   {
    "duration": 6,
    "start_time": "2022-10-22T16:58:43.055Z"
   },
   {
    "duration": 38,
    "start_time": "2022-10-22T16:58:45.360Z"
   },
   {
    "duration": 6,
    "start_time": "2022-10-22T16:58:45.399Z"
   },
   {
    "duration": 6,
    "start_time": "2022-10-22T16:58:45.406Z"
   },
   {
    "duration": 39,
    "start_time": "2022-10-22T16:59:10.874Z"
   },
   {
    "duration": 6,
    "start_time": "2022-10-22T16:59:10.915Z"
   },
   {
    "duration": 8,
    "start_time": "2022-10-22T16:59:10.922Z"
   },
   {
    "duration": 1074,
    "start_time": "2022-10-22T16:59:23.932Z"
   },
   {
    "duration": 5,
    "start_time": "2022-10-22T16:59:25.008Z"
   },
   {
    "duration": 12,
    "start_time": "2022-10-22T16:59:25.015Z"
   },
   {
    "duration": 6,
    "start_time": "2022-10-22T17:00:00.713Z"
   },
   {
    "duration": 782,
    "start_time": "2022-10-22T17:00:06.124Z"
   },
   {
    "duration": 6,
    "start_time": "2022-10-22T17:00:21.205Z"
   },
   {
    "duration": 7,
    "start_time": "2022-10-22T17:00:36.421Z"
   },
   {
    "duration": 38,
    "start_time": "2022-10-22T17:00:40.594Z"
   },
   {
    "duration": 5,
    "start_time": "2022-10-22T17:00:40.634Z"
   },
   {
    "duration": 10,
    "start_time": "2022-10-22T17:00:40.640Z"
   },
   {
    "duration": 516,
    "start_time": "2022-10-22T17:01:26.594Z"
   },
   {
    "duration": 37,
    "start_time": "2022-10-22T17:01:42.389Z"
   },
   {
    "duration": 5,
    "start_time": "2022-10-22T17:01:42.428Z"
   },
   {
    "duration": 21,
    "start_time": "2022-10-22T17:01:42.434Z"
   },
   {
    "duration": 37,
    "start_time": "2022-10-22T17:04:19.781Z"
   },
   {
    "duration": 5,
    "start_time": "2022-10-22T17:04:19.820Z"
   },
   {
    "duration": 6,
    "start_time": "2022-10-22T17:04:19.827Z"
   },
   {
    "duration": 5,
    "start_time": "2022-10-22T17:04:46.112Z"
   },
   {
    "duration": 40,
    "start_time": "2022-10-22T17:04:50.491Z"
   },
   {
    "duration": 5,
    "start_time": "2022-10-22T17:04:50.533Z"
   },
   {
    "duration": 10,
    "start_time": "2022-10-22T17:04:50.539Z"
   },
   {
    "duration": 43,
    "start_time": "2022-10-22T17:05:28.116Z"
   },
   {
    "duration": 5,
    "start_time": "2022-10-22T17:05:28.161Z"
   },
   {
    "duration": 446,
    "start_time": "2022-10-22T17:05:28.168Z"
   },
   {
    "duration": 53,
    "start_time": "2022-10-22T17:05:35.537Z"
   },
   {
    "duration": 5,
    "start_time": "2022-10-22T17:05:35.591Z"
   },
   {
    "duration": 509,
    "start_time": "2022-10-22T17:05:35.597Z"
   },
   {
    "duration": 419,
    "start_time": "2022-10-22T17:06:34.595Z"
   },
   {
    "duration": 510,
    "start_time": "2022-10-22T17:11:18.098Z"
   },
   {
    "duration": 447,
    "start_time": "2022-10-22T17:11:32.858Z"
   },
   {
    "duration": 538,
    "start_time": "2022-10-22T17:13:17.668Z"
   },
   {
    "duration": 742,
    "start_time": "2022-10-22T17:15:36.032Z"
   },
   {
    "duration": 390,
    "start_time": "2022-10-22T17:16:14.722Z"
   },
   {
    "duration": 440,
    "start_time": "2022-10-22T17:16:44.173Z"
   },
   {
    "duration": 431,
    "start_time": "2022-10-22T17:17:00.081Z"
   },
   {
    "duration": 460,
    "start_time": "2022-10-22T17:17:12.053Z"
   },
   {
    "duration": 502,
    "start_time": "2022-10-22T17:17:23.104Z"
   },
   {
    "duration": 473,
    "start_time": "2022-10-22T17:17:32.638Z"
   },
   {
    "duration": 427,
    "start_time": "2022-10-22T17:17:43.484Z"
   },
   {
    "duration": 558,
    "start_time": "2022-10-22T17:17:55.549Z"
   },
   {
    "duration": 573,
    "start_time": "2022-10-22T18:47:22.933Z"
   },
   {
    "duration": 11,
    "start_time": "2022-10-22T18:54:18.020Z"
   },
   {
    "duration": 2,
    "start_time": "2022-10-22T18:54:30.975Z"
   },
   {
    "duration": 20,
    "start_time": "2022-10-22T18:56:57.971Z"
   },
   {
    "duration": 37,
    "start_time": "2022-10-22T18:57:04.318Z"
   },
   {
    "duration": 13,
    "start_time": "2022-10-22T18:57:04.357Z"
   },
   {
    "duration": 0,
    "start_time": "2022-10-22T18:57:04.371Z"
   },
   {
    "duration": 0,
    "start_time": "2022-10-22T18:57:04.373Z"
   },
   {
    "duration": 7,
    "start_time": "2022-10-22T18:57:33.191Z"
   },
   {
    "duration": 38,
    "start_time": "2022-10-22T18:57:37.127Z"
   },
   {
    "duration": 6,
    "start_time": "2022-10-22T18:57:37.167Z"
   },
   {
    "duration": 734,
    "start_time": "2022-10-22T18:57:37.175Z"
   },
   {
    "duration": 106,
    "start_time": "2022-10-22T18:57:37.911Z"
   },
   {
    "duration": 22,
    "start_time": "2022-10-22T18:58:12.440Z"
   },
   {
    "duration": 15,
    "start_time": "2022-10-22T18:59:02.895Z"
   },
   {
    "duration": 9,
    "start_time": "2022-10-22T18:59:18.613Z"
   },
   {
    "duration": 20,
    "start_time": "2022-10-22T18:59:28.884Z"
   },
   {
    "duration": 20,
    "start_time": "2022-10-22T18:59:52.609Z"
   },
   {
    "duration": 46,
    "start_time": "2022-10-22T19:00:13.845Z"
   },
   {
    "duration": 14,
    "start_time": "2022-10-22T19:00:13.893Z"
   },
   {
    "duration": 497,
    "start_time": "2022-10-22T19:00:13.909Z"
   },
   {
    "duration": 104,
    "start_time": "2022-10-22T19:00:14.409Z"
   },
   {
    "duration": 68,
    "start_time": "2022-10-22T19:03:06.659Z"
   },
   {
    "duration": 14,
    "start_time": "2022-10-22T19:03:24.579Z"
   },
   {
    "duration": 15,
    "start_time": "2022-10-22T19:03:36.638Z"
   },
   {
    "duration": 10,
    "start_time": "2022-10-22T19:05:19.777Z"
   },
   {
    "duration": 10,
    "start_time": "2022-10-22T19:05:38.639Z"
   },
   {
    "duration": 11,
    "start_time": "2022-10-22T19:05:44.016Z"
   },
   {
    "duration": 7,
    "start_time": "2022-10-22T19:06:18.826Z"
   },
   {
    "duration": 8,
    "start_time": "2022-10-22T19:06:28.708Z"
   },
   {
    "duration": 39,
    "start_time": "2022-10-22T19:06:40.832Z"
   },
   {
    "duration": 8,
    "start_time": "2022-10-22T19:06:40.872Z"
   },
   {
    "duration": 284,
    "start_time": "2022-10-22T19:06:40.881Z"
   },
   {
    "duration": 10,
    "start_time": "2022-10-22T19:06:41.167Z"
   },
   {
    "duration": 17,
    "start_time": "2022-10-22T19:07:00.962Z"
   },
   {
    "duration": 12,
    "start_time": "2022-10-22T19:11:28.715Z"
   },
   {
    "duration": 4,
    "start_time": "2022-10-22T19:25:39.968Z"
   },
   {
    "duration": 9,
    "start_time": "2022-10-22T19:25:53.798Z"
   },
   {
    "duration": 9,
    "start_time": "2022-10-22T19:26:14.649Z"
   },
   {
    "duration": 6,
    "start_time": "2022-10-22T19:28:27.308Z"
   },
   {
    "duration": 10,
    "start_time": "2022-10-22T19:28:46.899Z"
   },
   {
    "duration": 12,
    "start_time": "2022-10-22T19:30:20.867Z"
   },
   {
    "duration": 62,
    "start_time": "2022-10-22T19:31:09.366Z"
   },
   {
    "duration": 14,
    "start_time": "2022-10-22T19:31:13.200Z"
   },
   {
    "duration": 72,
    "start_time": "2022-10-22T19:31:49.631Z"
   },
   {
    "duration": 6,
    "start_time": "2022-10-22T19:31:53.125Z"
   },
   {
    "duration": 12,
    "start_time": "2022-10-22T19:32:53.180Z"
   },
   {
    "duration": 8,
    "start_time": "2022-10-22T19:33:15.016Z"
   },
   {
    "duration": 13,
    "start_time": "2022-10-22T19:33:30.554Z"
   },
   {
    "duration": 14,
    "start_time": "2022-10-22T19:33:41.809Z"
   },
   {
    "duration": 13,
    "start_time": "2022-10-22T19:36:28.713Z"
   },
   {
    "duration": 9,
    "start_time": "2022-10-22T19:37:01.752Z"
   },
   {
    "duration": 19,
    "start_time": "2022-10-22T19:37:09.328Z"
   },
   {
    "duration": 15,
    "start_time": "2022-10-22T19:37:43.773Z"
   },
   {
    "duration": 8,
    "start_time": "2022-10-22T19:38:28.886Z"
   },
   {
    "duration": 17,
    "start_time": "2022-10-22T19:39:02.735Z"
   },
   {
    "duration": 18,
    "start_time": "2022-10-22T19:39:05.976Z"
   },
   {
    "duration": 16,
    "start_time": "2022-10-22T19:39:20.219Z"
   },
   {
    "duration": 16,
    "start_time": "2022-10-22T19:39:26.902Z"
   },
   {
    "duration": 13,
    "start_time": "2022-10-22T19:40:42.339Z"
   },
   {
    "duration": 17,
    "start_time": "2022-10-22T19:40:52.162Z"
   },
   {
    "duration": 18,
    "start_time": "2022-10-22T19:41:15.184Z"
   },
   {
    "duration": 19,
    "start_time": "2022-10-22T19:42:19.462Z"
   },
   {
    "duration": 13,
    "start_time": "2022-10-22T19:42:31.822Z"
   },
   {
    "duration": 9,
    "start_time": "2022-10-22T19:42:35.401Z"
   },
   {
    "duration": 9,
    "start_time": "2022-10-22T19:42:47.696Z"
   },
   {
    "duration": 14,
    "start_time": "2022-10-22T19:43:47.521Z"
   },
   {
    "duration": 15,
    "start_time": "2022-10-22T19:43:59.256Z"
   },
   {
    "duration": 8,
    "start_time": "2022-10-22T19:45:14.874Z"
   },
   {
    "duration": 11,
    "start_time": "2022-10-22T19:45:38.962Z"
   },
   {
    "duration": 18,
    "start_time": "2022-10-22T19:45:46.649Z"
   },
   {
    "duration": 44,
    "start_time": "2022-10-22T19:49:13.918Z"
   },
   {
    "duration": 15,
    "start_time": "2022-10-22T19:49:29.225Z"
   },
   {
    "duration": 41,
    "start_time": "2022-10-22T19:50:24.420Z"
   },
   {
    "duration": 1122,
    "start_time": "2022-10-22T19:52:42.224Z"
   },
   {
    "duration": 329,
    "start_time": "2022-10-22T19:55:54.038Z"
   },
   {
    "duration": 352,
    "start_time": "2022-10-22T19:56:06.940Z"
   },
   {
    "duration": 321,
    "start_time": "2022-10-22T19:56:49.896Z"
   },
   {
    "duration": 323,
    "start_time": "2022-10-22T19:56:53.489Z"
   },
   {
    "duration": 318,
    "start_time": "2022-10-22T19:56:55.966Z"
   },
   {
    "duration": 496,
    "start_time": "2022-10-22T19:57:06.048Z"
   },
   {
    "duration": 335,
    "start_time": "2022-10-22T19:57:21.902Z"
   },
   {
    "duration": 138,
    "start_time": "2022-10-22T19:57:58.991Z"
   },
   {
    "duration": 1225,
    "start_time": "2022-10-22T19:59:38.875Z"
   },
   {
    "duration": 11,
    "start_time": "2022-10-22T19:59:54.984Z"
   },
   {
    "duration": 15,
    "start_time": "2022-10-22T20:00:28.078Z"
   },
   {
    "duration": 18,
    "start_time": "2022-10-22T20:00:53.519Z"
   },
   {
    "duration": 1056,
    "start_time": "2022-10-23T17:26:26.080Z"
   },
   {
    "duration": 48,
    "start_time": "2022-10-23T17:26:41.553Z"
   },
   {
    "duration": 12,
    "start_time": "2022-10-23T17:54:53.173Z"
   },
   {
    "duration": 333,
    "start_time": "2022-10-23T18:00:16.233Z"
   },
   {
    "duration": 47,
    "start_time": "2022-10-23T18:01:29.097Z"
   },
   {
    "duration": 46,
    "start_time": "2022-10-23T18:01:34.154Z"
   },
   {
    "duration": 13,
    "start_time": "2022-10-23T18:01:37.889Z"
   },
   {
    "duration": 36,
    "start_time": "2022-10-23T18:01:59.512Z"
   },
   {
    "duration": 9,
    "start_time": "2022-10-23T18:01:59.550Z"
   },
   {
    "duration": 410,
    "start_time": "2022-10-23T18:01:59.561Z"
   },
   {
    "duration": 18,
    "start_time": "2022-10-23T18:01:59.973Z"
   },
   {
    "duration": 33,
    "start_time": "2022-10-23T19:43:59.362Z"
   },
   {
    "duration": 7,
    "start_time": "2022-10-23T19:43:59.396Z"
   },
   {
    "duration": 302,
    "start_time": "2022-10-23T19:43:59.405Z"
   },
   {
    "duration": 17,
    "start_time": "2022-10-23T19:43:59.709Z"
   },
   {
    "duration": 36,
    "start_time": "2022-10-23T19:46:21.042Z"
   },
   {
    "duration": 8,
    "start_time": "2022-10-23T19:46:21.080Z"
   },
   {
    "duration": 314,
    "start_time": "2022-10-23T19:46:21.089Z"
   },
   {
    "duration": 11,
    "start_time": "2022-10-23T19:46:21.405Z"
   },
   {
    "duration": 1372,
    "start_time": "2022-10-25T11:57:56.640Z"
   },
   {
    "duration": 9,
    "start_time": "2022-10-25T11:57:58.015Z"
   },
   {
    "duration": 376,
    "start_time": "2022-10-25T11:57:58.027Z"
   },
   {
    "duration": 28,
    "start_time": "2022-10-25T11:57:58.405Z"
   },
   {
    "duration": 21,
    "start_time": "2022-10-25T11:58:16.330Z"
   },
   {
    "duration": 22,
    "start_time": "2022-10-25T11:58:21.837Z"
   },
   {
    "duration": 26,
    "start_time": "2022-10-25T12:00:05.638Z"
   },
   {
    "duration": 50,
    "start_time": "2022-10-25T12:13:29.334Z"
   },
   {
    "duration": 9,
    "start_time": "2022-10-25T12:13:29.387Z"
   },
   {
    "duration": 360,
    "start_time": "2022-10-25T12:13:29.398Z"
   },
   {
    "duration": 20,
    "start_time": "2022-10-25T12:13:29.759Z"
   },
   {
    "duration": 4,
    "start_time": "2022-10-25T12:22:45.114Z"
   },
   {
    "duration": 5,
    "start_time": "2022-10-25T12:23:00.459Z"
   },
   {
    "duration": 5717,
    "start_time": "2022-10-25T12:24:58.776Z"
   },
   {
    "duration": 51,
    "start_time": "2022-10-25T12:25:07.496Z"
   },
   {
    "duration": 8,
    "start_time": "2022-10-25T12:25:07.548Z"
   },
   {
    "duration": 5626,
    "start_time": "2022-10-25T12:25:07.558Z"
   },
   {
    "duration": 22,
    "start_time": "2022-10-25T12:25:13.187Z"
   },
   {
    "duration": 4,
    "start_time": "2022-10-25T12:25:13.223Z"
   },
   {
    "duration": 51,
    "start_time": "2022-10-25T12:25:58.149Z"
   },
   {
    "duration": 9,
    "start_time": "2022-10-25T12:25:58.201Z"
   },
   {
    "duration": 356,
    "start_time": "2022-10-25T12:25:58.515Z"
   },
   {
    "duration": 18,
    "start_time": "2022-10-25T12:25:58.873Z"
   },
   {
    "duration": 4,
    "start_time": "2022-10-25T12:25:58.893Z"
   },
   {
    "duration": 5332,
    "start_time": "2022-10-25T12:26:33.310Z"
   },
   {
    "duration": 50,
    "start_time": "2022-10-25T12:29:51.213Z"
   },
   {
    "duration": 9,
    "start_time": "2022-10-25T12:29:51.264Z"
   },
   {
    "duration": 5660,
    "start_time": "2022-10-25T12:29:51.585Z"
   },
   {
    "duration": 120,
    "start_time": "2022-10-25T12:29:57.247Z"
   },
   {
    "duration": 0,
    "start_time": "2022-10-25T12:29:57.369Z"
   },
   {
    "duration": 51,
    "start_time": "2022-10-25T12:30:14.209Z"
   },
   {
    "duration": 10,
    "start_time": "2022-10-25T12:30:14.262Z"
   },
   {
    "duration": 5495,
    "start_time": "2022-10-25T12:30:14.273Z"
   },
   {
    "duration": 874,
    "start_time": "2022-10-25T12:30:19.770Z"
   },
   {
    "duration": 3,
    "start_time": "2022-10-25T12:30:20.646Z"
   },
   {
    "duration": 50,
    "start_time": "2022-10-25T12:38:57.912Z"
   },
   {
    "duration": 10,
    "start_time": "2022-10-25T12:38:57.964Z"
   },
   {
    "duration": 6081,
    "start_time": "2022-10-25T12:38:57.975Z"
   },
   {
    "duration": 790,
    "start_time": "2022-10-25T12:39:04.058Z"
   },
   {
    "duration": 5,
    "start_time": "2022-10-25T12:39:04.851Z"
   },
   {
    "duration": 19,
    "start_time": "2022-10-25T12:40:30.837Z"
   },
   {
    "duration": 49,
    "start_time": "2022-10-25T12:41:20.938Z"
   },
   {
    "duration": 18,
    "start_time": "2022-10-25T12:41:20.989Z"
   },
   {
    "duration": 0,
    "start_time": "2022-10-25T12:41:21.018Z"
   },
   {
    "duration": 0,
    "start_time": "2022-10-25T12:41:21.020Z"
   },
   {
    "duration": 0,
    "start_time": "2022-10-25T12:41:21.021Z"
   },
   {
    "duration": 19,
    "start_time": "2022-10-25T12:42:13.617Z"
   },
   {
    "duration": 25,
    "start_time": "2022-10-25T12:43:46.822Z"
   },
   {
    "duration": 12,
    "start_time": "2022-10-25T12:44:45.546Z"
   },
   {
    "duration": 13,
    "start_time": "2022-10-25T12:45:01.607Z"
   },
   {
    "duration": 12,
    "start_time": "2022-10-25T12:45:06.478Z"
   },
   {
    "duration": 18,
    "start_time": "2022-10-25T12:45:23.543Z"
   },
   {
    "duration": 11,
    "start_time": "2022-10-25T12:45:50.071Z"
   },
   {
    "duration": 17,
    "start_time": "2022-10-25T12:46:16.628Z"
   },
   {
    "duration": 11,
    "start_time": "2022-10-25T12:46:41.111Z"
   },
   {
    "duration": 50,
    "start_time": "2022-10-25T12:46:44.646Z"
   },
   {
    "duration": 13,
    "start_time": "2022-10-25T12:46:44.698Z"
   },
   {
    "duration": 5526,
    "start_time": "2022-10-25T12:46:44.713Z"
   },
   {
    "duration": 1230,
    "start_time": "2022-10-25T12:46:50.241Z"
   },
   {
    "duration": 4,
    "start_time": "2022-10-25T12:46:51.473Z"
   },
   {
    "duration": 51,
    "start_time": "2022-10-25T12:47:15.278Z"
   },
   {
    "duration": 9,
    "start_time": "2022-10-25T12:47:15.331Z"
   },
   {
    "duration": 5648,
    "start_time": "2022-10-25T12:47:15.670Z"
   },
   {
    "duration": 899,
    "start_time": "2022-10-25T12:47:21.321Z"
   },
   {
    "duration": 4,
    "start_time": "2022-10-25T12:47:22.223Z"
   },
   {
    "duration": 11,
    "start_time": "2022-10-25T12:48:27.587Z"
   },
   {
    "duration": 52,
    "start_time": "2022-10-25T12:48:45.465Z"
   },
   {
    "duration": 11,
    "start_time": "2022-10-25T12:48:45.518Z"
   },
   {
    "duration": 5340,
    "start_time": "2022-10-25T12:48:45.531Z"
   },
   {
    "duration": 1161,
    "start_time": "2022-10-25T12:48:50.873Z"
   },
   {
    "duration": 5,
    "start_time": "2022-10-25T12:48:52.036Z"
   },
   {
    "duration": 1122,
    "start_time": "2022-10-25T12:49:23.113Z"
   },
   {
    "duration": 51,
    "start_time": "2022-10-25T12:57:13.972Z"
   },
   {
    "duration": 11,
    "start_time": "2022-10-25T12:57:14.024Z"
   },
   {
    "duration": 5596,
    "start_time": "2022-10-25T12:57:14.037Z"
   },
   {
    "duration": 1190,
    "start_time": "2022-10-25T12:57:19.635Z"
   },
   {
    "duration": 5,
    "start_time": "2022-10-25T12:57:20.827Z"
   },
   {
    "duration": 9,
    "start_time": "2022-10-25T12:58:16.597Z"
   },
   {
    "duration": 49,
    "start_time": "2022-10-25T12:58:18.611Z"
   },
   {
    "duration": 10,
    "start_time": "2022-10-25T12:58:18.662Z"
   },
   {
    "duration": 5666,
    "start_time": "2022-10-25T12:58:18.676Z"
   },
   {
    "duration": 801,
    "start_time": "2022-10-25T12:58:24.343Z"
   },
   {
    "duration": 4,
    "start_time": "2022-10-25T12:58:25.145Z"
   },
   {
    "duration": 64,
    "start_time": "2022-10-25T13:04:06.333Z"
   },
   {
    "duration": 10,
    "start_time": "2022-10-25T13:04:06.400Z"
   },
   {
    "duration": 5709,
    "start_time": "2022-10-25T13:04:06.411Z"
   },
   {
    "duration": 804,
    "start_time": "2022-10-25T13:04:12.124Z"
   },
   {
    "duration": 4,
    "start_time": "2022-10-25T13:04:12.931Z"
   },
   {
    "duration": 12,
    "start_time": "2022-10-25T13:06:07.506Z"
   },
   {
    "duration": 48,
    "start_time": "2022-10-25T13:06:11.164Z"
   },
   {
    "duration": 12,
    "start_time": "2022-10-25T13:06:11.215Z"
   },
   {
    "duration": 5957,
    "start_time": "2022-10-25T13:06:11.229Z"
   },
   {
    "duration": 1302,
    "start_time": "2022-10-25T13:06:17.189Z"
   },
   {
    "duration": 5,
    "start_time": "2022-10-25T13:06:18.493Z"
   },
   {
    "duration": 8,
    "start_time": "2022-10-25T14:18:52.746Z"
   },
   {
    "duration": 4,
    "start_time": "2022-10-25T14:19:08.004Z"
   },
   {
    "duration": 4,
    "start_time": "2022-10-25T14:19:27.164Z"
   },
   {
    "duration": 12,
    "start_time": "2022-10-25T14:21:19.806Z"
   },
   {
    "duration": 4,
    "start_time": "2022-10-25T14:21:34.390Z"
   },
   {
    "duration": 3,
    "start_time": "2022-10-25T14:22:11.744Z"
   },
   {
    "duration": 10,
    "start_time": "2022-10-25T14:22:45.271Z"
   },
   {
    "duration": 3,
    "start_time": "2022-10-25T14:23:04.952Z"
   },
   {
    "duration": 4,
    "start_time": "2022-10-25T14:23:18.679Z"
   },
   {
    "duration": 6,
    "start_time": "2022-10-25T14:23:34.168Z"
   },
   {
    "duration": 6,
    "start_time": "2022-10-25T14:24:13.321Z"
   },
   {
    "duration": 4,
    "start_time": "2022-10-25T14:24:19.649Z"
   },
   {
    "duration": 4,
    "start_time": "2022-10-25T14:24:21.816Z"
   },
   {
    "duration": 5,
    "start_time": "2022-10-25T14:24:26.432Z"
   },
   {
    "duration": 5,
    "start_time": "2022-10-25T14:26:26.762Z"
   },
   {
    "duration": 48,
    "start_time": "2022-10-25T14:30:12.559Z"
   },
   {
    "duration": 11,
    "start_time": "2022-10-25T14:30:12.609Z"
   },
   {
    "duration": 5506,
    "start_time": "2022-10-25T14:30:12.622Z"
   },
   {
    "duration": 1143,
    "start_time": "2022-10-25T14:30:18.129Z"
   },
   {
    "duration": 5,
    "start_time": "2022-10-25T14:30:19.274Z"
   },
   {
    "duration": 53,
    "start_time": "2022-10-25T14:36:06.079Z"
   },
   {
    "duration": 11,
    "start_time": "2022-10-25T14:36:06.134Z"
   },
   {
    "duration": 5868,
    "start_time": "2022-10-25T14:36:06.146Z"
   },
   {
    "duration": 1192,
    "start_time": "2022-10-25T14:36:12.015Z"
   },
   {
    "duration": 5,
    "start_time": "2022-10-25T14:36:13.209Z"
   },
   {
    "duration": 51,
    "start_time": "2022-10-25T14:36:41.722Z"
   },
   {
    "duration": 12,
    "start_time": "2022-10-25T14:36:41.775Z"
   },
   {
    "duration": 5409,
    "start_time": "2022-10-25T14:36:41.805Z"
   },
   {
    "duration": 1147,
    "start_time": "2022-10-25T14:36:47.216Z"
   },
   {
    "duration": 5,
    "start_time": "2022-10-25T14:36:48.365Z"
   },
   {
    "duration": 51,
    "start_time": "2022-10-25T14:37:55.128Z"
   },
   {
    "duration": 12,
    "start_time": "2022-10-25T14:37:55.180Z"
   },
   {
    "duration": 5371,
    "start_time": "2022-10-25T14:37:55.193Z"
   },
   {
    "duration": 1235,
    "start_time": "2022-10-25T14:38:00.566Z"
   },
   {
    "duration": 5,
    "start_time": "2022-10-25T14:38:01.804Z"
   }
  ],
  "kernelspec": {
   "display_name": "Python 3 (ipykernel)",
   "language": "python",
   "name": "python3"
  },
  "language_info": {
   "codemirror_mode": {
    "name": "ipython",
    "version": 3
   },
   "file_extension": ".py",
   "mimetype": "text/x-python",
   "name": "python",
   "nbconvert_exporter": "python",
   "pygments_lexer": "ipython3",
   "version": "3.9.13"
  },
  "toc": {
   "base_numbering": 1,
   "nav_menu": {},
   "number_sections": true,
   "sideBar": true,
   "skip_h1_title": true,
   "title_cell": "Table of Contents",
   "title_sidebar": "Contents",
   "toc_cell": false,
   "toc_position": {},
   "toc_section_display": true,
   "toc_window_display": false
  }
 },
 "nbformat": 4,
 "nbformat_minor": 2
}
