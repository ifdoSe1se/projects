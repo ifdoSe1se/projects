{
 "cells": [
  {
   "cell_type": "markdown",
   "metadata": {
    "toc": true
   },
   "source": [
    "<h1>Содержание<span class=\"tocSkip\"></span></h1>\n",
    "<div class=\"toc\"><ul class=\"toc-item\"><li><span><a href=\"#Подготовка-данных\" data-toc-modified-id=\"Подготовка-данных-1\"><span class=\"toc-item-num\">1&nbsp;&nbsp;</span>Подготовка данных</a></span><ul class=\"toc-item\"><li><span><a href=\"#Импорты-и-открытие-файла\" data-toc-modified-id=\"Импорты-и-открытие-файла-1.1\"><span class=\"toc-item-num\">1.1&nbsp;&nbsp;</span>Импорты и открытие файла</a></span><ul class=\"toc-item\"><li><span><a href=\"#Вывод\" data-toc-modified-id=\"Вывод-1.1.1\"><span class=\"toc-item-num\">1.1.1&nbsp;&nbsp;</span>Вывод</a></span></li></ul></li><li><span><a href=\"#Анализ-пропусков\" data-toc-modified-id=\"Анализ-пропусков-1.2\"><span class=\"toc-item-num\">1.2&nbsp;&nbsp;</span>Анализ пропусков</a></span><ul class=\"toc-item\"><li><span><a href=\"#Вывод\" data-toc-modified-id=\"Вывод-1.2.1\"><span class=\"toc-item-num\">1.2.1&nbsp;&nbsp;</span>Вывод</a></span></li></ul></li><li><span><a href=\"#Прямое-кодирование\" data-toc-modified-id=\"Прямое-кодирование-1.3\"><span class=\"toc-item-num\">1.3&nbsp;&nbsp;</span>Прямое кодирование</a></span></li><li><span><a href=\"#Деление-данных-на-выборки\" data-toc-modified-id=\"Деление-данных-на-выборки-1.4\"><span class=\"toc-item-num\">1.4&nbsp;&nbsp;</span>Деление данных на выборки</a></span><ul class=\"toc-item\"><li><span><a href=\"#Вывод\" data-toc-modified-id=\"Вывод-1.4.1\"><span class=\"toc-item-num\">1.4.1&nbsp;&nbsp;</span>Вывод</a></span></li></ul></li><li><span><a href=\"#Маштабирование-признаков\" data-toc-modified-id=\"Маштабирование-признаков-1.5\"><span class=\"toc-item-num\">1.5&nbsp;&nbsp;</span>Маштабирование признаков</a></span><ul class=\"toc-item\"><li><span><a href=\"#Вывод\" data-toc-modified-id=\"Вывод-1.5.1\"><span class=\"toc-item-num\">1.5.1&nbsp;&nbsp;</span>Вывод</a></span></li></ul></li><li><span><a href=\"#Баланс-классов\" data-toc-modified-id=\"Баланс-классов-1.6\"><span class=\"toc-item-num\">1.6&nbsp;&nbsp;</span>Баланс классов</a></span><ul class=\"toc-item\"><li><span><a href=\"#Вывод\" data-toc-modified-id=\"Вывод-1.6.1\"><span class=\"toc-item-num\">1.6.1&nbsp;&nbsp;</span>Вывод</a></span></li></ul></li><li><span><a href=\"#Деление-данных-на-выборки\" data-toc-modified-id=\"Деление-данных-на-выборки-1.7\"><span class=\"toc-item-num\">1.7&nbsp;&nbsp;</span>Деление данных на выборки</a></span><ul class=\"toc-item\"><li><span><a href=\"#Вывод\" data-toc-modified-id=\"Вывод-1.7.1\"><span class=\"toc-item-num\">1.7.1&nbsp;&nbsp;</span>Вывод</a></span></li></ul></li></ul></li><li><span><a href=\"#Исследование-задачи\" data-toc-modified-id=\"Исследование-задачи-2\"><span class=\"toc-item-num\">2&nbsp;&nbsp;</span>Исследование задачи</a></span><ul class=\"toc-item\"><li><span><a href=\"#Построение-модели\" data-toc-modified-id=\"Построение-модели-2.1\"><span class=\"toc-item-num\">2.1&nbsp;&nbsp;</span>Построение модели</a></span><ul class=\"toc-item\"><li><span><a href=\"#Вывод\" data-toc-modified-id=\"Вывод-2.1.1\"><span class=\"toc-item-num\">2.1.1&nbsp;&nbsp;</span>Вывод</a></span></li></ul></li><li><span><a href=\"#Проверим-1-модель-на-адекватность-и-построим-roc-кривую\" data-toc-modified-id=\"Проверим-1-модель-на-адекватность-и-построим-roc-кривую-2.2\"><span class=\"toc-item-num\">2.2&nbsp;&nbsp;</span>Проверим 1 модель на адекватность и построим roc-кривую</a></span><ul class=\"toc-item\"><li><span><a href=\"#Вывод\" data-toc-modified-id=\"Вывод-2.2.1\"><span class=\"toc-item-num\">2.2.1&nbsp;&nbsp;</span>Вывод</a></span></li></ul></li></ul></li><li><span><a href=\"#Борьба-с-дисбалансом\" data-toc-modified-id=\"Борьба-с-дисбалансом-3\"><span class=\"toc-item-num\">3&nbsp;&nbsp;</span>Борьба с дисбалансом</a></span><ul class=\"toc-item\"><li><span><a href=\"#Сбалансируем-классы\" data-toc-modified-id=\"Сбалансируем-классы-3.1\"><span class=\"toc-item-num\">3.1&nbsp;&nbsp;</span>Сбалансируем классы</a></span><ul class=\"toc-item\"><li><span><a href=\"#Вывод\" data-toc-modified-id=\"Вывод-3.1.1\"><span class=\"toc-item-num\">3.1.1&nbsp;&nbsp;</span>Вывод</a></span></li></ul></li><li><span><a href=\"#Новое-деление-данных-на-выборки-с-параметром-stratify\" data-toc-modified-id=\"Новое-деление-данных-на-выборки-с-параметром-stratify-3.2\"><span class=\"toc-item-num\">3.2&nbsp;&nbsp;</span>Новое деление данных на выборки с параметром stratify</a></span><ul class=\"toc-item\"><li><span><a href=\"#Вывод\" data-toc-modified-id=\"Вывод-3.2.1\"><span class=\"toc-item-num\">3.2.1&nbsp;&nbsp;</span>Вывод</a></span></li></ul></li><li><span><a href=\"#Найдем-лучшую-модель\" data-toc-modified-id=\"Найдем-лучшую-модель-3.3\"><span class=\"toc-item-num\">3.3&nbsp;&nbsp;</span>Найдем лучшую модель</a></span></li><li><span><a href=\"#Модель,-обученная-на-upsample-выборке\" data-toc-modified-id=\"Модель,-обученная-на-upsample-выборке-3.4\"><span class=\"toc-item-num\">3.4&nbsp;&nbsp;</span>Модель, обученная на upsample выборке</a></span><ul class=\"toc-item\"><li><span><a href=\"#Вывод\" data-toc-modified-id=\"Вывод-3.4.1\"><span class=\"toc-item-num\">3.4.1&nbsp;&nbsp;</span>Вывод</a></span></li></ul></li><li><span><a href=\"#Найдем-лучшую-модель-c-параметром-class_weight\" data-toc-modified-id=\"Найдем-лучшую-модель-c-параметром-class_weight-3.5\"><span class=\"toc-item-num\">3.5&nbsp;&nbsp;</span>Найдем лучшую модель c параметром class_weight</a></span></li><li><span><a href=\"#Выберем-лучшую\" data-toc-modified-id=\"Выберем-лучшую-3.6\"><span class=\"toc-item-num\">3.6&nbsp;&nbsp;</span>Выберем лучшую</a></span></li></ul></li><li><span><a href=\"#Тестирование-модели\" data-toc-modified-id=\"Тестирование-модели-4\"><span class=\"toc-item-num\">4&nbsp;&nbsp;</span>Тестирование модели</a></span><ul class=\"toc-item\"><li><span><a href=\"#Предсказания-на-тестовой-выборке\" data-toc-modified-id=\"Предсказания-на-тестовой-выборке-4.1\"><span class=\"toc-item-num\">4.1&nbsp;&nbsp;</span>Предсказания на тестовой выборке</a></span><ul class=\"toc-item\"><li><span><a href=\"#Вывод\" data-toc-modified-id=\"Вывод-4.1.1\"><span class=\"toc-item-num\">4.1.1&nbsp;&nbsp;</span>Вывод</a></span></li></ul></li><li><span><a href=\"#Значения-метрик-f1,-recall,-precision-и-accuracy-на-тестовой-выборке\" data-toc-modified-id=\"Значения-метрик-f1,-recall,-precision-и-accuracy-на-тестовой-выборке-4.2\"><span class=\"toc-item-num\">4.2&nbsp;&nbsp;</span>Значения метрик f1, recall, precision и accuracy на тестовой выборке</a></span><ul class=\"toc-item\"><li><span><a href=\"#Вывод\" data-toc-modified-id=\"Вывод-4.2.1\"><span class=\"toc-item-num\">4.2.1&nbsp;&nbsp;</span>Вывод</a></span></li></ul></li><li><span><a href=\"#Roc-кривая-и-auc-roc-на-тестовой-выборке\" data-toc-modified-id=\"Roc-кривая-и-auc-roc-на-тестовой-выборке-4.3\"><span class=\"toc-item-num\">4.3&nbsp;&nbsp;</span>Roc-кривая и auc-roc на тестовой выборке</a></span><ul class=\"toc-item\"><li><span><a href=\"#Вывод\" data-toc-modified-id=\"Вывод-4.3.1\"><span class=\"toc-item-num\">4.3.1&nbsp;&nbsp;</span>Вывод</a></span></li></ul></li></ul></li><li><span><a href=\"#Общий-вывод\" data-toc-modified-id=\"Общий-вывод-5\"><span class=\"toc-item-num\">5&nbsp;&nbsp;</span>Общий вывод</a></span></li><li><span><a href=\"#Чек-лист-готовности-проекта\" data-toc-modified-id=\"Чек-лист-готовности-проекта-6\"><span class=\"toc-item-num\">6&nbsp;&nbsp;</span>Чек-лист готовности проекта</a></span></li></ul></div>"
   ]
  },
  {
   "cell_type": "markdown",
   "metadata": {},
   "source": [
    "# Отток клиентов"
   ]
  },
  {
   "cell_type": "markdown",
   "metadata": {},
   "source": [
    "Из «Бета-Банка» стали уходить клиенты. Каждый месяц. Немного, но заметно. Банковские маркетологи посчитали: сохранять текущих клиентов дешевле, чем привлекать новых.\n",
    "\n",
    "Нужно спрогнозировать, уйдёт клиент из банка в ближайшее время или нет. Вам предоставлены исторические данные о поведении клиентов и расторжении договоров с банком. \n",
    "\n",
    "Постройте модель с предельно большим значением *F1*-меры. Чтобы сдать проект успешно, нужно довести метрику до 0.59. Проверьте *F1*-меру на тестовой выборке самостоятельно.\n",
    "\n",
    "Дополнительно измеряйте *AUC-ROC*, сравнивайте её значение с *F1*-мерой.\n",
    "\n",
    "Источник данных: [https://www.kaggle.com/barelydedicated/bank-customer-churn-modeling](https://www.kaggle.com/barelydedicated/bank-customer-churn-modeling)"
   ]
  },
  {
   "cell_type": "markdown",
   "metadata": {},
   "source": [
    "## Подготовка данных"
   ]
  },
  {
   "cell_type": "markdown",
   "metadata": {},
   "source": [
    "### Импорты и открытие файла"
   ]
  },
  {
   "cell_type": "code",
   "execution_count": 1,
   "metadata": {
    "scrolled": false
   },
   "outputs": [
    {
     "data": {
      "text/html": [
       "<div>\n",
       "<style scoped>\n",
       "    .dataframe tbody tr th:only-of-type {\n",
       "        vertical-align: middle;\n",
       "    }\n",
       "\n",
       "    .dataframe tbody tr th {\n",
       "        vertical-align: top;\n",
       "    }\n",
       "\n",
       "    .dataframe thead th {\n",
       "        text-align: right;\n",
       "    }\n",
       "</style>\n",
       "<table border=\"1\" class=\"dataframe\">\n",
       "  <thead>\n",
       "    <tr style=\"text-align: right;\">\n",
       "      <th></th>\n",
       "      <th>RowNumber</th>\n",
       "      <th>CustomerId</th>\n",
       "      <th>Surname</th>\n",
       "      <th>CreditScore</th>\n",
       "      <th>Geography</th>\n",
       "      <th>Gender</th>\n",
       "      <th>Age</th>\n",
       "      <th>Tenure</th>\n",
       "      <th>Balance</th>\n",
       "      <th>NumOfProducts</th>\n",
       "      <th>HasCrCard</th>\n",
       "      <th>IsActiveMember</th>\n",
       "      <th>EstimatedSalary</th>\n",
       "      <th>Exited</th>\n",
       "    </tr>\n",
       "  </thead>\n",
       "  <tbody>\n",
       "    <tr>\n",
       "      <th>0</th>\n",
       "      <td>1</td>\n",
       "      <td>15634602</td>\n",
       "      <td>Hargrave</td>\n",
       "      <td>619</td>\n",
       "      <td>France</td>\n",
       "      <td>Female</td>\n",
       "      <td>42</td>\n",
       "      <td>2.0</td>\n",
       "      <td>0.00</td>\n",
       "      <td>1</td>\n",
       "      <td>1</td>\n",
       "      <td>1</td>\n",
       "      <td>101348.88</td>\n",
       "      <td>1</td>\n",
       "    </tr>\n",
       "    <tr>\n",
       "      <th>1</th>\n",
       "      <td>2</td>\n",
       "      <td>15647311</td>\n",
       "      <td>Hill</td>\n",
       "      <td>608</td>\n",
       "      <td>Spain</td>\n",
       "      <td>Female</td>\n",
       "      <td>41</td>\n",
       "      <td>1.0</td>\n",
       "      <td>83807.86</td>\n",
       "      <td>1</td>\n",
       "      <td>0</td>\n",
       "      <td>1</td>\n",
       "      <td>112542.58</td>\n",
       "      <td>0</td>\n",
       "    </tr>\n",
       "    <tr>\n",
       "      <th>2</th>\n",
       "      <td>3</td>\n",
       "      <td>15619304</td>\n",
       "      <td>Onio</td>\n",
       "      <td>502</td>\n",
       "      <td>France</td>\n",
       "      <td>Female</td>\n",
       "      <td>42</td>\n",
       "      <td>8.0</td>\n",
       "      <td>159660.80</td>\n",
       "      <td>3</td>\n",
       "      <td>1</td>\n",
       "      <td>0</td>\n",
       "      <td>113931.57</td>\n",
       "      <td>1</td>\n",
       "    </tr>\n",
       "    <tr>\n",
       "      <th>3</th>\n",
       "      <td>4</td>\n",
       "      <td>15701354</td>\n",
       "      <td>Boni</td>\n",
       "      <td>699</td>\n",
       "      <td>France</td>\n",
       "      <td>Female</td>\n",
       "      <td>39</td>\n",
       "      <td>1.0</td>\n",
       "      <td>0.00</td>\n",
       "      <td>2</td>\n",
       "      <td>0</td>\n",
       "      <td>0</td>\n",
       "      <td>93826.63</td>\n",
       "      <td>0</td>\n",
       "    </tr>\n",
       "    <tr>\n",
       "      <th>4</th>\n",
       "      <td>5</td>\n",
       "      <td>15737888</td>\n",
       "      <td>Mitchell</td>\n",
       "      <td>850</td>\n",
       "      <td>Spain</td>\n",
       "      <td>Female</td>\n",
       "      <td>43</td>\n",
       "      <td>2.0</td>\n",
       "      <td>125510.82</td>\n",
       "      <td>1</td>\n",
       "      <td>1</td>\n",
       "      <td>1</td>\n",
       "      <td>79084.10</td>\n",
       "      <td>0</td>\n",
       "    </tr>\n",
       "  </tbody>\n",
       "</table>\n",
       "</div>"
      ],
      "text/plain": [
       "   RowNumber  CustomerId   Surname  CreditScore Geography  Gender  Age  \\\n",
       "0          1    15634602  Hargrave          619    France  Female   42   \n",
       "1          2    15647311      Hill          608     Spain  Female   41   \n",
       "2          3    15619304      Onio          502    France  Female   42   \n",
       "3          4    15701354      Boni          699    France  Female   39   \n",
       "4          5    15737888  Mitchell          850     Spain  Female   43   \n",
       "\n",
       "   Tenure    Balance  NumOfProducts  HasCrCard  IsActiveMember  \\\n",
       "0     2.0       0.00              1          1               1   \n",
       "1     1.0   83807.86              1          0               1   \n",
       "2     8.0  159660.80              3          1               0   \n",
       "3     1.0       0.00              2          0               0   \n",
       "4     2.0  125510.82              1          1               1   \n",
       "\n",
       "   EstimatedSalary  Exited  \n",
       "0        101348.88       1  \n",
       "1        112542.58       0  \n",
       "2        113931.57       1  \n",
       "3         93826.63       0  \n",
       "4         79084.10       0  "
      ]
     },
     "metadata": {},
     "output_type": "display_data"
    },
    {
     "name": "stdout",
     "output_type": "stream",
     "text": [
      "<class 'pandas.core.frame.DataFrame'>\n",
      "Int64Index: 9091 entries, 0 to 9998\n",
      "Data columns (total 14 columns):\n",
      " #   Column           Non-Null Count  Dtype  \n",
      "---  ------           --------------  -----  \n",
      " 0   RowNumber        9091 non-null   int64  \n",
      " 1   CustomerId       9091 non-null   int64  \n",
      " 2   Surname          9091 non-null   object \n",
      " 3   CreditScore      9091 non-null   int64  \n",
      " 4   Geography        9091 non-null   object \n",
      " 5   Gender           9091 non-null   object \n",
      " 6   Age              9091 non-null   int64  \n",
      " 7   Tenure           9091 non-null   float64\n",
      " 8   Balance          9091 non-null   float64\n",
      " 9   NumOfProducts    9091 non-null   int64  \n",
      " 10  HasCrCard        9091 non-null   int64  \n",
      " 11  IsActiveMember   9091 non-null   int64  \n",
      " 12  EstimatedSalary  9091 non-null   float64\n",
      " 13  Exited           9091 non-null   int64  \n",
      "dtypes: float64(3), int64(8), object(3)\n",
      "memory usage: 1.0+ MB\n"
     ]
    },
    {
     "data": {
      "text/plain": [
       "None"
      ]
     },
     "metadata": {},
     "output_type": "display_data"
    }
   ],
   "source": [
    "import pandas as pd\n",
    "import matplotlib.pyplot as plt\n",
    "from sklearn.model_selection import train_test_split\n",
    "from sklearn.utils import shuffle\n",
    "####Предобработка####\n",
    "from sklearn.preprocessing import OrdinalEncoder\n",
    "from sklearn.preprocessing import StandardScaler\n",
    "####Модели####\n",
    "from sklearn.tree import DecisionTreeClassifier\n",
    "from sklearn.linear_model import LogisticRegression\n",
    "from sklearn.ensemble import RandomForestClassifier\n",
    "####Метрики####\n",
    "from sklearn.metrics import r2_score\n",
    "from sklearn.metrics import f1_score\n",
    "from sklearn.metrics import classification_report\n",
    "from sklearn.metrics import accuracy_score\n",
    "from sklearn.metrics import roc_curve\n",
    "from sklearn.metrics import roc_auc_score\n",
    "\n",
    "df = pd.read_csv('/datasets/Churn.csv')\n",
    "df = df[df['Tenure'].notna()]\n",
    "display(df.head())\n",
    "display(df.info())\n",
    "\n"
   ]
  },
  {
   "cell_type": "markdown",
   "metadata": {},
   "source": [
    "#### Вывод\n",
    "Открыв и изучив данные мы видим, что в признаке 'Tenure'(сколько лет человек является клиентом банка) есть пропуски данных. Таких значений 909шт, что составляет 9% от всех данных. Думаю, что данный признак может повлиять на точность предсказаний, убирать его совсем не хочется. Остаётся либо: 1) Убрать все строки с значением NaN в этом стобце, либо 2) Вычислить среднее. Вычислить среднее или медиану по всем значениям будет некорректно, а категорий, с которыми есть корреляция у данного признака - нет. Поэтому мы убирём строки с пропущенными значениями, хоть и 9% это весомая часть данных. "
   ]
  },
  {
   "cell_type": "markdown",
   "metadata": {},
   "source": [
    "### Анализ пропусков"
   ]
  },
  {
   "cell_type": "code",
   "execution_count": 2,
   "metadata": {
    "scrolled": true
   },
   "outputs": [
    {
     "data": {
      "text/html": [
       "<div>\n",
       "<style scoped>\n",
       "    .dataframe tbody tr th:only-of-type {\n",
       "        vertical-align: middle;\n",
       "    }\n",
       "\n",
       "    .dataframe tbody tr th {\n",
       "        vertical-align: top;\n",
       "    }\n",
       "\n",
       "    .dataframe thead th {\n",
       "        text-align: right;\n",
       "    }\n",
       "</style>\n",
       "<table border=\"1\" class=\"dataframe\">\n",
       "  <thead>\n",
       "    <tr style=\"text-align: right;\">\n",
       "      <th></th>\n",
       "      <th>RowNumber</th>\n",
       "      <th>CustomerId</th>\n",
       "      <th>Surname</th>\n",
       "      <th>CreditScore</th>\n",
       "      <th>Geography</th>\n",
       "      <th>Gender</th>\n",
       "      <th>Age</th>\n",
       "      <th>Tenure</th>\n",
       "      <th>Balance</th>\n",
       "      <th>NumOfProducts</th>\n",
       "      <th>HasCrCard</th>\n",
       "      <th>IsActiveMember</th>\n",
       "      <th>EstimatedSalary</th>\n",
       "      <th>Exited</th>\n",
       "    </tr>\n",
       "  </thead>\n",
       "  <tbody>\n",
       "    <tr>\n",
       "      <th>30</th>\n",
       "      <td>31</td>\n",
       "      <td>15589475</td>\n",
       "      <td>Azikiwe</td>\n",
       "      <td>591</td>\n",
       "      <td>Spain</td>\n",
       "      <td>Female</td>\n",
       "      <td>39</td>\n",
       "      <td>NaN</td>\n",
       "      <td>0.00</td>\n",
       "      <td>3</td>\n",
       "      <td>1</td>\n",
       "      <td>0</td>\n",
       "      <td>140469.38</td>\n",
       "      <td>1</td>\n",
       "    </tr>\n",
       "    <tr>\n",
       "      <th>48</th>\n",
       "      <td>49</td>\n",
       "      <td>15766205</td>\n",
       "      <td>Yin</td>\n",
       "      <td>550</td>\n",
       "      <td>Germany</td>\n",
       "      <td>Male</td>\n",
       "      <td>38</td>\n",
       "      <td>NaN</td>\n",
       "      <td>103391.38</td>\n",
       "      <td>1</td>\n",
       "      <td>0</td>\n",
       "      <td>1</td>\n",
       "      <td>90878.13</td>\n",
       "      <td>0</td>\n",
       "    </tr>\n",
       "    <tr>\n",
       "      <th>51</th>\n",
       "      <td>52</td>\n",
       "      <td>15768193</td>\n",
       "      <td>Trevisani</td>\n",
       "      <td>585</td>\n",
       "      <td>Germany</td>\n",
       "      <td>Male</td>\n",
       "      <td>36</td>\n",
       "      <td>NaN</td>\n",
       "      <td>146050.97</td>\n",
       "      <td>2</td>\n",
       "      <td>0</td>\n",
       "      <td>0</td>\n",
       "      <td>86424.57</td>\n",
       "      <td>0</td>\n",
       "    </tr>\n",
       "    <tr>\n",
       "      <th>53</th>\n",
       "      <td>54</td>\n",
       "      <td>15702298</td>\n",
       "      <td>Parkhill</td>\n",
       "      <td>655</td>\n",
       "      <td>Germany</td>\n",
       "      <td>Male</td>\n",
       "      <td>41</td>\n",
       "      <td>NaN</td>\n",
       "      <td>125561.97</td>\n",
       "      <td>1</td>\n",
       "      <td>0</td>\n",
       "      <td>0</td>\n",
       "      <td>164040.94</td>\n",
       "      <td>1</td>\n",
       "    </tr>\n",
       "    <tr>\n",
       "      <th>60</th>\n",
       "      <td>61</td>\n",
       "      <td>15651280</td>\n",
       "      <td>Hunter</td>\n",
       "      <td>742</td>\n",
       "      <td>Germany</td>\n",
       "      <td>Male</td>\n",
       "      <td>35</td>\n",
       "      <td>NaN</td>\n",
       "      <td>136857.00</td>\n",
       "      <td>1</td>\n",
       "      <td>0</td>\n",
       "      <td>0</td>\n",
       "      <td>84509.57</td>\n",
       "      <td>0</td>\n",
       "    </tr>\n",
       "    <tr>\n",
       "      <th>82</th>\n",
       "      <td>83</td>\n",
       "      <td>15641732</td>\n",
       "      <td>Mills</td>\n",
       "      <td>543</td>\n",
       "      <td>France</td>\n",
       "      <td>Female</td>\n",
       "      <td>36</td>\n",
       "      <td>NaN</td>\n",
       "      <td>0.00</td>\n",
       "      <td>2</td>\n",
       "      <td>0</td>\n",
       "      <td>0</td>\n",
       "      <td>26019.59</td>\n",
       "      <td>0</td>\n",
       "    </tr>\n",
       "    <tr>\n",
       "      <th>85</th>\n",
       "      <td>86</td>\n",
       "      <td>15805254</td>\n",
       "      <td>Ndukaku</td>\n",
       "      <td>652</td>\n",
       "      <td>Spain</td>\n",
       "      <td>Female</td>\n",
       "      <td>75</td>\n",
       "      <td>NaN</td>\n",
       "      <td>0.00</td>\n",
       "      <td>2</td>\n",
       "      <td>1</td>\n",
       "      <td>1</td>\n",
       "      <td>114675.75</td>\n",
       "      <td>0</td>\n",
       "    </tr>\n",
       "    <tr>\n",
       "      <th>94</th>\n",
       "      <td>95</td>\n",
       "      <td>15676966</td>\n",
       "      <td>Capon</td>\n",
       "      <td>730</td>\n",
       "      <td>Spain</td>\n",
       "      <td>Male</td>\n",
       "      <td>42</td>\n",
       "      <td>NaN</td>\n",
       "      <td>0.00</td>\n",
       "      <td>2</td>\n",
       "      <td>0</td>\n",
       "      <td>1</td>\n",
       "      <td>85982.47</td>\n",
       "      <td>0</td>\n",
       "    </tr>\n",
       "    <tr>\n",
       "      <th>99</th>\n",
       "      <td>100</td>\n",
       "      <td>15633059</td>\n",
       "      <td>Fanucci</td>\n",
       "      <td>413</td>\n",
       "      <td>France</td>\n",
       "      <td>Male</td>\n",
       "      <td>34</td>\n",
       "      <td>NaN</td>\n",
       "      <td>0.00</td>\n",
       "      <td>2</td>\n",
       "      <td>0</td>\n",
       "      <td>0</td>\n",
       "      <td>6534.18</td>\n",
       "      <td>0</td>\n",
       "    </tr>\n",
       "    <tr>\n",
       "      <th>111</th>\n",
       "      <td>112</td>\n",
       "      <td>15665790</td>\n",
       "      <td>Rowntree</td>\n",
       "      <td>538</td>\n",
       "      <td>Germany</td>\n",
       "      <td>Male</td>\n",
       "      <td>39</td>\n",
       "      <td>NaN</td>\n",
       "      <td>108055.10</td>\n",
       "      <td>2</td>\n",
       "      <td>1</td>\n",
       "      <td>0</td>\n",
       "      <td>27231.26</td>\n",
       "      <td>0</td>\n",
       "    </tr>\n",
       "  </tbody>\n",
       "</table>\n",
       "</div>"
      ],
      "text/plain": [
       "     RowNumber  CustomerId    Surname  CreditScore Geography  Gender  Age  \\\n",
       "30          31    15589475    Azikiwe          591     Spain  Female   39   \n",
       "48          49    15766205        Yin          550   Germany    Male   38   \n",
       "51          52    15768193  Trevisani          585   Germany    Male   36   \n",
       "53          54    15702298   Parkhill          655   Germany    Male   41   \n",
       "60          61    15651280     Hunter          742   Germany    Male   35   \n",
       "82          83    15641732      Mills          543    France  Female   36   \n",
       "85          86    15805254    Ndukaku          652     Spain  Female   75   \n",
       "94          95    15676966      Capon          730     Spain    Male   42   \n",
       "99         100    15633059    Fanucci          413    France    Male   34   \n",
       "111        112    15665790   Rowntree          538   Germany    Male   39   \n",
       "\n",
       "     Tenure    Balance  NumOfProducts  HasCrCard  IsActiveMember  \\\n",
       "30      NaN       0.00              3          1               0   \n",
       "48      NaN  103391.38              1          0               1   \n",
       "51      NaN  146050.97              2          0               0   \n",
       "53      NaN  125561.97              1          0               0   \n",
       "60      NaN  136857.00              1          0               0   \n",
       "82      NaN       0.00              2          0               0   \n",
       "85      NaN       0.00              2          1               1   \n",
       "94      NaN       0.00              2          0               1   \n",
       "99      NaN       0.00              2          0               0   \n",
       "111     NaN  108055.10              2          1               0   \n",
       "\n",
       "     EstimatedSalary  Exited  \n",
       "30         140469.38       1  \n",
       "48          90878.13       0  \n",
       "51          86424.57       0  \n",
       "53         164040.94       1  \n",
       "60          84509.57       0  \n",
       "82          26019.59       0  \n",
       "85         114675.75       0  \n",
       "94          85982.47       0  \n",
       "99           6534.18       0  \n",
       "111         27231.26       0  "
      ]
     },
     "metadata": {},
     "output_type": "display_data"
    },
    {
     "data": {
      "text/plain": [
       "array([ 2.,  1.,  8.,  7.,  4.,  6.,  3., 10.,  5.,  9.,  0.])"
      ]
     },
     "metadata": {},
     "output_type": "display_data"
    }
   ],
   "source": [
    "df2 = pd.read_csv('/datasets/Churn.csv')\n",
    "df2 = df2[df2['Tenure'].isnull()]\n",
    "display(df2.head(10))\n",
    "display(df['Tenure'].unique())"
   ]
  },
  {
   "cell_type": "markdown",
   "metadata": {},
   "source": [
    "#### Вывод\n",
    "Я предположил, что пропущенные значение в столбце 'Tenure' могут свидетельствовать о том, что у клиента еще не прошел полный год с момента подписания договора с банком, но в списке уникальных значений мы видим, что есть и значения = 0. Значит данную теория некорректна. Все еще не видно какой либо корреляции с другими данными. Пропуски не связывает ни один признак. Убираем их."
   ]
  },
  {
   "cell_type": "markdown",
   "metadata": {},
   "source": [
    "### Прямое кодирование"
   ]
  },
  {
   "cell_type": "code",
   "execution_count": 3,
   "metadata": {},
   "outputs": [
    {
     "data": {
      "text/html": [
       "<div>\n",
       "<style scoped>\n",
       "    .dataframe tbody tr th:only-of-type {\n",
       "        vertical-align: middle;\n",
       "    }\n",
       "\n",
       "    .dataframe tbody tr th {\n",
       "        vertical-align: top;\n",
       "    }\n",
       "\n",
       "    .dataframe thead th {\n",
       "        text-align: right;\n",
       "    }\n",
       "</style>\n",
       "<table border=\"1\" class=\"dataframe\">\n",
       "  <thead>\n",
       "    <tr style=\"text-align: right;\">\n",
       "      <th></th>\n",
       "      <th>RowNumber</th>\n",
       "      <th>CustomerId</th>\n",
       "      <th>Surname</th>\n",
       "      <th>CreditScore</th>\n",
       "      <th>Age</th>\n",
       "      <th>Tenure</th>\n",
       "      <th>Balance</th>\n",
       "      <th>NumOfProducts</th>\n",
       "      <th>HasCrCard</th>\n",
       "      <th>IsActiveMember</th>\n",
       "      <th>EstimatedSalary</th>\n",
       "      <th>Exited</th>\n",
       "      <th>Geography_Germany</th>\n",
       "      <th>Geography_Spain</th>\n",
       "      <th>Gender_Male</th>\n",
       "    </tr>\n",
       "  </thead>\n",
       "  <tbody>\n",
       "    <tr>\n",
       "      <th>0</th>\n",
       "      <td>1</td>\n",
       "      <td>15634602</td>\n",
       "      <td>Hargrave</td>\n",
       "      <td>619</td>\n",
       "      <td>42</td>\n",
       "      <td>2.0</td>\n",
       "      <td>0.00</td>\n",
       "      <td>1</td>\n",
       "      <td>1</td>\n",
       "      <td>1</td>\n",
       "      <td>101348.88</td>\n",
       "      <td>1</td>\n",
       "      <td>0</td>\n",
       "      <td>0</td>\n",
       "      <td>0</td>\n",
       "    </tr>\n",
       "    <tr>\n",
       "      <th>1</th>\n",
       "      <td>2</td>\n",
       "      <td>15647311</td>\n",
       "      <td>Hill</td>\n",
       "      <td>608</td>\n",
       "      <td>41</td>\n",
       "      <td>1.0</td>\n",
       "      <td>83807.86</td>\n",
       "      <td>1</td>\n",
       "      <td>0</td>\n",
       "      <td>1</td>\n",
       "      <td>112542.58</td>\n",
       "      <td>0</td>\n",
       "      <td>0</td>\n",
       "      <td>1</td>\n",
       "      <td>0</td>\n",
       "    </tr>\n",
       "    <tr>\n",
       "      <th>2</th>\n",
       "      <td>3</td>\n",
       "      <td>15619304</td>\n",
       "      <td>Onio</td>\n",
       "      <td>502</td>\n",
       "      <td>42</td>\n",
       "      <td>8.0</td>\n",
       "      <td>159660.80</td>\n",
       "      <td>3</td>\n",
       "      <td>1</td>\n",
       "      <td>0</td>\n",
       "      <td>113931.57</td>\n",
       "      <td>1</td>\n",
       "      <td>0</td>\n",
       "      <td>0</td>\n",
       "      <td>0</td>\n",
       "    </tr>\n",
       "    <tr>\n",
       "      <th>3</th>\n",
       "      <td>4</td>\n",
       "      <td>15701354</td>\n",
       "      <td>Boni</td>\n",
       "      <td>699</td>\n",
       "      <td>39</td>\n",
       "      <td>1.0</td>\n",
       "      <td>0.00</td>\n",
       "      <td>2</td>\n",
       "      <td>0</td>\n",
       "      <td>0</td>\n",
       "      <td>93826.63</td>\n",
       "      <td>0</td>\n",
       "      <td>0</td>\n",
       "      <td>0</td>\n",
       "      <td>0</td>\n",
       "    </tr>\n",
       "    <tr>\n",
       "      <th>4</th>\n",
       "      <td>5</td>\n",
       "      <td>15737888</td>\n",
       "      <td>Mitchell</td>\n",
       "      <td>850</td>\n",
       "      <td>43</td>\n",
       "      <td>2.0</td>\n",
       "      <td>125510.82</td>\n",
       "      <td>1</td>\n",
       "      <td>1</td>\n",
       "      <td>1</td>\n",
       "      <td>79084.10</td>\n",
       "      <td>0</td>\n",
       "      <td>0</td>\n",
       "      <td>1</td>\n",
       "      <td>0</td>\n",
       "    </tr>\n",
       "  </tbody>\n",
       "</table>\n",
       "</div>"
      ],
      "text/plain": [
       "   RowNumber  CustomerId   Surname  CreditScore  Age  Tenure    Balance  \\\n",
       "0          1    15634602  Hargrave          619   42     2.0       0.00   \n",
       "1          2    15647311      Hill          608   41     1.0   83807.86   \n",
       "2          3    15619304      Onio          502   42     8.0  159660.80   \n",
       "3          4    15701354      Boni          699   39     1.0       0.00   \n",
       "4          5    15737888  Mitchell          850   43     2.0  125510.82   \n",
       "\n",
       "   NumOfProducts  HasCrCard  IsActiveMember  EstimatedSalary  Exited  \\\n",
       "0              1          1               1        101348.88       1   \n",
       "1              1          0               1        112542.58       0   \n",
       "2              3          1               0        113931.57       1   \n",
       "3              2          0               0         93826.63       0   \n",
       "4              1          1               1         79084.10       0   \n",
       "\n",
       "   Geography_Germany  Geography_Spain  Gender_Male  \n",
       "0                  0                0            0  \n",
       "1                  0                1            0  \n",
       "2                  0                0            0  \n",
       "3                  0                0            0  \n",
       "4                  0                1            0  "
      ]
     },
     "metadata": {},
     "output_type": "display_data"
    }
   ],
   "source": [
    "df = pd.get_dummies(df,columns = ['Geography','Gender'], drop_first=True)\n",
    "display(df.head())"
   ]
  },
  {
   "cell_type": "markdown",
   "metadata": {},
   "source": [
    "### Деление данных на выборки"
   ]
  },
  {
   "cell_type": "code",
   "execution_count": 4,
   "metadata": {},
   "outputs": [
    {
     "name": "stdout",
     "output_type": "stream",
     "text": [
      "1705\n",
      "2273\n",
      "5113\n"
     ]
    }
   ],
   "source": [
    "features = df.drop(['Exited','Surname', 'RowNumber', 'CustomerId', 'Surname'], axis=1)\n",
    "target = df['Exited']\n",
    "\n",
    "\n",
    "\n",
    "\n",
    "\n",
    "\n",
    "features_train, features_valid, target_train, target_valid = train_test_split(features, target, \n",
    "                                                                              test_size=0.25, random_state=12345,\n",
    "                                                                              )\n",
    "\n",
    "features_train, features_test, target_train, target_test = train_test_split(features_train, target_train, \n",
    "                                                                             test_size=0.25, random_state=12345,\n",
    "                                                                           )\n",
    "print(len(features_test))\n",
    "print(len(features_valid))\n",
    "print(len(features_train))"
   ]
  },
  {
   "cell_type": "markdown",
   "metadata": {},
   "source": [
    "#### Вывод\n",
    "Мы получили:\n",
    "- 19% - Тестовая выборка (1705 наблюдений) \n",
    "- 25% - Валидационная выборка (2273 наблюдений)\n",
    "- 56% - Обучающая выборка (5113 наблюдений)"
   ]
  },
  {
   "cell_type": "markdown",
   "metadata": {},
   "source": [
    "### Маштабирование признаков"
   ]
  },
  {
   "cell_type": "code",
   "execution_count": 5,
   "metadata": {
    "scrolled": false
   },
   "outputs": [
    {
     "data": {
      "text/html": [
       "<div>\n",
       "<style scoped>\n",
       "    .dataframe tbody tr th:only-of-type {\n",
       "        vertical-align: middle;\n",
       "    }\n",
       "\n",
       "    .dataframe tbody tr th {\n",
       "        vertical-align: top;\n",
       "    }\n",
       "\n",
       "    .dataframe thead th {\n",
       "        text-align: right;\n",
       "    }\n",
       "</style>\n",
       "<table border=\"1\" class=\"dataframe\">\n",
       "  <thead>\n",
       "    <tr style=\"text-align: right;\">\n",
       "      <th></th>\n",
       "      <th>CreditScore</th>\n",
       "      <th>Age</th>\n",
       "      <th>Tenure</th>\n",
       "      <th>Balance</th>\n",
       "      <th>NumOfProducts</th>\n",
       "      <th>HasCrCard</th>\n",
       "      <th>IsActiveMember</th>\n",
       "      <th>EstimatedSalary</th>\n",
       "      <th>Geography_Germany</th>\n",
       "      <th>Geography_Spain</th>\n",
       "      <th>Gender_Male</th>\n",
       "    </tr>\n",
       "  </thead>\n",
       "  <tbody>\n",
       "    <tr>\n",
       "      <th>2142</th>\n",
       "      <td>0.429837</td>\n",
       "      <td>-0.393424</td>\n",
       "      <td>0.330914</td>\n",
       "      <td>0.575644</td>\n",
       "      <td>-0.914996</td>\n",
       "      <td>1</td>\n",
       "      <td>0</td>\n",
       "      <td>176962.31</td>\n",
       "      <td>0</td>\n",
       "      <td>0</td>\n",
       "      <td>1</td>\n",
       "    </tr>\n",
       "    <tr>\n",
       "      <th>7361</th>\n",
       "      <td>0.450392</td>\n",
       "      <td>-0.298659</td>\n",
       "      <td>-0.351604</td>\n",
       "      <td>-1.232909</td>\n",
       "      <td>-0.914996</td>\n",
       "      <td>1</td>\n",
       "      <td>0</td>\n",
       "      <td>185580.89</td>\n",
       "      <td>0</td>\n",
       "      <td>0</td>\n",
       "      <td>0</td>\n",
       "    </tr>\n",
       "    <tr>\n",
       "      <th>7102</th>\n",
       "      <td>-1.327676</td>\n",
       "      <td>-0.014364</td>\n",
       "      <td>-1.034123</td>\n",
       "      <td>0.579934</td>\n",
       "      <td>0.799951</td>\n",
       "      <td>1</td>\n",
       "      <td>0</td>\n",
       "      <td>97593.16</td>\n",
       "      <td>0</td>\n",
       "      <td>0</td>\n",
       "      <td>1</td>\n",
       "    </tr>\n",
       "    <tr>\n",
       "      <th>219</th>\n",
       "      <td>-0.577393</td>\n",
       "      <td>1.407112</td>\n",
       "      <td>1.013432</td>\n",
       "      <td>-1.232909</td>\n",
       "      <td>-0.914996</td>\n",
       "      <td>1</td>\n",
       "      <td>1</td>\n",
       "      <td>28737.71</td>\n",
       "      <td>0</td>\n",
       "      <td>0</td>\n",
       "      <td>1</td>\n",
       "    </tr>\n",
       "    <tr>\n",
       "      <th>5936</th>\n",
       "      <td>-0.618504</td>\n",
       "      <td>-1.625371</td>\n",
       "      <td>1.354692</td>\n",
       "      <td>-0.154771</td>\n",
       "      <td>-0.914996</td>\n",
       "      <td>1</td>\n",
       "      <td>1</td>\n",
       "      <td>163534.75</td>\n",
       "      <td>0</td>\n",
       "      <td>1</td>\n",
       "      <td>0</td>\n",
       "    </tr>\n",
       "  </tbody>\n",
       "</table>\n",
       "</div>"
      ],
      "text/plain": [
       "      CreditScore       Age    Tenure   Balance  NumOfProducts  HasCrCard  \\\n",
       "2142     0.429837 -0.393424  0.330914  0.575644      -0.914996          1   \n",
       "7361     0.450392 -0.298659 -0.351604 -1.232909      -0.914996          1   \n",
       "7102    -1.327676 -0.014364 -1.034123  0.579934       0.799951          1   \n",
       "219     -0.577393  1.407112  1.013432 -1.232909      -0.914996          1   \n",
       "5936    -0.618504 -1.625371  1.354692 -0.154771      -0.914996          1   \n",
       "\n",
       "      IsActiveMember  EstimatedSalary  Geography_Germany  Geography_Spain  \\\n",
       "2142               0        176962.31                  0                0   \n",
       "7361               0        185580.89                  0                0   \n",
       "7102               0         97593.16                  0                0   \n",
       "219                1         28737.71                  0                0   \n",
       "5936               1        163534.75                  0                1   \n",
       "\n",
       "      Gender_Male  \n",
       "2142            1  \n",
       "7361            0  \n",
       "7102            1  \n",
       "219             1  \n",
       "5936            0  "
      ]
     },
     "metadata": {},
     "output_type": "display_data"
    }
   ],
   "source": [
    "pd.options.mode.chained_assignment = None\n",
    "numeric = ['CreditScore', 'Age', 'Tenure', 'Balance', 'NumOfProducts']\n",
    "scaler = StandardScaler()\n",
    "scaler.fit(features_train[numeric])\n",
    "\n",
    "features_train[numeric] = scaler.transform(features_train[numeric])\n",
    "features_test[numeric] = scaler.transform(features_test[numeric])\n",
    "features_valid[numeric] = scaler.transform(features_valid[numeric])\n",
    "\n",
    "display(features_train.head())"
   ]
  },
  {
   "cell_type": "markdown",
   "metadata": {},
   "source": [
    "#### Вывод\n",
    "Методом прямого кодирования создаем дамми-признаки из 2-х призаков, в которых содержатся категориальные переменные: Пол и страна. Т.к. у нас добавилось всего 3 столбца - мы не рискуем попасть в дамми-ловушку и аргумент drop_first = True передавать в функцию мы не будем.\n",
    "Далее мы масштабируем данные. Список признаков, который мы будем масштабировать передаем списком в переменную 'numeric'. Переписаваем датасет включая новые и измененные данные.\n"
   ]
  },
  {
   "cell_type": "markdown",
   "metadata": {},
   "source": [
    "### Баланс классов"
   ]
  },
  {
   "cell_type": "code",
   "execution_count": 6,
   "metadata": {},
   "outputs": [
    {
     "name": "stdout",
     "output_type": "stream",
     "text": [
      "7237\n",
      "1854\n",
      "Кол-во наблюдений с классом 0: 7237, что составляет 80% от общей выборки\n",
      "Кол-во наблюдений с классом 1: 1854, что составляет 20% от общей выборки\n"
     ]
    }
   ],
   "source": [
    "print(features[target == 0].shape[0])\n",
    "print(features[target == 1].shape[0])\n",
    "print(f'Кол-во наблюдений с классом 0: {features[target == 0].shape[0]}, что составляет {features[target == 0].shape[0]/features.shape[0]:.0%} от общей выборки')\n",
    "print(f'Кол-во наблюдений с классом 1: {features[target == 1].shape[0]}, что составляет {features[target == 1].shape[0]/features.shape[0]:.0%} от общей выборки')"
   ]
  },
  {
   "cell_type": "markdown",
   "metadata": {},
   "source": [
    "#### Вывод\n",
    "Мы наблюдаем явный дисбаланс классов. Классы в датасете делятся в соотношении 80/20. Попробуем обучить модель не беря во внимание этот факт и посмотрим метрики качества такой модели."
   ]
  },
  {
   "cell_type": "markdown",
   "metadata": {},
   "source": [
    "### Деление данных на выборки"
   ]
  },
  {
   "cell_type": "code",
   "execution_count": 7,
   "metadata": {},
   "outputs": [],
   "source": [
    "# features_train, features_valid, target_train, target_valid = train_test_split(features, target, \n",
    "#                                                                               test_size=0.25, random_state=12345,\n",
    "#                                                                               )\n",
    "# print(len(features_valid))\n",
    "# print(len(features_train))"
   ]
  },
  {
   "cell_type": "markdown",
   "metadata": {},
   "source": [
    "#### Вывод\n",
    "Пока разобьем данные на 2 выборки - обучающую и валидационную. Тестовая выборка нам пригодится потом, уже после того, как мы найдем лучшую модель. Соотношение распределения я выбрал 75/25. 75% - Обучающая выборка (6818 наблюдений), 25% - Валидационная выборка(2273 наблюдений)."
   ]
  },
  {
   "cell_type": "markdown",
   "metadata": {},
   "source": [
    "## Исследование задачи"
   ]
  },
  {
   "cell_type": "markdown",
   "metadata": {},
   "source": [
    "### Построение модели"
   ]
  },
  {
   "cell_type": "code",
   "execution_count": 8,
   "metadata": {},
   "outputs": [
    {
     "name": "stdout",
     "output_type": "stream",
     "text": [
      "Первая обученная модель без учета дисбаланса классов показывает результат f1 меры: 0.5310880829015544\n",
      "              precision    recall  f1-score   support\n",
      "\n",
      "           0       0.87      0.86      0.86      1822\n",
      "           1       0.45      0.47      0.46       451\n",
      "\n",
      "    accuracy                           0.78      2273\n",
      "   macro avg       0.66      0.66      0.66      2273\n",
      "weighted avg       0.78      0.78      0.78      2273\n",
      "\n"
     ]
    }
   ],
   "source": [
    "best_result = 0\n",
    "best_depth = 0\n",
    "best_estimators = 0\n",
    "for depth in range(2, 22, 2):\n",
    "    model = DecisionTreeClassifier(random_state=12345, max_depth=depth)\n",
    "    model.fit(features_train, target_train)\n",
    "    predictions_valid = model.predict(features_valid)\n",
    "    result = f1_score(target_valid, predictions_valid)\n",
    "    if result > best_result:\n",
    "        best_model = model\n",
    "        best_result = result\n",
    "        best_depth = depth\n",
    "        best_estimators = None\n",
    "\n",
    "print(f'Первая обученная модель без учета дисбаланса классов показывает результат f1 меры: {best_result}')\n",
    "report = classification_report(target_valid, predictions_valid)\n",
    "print(report)"
   ]
  },
  {
   "cell_type": "markdown",
   "metadata": {},
   "source": [
    "#### Вывод\n",
    "Построили модель с перебором гиперпараметра max_depth. Как мы видим по метрикам качества модель очень плохо предсказывает класс 1, f1 мера равняется 0.55, что недотягивает до минимального порога из ТЗ (0,59) тем не менее метрика accuracy показывает, что модель успешно предсказывает в 78% случаев, что довольно неплохо. Проверим эту модель на адекватность"
   ]
  },
  {
   "cell_type": "markdown",
   "metadata": {},
   "source": [
    "### Проверим 1 модель на адекватность и построим roc-кривую"
   ]
  },
  {
   "cell_type": "code",
   "execution_count": 9,
   "metadata": {},
   "outputs": [
    {
     "name": "stdout",
     "output_type": "stream",
     "text": [
      "accuracy_score константной модели: 0.8015838099428069\n",
      "accuracy_score нашего дерева: 0.7800263968323801\n"
     ]
    },
    {
     "data": {
      "image/png": "[encoded data removed]",
      "text/plain": [
       "<Figure size 720x576 with 1 Axes>"
      ]
     },
     "metadata": {
      "needs_background": "light"
     },
     "output_type": "display_data"
    },
    {
     "name": "stdout",
     "output_type": "stream",
     "text": [
      "0.6632486412679715\n"
     ]
    }
   ],
   "source": [
    "target_pred_constant = pd.Series([0] * len(target_valid))\n",
    "print(f'accuracy_score константной модели: {accuracy_score(target_valid, target_pred_constant)}')\n",
    "print(f'accuracy_score нашего дерева: {accuracy_score(target_valid, predictions_valid)}')\n",
    "\n",
    "probabilities_valid = model.predict_proba(features_valid)\n",
    "probabilities_one_valid = probabilities_valid[:, 1]\n",
    "\n",
    "plt.figure(figsize=(10, 8))\n",
    "fpr, tpr, thresholds = roc_curve(target_valid, model.predict_proba(features_valid)[:,1], pos_label=1)\n",
    "lw = 2\n",
    "plt.plot(fpr, tpr, lw=lw, label='ROC curve ')\n",
    "plt.plot([0, 1], [0, 1])\n",
    "plt.xlim([0.0, 1.0])\n",
    "plt.ylim([0.0, 1.05])\n",
    "plt.xlabel('False Positive Rate')\n",
    "plt.ylabel('True Positive Rate')\n",
    "plt.title('ROC curve')\n",
    "plt.show()\n",
    "print(roc_auc_score(target_valid,probabilities_one_valid))"
   ]
  },
  {
   "cell_type": "markdown",
   "metadata": {},
   "source": [
    "#### Вывод\n",
    "Несмотря на то, что метрика auc-roc нашей модели лучше, чем у случайной - проверка модели на адекватность показывает, что констатная модель справляется с задачей чуть лучше, чем наша модель. Связанно это конечно с дисбалансом классов. Проверка на адекватность не пройдена, такая модель нам не подходит, будем бороться с дисбалансом"
   ]
  },
  {
   "cell_type": "markdown",
   "metadata": {},
   "source": [
    "## Борьба с дисбалансом"
   ]
  },
  {
   "cell_type": "markdown",
   "metadata": {},
   "source": [
    "### Сбалансируем классы"
   ]
  },
  {
   "cell_type": "code",
   "execution_count": 10,
   "metadata": {},
   "outputs": [
    {
     "name": "stdout",
     "output_type": "stream",
     "text": [
      "До увеличения выборки класса 1\n",
      "4074\n",
      "1039\n",
      "После увеличения выборки класса 1\n",
      "4074\n",
      "3117\n"
     ]
    },
    {
     "name": "stderr",
     "output_type": "stream",
     "text": [
      "/tmp/ipykernel_64/2688345011.py:2: UserWarning: Boolean Series key will be reindexed to match DataFrame index.\n",
      "  print(features_train[target == 0].shape[0])\n",
      "/tmp/ipykernel_64/2688345011.py:3: UserWarning: Boolean Series key will be reindexed to match DataFrame index.\n",
      "  print(features_train[target == 1].shape[0])\n",
      "/tmp/ipykernel_64/2688345011.py:23: UserWarning: Boolean Series key will be reindexed to match DataFrame index.\n",
      "  print(features_train_upsampled[target == 0].shape[0])\n",
      "/tmp/ipykernel_64/2688345011.py:24: UserWarning: Boolean Series key will be reindexed to match DataFrame index.\n",
      "  print(features_train_upsampled[target == 1].shape[0])\n"
     ]
    }
   ],
   "source": [
    "print('До увеличения выборки класса 1')\n",
    "print(features_train[target == 0].shape[0])\n",
    "print(features_train[target == 1].shape[0])\n",
    "\n",
    "def upsample(features, target, repeat):\n",
    "    features_train_zeros = features[target == 0]\n",
    "    features_train_ones = features[target == 1]\n",
    "    target_train_zeros = target[target == 0]\n",
    "    target_train_ones = target[target == 1]\n",
    "\n",
    "    features_train_upsampled = pd.concat([features_train_zeros] + [features_train_ones] * repeat)\n",
    "    target_train_upsampled = pd.concat([target_train_zeros] + [target_train_ones] * repeat)\n",
    "    \n",
    "    features_train_upsampled, target_train_upsampled = shuffle(\n",
    "        features_train_upsampled, target_train_upsampled, random_state=12345)\n",
    "    \n",
    "    return features_train_upsampled, target_train_upsampled\n",
    "\n",
    "\n",
    "features_train_upsampled, target_train_upsampled = upsample(features_train, target_train, 3)\n",
    "\n",
    "print('После увеличения выборки класса 1')\n",
    "print(features_train_upsampled[target == 0].shape[0])\n",
    "print(features_train_upsampled[target == 1].shape[0])"
   ]
  },
  {
   "cell_type": "markdown",
   "metadata": {},
   "source": [
    "#### Вывод\n",
    "Начем борьбу с фиктивного увеличения наблюдений класса 1. Мы написали функцию, которая: \n",
    "- 1. Делит признаки и классы на 4 переменные, в зависимости от класса\n",
    "- 2. Умножает наблюдения класса 1 на переменную repeat складывает это с наблюдениями класс 0 и создает датасет функцией concat, обьединяя получившиеся данные\n",
    "- 3. Случайно перемешивает новый датасет, дабы избежать обучения на одних и тех же наблюдениях подряд\n",
    "\n",
    "Готово, посчитаем классы после преобразования:\n",
    "Теперь они делятся в соотношении 57/43. 7237 наблюдений класса 0 и 5562 наблюдения класса 1. Отлично, так намного лучше\n"
   ]
  },
  {
   "cell_type": "markdown",
   "metadata": {},
   "source": [
    "### Новое деление данных на выборки с параметром stratify"
   ]
  },
  {
   "cell_type": "code",
   "execution_count": 11,
   "metadata": {
    "scrolled": true
   },
   "outputs": [],
   "source": [
    "# features_train, features_valid, target_train, target_valid = train_test_split(features_upsampled, target_upsampled, \n",
    "#                                                                               test_size=0.25, random_state=12345,\n",
    "#                                                                               stratify = target_upsampled)\n",
    "\n",
    "# features_train, features_test, target_train, target_test = train_test_split(features_train, target_train, \n",
    "#                                                                              test_size=0.25, random_state=12345,\n",
    "#                                                                            stratify = target_train)\n",
    "# print(len(features_test))\n",
    "# print(len(features_valid))\n",
    "# print(len(features_train))"
   ]
  },
  {
   "cell_type": "markdown",
   "metadata": {},
   "source": [
    "#### Вывод\n",
    "Еще раз разбиваем данные, но уже на 3 выборки, с более равным классовым распределением. Так же дабы уменьшить дисбаланс классов добавим параметр strarify функции что бы и на этом этапе сильнее уровнять классы. \n",
    "Мы получили:\n",
    "- 19% - Тестовая выборка (2400 наблюдений) \n",
    "- 25% - Валидационная выборка (3200 наблюдений)\n",
    "- 56% - Обучающая выборка (7199 наблюдений)"
   ]
  },
  {
   "cell_type": "markdown",
   "metadata": {},
   "source": [
    "### Найдем лучшую модель\n",
    "Напишем цикл, который будет перебирать модели и их гиперпараметры. Так же укажем параметр class_weight, для баланса классов.\n",
    "Все исследования будем записывать в переменные, что бы сохранить наилучшую модель"
   ]
  },
  {
   "cell_type": "markdown",
   "metadata": {},
   "source": [
    "### Модель, обученная на upsample выборке"
   ]
  },
  {
   "cell_type": "code",
   "execution_count": 12,
   "metadata": {},
   "outputs": [
    {
     "name": "stdout",
     "output_type": "stream",
     "text": [
      "Лучшая модель: RandomForestClassifier(max_depth=8, n_estimators=310, random_state=12345), с метрикой f1: 0.6252587991718427, и глубиной дерева: 2\n",
      "CPU times: user 4min 44s, sys: 2.42 s, total: 4min 46s\n",
      "Wall time: 4min 51s\n"
     ]
    }
   ],
   "source": [
    "%%time\n",
    "models = ['DecisionTreeClassifier', 'LogisticRegression','RandomForestClassifier']\n",
    "best_upsampled_result = 0\n",
    "best_upsampled_model = []\n",
    "best_upsampled_depth = 0\n",
    "best_upsampled_estimators = 0\n",
    "\n",
    "# for model in models:\n",
    "#     if model == 'DecisionTreeClassifier':\n",
    "#         for depth in range(2, 22, 2):\n",
    "#             model = DecisionTreeClassifier(random_state=12345, max_depth=depth)\n",
    "#             model.fit(features_train_upsampled, target_train_upsampled)\n",
    "#             predictions_valid_upsampled = model.predict(features_valid)\n",
    "#             upsampled_result = f1_score(target_valid, predictions_valid_upsampled)\n",
    "#             if upsampled_result > best_upsampled_result:\n",
    "#                 best_upsampled_model = model\n",
    "#                 best_upsampled_result = upsampled_result\n",
    "#                 best_upsampled_depth = depth\n",
    "#                 best_upsampled_estimators = None\n",
    "\n",
    "\n",
    "    if model == 'RandomForestClassifier':\n",
    "        for est in range(10, 350, 10):\n",
    "            for depth in range(4, 20, 2):\n",
    "                model = RandomForestClassifier(random_state=12345, n_estimators = est, max_depth=depth)\n",
    "                model.fit(features_train_upsampled, target_train_upsampled)\n",
    "                predictions_valid_upsampled = model.predict(features_valid)\n",
    "                upsampled_result = f1_score(target_valid, predictions_valid_upsampled)\n",
    "                if upsampled_result > best_upsampled_result:\n",
    "                    best_upsampled_model = model\n",
    "                    best_upsampled_result = upsampled_result\n",
    "                    best_upsampled_depth = depth\n",
    "                    best_upsampled_estimators = est\n",
    "\n",
    "\n",
    "#     if model == 'LogisticRegression':\n",
    "#         model = LogisticRegression(random_state=12345, solver='lbfgs', max_iter=1000)\n",
    "#         model.fit(features_train_upsampled, target_train_upsampled)\n",
    "#         predictions_valid_upsampled = model.predict(features_valid)\n",
    "#         upsampled_result = f1_score(target_valid, predictions_valid_upsampled)\n",
    "#         if upsampled_result > best_upsampled_result:\n",
    "#             best_upsampled_model = model\n",
    "#             best_upsampled_result = upsampled_result\n",
    "#             best_upsampled_depth = None\n",
    "#             best_upsampled_estimators = None\n",
    "            \n",
    "print(f'Лучшая модель: {best_upsampled_model}, с метрикой f1: {best_upsampled_result}, и глубиной дерева: {best_depth}')"
   ]
  },
  {
   "cell_type": "markdown",
   "metadata": {},
   "source": [
    "#### Вывод\n",
    "Отлично, победитель найден. Это RandomForestClassifier с кол-вом деревьев равному 180 и их глубиной в 15. Данная модель показала лучшее значение метрики f1 равное ~0,9. Кажется, это превосходный результат! Но необходимо получить предсказания на тестовой выборке и проверить так же и другие метрики."
   ]
  },
  {
   "cell_type": "markdown",
   "metadata": {},
   "source": [
    "### Найдем лучшую модель c параметром class_weight"
   ]
  },
  {
   "cell_type": "code",
   "execution_count": 13,
   "metadata": {
    "scrolled": true
   },
   "outputs": [
    {
     "name": "stdout",
     "output_type": "stream",
     "text": [
      "Лучшая модель: DecisionTreeClassifier(class_weight='balanced', max_depth=4, random_state=12345), с метрикой f1: 0.5444444444444444, и глубиной дерева: 4\n",
      "CPU times: user 2min 53s, sys: 988 ms, total: 2min 54s\n",
      "Wall time: 2min 54s\n"
     ]
    }
   ],
   "source": [
    "%%time\n",
    "\n",
    "best_clweight_result = 0\n",
    "best_clweight_model = []\n",
    "best_clweight_depth = 0\n",
    "best_clweight_estimators = 0\n",
    "\n",
    "for model in models:\n",
    "    if model == 'DecisionTreeClassifier':\n",
    "        for depth in range(2, 22, 2):\n",
    "            model = DecisionTreeClassifier(random_state=12345, max_depth=depth, class_weight = 'balanced')\n",
    "            model.fit(features_train, target_train)\n",
    "            predictions_valid_clweight = model.predict(features_valid)\n",
    "            clweight_result = f1_score(target_valid, predictions_valid_clweight)\n",
    "            if clweight_result > best_clweight_result:\n",
    "                best_clweight_model = model\n",
    "                best_clweight_result = clweight_result\n",
    "                best_clweight_depth = depth\n",
    "                best_clweight_estimators = None\n",
    "\n",
    "\n",
    "    if model == 'RandomForestClassifier':\n",
    "        for est in range(50, 350, 10):\n",
    "            for depth in range(5, 16, 2):\n",
    "                model = RandomForestClassifier(random_state=12345, n_estimators = est, max_depth=depth, class_weight = 'balanced')\n",
    "                model.fit(features_train, target_train)\n",
    "                predictions_valid_clweight = model.predict(features_valid)\n",
    "                clweigh_result = f1_score(target_valid, predictions_valid_clweight)\n",
    "                if clweight_result > best_clweight_result:\n",
    "                    best_clweight_model = model\n",
    "                    best_clweight_result = clweight_result\n",
    "                    best_clweight_depth = depth\n",
    "                    best_clweight_estimators = None\n",
    "\n",
    "\n",
    "\n",
    "    if model == 'LogisticRegression':\n",
    "        model = LogisticRegression(random_state=12345, solver='lbfgs', max_iter=1000, class_weight = 'balanced')\n",
    "        model.fit(features_train, target_train)\n",
    "        predictions_valid_clweight = model.predict(features_valid)\n",
    "        clweigh_result = f1_score(target_valid, predictions_valid_clweight)\n",
    "        if clweight_result > best_clweight_result:\n",
    "            best_clweight_model = model\n",
    "            best_clweight_result = clweigh_result\n",
    "            best_clweight_depth = None\n",
    "            best_clweight_estimators = None\n",
    "            \n",
    "print(f'Лучшая модель: {best_clweight_model}, с метрикой f1: {best_clweight_result}, и глубиной дерева: {best_clweight_depth}')\n",
    "\n"
   ]
  },
  {
   "cell_type": "markdown",
   "metadata": {},
   "source": [
    "### Выберем лучшую"
   ]
  },
  {
   "cell_type": "code",
   "execution_count": 14,
   "metadata": {},
   "outputs": [
    {
     "name": "stdout",
     "output_type": "stream",
     "text": [
      "Лучшей оказалась модель, обученная на upsample выборке:\n",
      "RandomForestClassifier(max_depth=8, n_estimators=310, random_state=12345)\n"
     ]
    }
   ],
   "source": [
    "best_model =[]\n",
    "if best_clweight_result > best_upsampled_result:\n",
    "    best_model = best_clweight_model\n",
    "    print('Лучшей оказалась модель с параметром class_weight = balanced:')\n",
    "else:\n",
    "    best_model = best_upsampled_model\n",
    "    print('Лучшей оказалась модель, обученная на upsample выборке:')\n",
    "print(best_model)"
   ]
  },
  {
   "cell_type": "markdown",
   "metadata": {},
   "source": [
    "## Тестирование модели"
   ]
  },
  {
   "cell_type": "markdown",
   "metadata": {},
   "source": [
    "### Предсказания на тестовой выборке"
   ]
  },
  {
   "cell_type": "code",
   "execution_count": 15,
   "metadata": {},
   "outputs": [],
   "source": [
    "model = best_model\n",
    "model.fit(features_train_upsampled, target_train_upsampled)\n",
    "predictions_test = model.predict(features_test)"
   ]
  },
  {
   "cell_type": "markdown",
   "metadata": {},
   "source": [
    "#### Вывод\n",
    "Так как все значения лучшей модели у нас уже есть в переменной - нам не составит труда обучить её заново и проверить предсказания на тестовой выборке"
   ]
  },
  {
   "cell_type": "markdown",
   "metadata": {},
   "source": [
    "### Значения метрик f1, recall, precision и accuracy на тестовой выборке"
   ]
  },
  {
   "cell_type": "code",
   "execution_count": 16,
   "metadata": {},
   "outputs": [
    {
     "name": "stdout",
     "output_type": "stream",
     "text": [
      "Значение метрики f1 на тестовой выборке: 0.6217331499312243\n",
      "Значение метрики accuracy на тестовой выборке:0.8387096774193549\n",
      "              precision    recall  f1-score   support\n",
      "\n",
      "           0       0.90      0.90      0.90      1341\n",
      "           1       0.62      0.62      0.62       364\n",
      "\n",
      "    accuracy                           0.84      1705\n",
      "   macro avg       0.76      0.76      0.76      1705\n",
      "weighted avg       0.84      0.84      0.84      1705\n",
      "\n"
     ]
    }
   ],
   "source": [
    "f1 = f1_score(target_test, predictions_test)\n",
    "accuracy = accuracy_score(target_test, predictions_test)\n",
    "print(f'Значение метрики f1 на тестовой выборке: {f1}')\n",
    "print(f'Значение метрики accuracy на тестовой выборке:{accuracy}')\n",
    "print(classification_report(target_test, predictions_test))"
   ]
  },
  {
   "cell_type": "markdown",
   "metadata": {},
   "source": [
    "#### Вывод\n",
    "Итого мы получаем значение f1 равное 0.62 на тестовой выборке. Мы видим, что несмотря на upsampling модель предсказывает класс 0 лучше, чем 1, но из рассмотренных способов борьбы с дисбалансом метод upsamling показывает наилучший рез-тат f1 меры"
   ]
  },
  {
   "cell_type": "markdown",
   "metadata": {},
   "source": [
    "### Roc-кривая и auc-roc на тестовой выборке"
   ]
  },
  {
   "cell_type": "code",
   "execution_count": 17,
   "metadata": {},
   "outputs": [
    {
     "data": {
      "image/png": "[encoded data removed]",
      "text/plain": [
       "<Figure size 720x576 with 1 Axes>"
      ]
     },
     "metadata": {
      "needs_background": "light"
     },
     "output_type": "display_data"
    },
    {
     "name": "stdout",
     "output_type": "stream",
     "text": [
      "0.8615024051265662\n"
     ]
    }
   ],
   "source": [
    "probabilities_test = model.predict_proba(features_test)\n",
    "probabilities_one_test = probabilities_test[:, 1]\n",
    "\n",
    "plt.figure(figsize=(10, 8))\n",
    "fpr, tpr, thresholds = roc_curve(target_test, probabilities_one_test, pos_label=1)\n",
    "lw = 2\n",
    "plt.plot(fpr, tpr, lw=lw, label='ROC curve ')\n",
    "plt.plot([0, 1], [0, 1])\n",
    "plt.xlim([0.0, 1.0])\n",
    "plt.ylim([0.0, 1.05])\n",
    "plt.xlabel('False Positive Rate')\n",
    "plt.ylabel('True Positive Rate')\n",
    "plt.title('ROC curve')\n",
    "plt.show()\n",
    "print(roc_auc_score(target_test,probabilities_one_test))"
   ]
  },
  {
   "cell_type": "markdown",
   "metadata": {},
   "source": [
    "#### Вывод\n",
    "График ROC (кривая ошибок) тоже говорит об эффективности модели, особенно если их сравнивать, как визульно, так и их площади (метрика auc-roc) с моделью, где не учтён дисбаланс классов. Таким образом получаем:\n",
    "- AUC-ROC Модели 1 (с дисбалансом классов): ~0.66\n",
    "- AUC-ROC Финальной (без дисбаланса классов): ~0.86"
   ]
  },
  {
   "cell_type": "markdown",
   "metadata": {},
   "source": [
    "## Общий вывод\n",
    "Мы построили модель, которая определённо подходит под данную бизнес задачу и с точностью 84% предсказывает отток клиентов. Как мы видим из метрики F1 - модель с одинаковым успехом предсказывает как и расторжение договора клиента с банком так и отсутствие расторжения. Модель без учета баланса классов вообще не проходит проверку на адекватность, а значит, что если предположить, что ни один из клиентов не расторгнет договор с банком - это будет точнее, чем предсказания такой модели. Что бы исключить дисбаланс мы сравнивали такие методы как:\n",
    "- Upsampling\n",
    "- Параметр class_weight при выборе модели и её параметров"
   ]
  }
 ],
 "metadata": {
  "ExecuteTimeLog": [
   {
    "duration": 411,
    "start_time": "2022-11-11T07:42:43.233Z"
   },
   {
    "duration": 230,
    "start_time": "2022-11-11T07:43:14.577Z"
   },
   {
    "duration": 66,
    "start_time": "2022-11-11T07:43:18.977Z"
   },
   {
    "duration": 59,
    "start_time": "2022-11-11T07:43:29.450Z"
   },
   {
    "duration": 76,
    "start_time": "2022-11-11T07:49:43.281Z"
   },
   {
    "duration": 74,
    "start_time": "2022-11-11T07:49:54.094Z"
   },
   {
    "duration": 734,
    "start_time": "2022-11-11T07:50:07.046Z"
   },
   {
    "duration": 53,
    "start_time": "2022-11-11T07:55:43.898Z"
   },
   {
    "duration": 61,
    "start_time": "2022-11-11T08:09:03.501Z"
   },
   {
    "duration": 13,
    "start_time": "2022-11-11T08:09:05.490Z"
   },
   {
    "duration": 62,
    "start_time": "2022-11-11T08:17:06.730Z"
   },
   {
    "duration": 37,
    "start_time": "2022-11-11T08:17:19.929Z"
   },
   {
    "duration": 61,
    "start_time": "2022-11-11T08:17:25.590Z"
   },
   {
    "duration": 29,
    "start_time": "2022-11-11T08:17:25.903Z"
   },
   {
    "duration": 30,
    "start_time": "2022-11-11T08:19:03.947Z"
   },
   {
    "duration": 23,
    "start_time": "2022-11-11T08:19:19.754Z"
   },
   {
    "duration": 29,
    "start_time": "2022-11-11T08:21:16.700Z"
   },
   {
    "duration": 37,
    "start_time": "2022-11-11T08:21:36.844Z"
   },
   {
    "duration": 82,
    "start_time": "2022-11-11T08:21:41.591Z"
   },
   {
    "duration": 86,
    "start_time": "2022-11-11T08:21:41.675Z"
   },
   {
    "duration": 157,
    "start_time": "2022-11-11T08:22:10.004Z"
   },
   {
    "duration": 406,
    "start_time": "2022-11-11T08:22:11.412Z"
   },
   {
    "duration": 1130,
    "start_time": "2022-11-11T08:22:37.303Z"
   },
   {
    "duration": 109,
    "start_time": "2022-11-11T08:22:38.435Z"
   },
   {
    "duration": 61,
    "start_time": "2022-11-11T08:23:09.453Z"
   },
   {
    "duration": 38,
    "start_time": "2022-11-11T08:23:09.516Z"
   },
   {
    "duration": 1075,
    "start_time": "2022-11-11T08:25:08.677Z"
   },
   {
    "duration": 24,
    "start_time": "2022-11-11T08:25:09.754Z"
   },
   {
    "duration": 34,
    "start_time": "2022-11-11T08:25:09.780Z"
   },
   {
    "duration": 1098,
    "start_time": "2022-11-11T08:26:26.152Z"
   },
   {
    "duration": 27,
    "start_time": "2022-11-11T08:26:27.252Z"
   },
   {
    "duration": 13,
    "start_time": "2022-11-11T08:26:27.281Z"
   },
   {
    "duration": 18,
    "start_time": "2022-11-11T08:27:26.214Z"
   },
   {
    "duration": 6,
    "start_time": "2022-11-11T09:42:04.693Z"
   },
   {
    "duration": 16,
    "start_time": "2022-11-11T09:42:10.930Z"
   },
   {
    "duration": 182,
    "start_time": "2022-11-11T09:46:02.554Z"
   },
   {
    "duration": 80,
    "start_time": "2022-11-11T09:46:31.693Z"
   },
   {
    "duration": 80,
    "start_time": "2022-11-11T09:51:02.823Z"
   },
   {
    "duration": 70,
    "start_time": "2022-11-11T09:51:46.097Z"
   },
   {
    "duration": 78,
    "start_time": "2022-11-11T09:52:26.026Z"
   },
   {
    "duration": 77,
    "start_time": "2022-11-11T09:52:45.137Z"
   },
   {
    "duration": 75,
    "start_time": "2022-11-11T09:52:50.804Z"
   },
   {
    "duration": 67,
    "start_time": "2022-11-11T09:53:14.121Z"
   },
   {
    "duration": 264,
    "start_time": "2022-11-11T09:54:06.906Z"
   },
   {
    "duration": 285,
    "start_time": "2022-11-11T09:54:43.154Z"
   },
   {
    "duration": 50,
    "start_time": "2022-11-11T09:55:21.490Z"
   },
   {
    "duration": 839,
    "start_time": "2022-11-11T09:56:04.180Z"
   },
   {
    "duration": 72,
    "start_time": "2022-11-11T09:57:23.933Z"
   },
   {
    "duration": 63,
    "start_time": "2022-11-11T10:03:08.697Z"
   },
   {
    "duration": 25,
    "start_time": "2022-11-11T10:03:10.776Z"
   },
   {
    "duration": 13,
    "start_time": "2022-11-11T10:07:18.090Z"
   },
   {
    "duration": 12,
    "start_time": "2022-11-11T10:08:34.715Z"
   },
   {
    "duration": 57,
    "start_time": "2022-11-11T10:08:36.876Z"
   },
   {
    "duration": 43,
    "start_time": "2022-11-11T10:08:38.203Z"
   },
   {
    "duration": 13,
    "start_time": "2022-11-11T10:08:48.468Z"
   },
   {
    "duration": 61,
    "start_time": "2022-11-11T10:08:50.676Z"
   },
   {
    "duration": 42,
    "start_time": "2022-11-11T10:08:51.939Z"
   },
   {
    "duration": 13,
    "start_time": "2022-11-11T10:09:31.228Z"
   },
   {
    "duration": 57,
    "start_time": "2022-11-11T10:09:33.780Z"
   },
   {
    "duration": 40,
    "start_time": "2022-11-11T10:09:35.092Z"
   },
   {
    "duration": 59,
    "start_time": "2022-11-11T10:10:30.166Z"
   },
   {
    "duration": 40,
    "start_time": "2022-11-11T10:10:30.227Z"
   },
   {
    "duration": 7,
    "start_time": "2022-11-11T10:10:30.269Z"
   },
   {
    "duration": 97,
    "start_time": "2022-11-11T10:10:30.278Z"
   },
   {
    "duration": 25,
    "start_time": "2022-11-11T10:10:30.377Z"
   },
   {
    "duration": 6,
    "start_time": "2022-11-11T10:10:43.620Z"
   },
   {
    "duration": 1096,
    "start_time": "2022-11-11T10:10:53.563Z"
   },
   {
    "duration": 44,
    "start_time": "2022-11-11T10:10:54.662Z"
   },
   {
    "duration": 107,
    "start_time": "2022-11-11T10:10:54.708Z"
   },
   {
    "duration": 0,
    "start_time": "2022-11-11T10:10:54.817Z"
   },
   {
    "duration": 0,
    "start_time": "2022-11-11T10:10:54.818Z"
   },
   {
    "duration": 9,
    "start_time": "2022-11-11T10:11:18.438Z"
   },
   {
    "duration": 8,
    "start_time": "2022-11-11T10:13:25.195Z"
   },
   {
    "duration": 8,
    "start_time": "2022-11-11T10:13:28.431Z"
   },
   {
    "duration": 8,
    "start_time": "2022-11-11T10:13:39.631Z"
   },
   {
    "duration": 63,
    "start_time": "2022-11-11T10:15:21.113Z"
   },
   {
    "duration": 88,
    "start_time": "2022-11-11T10:15:35.329Z"
   },
   {
    "duration": 43,
    "start_time": "2022-11-11T10:15:48.681Z"
   },
   {
    "duration": 11,
    "start_time": "2022-11-11T10:16:09.603Z"
   },
   {
    "duration": 16,
    "start_time": "2022-11-11T10:16:20.899Z"
   },
   {
    "duration": 11,
    "start_time": "2022-11-11T10:16:23.513Z"
   },
   {
    "duration": 4,
    "start_time": "2022-11-11T10:16:29.798Z"
   },
   {
    "duration": 11,
    "start_time": "2022-11-11T10:16:34.313Z"
   },
   {
    "duration": 11,
    "start_time": "2022-11-11T10:17:09.611Z"
   },
   {
    "duration": 11,
    "start_time": "2022-11-11T10:17:21.010Z"
   },
   {
    "duration": 10,
    "start_time": "2022-11-11T10:17:42.600Z"
   },
   {
    "duration": 18,
    "start_time": "2022-11-11T10:17:52.922Z"
   },
   {
    "duration": 63,
    "start_time": "2022-11-11T10:31:35.197Z"
   },
   {
    "duration": 106,
    "start_time": "2022-11-11T10:35:21.767Z"
   },
   {
    "duration": 40,
    "start_time": "2022-11-11T10:35:21.875Z"
   },
   {
    "duration": 25,
    "start_time": "2022-11-11T10:35:21.917Z"
   },
   {
    "duration": 13,
    "start_time": "2022-11-11T10:35:21.943Z"
   },
   {
    "duration": 110,
    "start_time": "2022-11-11T10:35:21.958Z"
   },
   {
    "duration": 3,
    "start_time": "2022-11-11T10:35:22.069Z"
   },
   {
    "duration": 1192,
    "start_time": "2022-11-11T10:35:44.371Z"
   },
   {
    "duration": 40,
    "start_time": "2022-11-11T10:35:45.565Z"
   },
   {
    "duration": 28,
    "start_time": "2022-11-11T10:35:45.607Z"
   },
   {
    "duration": 16,
    "start_time": "2022-11-11T10:35:45.638Z"
   },
   {
    "duration": 158,
    "start_time": "2022-11-11T10:35:45.656Z"
   },
   {
    "duration": 3,
    "start_time": "2022-11-11T10:35:45.816Z"
   },
   {
    "duration": 67,
    "start_time": "2022-11-11T10:36:41.910Z"
   },
   {
    "duration": 5,
    "start_time": "2022-11-11T10:36:48.934Z"
   },
   {
    "duration": 69,
    "start_time": "2022-11-11T10:37:21.727Z"
   },
   {
    "duration": 58,
    "start_time": "2022-11-11T10:38:39.092Z"
   },
   {
    "duration": 37,
    "start_time": "2022-11-11T10:38:39.152Z"
   },
   {
    "duration": 12,
    "start_time": "2022-11-11T10:38:39.191Z"
   },
   {
    "duration": 31,
    "start_time": "2022-11-11T10:38:39.205Z"
   },
   {
    "duration": 55,
    "start_time": "2022-11-11T10:38:39.238Z"
   },
   {
    "duration": 2,
    "start_time": "2022-11-11T10:38:39.295Z"
   },
   {
    "duration": 64,
    "start_time": "2022-11-11T10:42:42.770Z"
   },
   {
    "duration": 61,
    "start_time": "2022-11-11T10:43:56.644Z"
   },
   {
    "duration": 64,
    "start_time": "2022-11-11T10:44:03.569Z"
   },
   {
    "duration": 40,
    "start_time": "2022-11-11T10:44:03.636Z"
   },
   {
    "duration": 20,
    "start_time": "2022-11-11T10:44:03.678Z"
   },
   {
    "duration": 51,
    "start_time": "2022-11-11T10:44:03.700Z"
   },
   {
    "duration": 67,
    "start_time": "2022-11-11T10:44:03.891Z"
   },
   {
    "duration": 3,
    "start_time": "2022-11-11T10:44:03.960Z"
   },
   {
    "duration": 62,
    "start_time": "2022-11-11T10:44:24.899Z"
   },
   {
    "duration": 38,
    "start_time": "2022-11-11T10:44:24.963Z"
   },
   {
    "duration": 11,
    "start_time": "2022-11-11T10:44:25.003Z"
   },
   {
    "duration": 13,
    "start_time": "2022-11-11T10:44:25.034Z"
   },
   {
    "duration": 78,
    "start_time": "2022-11-11T10:44:25.049Z"
   },
   {
    "duration": 3,
    "start_time": "2022-11-11T10:44:25.129Z"
   },
   {
    "duration": 296,
    "start_time": "2022-11-11T10:44:39.380Z"
   },
   {
    "duration": 61,
    "start_time": "2022-11-11T10:45:36.529Z"
   },
   {
    "duration": 38,
    "start_time": "2022-11-11T10:45:36.592Z"
   },
   {
    "duration": 12,
    "start_time": "2022-11-11T10:45:36.632Z"
   },
   {
    "duration": 10,
    "start_time": "2022-11-11T10:45:36.646Z"
   },
   {
    "duration": 318,
    "start_time": "2022-11-11T10:45:36.658Z"
   },
   {
    "duration": 3,
    "start_time": "2022-11-11T10:45:36.977Z"
   },
   {
    "duration": 64,
    "start_time": "2022-11-11T10:46:28.050Z"
   },
   {
    "duration": 37,
    "start_time": "2022-11-11T10:46:28.116Z"
   },
   {
    "duration": 12,
    "start_time": "2022-11-11T10:46:28.155Z"
   },
   {
    "duration": 24,
    "start_time": "2022-11-11T10:46:28.169Z"
   },
   {
    "duration": 194548,
    "start_time": "2022-11-11T10:46:28.195Z"
   },
   {
    "duration": 3,
    "start_time": "2022-11-11T10:49:42.744Z"
   },
   {
    "duration": 67,
    "start_time": "2022-11-11T11:01:15.428Z"
   },
   {
    "duration": 43,
    "start_time": "2022-11-11T11:01:15.497Z"
   },
   {
    "duration": 14,
    "start_time": "2022-11-11T11:01:15.542Z"
   },
   {
    "duration": 15,
    "start_time": "2022-11-11T11:01:15.558Z"
   },
   {
    "duration": 195696,
    "start_time": "2022-11-11T11:01:15.575Z"
   },
   {
    "duration": 2,
    "start_time": "2022-11-11T11:04:31.273Z"
   },
   {
    "duration": 305,
    "start_time": "2022-11-11T11:04:54.913Z"
   },
   {
    "duration": 306,
    "start_time": "2022-11-11T11:07:28.987Z"
   },
   {
    "duration": 363,
    "start_time": "2022-11-11T11:07:36.540Z"
   },
   {
    "duration": 327,
    "start_time": "2022-11-11T11:08:43.590Z"
   },
   {
    "duration": 63,
    "start_time": "2022-11-11T11:08:47.574Z"
   },
   {
    "duration": 37,
    "start_time": "2022-11-11T11:08:47.639Z"
   },
   {
    "duration": 12,
    "start_time": "2022-11-11T11:08:47.677Z"
   },
   {
    "duration": 12,
    "start_time": "2022-11-11T11:08:47.691Z"
   },
   {
    "duration": 346,
    "start_time": "2022-11-11T11:08:47.705Z"
   },
   {
    "duration": 0,
    "start_time": "2022-11-11T11:08:48.052Z"
   },
   {
    "duration": 314,
    "start_time": "2022-11-11T11:09:23.565Z"
   },
   {
    "duration": 321,
    "start_time": "2022-11-11T11:09:29.581Z"
   },
   {
    "duration": 77,
    "start_time": "2022-11-11T11:20:51.782Z"
   },
   {
    "duration": 7,
    "start_time": "2022-11-11T11:22:40.823Z"
   },
   {
    "duration": 65,
    "start_time": "2022-11-11T11:22:49.835Z"
   },
   {
    "duration": 47,
    "start_time": "2022-11-11T11:22:49.902Z"
   },
   {
    "duration": 12,
    "start_time": "2022-11-11T11:22:49.951Z"
   },
   {
    "duration": 14,
    "start_time": "2022-11-11T11:22:49.966Z"
   },
   {
    "duration": 352,
    "start_time": "2022-11-11T11:22:49.983Z"
   },
   {
    "duration": 5,
    "start_time": "2022-11-11T11:22:50.337Z"
   },
   {
    "duration": 9,
    "start_time": "2022-11-11T11:22:50.343Z"
   },
   {
    "duration": 7,
    "start_time": "2022-11-11T11:23:07.375Z"
   },
   {
    "duration": 14,
    "start_time": "2022-11-11T11:28:33.901Z"
   },
   {
    "duration": 15,
    "start_time": "2022-11-11T11:28:42.387Z"
   },
   {
    "duration": 457,
    "start_time": "2022-11-11T11:29:03.991Z"
   },
   {
    "duration": 43,
    "start_time": "2022-11-11T11:29:04.451Z"
   },
   {
    "duration": 12,
    "start_time": "2022-11-11T11:29:04.496Z"
   },
   {
    "duration": 35,
    "start_time": "2022-11-11T11:29:04.510Z"
   },
   {
    "duration": 342,
    "start_time": "2022-11-11T11:29:04.548Z"
   },
   {
    "duration": 41,
    "start_time": "2022-11-11T11:29:04.892Z"
   },
   {
    "duration": 0,
    "start_time": "2022-11-11T11:29:04.936Z"
   },
   {
    "duration": 18,
    "start_time": "2022-11-11T11:29:24.451Z"
   },
   {
    "duration": 67,
    "start_time": "2022-11-11T11:30:26.650Z"
   },
   {
    "duration": 41,
    "start_time": "2022-11-11T11:30:26.719Z"
   },
   {
    "duration": 12,
    "start_time": "2022-11-11T11:30:26.762Z"
   },
   {
    "duration": 15,
    "start_time": "2022-11-11T11:30:26.775Z"
   },
   {
    "duration": 346,
    "start_time": "2022-11-11T11:30:26.792Z"
   },
   {
    "duration": 231,
    "start_time": "2022-11-11T11:30:27.140Z"
   },
   {
    "duration": 3,
    "start_time": "2022-11-11T11:30:27.373Z"
   },
   {
    "duration": 50,
    "start_time": "2022-11-11T11:34:06.086Z"
   },
   {
    "duration": 166,
    "start_time": "2022-11-11T11:34:08.534Z"
   },
   {
    "duration": 67,
    "start_time": "2022-11-11T11:34:12.893Z"
   },
   {
    "duration": 51,
    "start_time": "2022-11-11T11:34:12.962Z"
   },
   {
    "duration": 13,
    "start_time": "2022-11-11T11:34:13.032Z"
   },
   {
    "duration": 19,
    "start_time": "2022-11-11T11:34:13.047Z"
   },
   {
    "duration": 352,
    "start_time": "2022-11-11T11:34:13.069Z"
   },
   {
    "duration": 198,
    "start_time": "2022-11-11T11:34:13.423Z"
   },
   {
    "duration": 0,
    "start_time": "2022-11-11T11:34:13.623Z"
   },
   {
    "duration": 164,
    "start_time": "2022-11-11T11:34:30.617Z"
   },
   {
    "duration": 142,
    "start_time": "2022-11-11T11:39:54.261Z"
   },
   {
    "duration": 1414,
    "start_time": "2022-11-11T11:43:47.791Z"
   },
   {
    "duration": 44,
    "start_time": "2022-11-11T11:43:49.207Z"
   },
   {
    "duration": 16,
    "start_time": "2022-11-11T11:43:49.253Z"
   },
   {
    "duration": 19,
    "start_time": "2022-11-11T11:43:49.272Z"
   },
   {
    "duration": 349,
    "start_time": "2022-11-11T11:43:49.293Z"
   },
   {
    "duration": 189,
    "start_time": "2022-11-11T11:43:49.645Z"
   },
   {
    "duration": 22,
    "start_time": "2022-11-11T11:43:49.836Z"
   },
   {
    "duration": 1375,
    "start_time": "2022-11-11T11:44:08.759Z"
   },
   {
    "duration": 41,
    "start_time": "2022-11-11T11:44:10.136Z"
   },
   {
    "duration": 12,
    "start_time": "2022-11-11T11:44:10.179Z"
   },
   {
    "duration": 39,
    "start_time": "2022-11-11T11:44:10.194Z"
   },
   {
    "duration": 331,
    "start_time": "2022-11-11T11:44:10.235Z"
   },
   {
    "duration": 193,
    "start_time": "2022-11-11T11:44:10.567Z"
   },
   {
    "duration": 30,
    "start_time": "2022-11-11T11:44:10.762Z"
   },
   {
    "duration": 25,
    "start_time": "2022-11-11T11:46:51.680Z"
   },
   {
    "duration": 25,
    "start_time": "2022-11-11T11:46:54.672Z"
   },
   {
    "duration": 25,
    "start_time": "2022-11-11T11:46:55.384Z"
   },
   {
    "duration": 21,
    "start_time": "2022-11-11T11:46:56.023Z"
   },
   {
    "duration": 16,
    "start_time": "2022-11-11T11:50:00.513Z"
   },
   {
    "duration": 1500,
    "start_time": "2022-11-11T11:53:19.605Z"
   },
   {
    "duration": 41,
    "start_time": "2022-11-11T11:53:21.106Z"
   },
   {
    "duration": 12,
    "start_time": "2022-11-11T11:53:21.149Z"
   },
   {
    "duration": 23,
    "start_time": "2022-11-11T11:53:21.163Z"
   },
   {
    "duration": 329,
    "start_time": "2022-11-11T11:53:21.188Z"
   },
   {
    "duration": 165,
    "start_time": "2022-11-11T11:53:21.519Z"
   },
   {
    "duration": 21,
    "start_time": "2022-11-11T11:53:21.686Z"
   },
   {
    "duration": 32,
    "start_time": "2022-11-11T11:53:21.709Z"
   },
   {
    "duration": 14,
    "start_time": "2022-11-11T11:53:21.743Z"
   },
   {
    "duration": 1432,
    "start_time": "2022-11-11T11:55:06.699Z"
   },
   {
    "duration": 38,
    "start_time": "2022-11-11T11:55:08.133Z"
   },
   {
    "duration": 12,
    "start_time": "2022-11-11T11:55:08.173Z"
   },
   {
    "duration": 8,
    "start_time": "2022-11-11T11:55:08.187Z"
   },
   {
    "duration": 352,
    "start_time": "2022-11-11T11:55:08.197Z"
   },
   {
    "duration": 165,
    "start_time": "2022-11-11T11:55:08.550Z"
   },
   {
    "duration": 33,
    "start_time": "2022-11-11T11:55:08.717Z"
   },
   {
    "duration": 19,
    "start_time": "2022-11-11T11:55:08.752Z"
   },
   {
    "duration": 982,
    "start_time": "2022-11-11T11:55:08.773Z"
   },
   {
    "duration": 1345,
    "start_time": "2022-11-11T11:55:24.576Z"
   },
   {
    "duration": 41,
    "start_time": "2022-11-11T11:55:25.923Z"
   },
   {
    "duration": 14,
    "start_time": "2022-11-11T11:55:25.966Z"
   },
   {
    "duration": 12,
    "start_time": "2022-11-11T11:55:25.982Z"
   },
   {
    "duration": 357,
    "start_time": "2022-11-11T11:55:25.995Z"
   },
   {
    "duration": 188,
    "start_time": "2022-11-11T11:55:26.356Z"
   },
   {
    "duration": 22,
    "start_time": "2022-11-11T11:55:26.545Z"
   },
   {
    "duration": 16,
    "start_time": "2022-11-11T11:55:26.568Z"
   },
   {
    "duration": 1274,
    "start_time": "2022-11-11T11:55:26.586Z"
   },
   {
    "duration": 1349,
    "start_time": "2022-11-11T11:55:47.983Z"
   },
   {
    "duration": 40,
    "start_time": "2022-11-11T11:55:49.335Z"
   },
   {
    "duration": 12,
    "start_time": "2022-11-11T11:55:49.377Z"
   },
   {
    "duration": 13,
    "start_time": "2022-11-11T11:55:49.391Z"
   },
   {
    "duration": 343,
    "start_time": "2022-11-11T11:55:49.406Z"
   },
   {
    "duration": 168,
    "start_time": "2022-11-11T11:55:49.750Z"
   },
   {
    "duration": 29,
    "start_time": "2022-11-11T11:55:49.919Z"
   },
   {
    "duration": 15,
    "start_time": "2022-11-11T11:55:49.949Z"
   },
   {
    "duration": 252080,
    "start_time": "2022-11-11T11:55:49.966Z"
   },
   {
    "duration": 489,
    "start_time": "2022-11-11T12:03:23.897Z"
   },
   {
    "duration": 540,
    "start_time": "2022-11-11T12:04:13.129Z"
   },
   {
    "duration": 531,
    "start_time": "2022-11-11T12:04:42.099Z"
   },
   {
    "duration": 827,
    "start_time": "2022-11-11T12:06:11.115Z"
   },
   {
    "duration": 713,
    "start_time": "2022-11-11T12:06:28.195Z"
   },
   {
    "duration": 14,
    "start_time": "2022-11-11T12:10:14.054Z"
   },
   {
    "duration": 14,
    "start_time": "2022-11-11T12:10:24.502Z"
   },
   {
    "duration": 547,
    "start_time": "2022-11-11T12:11:15.638Z"
   },
   {
    "duration": 17,
    "start_time": "2022-11-11T12:11:19.647Z"
   },
   {
    "duration": 190,
    "start_time": "2022-11-11T12:11:20.990Z"
   },
   {
    "duration": 174,
    "start_time": "2022-11-11T12:12:02.874Z"
   },
   {
    "duration": 60,
    "start_time": "2022-11-11T13:43:39.961Z"
   },
   {
    "duration": 38,
    "start_time": "2022-11-11T13:43:40.023Z"
   },
   {
    "duration": 11,
    "start_time": "2022-11-11T13:43:40.062Z"
   },
   {
    "duration": 18,
    "start_time": "2022-11-11T13:43:40.075Z"
   },
   {
    "duration": 314,
    "start_time": "2022-11-11T13:43:40.095Z"
   },
   {
    "duration": 162,
    "start_time": "2022-11-11T13:43:40.410Z"
   },
   {
    "duration": 20,
    "start_time": "2022-11-11T13:43:40.573Z"
   },
   {
    "duration": 38,
    "start_time": "2022-11-11T13:43:40.596Z"
   },
   {
    "duration": 10,
    "start_time": "2022-11-11T13:43:40.636Z"
   },
   {
    "duration": 0,
    "start_time": "2022-11-11T13:43:40.648Z"
   },
   {
    "duration": 0,
    "start_time": "2022-11-11T13:43:40.649Z"
   },
   {
    "duration": 0,
    "start_time": "2022-11-11T13:43:40.650Z"
   },
   {
    "duration": 1364,
    "start_time": "2022-11-11T14:23:17.540Z"
   },
   {
    "duration": 39,
    "start_time": "2022-11-11T14:23:18.906Z"
   },
   {
    "duration": 12,
    "start_time": "2022-11-11T14:23:18.949Z"
   },
   {
    "duration": 125,
    "start_time": "2022-11-11T14:23:18.962Z"
   },
   {
    "duration": 0,
    "start_time": "2022-11-11T14:23:19.089Z"
   },
   {
    "duration": 0,
    "start_time": "2022-11-11T14:23:19.090Z"
   },
   {
    "duration": 0,
    "start_time": "2022-11-11T14:23:19.092Z"
   },
   {
    "duration": 0,
    "start_time": "2022-11-11T14:23:19.093Z"
   },
   {
    "duration": 0,
    "start_time": "2022-11-11T14:23:19.095Z"
   },
   {
    "duration": 0,
    "start_time": "2022-11-11T14:23:19.096Z"
   },
   {
    "duration": 0,
    "start_time": "2022-11-11T14:23:19.097Z"
   },
   {
    "duration": 0,
    "start_time": "2022-11-11T14:23:19.098Z"
   },
   {
    "duration": 1333,
    "start_time": "2022-11-11T14:23:39.284Z"
   },
   {
    "duration": 40,
    "start_time": "2022-11-11T14:23:40.619Z"
   },
   {
    "duration": 14,
    "start_time": "2022-11-11T14:23:40.661Z"
   },
   {
    "duration": 11,
    "start_time": "2022-11-11T14:23:40.678Z"
   },
   {
    "duration": 448,
    "start_time": "2022-11-11T14:23:40.692Z"
   },
   {
    "duration": 175,
    "start_time": "2022-11-11T14:23:41.142Z"
   },
   {
    "duration": 29,
    "start_time": "2022-11-11T14:23:41.319Z"
   },
   {
    "duration": 14,
    "start_time": "2022-11-11T14:23:41.350Z"
   },
   {
    "duration": 247436,
    "start_time": "2022-11-11T14:23:41.366Z"
   },
   {
    "duration": 547,
    "start_time": "2022-11-11T14:27:48.804Z"
   },
   {
    "duration": 13,
    "start_time": "2022-11-11T14:27:49.352Z"
   },
   {
    "duration": 190,
    "start_time": "2022-11-11T14:27:49.368Z"
   },
   {
    "duration": 1317,
    "start_time": "2022-11-11T15:07:23.385Z"
   },
   {
    "duration": 40,
    "start_time": "2022-11-11T15:07:24.704Z"
   },
   {
    "duration": 12,
    "start_time": "2022-11-11T15:07:24.746Z"
   },
   {
    "duration": 8,
    "start_time": "2022-11-11T15:07:24.760Z"
   },
   {
    "duration": 422,
    "start_time": "2022-11-11T15:07:24.770Z"
   },
   {
    "duration": 166,
    "start_time": "2022-11-11T15:07:25.194Z"
   },
   {
    "duration": 19,
    "start_time": "2022-11-11T15:07:25.362Z"
   },
   {
    "duration": 14,
    "start_time": "2022-11-11T15:07:25.383Z"
   },
   {
    "duration": 249195,
    "start_time": "2022-11-11T15:07:25.399Z"
   },
   {
    "duration": 1549,
    "start_time": "2022-11-11T15:11:34.596Z"
   },
   {
    "duration": 13,
    "start_time": "2022-11-11T15:11:36.146Z"
   },
   {
    "duration": 274,
    "start_time": "2022-11-11T15:11:36.160Z"
   },
   {
    "duration": 1372,
    "start_time": "2022-11-11T15:45:27.537Z"
   },
   {
    "duration": 40,
    "start_time": "2022-11-11T15:45:28.912Z"
   },
   {
    "duration": 11,
    "start_time": "2022-11-11T15:45:28.954Z"
   },
   {
    "duration": 10,
    "start_time": "2022-11-11T15:45:28.967Z"
   },
   {
    "duration": 422,
    "start_time": "2022-11-11T15:45:28.978Z"
   },
   {
    "duration": 162,
    "start_time": "2022-11-11T15:45:29.402Z"
   },
   {
    "duration": 19,
    "start_time": "2022-11-11T15:45:29.565Z"
   },
   {
    "duration": 13,
    "start_time": "2022-11-11T15:45:29.586Z"
   },
   {
    "duration": 250179,
    "start_time": "2022-11-11T15:45:29.600Z"
   },
   {
    "duration": 1659,
    "start_time": "2022-11-11T15:49:39.781Z"
   },
   {
    "duration": 12,
    "start_time": "2022-11-11T15:49:41.442Z"
   },
   {
    "duration": 260,
    "start_time": "2022-11-11T15:49:41.456Z"
   },
   {
    "duration": 1994,
    "start_time": "2022-11-12T00:24:55.431Z"
   },
   {
    "duration": 64,
    "start_time": "2022-11-12T00:38:06.714Z"
   },
   {
    "duration": 28,
    "start_time": "2022-11-12T00:38:10.553Z"
   },
   {
    "duration": 15,
    "start_time": "2022-11-12T00:38:20.380Z"
   },
   {
    "duration": 49,
    "start_time": "2022-11-12T11:58:21.249Z"
   },
   {
    "duration": 86,
    "start_time": "2022-11-12T11:58:43.914Z"
   },
   {
    "duration": 55,
    "start_time": "2022-11-12T11:58:46.264Z"
   },
   {
    "duration": 64,
    "start_time": "2022-11-12T11:58:54.467Z"
   },
   {
    "duration": 65,
    "start_time": "2022-11-12T12:00:42.378Z"
   },
   {
    "duration": 50,
    "start_time": "2022-11-12T12:00:58.594Z"
   },
   {
    "duration": 56,
    "start_time": "2022-11-12T12:01:09.745Z"
   },
   {
    "duration": 52,
    "start_time": "2022-11-12T12:01:20.327Z"
   },
   {
    "duration": 54,
    "start_time": "2022-11-12T12:01:40.615Z"
   },
   {
    "duration": 77,
    "start_time": "2022-11-12T12:02:45.946Z"
   },
   {
    "duration": 60,
    "start_time": "2022-11-12T12:03:03.779Z"
   },
   {
    "duration": 59,
    "start_time": "2022-11-12T12:08:07.342Z"
   },
   {
    "duration": 57,
    "start_time": "2022-11-12T12:12:42.674Z"
   },
   {
    "duration": 54,
    "start_time": "2022-11-12T12:13:07.880Z"
   },
   {
    "duration": 63,
    "start_time": "2022-11-12T12:37:15.444Z"
   },
   {
    "duration": 54,
    "start_time": "2022-11-12T12:37:19.026Z"
   },
   {
    "duration": 12,
    "start_time": "2022-11-12T12:37:22.406Z"
   },
   {
    "duration": 14,
    "start_time": "2022-11-12T12:37:32.741Z"
   },
   {
    "duration": 28,
    "start_time": "2022-11-12T12:38:21.714Z"
   },
   {
    "duration": 60,
    "start_time": "2022-11-12T12:43:16.304Z"
   },
   {
    "duration": 30,
    "start_time": "2022-11-12T12:43:16.367Z"
   },
   {
    "duration": 15,
    "start_time": "2022-11-12T12:43:16.399Z"
   },
   {
    "duration": 57,
    "start_time": "2022-11-12T12:43:16.416Z"
   },
   {
    "duration": 14,
    "start_time": "2022-11-12T12:43:16.475Z"
   },
   {
    "duration": 5,
    "start_time": "2022-11-12T12:43:16.491Z"
   },
   {
    "duration": 30,
    "start_time": "2022-11-12T12:43:16.498Z"
   },
   {
    "duration": 0,
    "start_time": "2022-11-12T12:43:16.530Z"
   },
   {
    "duration": 0,
    "start_time": "2022-11-12T12:43:16.531Z"
   },
   {
    "duration": 0,
    "start_time": "2022-11-12T12:43:16.532Z"
   },
   {
    "duration": 64,
    "start_time": "2022-11-12T12:43:16.569Z"
   },
   {
    "duration": 8,
    "start_time": "2022-11-12T12:43:16.635Z"
   },
   {
    "duration": 0,
    "start_time": "2022-11-12T12:43:16.645Z"
   },
   {
    "duration": 0,
    "start_time": "2022-11-12T12:43:16.646Z"
   },
   {
    "duration": 1322,
    "start_time": "2022-11-12T12:43:38.404Z"
   },
   {
    "duration": 31,
    "start_time": "2022-11-12T12:43:39.728Z"
   },
   {
    "duration": 16,
    "start_time": "2022-11-12T12:43:39.761Z"
   },
   {
    "duration": 42,
    "start_time": "2022-11-12T12:43:39.778Z"
   },
   {
    "duration": 13,
    "start_time": "2022-11-12T12:43:39.822Z"
   },
   {
    "duration": 16,
    "start_time": "2022-11-12T12:43:39.836Z"
   },
   {
    "duration": 126,
    "start_time": "2022-11-12T12:43:39.854Z"
   },
   {
    "duration": 0,
    "start_time": "2022-11-12T12:43:39.982Z"
   },
   {
    "duration": 0,
    "start_time": "2022-11-12T12:43:39.983Z"
   },
   {
    "duration": 0,
    "start_time": "2022-11-12T12:43:39.984Z"
   },
   {
    "duration": 0,
    "start_time": "2022-11-12T12:43:39.985Z"
   },
   {
    "duration": 0,
    "start_time": "2022-11-12T12:43:39.986Z"
   },
   {
    "duration": 0,
    "start_time": "2022-11-12T12:43:39.986Z"
   },
   {
    "duration": 0,
    "start_time": "2022-11-12T12:43:39.987Z"
   },
   {
    "duration": 18,
    "start_time": "2022-11-12T12:46:44.792Z"
   },
   {
    "duration": 62,
    "start_time": "2022-11-12T12:46:50.651Z"
   },
   {
    "duration": 30,
    "start_time": "2022-11-12T12:46:50.715Z"
   },
   {
    "duration": 29,
    "start_time": "2022-11-12T12:46:50.747Z"
   },
   {
    "duration": 13,
    "start_time": "2022-11-12T12:46:50.777Z"
   },
   {
    "duration": 14,
    "start_time": "2022-11-12T12:46:50.792Z"
   },
   {
    "duration": 0,
    "start_time": "2022-11-12T12:46:50.807Z"
   },
   {
    "duration": 0,
    "start_time": "2022-11-12T12:46:50.808Z"
   },
   {
    "duration": 0,
    "start_time": "2022-11-12T12:46:50.809Z"
   },
   {
    "duration": 0,
    "start_time": "2022-11-12T12:46:50.810Z"
   },
   {
    "duration": 0,
    "start_time": "2022-11-12T12:46:50.812Z"
   },
   {
    "duration": 0,
    "start_time": "2022-11-12T12:46:50.813Z"
   },
   {
    "duration": 0,
    "start_time": "2022-11-12T12:46:50.814Z"
   },
   {
    "duration": 0,
    "start_time": "2022-11-12T12:46:50.815Z"
   },
   {
    "duration": 0,
    "start_time": "2022-11-12T12:46:50.816Z"
   },
   {
    "duration": 0,
    "start_time": "2022-11-12T12:46:50.817Z"
   },
   {
    "duration": 16,
    "start_time": "2022-11-12T12:49:21.966Z"
   },
   {
    "duration": 34,
    "start_time": "2022-11-12T12:49:48.327Z"
   },
   {
    "duration": 14,
    "start_time": "2022-11-12T12:50:53.965Z"
   },
   {
    "duration": 30,
    "start_time": "2022-11-12T12:50:58.369Z"
   },
   {
    "duration": 57,
    "start_time": "2022-11-12T12:58:27.364Z"
   },
   {
    "duration": 28,
    "start_time": "2022-11-12T12:58:27.423Z"
   },
   {
    "duration": 25,
    "start_time": "2022-11-12T12:58:27.452Z"
   },
   {
    "duration": 15,
    "start_time": "2022-11-12T12:58:27.479Z"
   },
   {
    "duration": 31,
    "start_time": "2022-11-12T12:58:27.496Z"
   },
   {
    "duration": 9,
    "start_time": "2022-11-12T12:58:27.529Z"
   },
   {
    "duration": 2,
    "start_time": "2022-11-12T12:58:27.567Z"
   },
   {
    "duration": 217,
    "start_time": "2022-11-12T12:58:27.571Z"
   },
   {
    "duration": 165,
    "start_time": "2022-11-12T12:58:27.789Z"
   },
   {
    "duration": 20,
    "start_time": "2022-11-12T12:58:27.956Z"
   },
   {
    "duration": 2,
    "start_time": "2022-11-12T12:58:27.978Z"
   },
   {
    "duration": 209616,
    "start_time": "2022-11-12T12:58:27.982Z"
   },
   {
    "duration": 1732,
    "start_time": "2022-11-12T13:01:57.600Z"
   },
   {
    "duration": 12,
    "start_time": "2022-11-12T13:01:59.334Z"
   },
   {
    "duration": 282,
    "start_time": "2022-11-12T13:01:59.348Z"
   },
   {
    "duration": 137,
    "start_time": "2022-11-12T13:05:02.079Z"
   },
   {
    "duration": 73,
    "start_time": "2022-11-12T13:16:12.153Z"
   },
   {
    "duration": 1355,
    "start_time": "2022-11-12T13:16:29.881Z"
   },
   {
    "duration": 32,
    "start_time": "2022-11-12T13:16:31.238Z"
   },
   {
    "duration": 23,
    "start_time": "2022-11-12T13:16:31.274Z"
   },
   {
    "duration": 17,
    "start_time": "2022-11-12T13:16:31.299Z"
   },
   {
    "duration": 62,
    "start_time": "2022-11-12T13:16:31.317Z"
   },
   {
    "duration": 10,
    "start_time": "2022-11-12T13:16:31.380Z"
   },
   {
    "duration": 9,
    "start_time": "2022-11-12T13:16:31.392Z"
   },
   {
    "duration": 227,
    "start_time": "2022-11-12T13:16:31.403Z"
   },
   {
    "duration": 161,
    "start_time": "2022-11-12T13:16:31.633Z"
   },
   {
    "duration": 16,
    "start_time": "2022-11-12T13:16:31.796Z"
   },
   {
    "duration": 2,
    "start_time": "2022-11-12T13:16:31.814Z"
   },
   {
    "duration": 208356,
    "start_time": "2022-11-12T13:16:31.818Z"
   },
   {
    "duration": 162,
    "start_time": "2022-11-12T13:20:00.176Z"
   },
   {
    "duration": 22,
    "start_time": "2022-11-12T13:20:00.340Z"
   },
   {
    "duration": 16,
    "start_time": "2022-11-12T13:20:00.364Z"
   },
   {
    "duration": 18,
    "start_time": "2022-11-12T13:20:00.382Z"
   },
   {
    "duration": 5,
    "start_time": "2022-11-12T13:22:01.377Z"
   },
   {
    "duration": 79,
    "start_time": "2022-11-12T13:22:16.210Z"
   },
   {
    "duration": 171797,
    "start_time": "2022-11-12T13:23:19.066Z"
   },
   {
    "duration": 222,
    "start_time": "2022-11-12T13:28:10.205Z"
   },
   {
    "duration": 242,
    "start_time": "2022-11-12T13:28:15.987Z"
   },
   {
    "duration": 224,
    "start_time": "2022-11-12T13:30:20.212Z"
   },
   {
    "duration": 218,
    "start_time": "2022-11-12T13:31:52.334Z"
   },
   {
    "duration": 240,
    "start_time": "2022-11-12T13:32:52.960Z"
   },
   {
    "duration": 72,
    "start_time": "2022-11-12T13:34:57.560Z"
   },
   {
    "duration": 45,
    "start_time": "2022-11-12T13:34:57.634Z"
   },
   {
    "duration": 29,
    "start_time": "2022-11-12T13:34:57.681Z"
   },
   {
    "duration": 21,
    "start_time": "2022-11-12T13:34:57.713Z"
   },
   {
    "duration": 79,
    "start_time": "2022-11-12T13:34:57.736Z"
   },
   {
    "duration": 11,
    "start_time": "2022-11-12T13:34:57.818Z"
   },
   {
    "duration": 3,
    "start_time": "2022-11-12T13:34:57.831Z"
   },
   {
    "duration": 248,
    "start_time": "2022-11-12T13:34:57.836Z"
   },
   {
    "duration": 175,
    "start_time": "2022-11-12T13:34:58.086Z"
   },
   {
    "duration": 24,
    "start_time": "2022-11-12T13:34:58.270Z"
   },
   {
    "duration": 8,
    "start_time": "2022-11-12T13:34:58.297Z"
   },
   {
    "duration": 212585,
    "start_time": "2022-11-12T13:34:58.307Z"
   },
   {
    "duration": 170001,
    "start_time": "2022-11-12T13:38:30.894Z"
   },
   {
    "duration": 21,
    "start_time": "2022-11-12T13:41:20.897Z"
   },
   {
    "duration": 11,
    "start_time": "2022-11-12T13:41:20.920Z"
   },
   {
    "duration": 10,
    "start_time": "2022-11-12T13:41:20.933Z"
   },
   {
    "duration": 1429,
    "start_time": "2022-11-12T13:46:52.653Z"
   },
   {
    "duration": 32,
    "start_time": "2022-11-12T13:46:54.084Z"
   },
   {
    "duration": 51,
    "start_time": "2022-11-12T13:46:54.120Z"
   },
   {
    "duration": 12,
    "start_time": "2022-11-12T13:46:54.172Z"
   },
   {
    "duration": 36,
    "start_time": "2022-11-12T13:46:54.186Z"
   },
   {
    "duration": 11,
    "start_time": "2022-11-12T13:46:54.224Z"
   },
   {
    "duration": 3,
    "start_time": "2022-11-12T13:46:54.269Z"
   },
   {
    "duration": 269,
    "start_time": "2022-11-12T13:46:54.274Z"
   },
   {
    "duration": 175,
    "start_time": "2022-11-12T13:46:54.547Z"
   },
   {
    "duration": 19,
    "start_time": "2022-11-12T13:46:54.724Z"
   },
   {
    "duration": 3,
    "start_time": "2022-11-12T13:46:54.767Z"
   },
   {
    "duration": 284561,
    "start_time": "2022-11-12T13:46:54.772Z"
   },
   {
    "duration": 172042,
    "start_time": "2022-11-12T13:51:39.334Z"
   },
   {
    "duration": 11,
    "start_time": "2022-11-12T13:54:31.378Z"
   },
   {
    "duration": 13,
    "start_time": "2022-11-12T13:54:31.391Z"
   },
   {
    "duration": 125,
    "start_time": "2022-11-12T13:54:31.406Z"
   },
   {
    "duration": 18,
    "start_time": "2022-11-12T13:58:22.425Z"
   },
   {
    "duration": 1402,
    "start_time": "2022-11-12T13:58:31.839Z"
   },
   {
    "duration": 30,
    "start_time": "2022-11-12T13:58:33.243Z"
   },
   {
    "duration": 29,
    "start_time": "2022-11-12T13:58:33.274Z"
   },
   {
    "duration": 10,
    "start_time": "2022-11-12T13:58:33.305Z"
   },
   {
    "duration": 56,
    "start_time": "2022-11-12T13:58:33.317Z"
   },
   {
    "duration": 12,
    "start_time": "2022-11-12T13:58:33.374Z"
   },
   {
    "duration": 3,
    "start_time": "2022-11-12T13:58:33.388Z"
   },
   {
    "duration": 245,
    "start_time": "2022-11-12T13:58:33.393Z"
   },
   {
    "duration": 183,
    "start_time": "2022-11-12T13:58:33.640Z"
   },
   {
    "duration": 18,
    "start_time": "2022-11-12T13:58:33.826Z"
   },
   {
    "duration": 22,
    "start_time": "2022-11-12T13:58:33.846Z"
   },
   {
    "duration": 333132,
    "start_time": "2022-11-12T13:58:33.869Z"
   },
   {
    "duration": 172213,
    "start_time": "2022-11-12T14:04:07.004Z"
   },
   {
    "duration": 13,
    "start_time": "2022-11-12T14:06:59.218Z"
   },
   {
    "duration": 16,
    "start_time": "2022-11-12T14:06:59.232Z"
   },
   {
    "duration": 132,
    "start_time": "2022-11-12T14:06:59.250Z"
   },
   {
    "duration": 283,
    "start_time": "2022-11-12T14:11:02.395Z"
   },
   {
    "duration": 282,
    "start_time": "2022-11-12T14:11:07.193Z"
   },
   {
    "duration": 218,
    "start_time": "2022-11-12T14:11:44.579Z"
   },
   {
    "duration": 274,
    "start_time": "2022-11-12T14:13:14.626Z"
   },
   {
    "duration": 227,
    "start_time": "2022-11-12T14:13:44.697Z"
   },
   {
    "duration": 228,
    "start_time": "2022-11-12T14:16:54.015Z"
   },
   {
    "duration": 217,
    "start_time": "2022-11-12T14:18:33.974Z"
   },
   {
    "duration": 19,
    "start_time": "2022-11-12T14:20:54.148Z"
   },
   {
    "duration": 21,
    "start_time": "2022-11-12T14:20:57.528Z"
   },
   {
    "duration": 22,
    "start_time": "2022-11-12T14:21:03.747Z"
   },
   {
    "duration": 1369,
    "start_time": "2022-11-12T14:21:09.372Z"
   },
   {
    "duration": 33,
    "start_time": "2022-11-12T14:21:10.744Z"
   },
   {
    "duration": 30,
    "start_time": "2022-11-12T14:21:10.779Z"
   },
   {
    "duration": 14,
    "start_time": "2022-11-12T14:21:10.812Z"
   },
   {
    "duration": 42,
    "start_time": "2022-11-12T14:21:10.828Z"
   },
   {
    "duration": 11,
    "start_time": "2022-11-12T14:21:10.872Z"
   },
   {
    "duration": 25,
    "start_time": "2022-11-12T14:21:10.884Z"
   },
   {
    "duration": 249,
    "start_time": "2022-11-12T14:21:10.911Z"
   },
   {
    "duration": 167,
    "start_time": "2022-11-12T14:21:11.167Z"
   },
   {
    "duration": 32,
    "start_time": "2022-11-12T14:21:11.336Z"
   },
   {
    "duration": 4,
    "start_time": "2022-11-12T14:21:11.370Z"
   },
   {
    "duration": 286530,
    "start_time": "2022-11-12T14:21:11.375Z"
   },
   {
    "duration": 168691,
    "start_time": "2022-11-12T14:25:57.907Z"
   },
   {
    "duration": 14,
    "start_time": "2022-11-12T14:28:46.600Z"
   },
   {
    "duration": 15,
    "start_time": "2022-11-12T14:28:46.615Z"
   },
   {
    "duration": 129,
    "start_time": "2022-11-12T14:28:46.632Z"
   },
   {
    "duration": 4,
    "start_time": "2022-11-12T14:31:52.812Z"
   },
   {
    "duration": 5,
    "start_time": "2022-11-12T14:33:22.202Z"
   },
   {
    "duration": 4,
    "start_time": "2022-11-12T14:33:57.574Z"
   },
   {
    "duration": 1324,
    "start_time": "2022-11-12T14:34:12.210Z"
   },
   {
    "duration": 11,
    "start_time": "2022-11-12T14:34:13.640Z"
   },
   {
    "duration": 14,
    "start_time": "2022-11-12T14:34:26.363Z"
   },
   {
    "duration": 1372,
    "start_time": "2022-11-12T14:34:35.259Z"
   },
   {
    "duration": 10,
    "start_time": "2022-11-12T14:34:36.959Z"
   },
   {
    "duration": 1669,
    "start_time": "2022-11-12T14:35:09.459Z"
   },
   {
    "duration": 13,
    "start_time": "2022-11-12T14:35:11.183Z"
   },
   {
    "duration": 240,
    "start_time": "2022-11-12T14:35:45.782Z"
   },
   {
    "duration": 1419,
    "start_time": "2022-11-12T14:36:02.145Z"
   },
   {
    "duration": 31,
    "start_time": "2022-11-12T14:36:03.566Z"
   },
   {
    "duration": 21,
    "start_time": "2022-11-12T14:36:03.599Z"
   },
   {
    "duration": 11,
    "start_time": "2022-11-12T14:36:03.621Z"
   },
   {
    "duration": 67,
    "start_time": "2022-11-12T14:36:03.635Z"
   },
   {
    "duration": 12,
    "start_time": "2022-11-12T14:36:03.704Z"
   },
   {
    "duration": 13,
    "start_time": "2022-11-12T14:36:03.718Z"
   },
   {
    "duration": 230,
    "start_time": "2022-11-12T14:36:03.732Z"
   },
   {
    "duration": 165,
    "start_time": "2022-11-12T14:36:03.967Z"
   },
   {
    "duration": 18,
    "start_time": "2022-11-12T14:36:04.133Z"
   },
   {
    "duration": 31,
    "start_time": "2022-11-12T14:36:04.153Z"
   },
   {
    "duration": 281683,
    "start_time": "2022-11-12T14:36:04.186Z"
   },
   {
    "duration": 169200,
    "start_time": "2022-11-12T14:40:45.871Z"
   },
   {
    "duration": 4,
    "start_time": "2022-11-12T14:43:35.075Z"
   },
   {
    "duration": 1709,
    "start_time": "2022-11-12T14:43:35.081Z"
   },
   {
    "duration": 12,
    "start_time": "2022-11-12T14:43:36.792Z"
   },
   {
    "duration": 258,
    "start_time": "2022-11-12T14:43:36.805Z"
   },
   {
    "duration": 1446,
    "start_time": "2022-11-12T14:59:05.948Z"
   },
   {
    "duration": 30,
    "start_time": "2022-11-12T14:59:07.396Z"
   },
   {
    "duration": 29,
    "start_time": "2022-11-12T14:59:07.427Z"
   },
   {
    "duration": 10,
    "start_time": "2022-11-12T14:59:07.468Z"
   },
   {
    "duration": 33,
    "start_time": "2022-11-12T14:59:07.480Z"
   },
   {
    "duration": 10,
    "start_time": "2022-11-12T14:59:07.515Z"
   },
   {
    "duration": 2,
    "start_time": "2022-11-12T14:59:07.527Z"
   },
   {
    "duration": 255,
    "start_time": "2022-11-12T14:59:07.530Z"
   },
   {
    "duration": 165,
    "start_time": "2022-11-12T14:59:07.787Z"
   },
   {
    "duration": 34,
    "start_time": "2022-11-12T14:59:07.953Z"
   },
   {
    "duration": 4,
    "start_time": "2022-11-12T14:59:07.989Z"
   },
   {
    "duration": 282537,
    "start_time": "2022-11-12T14:59:07.995Z"
   },
   {
    "duration": 167396,
    "start_time": "2022-11-12T15:03:50.534Z"
   },
   {
    "duration": 4,
    "start_time": "2022-11-12T15:06:37.933Z"
   },
   {
    "duration": 1643,
    "start_time": "2022-11-12T15:06:37.939Z"
   },
   {
    "duration": 15,
    "start_time": "2022-11-12T15:06:39.584Z"
   },
   {
    "duration": 258,
    "start_time": "2022-11-12T15:06:39.601Z"
   },
   {
    "duration": 1811,
    "start_time": "2022-11-12T21:00:48.386Z"
   },
   {
    "duration": 34,
    "start_time": "2022-11-12T21:00:50.199Z"
   },
   {
    "duration": 20,
    "start_time": "2022-11-12T21:00:50.234Z"
   },
   {
    "duration": 11,
    "start_time": "2022-11-12T21:00:50.279Z"
   },
   {
    "duration": 36,
    "start_time": "2022-11-12T21:00:50.291Z"
   },
   {
    "duration": 10,
    "start_time": "2022-11-12T21:00:50.329Z"
   },
   {
    "duration": 45,
    "start_time": "2022-11-12T21:00:50.340Z"
   },
   {
    "duration": 239,
    "start_time": "2022-11-12T21:00:50.387Z"
   },
   {
    "duration": 177,
    "start_time": "2022-11-12T21:00:50.627Z"
   },
   {
    "duration": 17,
    "start_time": "2022-11-12T21:00:50.808Z"
   },
   {
    "duration": 73,
    "start_time": "2022-11-12T21:00:50.826Z"
   },
   {
    "duration": 291637,
    "start_time": "2022-11-12T21:00:50.900Z"
   },
   {
    "duration": 174886,
    "start_time": "2022-11-12T21:05:42.539Z"
   },
   {
    "duration": 4,
    "start_time": "2022-11-12T21:08:37.427Z"
   },
   {
    "duration": 1659,
    "start_time": "2022-11-12T21:08:37.432Z"
   },
   {
    "duration": 12,
    "start_time": "2022-11-12T21:08:39.093Z"
   },
   {
    "duration": 236,
    "start_time": "2022-11-12T21:08:39.107Z"
   }
  ],
  "kernelspec": {
   "display_name": "Python 3 (ipykernel)",
   "language": "python",
   "name": "python3"
  },
  "language_info": {
   "codemirror_mode": {
    "name": "ipython",
    "version": 3
   },
   "file_extension": ".py",
   "mimetype": "text/x-python",
   "name": "python",
   "nbconvert_exporter": "python",
   "pygments_lexer": "ipython3",
   "version": "3.9.13"
  },
  "toc": {
   "base_numbering": 1,
   "nav_menu": {},
   "number_sections": true,
   "sideBar": true,
   "skip_h1_title": true,
   "title_cell": "Содержание",
   "title_sidebar": "Contents",
   "toc_cell": true,
   "toc_position": {},
   "toc_section_display": true,
   "toc_window_display": true
  }
 },
 "nbformat": 4,
 "nbformat_minor": 2
}
